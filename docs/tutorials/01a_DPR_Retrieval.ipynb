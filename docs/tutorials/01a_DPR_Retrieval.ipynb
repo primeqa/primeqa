{
 "cells": [
  {
   "attachments": {},
   "cell_type": "markdown",
   "id": "764f905e",
   "metadata": {},
   "source": [
    "# Tutorial: Build a search index using DPR #\n",
    "\n",
    "In this tutorial, we will learn how to build a Neural Search index over your document collection. The algorithm displayed here is called Dense Passage Retrieval (DPR) as described in Karpukhin et al., \"Dense Passage Retrieval for Open-Domain Question Answering\" [here](https://arxiv.org/pdf/2004.04906.pdf).\n",
    "\n",
    "For the purposes of making this tutorial easy to understand we show the steps using a very small document collection. Note that this technique can be used to scale to millions of documents. We have tested upto 21 million Wikipedia passages!!!\n"
   ]
  },
  {
   "attachments": {},
   "cell_type": "markdown",
   "id": "4fca36ec",
   "metadata": {},
   "source": [
    "## Preparing a Colab Environment to run this tutorial ##\n",
    "\n",
    "Make sure to \"Enable GPU Runtime\" -> make a URL with a page with screenshots on how to do this."
   ]
  },
  {
   "attachments": {},
   "cell_type": "markdown",
   "id": "c5e3426d",
   "metadata": {},
   "source": [
    "## Installing PrimeQA\n",
    "\n",
    "First, we need to include the required modules.\n"
   ]
  },
  {
   "cell_type": "code",
   "execution_count": null,
   "id": "b0c4d5c0",
   "metadata": {},
   "outputs": [],
   "source": [
    "%%bash\n",
    "\n",
    "pip install --upgrade pip\n",
    "pip install primeqa"
   ]
  },
  {
   "attachments": {},
   "cell_type": "markdown",
   "id": "7e289b31",
   "metadata": {},
   "source": [
    "## Pre-process your document collection here to be ready to be stored in your Neural Search Index."
   ]
  },
  {
   "cell_type": "code",
   "execution_count": null,
   "id": "25bd0bf3",
   "metadata": {},
   "outputs": [],
   "source": [
    "# save your input document as a .tsv\n",
    "import pandas as pd\n",
    "url='https://drive.google.com/file/d/1LULJRPgN_hfuI2kG-wH4FUwXCCdDh9zh/view?usp=sharing'\n",
    "url='https://drive.google.com/uc?id=' + url.split('/')[-2]\n",
    "df = pd.read_csv(url)\n",
    "df.to_csv('input.tsv', sep='\\t')"
   ]
  },
  {
   "cell_type": "code",
   "execution_count": null,
   "id": "ac1af9cb",
   "metadata": {},
   "outputs": [],
   "source": [
    "# Use DocumentCollection class to convert your input.tsv to the specific format needed by PrimeQA indexer/retriever.\n",
    "from primeqa.ir.util.corpus_reader import DocumentCollection\n",
    "doc_class = DocumentCollection(\"input.tsv\")\n",
    "doc_class.write_corpus_tsv(\"output.tsv\")"
   ]
  },
  {
   "attachments": {},
   "cell_type": "markdown",
   "id": "0c8aad53",
   "metadata": {},
   "source": [
    "## Initializing the Retriever\n",
    "\n",
    "We initialize a DPR model to embed our documents from the collection. Note: since we will ask questions later over this document collection we need to embed the questions too."
   ]
  },
  {
   "cell_type": "code",
   "execution_count": null,
   "id": "30b5fa4a",
   "metadata": {},
   "outputs": [],
   "source": [
    "from primeqa.components.indexer.dense import DPRIndexer\n",
    "\n",
    "dpr = DPRIndexer(doc_encoder_model_name_or_path=\"PrimeQA/XOR-TyDi_monolingual_DPR_ctx_encoder\", vector_db=\"FAISS\")"
   ]
  },
  {
   "attachments": {},
   "cell_type": "markdown",
   "id": "6e177c14",
   "metadata": {},
   "source": [
    "## Embedding documents into a DPR based Vector DB\n",
    "\n",
    "Take all the documents pre-processed and embed them in this step."
   ]
  },
  {
   "cell_type": "code",
   "execution_count": null,
   "id": "67851e30",
   "metadata": {},
   "outputs": [],
   "source": [
    "dpr.index(collection='output.tsv')"
   ]
  },
  {
   "attachments": {},
   "cell_type": "markdown",
   "id": "ab15199a",
   "metadata": {},
   "source": [
    "## Start asking Questions\n",
    "\n",
    "We're now ready to query the index we created."
   ]
  },
  {
   "cell_type": "code",
   "execution_count": null,
   "id": "26e6d79a",
   "metadata": {},
   "outputs": [],
   "source": [
    "from primeqa.components.retriever.dense import DPRRetriever\n",
    "\n",
    "retriever = DPRRetriever(query_encoder_model_name_or_path=\"PrimeQA/XOR-TyDi_monolingual_DPR_qry_encoder\", indexer=dpr)\n",
    "\n",
    "question = ['Who maintained the throne for the longest time in China?']\n",
    "retrieved_doc_ids, passages = retriever.predict(input_texts = question, return_passages=True, max_num_documents=10)\n"
   ]
  },
  {
   "attachments": {},
   "cell_type": "markdown",
   "id": "f7d3c2d5",
   "metadata": {},
   "source": [
    "## Retrieval Results\n",
    "\n",
    "Here are the retrived results:"
   ]
  },
  {
   "cell_type": "code",
   "execution_count": null,
   "id": "ed63e82b",
   "metadata": {},
   "outputs": [],
   "source": [
    "import json\n",
    "\n",
    "print(json.dumps(passages, indent = 4))"
   ]
  }
 ],
 "metadata": {
  "kernelspec": {
   "display_name": "Python 3 (ipykernel)",
   "language": "python",
   "name": "python3"
  },
  "language_info": {
   "codemirror_mode": {
    "name": "ipython",
    "version": 3
   },
   "file_extension": ".py",
   "mimetype": "text/x-python",
   "name": "python",
   "nbconvert_exporter": "python",
   "pygments_lexer": "ipython3",
   "version": "3.7.13"
  }
 },
 "nbformat": 4,
 "nbformat_minor": 5
}
