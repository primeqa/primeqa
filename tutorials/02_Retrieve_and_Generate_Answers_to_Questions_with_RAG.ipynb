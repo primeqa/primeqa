{
 "cells": [
  {
   "cell_type": "markdown",
   "metadata": {},
   "source": [
    "# Tutorial: Generative QA with Retrieval Augmented Generation\n",
    "\n",
    "In this tutorial, you'll learn how to run generative question answering by connecting a retriever to a generative LLM. You'll also learn how to use prompts with a generative model to tune your answers. The system should also generate a response like \"Unanswerable\" if no evidence is found.\n",
    "\n",
    "You can plug-and-play this tutorial with most models on the HuggingFace model hub and also OpenAI LLMs. Some supported models include:\n",
    " - FLAN UL2-20B\n",
    " - FLAN T5 \n",
    " - Open AI ChatGPT (gpt-3.5-turbo)\n",
    " - InstructGPT(text-davinci-003)\n",
    " - lots more..\n",
    " \n",
    " \n",
    " \n",
    "## Step 0: Prepare a Colab Environment to run this tutorial on GPUs\n",
    "Make sure to \"Enable GPU Runtime\" by following this [url](https://drive.google.com/file/d/1jhE8CkieQXoW0gvz9IherTDdJY54Q4Yz/view?usp=sharing). This step will make sure the tutorial runs faster."
   ]
  },
  {
   "cell_type": "markdown",
   "metadata": {},
   "source": [
    "## Step 1: Install PrimeQA\n",
    "First, we need to include the required modules."
   ]
  },
  {
   "cell_type": "code",
   "execution_count": null,
   "metadata": {},
   "outputs": [],
   "source": [
    "! pip install --upgrade primeqa"
   ]
  },
  {
   "cell_type": "markdown",
   "metadata": {},
   "source": [
    "## Step 2: Initialize the Retriever"
   ]
  },
  {
   "cell_type": "markdown",
   "metadata": {},
   "source": [
    "### Pre-process your document collection here to be ready to be stored in your Neural Search Index.\n",
    "In this step we download a publicly available .csv file from a Google Drive location and save it as .tsv."
   ]
  },
  {
   "cell_type": "code",
   "execution_count": null,
   "metadata": {
    "ExecuteTime": {
     "end_time": "2023-06-18T02:45:01.744096500Z",
     "start_time": "2023-06-18T02:45:00.654342900Z"
    }
   },
   "outputs": [],
   "source": [
    "# save your input document as a .tsv\n",
    "import pandas as pd\n",
    "url='https://drive.google.com/file/d/1LULJRPgN_hfuI2kG-wH4FUwXCCdDh9zh/view?usp=sharing'\n",
    "url='https://drive.google.com/uc?id=' + url.split('/')[-2]\n",
    "df = pd.read_csv(url)\n",
    "df.to_csv('input.tsv', sep='\\t', columns = ['text', 'title'])"
   ]
  },
  {
   "cell_type": "markdown",
   "metadata": {},
   "source": [
    "### Initialize the model. In PrimeQA we use the SearchableCorpus class for searching through your corpus.\n",
    "\n",
    "For DPR, you need to point to a question and context encoder models available via the HuggingFace model hub."
   ]
  },
  {
   "cell_type": "code",
   "execution_count": null,
   "metadata": {
    "ExecuteTime": {
     "end_time": "2023-06-18T02:53:51.058138100Z",
     "start_time": "2023-06-18T02:53:49.591435600Z"
    }
   },
   "outputs": [],
   "source": [
    "from primeqa.components import SearchableCorpus\n",
    "retriever = SearchableCorpus(context_encoder_name_or_path=\"PrimeQA/XOR-TyDi_monolingual_DPR_ctx_encoder\",\n",
    "                             query_encoder_name_or_path=\"PrimeQA/XOR-TyDi_monolingual_DPR_qry_encoder\",\n",
    "                             batch_size=64, top_k=10)"
   ]
  },
  {
   "cell_type": "markdown",
   "metadata": {},
   "source": [
    "### Add your documents into the searchable corpus.\n",
    "\n",
    "The input.tsv file can be added to the searchable corpus and it assumes the following format as needed by DPR:\n",
    "\n",
    "`id \\t text \\t title_of_document`\n",
    "\n",
    "Note: since DPR is based on an encoder language model the typical sequence length is 512 max sub-word tokens. Make sure your documents are split into text length of ~220 words."
   ]
  },
  {
   "cell_type": "code",
   "execution_count": null,
   "metadata": {
    "ExecuteTime": {
     "end_time": "2023-06-18T02:53:59.452981800Z",
     "start_time": "2023-06-18T02:53:56.506429300Z"
    }
   },
   "outputs": [],
   "source": [
    "retriever.add_documents(\"input.tsv\")"
   ]
  },
  {
   "cell_type": "markdown",
   "metadata": {},
   "source": [
    "## Step 3: Initialize the Reader \n",
    "\n",
    "In this step you can use a generative LLM which can be prompted. This reader can be any of the generative models available in the HuggingFace model hub or OpenAI models."
   ]
  },
  {
   "cell_type": "code",
   "execution_count": null,
   "metadata": {
    "ExecuteTime": {
     "end_time": "2023-06-18T02:54:29.529799900Z",
     "start_time": "2023-06-18T02:54:14.208300200Z"
    }
   },
   "outputs": [],
   "source": [
    "from primeqa.components import GenerativeReader\n",
    "\n",
    "reader = GenerativeReader(model_type='HuggingFace', model_name='google/flan-t5-small')\n",
    "# setup an OpenAI generative reader : we support gpt-3.5-turbo and text-davinci-003\n",
    "# reader = GenerativeReader(model_type='OpenAI', model_name='gpt-3.5-turbo', api_key='API KEY HERE')"
   ]
  },
  {
   "cell_type": "markdown",
   "metadata": {},
   "source": [
    "## Step 4: Setup the RAG pipeline\n",
    "\n",
    "Attach a retriever to a generative LLM. You can then prompt it to answer questions."
   ]
  },
  {
   "cell_type": "code",
   "execution_count": null,
   "metadata": {
    "ExecuteTime": {
     "end_time": "2023-06-18T02:54:36.389972400Z",
     "start_time": "2023-06-18T02:54:36.385974100Z"
    }
   },
   "outputs": [],
   "source": [
    "from primeqa.pipelines import RAG\n",
    "pipeline = RAG(retriever, reader)"
   ]
  },
  {
   "cell_type": "markdown",
   "metadata": {},
   "source": [
    "## Step 5: Start asking questions\n",
    "\n",
    "We \"run\" the pipeline we just created and also attach a prompt."
   ]
  },
  {
   "cell_type": "code",
   "execution_count": null,
   "metadata": {
    "ExecuteTime": {
     "end_time": "2023-06-18T02:54:44.342134800Z",
     "start_time": "2023-06-18T02:54:40.653234800Z"
    }
   },
   "outputs": [],
   "source": [
    "questions = ['When was Idaho split in two?' , 'Who was Danny Nozel']\n",
    "prompt_prefix = \"Answer the following question after looking at the text.\"\n",
    "\n",
    "answers = pipeline.run(questions, prefix=prompt_prefix)"
   ]
  },
  {
   "cell_type": "code",
   "execution_count": null,
   "metadata": {
    "ExecuteTime": {
     "end_time": "2023-06-18T02:54:46.576816800Z",
     "start_time": "2023-06-18T02:54:46.570817600Z"
    }
   },
   "outputs": [],
   "source": [
    "import pandas as pd\n",
    "from IPython.display import display, HTML\n",
    "\n",
    "output = pd.DataFrame.from_records(answers)\n",
    "display(HTML(output.to_html()))"
   ]
  },
  {
   "cell_type": "markdown",
   "metadata": {},
   "source": [
    "Congratulations 🎉✨🎊🥳 !! You can now perform retrieve and generate (RAG) with PrimeQA!"
   ]
  }
 ],
 "metadata": {
  "kernelspec": {
   "display_name": "Python 3 (ipykernel)",
   "language": "python",
   "name": "python3"
  },
  "language_info": {
   "codemirror_mode": {
    "name": "ipython",
    "version": 3
   },
   "file_extension": ".py",
   "mimetype": "text/x-python",
   "name": "python",
   "nbconvert_exporter": "python",
   "pygments_lexer": "ipython3",
   "version": "3.10.11"
  },
  "vscode": {
   "interpreter": {
    "hash": "c5d039775dffd761dc362a240b88aab365529f2df8e87d6e6e9eecd3e8d89fd4"
   }
  }
 },
 "nbformat": 4,
 "nbformat_minor": 2
}
