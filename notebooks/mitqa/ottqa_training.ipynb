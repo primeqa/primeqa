{
 "cells": [
  {
   "attachments": {},
   "cell_type": "markdown",
   "metadata": {},
   "source": [
    "# OTTQA : Training example\n",
    "\n",
    "In this notebook, we will show how to train MITQA model on OTTQA dataset. OTTQA dataset requires table retriever, table row linker, row retriever and multi answer extractor."
   ]
  },
  {
   "cell_type": "code",
   "execution_count": null,
   "metadata": {},
   "outputs": [],
   "source": [
    "from primeqa.mitqa.mitqa_component import MITQAReader\n",
    "\n",
    "mitqa_reader = MITQAReader(\"../../primeqa/mitqa/config/train_ottqa.json\")\n",
    "mitqa_reader.train()"
   ]
  },
  {
   "cell_type": "markdown",
   "metadata": {},
   "source": []
  }
 ],
 "metadata": {
  "kernelspec": {
   "display_name": "Python 3",
   "language": "python",
   "name": "python3"
  },
  "language_info": {
   "name": "python",
   "version": "3.7.-1"
  },
  "orig_nbformat": 4,
  "vscode": {
   "interpreter": {
    "hash": "416c173ff32365b3479ed4ad45a5e9e20097f26012973487b692f2301783cb6c"
   }
  }
 },
 "nbformat": 4,
 "nbformat_minor": 2
}
