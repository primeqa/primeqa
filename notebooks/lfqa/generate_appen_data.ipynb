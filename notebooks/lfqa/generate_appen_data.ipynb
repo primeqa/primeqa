{
    "cells": [
     {
      "cell_type": "code",
      "execution_count": 1,
      "metadata": {},
      "outputs": [
       {
        "name": "stdout",
        "output_type": "stream",
        "text": [
         "177\n",
         "{'-5433421993461538564', '-5433998283119941152', '8847547952419838314', '2102201014821122308', '-6034041228964870497', '-5202569336471135378', '-2664875860902576660', '-3679693601791677766', '-3659701405687069690', '-6616030944495513115', '6663437261326194572', '2188641802032423949', '8915991454441317457', '-1735627592159571198', '7184331590045541410', '8484713537476807677', '7195430905493029565', '8717587106725834760', '5530825811853949020', '3550133641087898941', '6736163632077597066', '8581686621694664468', '517482339643940574', '-1813693802046160487', '2489004752830971283', '-4914858845663405521', '-5665052126355765119', '7236114255689242893', '5628470506183287603', '1409967239649772482', '-1342291290704725198', '3484265451298926829', '-6546770237964612453', '4069632166541178964', '-5959288268937806056', '2577707056846677575', '726040690787559971', '-5957516079482453552', '-480929800409517276', '-8531090588741234782', '-464770442921653920', '751853662280595560', '-2313102680940279501', '6877988997574364784', '4489624957108334132', '-4122080069382839501', '-2558885384588263897', '2869997669348576087', '-1667901417594800470', '-3077016148542864018', '-7773020239294558774', '-6923278765348481733', '-7378261254641631943', '3016110742774026978', '-580708763428696362', '7553097354839029748', '-621855783713626816', '1711916015781754714', '-2620073796684572998', '-6223316164921072499', '-8240760326247237775', '384376134109077767', '-5826934799383173592', '-5827705595584518308', '2408002627733944649', '5337089324356998680', '-1354220474127488934', '-8277024839293995438', '-990330637066669715', '-6347969627860402356', '-2880775059818663424', '8807977986871213607', '-4524305586196594191', '8904144349668506098', '2919391071133858042', '6242654346399864962', '4766418881317162187', '-1058143135895940237', '-6816620259919283888', '9155271205755097311', '-8511427837138505122', '-194624076072023045', '2720169291398221310', '1936491352997888449', '-7779637012381736413', '-8277313852204797994', '-547285585922035520', '-2353029178083370761', '4274261440605851045', '9205580801476043040', '5738144377210062200', '669466930487856809', '5875046726135070179', '7467223419449849336', '3788845239430619383', '-8083017426536732807', '-5488337264037046179', '-766064329870563050', '2954363067460978276', '-4957228269516403592', '-8268610999821873438', '2237389598195612661', '4608735596460895079', '-8606495310333489422', '-890299258292412735', '5131622546234136557', '-680447666417234559', '-4583177527895959138', '9064547148563681840', '-2608423447813104080', '-72983375937706663', '-8962633352301594613', '3016414031422933067', '1153623111842554387', '376528509830503174', '-2773966831570768170', '-4604730913594522233', '1083726726672316078', '6064657554050017623', '-4903994838376121973', '2658866216281283729', '9211551534185924473', '-1530025448869492508', '8311944944609401351', '2945694154976038000', '-1930131592806504146', '-8725157837017937546', '-2021144360257334672', '-1585914268312125509', '7953311786439110842', '237441163025665324', '-2340450380094411205', '-6041247031759503141', '9027331731535344170', '4371964269871290494', '4725158021500804483', '-4273668874947662545', '5928537829807433922', '-4282509971386029837', '6291645740453573099', '-7862995681833449719', '305327520899680664', '-2140563594661979477', '2077474049144747505', '9127489446530873219', '-2527947003874581960', '-7486894877578116024', '7051489662709702941', '5343027222358658159', '-1395261967414246142', '-2353259705675785795', '1356603519550019938', '-6663802892349459994', '-1109485827985534106', '2576196355253227760', '-6905127158875357602', '-6235357081753908200', '1319546935861782187', '8279797917032036770', '-8131750020002992078', '-3224127094587318853', '5911856856497782152', '-4742489134830911289', '-1193023039368803076', '-7210339619807281790', '3344941360887793230', '-6794175496168882123', '-3828653462756621884', '-2872955935977908847', '-3352345898230016863', '-9070119469055301785', '409959415093042172', '-1890413840387505730', '-8521861236859433278', '-456565248592064904', '2288663787154913627', '6390231211360507820'}\n"
        ]
       }
      ],
      "source": [
       "import pandas as pd\n",
       "from datetime import datetime\n",
       "\n",
       "files = [\"job_1999101.json\",\"job_1988758.json\", \"job_2004889.json\"]\n",
       "\n",
       "seen_ids = set()\n",
       "\n",
       "for file in files:\n",
       "    file_name = \"/dccstor/srosent2/generative/appen/\" + file\n",
       "    data = pd.read_json(file_name, lines=True)\n",
       "\n",
       "    for index, row in data.iterrows():\n",
       "        info = row['results']['judgments'][0]\n",
       "        # print(row['results'])\n",
       "            \n",
       "        seen_ids.add(info['unit_data']['question_id'])\n",
       "\n",
       "print(len(seen_ids))\n",
       "print(seen_ids)"
      ]
     },
     {
      "cell_type": "code",
      "execution_count": 2,
      "metadata": {},
      "outputs": [],
      "source": [
       "# load tydi json and compute stats on the questions and answers\n",
       "import glob\n",
       "import gzip\n",
       "import json\n",
       "import spacy\n",
       "\n",
       "nlp = spacy.load('en_core_web_sm')\n",
       "\n",
       "train_data_dir = \"/dccstor/srosent2/primeqa/data/nq-lfqa-train/*jsonl\"\n",
       "dev_data_dir = \"/dccstor/srosent2/primeqa/data/dev/nq-lfqa/*jsonl\"\n",
       "\n",
       "train_files = glob.glob(train_data_dir)\n",
       "dev_files = glob.glob(dev_data_dir)\n",
       "\n",
       "def load_json_from_file(gt_file_patterns):\n",
       "    data = []\n",
       "    if gt_file_patterns.endswith('gz'):\n",
       "        f = gzip.open(gt_file_patterns, 'rt', encoding='utf-8')\n",
       "    else:\n",
       "        f = open(gt_file_patterns, 'rt', encoding='utf-8')\n",
       "    lines = f.readlines()\n",
       "    for line in lines:\n",
       "        data.append(json.loads(line))\n",
       "    return data"
      ]
     },
     {
      "cell_type": "code",
      "execution_count": 3,
      "metadata": {},
      "outputs": [],
      "source": [
       "train_data = []\n",
       "for train_file in train_files:\n",
       "    train_data.extend(load_json_from_file(train_file))"
      ]
     },
     {
      "cell_type": "code",
      "execution_count": 4,
      "metadata": {},
      "outputs": [],
      "source": [
       "def get_appen_data(data, type, exclude_ids):\n",
       "    count = 0\n",
       "    for example in data:\n",
       "        qtype = example['type'][0]\n",
       "        \n",
       "        if qtype != type:\n",
       "            continue\n",
       "        \n",
       "        example_id = example['example_id']\n",
       "\n",
       "        if str(example_id) in exclude_ids:\n",
       "            continue\n",
       "\n",
       "        question = example[\"question_text\"]\n",
       "\n",
       "        q_word = question.split()[0]\n",
       "\n",
       "        annotation = example['annotations'][0]\n",
       "\n",
       "        if annotation == None:\n",
       "            continue\n",
       "\n",
       "        minimal_text = \"\"\n",
       "        if annotation['minimal_answer']['plaintext_start_byte'] != -1:\n",
       "            minimal_text = example['document_plaintext'].encode('utf-8')[annotation['minimal_answer']['plaintext_start_byte']:annotation['minimal_answer']['plaintext_end_byte']].decode('utf-8')\n",
       "        passage_offsets = example['passage_answer_candidates'][annotation['passage_answer']['candidate_index']]\n",
       "        passage_text = example['document_plaintext'].encode('utf-8')[passage_offsets['plaintext_start_byte']:passage_offsets['plaintext_end_byte']].decode('utf-8')\n",
       "        \n",
       "        passage_sentences = \"\"\n",
       "        for sentence in nlp(passage_text).sents:\n",
       "            passage_sentences += sentence.text + \"&nbsp;\"\n",
       "\n",
       "        count += 1\n",
       "        if count >= 30:\n",
       "            break\n",
       "\n",
       "        print(str(example_id) + \"\\t\" + question + \"\\t\" + example['document_title'] + \"\\t\" + example['document_url'] + \"\\t\" + passage_sentences + \"\\t\" + minimal_text)\n",
       "           "
      ]
     },
     {
      "cell_type": "code",
      "execution_count": 5,
      "metadata": {},
      "outputs": [
       {
        "name": "stdout",
        "output_type": "stream",
        "text": [
         "6213884894002781583\tthe eye is on the sparrow bible verse\tHis Eye Is on the Sparrow\thttps://en.wikipedia.org//w/index.php?title=His_Eye_Is_on_the_Sparrow&amp;oldid=822339685\tThe theme of the song is inspired by the words of David in the Psalms and Jesus in the Gospel of Matthew in the Bible : `` I will instruct thee and teach thee in the way which thou shalt go : I will guide thee with mine eye ( Psalm 32 : 8 ) .&nbsp;`` Look at the birds of the air ; they neither sow nor reap nor gather into barns , and yet your heavenly Father feeds them .&nbsp;Are you not of more value than they ? ''&nbsp;( Matthew 6 : 26 ) and `` Are not two sparrows sold for a farthing ?&nbsp;and one of them shall not fall on the ground without your Father .&nbsp;But the very hairs of your head are all numbered .&nbsp;Fear ye not therefore , ye are of more value than many sparrows ''&nbsp;( Matthew 10 : 29 -- 31 ) .&nbsp;\t\n",
         "8849568873685505619\twho has sold more records than anyone in history\tList of best-selling music artists\thttps://en.wikipedia.org//w/index.php?title=List_of_best-selling_music_artists&amp;oldid=802517360\tThis list includes music artists with claims of 75 million or more record sales .&nbsp;The artists in the following tables are listed with both their claimed sales figure along with their total of certified units and are ranked in descending order , with the artist with the highest amount of claimed sales at the top .&nbsp;If two or more artists have the same claimed sales , they are then ranked by certified units .&nbsp;The claimed sales figure and the total of certified units ( for each country ) within the provided sources include sales of albums , singles , compilation - albums , music videos as well as downloads of singles and full - length albums .&nbsp;Sales figures , such as those from Soundscan , which are sometimes published by Billboard magazine , have not been included in the certified units column .&nbsp;As of 2017 , based on both sales claims and certified units , The Beatles are considered the highest - selling band .&nbsp;Elvis Presley is considered the highest - selling individual artist based on sales claims and Rihanna is the highest - selling individual artist based on certified units .&nbsp;\t\n",
         "6722692558872225509\twhat religion does the yin and yang symbol come from\tYin and yang\thttps://en.wikipedia.org//w/index.php?title=Yin_and_yang&amp;oldid=865982726\tIn Chinese philosophy , yin and yang ( / jɪn / and / jɑːŋ , jæŋ / ; Chinese : 陰 陽 yīnyáng , lit .&nbsp;`` dark - bright '' , `` negative - positive '' )&nbsp;describes how seemingly opposite or contrary forces may actually be complementary , interconnected , and interdependent in the natural world , and how they may give rise to each other as they interrelate to one another .&nbsp;In Chinese cosmology , the universe creates itself out of a primary chaos of material energy , organized into the cycles of Yin and Yang and formed into objects and lives .&nbsp;Yin is the receptive and Yang the active principle , seen in all forms of change and difference such as the annual cycle ( winter and summer ) , the landscape ( north - facing shade and south - facing brightness ) , sexual coupling ( female and male ) , the formation of both men and women as characters , and sociopolitical history ( disorder and order ).&nbsp;There are various dynamics in Chinese cosmology .&nbsp;In the cosmology pertaining to Yin and Yang , the material energy , which this universe has created itself out of , is also referred to as qi .&nbsp;It is believed that the organization of qi in this cosmology of Yin and Yang has formed many things .&nbsp;Included among these forms are humans .&nbsp;Many tangible dualities ( such as light and dark , fire and water , expanding and contracting ) are thought of as physical manifestations of the duality symbolized by yin and yang .&nbsp;This duality lies at the origins of many branches of classical Chinese science and philosophy , as well as being a primary guideline of traditional Chinese medicine , and a central principle of different forms of Chinese martial arts and exercise , such as baguazhang , taijiquan ( t'ai chi ) , and qigong ( Chi Kung ) , as well as appearing in the pages of the I Ching .&nbsp;\t\n",
         "-44395354588652268\twho won the battle of the bull run\tFirst Battle of Bull Run\thttps://en.wikipedia.org//w/index.php?title=First_Battle_of_Bull_Run&amp;oldid=852859365\tThree months after First Bull Run Union forces suffered another , smaller defeat at the Battle of Ball 's Bluff , near Leesburg , Virginia .&nbsp;The perceived military incompetence at First Bull Run and Ball 's Bluff led to the establishment of the Joint Committee on the Conduct of the War , a congressional body created to investigate Northern military affairs .&nbsp;Concerning the Battle of First Bull Run , the committee listened to testimony from a variety of witnesses connected with McDowell 's army .&nbsp;Although the committee 's report concluded that the principal cause of defeat was Patterson 's failure to prevent Johnston from reinforcing Beauregard , Patterson 's enlistment had expired a few days after the battle , and he was no longer in the service .&nbsp;The Northern public clamored for another scapegoat , and McDowell bore the chief blame .&nbsp;On 25 July 1861 , he was relieved of army command and replaced by Maj. Gen. George B. McClellan , who would soon be named general - in - chief of all the Union armies .&nbsp;McDowell was also present to bear significant blame for the defeat of Maj. Gen. John Pope 's Army of Virginia by Gen. Robert E. Lee 's Army of Northern Virginia thirteen months later , at the Second Battle of Bull Run .&nbsp;\t\n",
         "-7702508458750578906\tthe most common form of user interface used on pc's today is called a\tCommand-line interface\thttps://en.wikipedia.org//w/index.php?title=Command-line_interface&amp;oldid=854238370\tToday , many end users rarely , if ever , use command - line interfaces and instead rely upon graphical user interfaces and menu - driven interactions .&nbsp;However , many software developers , system administrators and advanced users still rely heavily on command - line interfaces to perform tasks more efficiently , configure their machine , or access programs and program features that are not available through a graphical interface .&nbsp;\t\n",
         "-2427824675467396125\twho won in brown v board of education\tBrown v. Board of Education\thttps://en.wikipedia.org//w/index.php?title=Brown_v._Board_of_Education&amp;oldid=836852820\tBrown v. Board of Education of Topeka , 347 U.S. 483 ( 1954 ) , was a landmark United States Supreme Court case in which the Court declared state laws establishing separate public schools for black and white students to be unconstitutional .&nbsp;The decision effectively overturned the Plessy v. Ferguson decision of 1896 , which allowed state - sponsored segregation , insofar as it applied to public education .&nbsp;Handed down on May 17 , 1954 , the Warren Court 's unanimous ( 9 -- 0 ) decision stated that `` separate educational facilities are inherently unequal . ''&nbsp;As a result , de jure racial segregation was ruled a violation of the Equal Protection Clause of the Fourteenth Amendment of the United States Constitution .&nbsp;This ruling paved the way for integration and was a major victory of the Civil Rights Movement , and a model for many future impact litigation cases .&nbsp;However , the decision 's fourteen pages did not spell out any sort of method for ending racial segregation in schools , and the Court 's second decision in Brown II ( 349 U.S. 294 ( 1955 ) ) only ordered states to desegregate `` with all deliberate speed '' .&nbsp;\t\n",
         "-6388270995602050599\t3 main branches of government in the philippines\tGovernment of the Philippines\thttps://en.wikipedia.org//w/index.php?title=Government_of_the_Philippines&amp;oldid=813936716\tThe government has three interdependent branches : the legislative branch , the executive branch , and the judicial branch .&nbsp;The powers of the branches are vested by the Constitution of the Philippines in the following : Legislative power is vested in the two - chamber Congress of the Philippines -- the Senate is the upper chamber and the House of Representatives is the lower chamber .&nbsp;\tthe legislative branch , the executive branch , and the judicial branch .\n",
         "-7652766263809313045\twhere did the idea of walmart come from\tHistory of Walmart\thttps://en.wikipedia.org//w/index.php?title=History_of_Walmart&amp;oldid=806130864\tAt some point Sam Walton made the decision to achieve higher sales volumes by keeping sales prices lower than his competitors by reducing his profit margin .&nbsp;Inspired by the successes of other discount department store chains , Walton opened the second store in Harrison , Arkansas that year .&nbsp;Responsible for the purchase and maintenance of signage , Walton 's assistant , Bob Bogle , came up with the name `` Wal - Mart '' for the new chain .&nbsp;By 1967 , the company grew to 24 stores across the state of Arkansas , and had reached $ 12.6 million in sales , and by 1968 , the company opened its first stores outside of Arkansas in Sikeston , Missouri and Claremore , Oklahoma .&nbsp;\tAt some point Sam Walton made the decision to achieve higher sales volumes by keeping sales prices lower than his competitors by reducing his profit margin . Inspired by the successes of other discount department store chains , Walton opened the second store in Harrison , Arkansas that year . Responsible for the purchase and maintenance of signage , Walton 's assistant , Bob Bogle , came up with the name `` Wal - Mart '' for the new chain .\n",
         "8788710882010892431\twhere do the ashes come from that they use on ash wednesday\tAsh Wednesday\thttps://en.wikipedia.org//w/index.php?title=Ash_Wednesday&amp;oldid=830825344\tThe Catholic Church and the Methodist Church say that the ashes should be those of palm branches blessed at the previous year 's Palm Sunday service , while a Church of England publication says they `` may be made '' from the burnt palm crosses of the previous year .&nbsp;These sources do not speak of adding anything to the ashes other than , for the Catholic liturgy , a sprinkling with holy water when blessing them .&nbsp;An Anglican website speaks of mixing the ashes with a small amount of holy water or olive oil as a fixative .&nbsp;\tpalm branches blessed at the previous year 's Palm Sunday service ,\n",
         "-2442257596668078136\twhat type of activity is indicating that mauna loa may be entering a new period of volcanic activity\tKīlauea\thttps://en.wikipedia.org//w/index.php?title=K%C4%ABlauea&amp;oldid=801755749\tA prominent structure on Kīlauea 's southern flank is the Hilina fault system , a highly active fault moving vertically an average of 2 to 20 mm ( 0.1 to 0.8 in ) per year along the system .&nbsp;Its physiographic province is 500 m ( 1,640 ft ) deep , but it is unknown if it is a shallow listric fault or if it penetrates to the very base of the volcano .&nbsp;A number of cinder cones , satellite shields , lava tubes , and other eruptive structures also dot the volcano , evidence of its recent activity .&nbsp;Kīlauea has some interactions with Mauna Loa , its larger neighbor and only other recently active volcano on the island ; interspersed lava flows and ash deposits belonging to its neighbor have been found on its flanks , and some of Mauna Loa 's flows are , in turn , blanketed in Kīlauea tephra .&nbsp;In particular , the saddle between the two volcanoes is currently depressed , and is likely to fill over in the future .&nbsp;\t\n",
         "-1215745899771320061\tmoney tester pen how does it work uk\tCounterfeit banknote detection pen\thttps://en.wikipedia.org//w/index.php?title=Counterfeit_banknote_detection_pen&amp;oldid=798844986\tCounterfeit banknote detection pens are used to detect counterfeit Swiss franc , euro and United States banknotes , amongst others .&nbsp;Typically , genuine banknotes are printed on paper based on cotton fibers and do not contain the starches that are reactive with iodine .&nbsp;When the pen is used to mark genuine bills , the mark is yellowish or colourless .&nbsp;\t\n",
         "8830251557145778472\tin what way do instruction pipeline aid in parallel processing\tInstruction pipelining\thttps://en.wikipedia.org//w/index.php?title=Instruction_pipelining&amp;oldid=799939666\tInstruction pipelining is a technique for implementing instruction - level parallelism within a single processor .&nbsp;Pipelining attempts to keep every part of the processor busy with some instruction by dividing incoming instructions into a series of sequential steps ( the eponymous `` pipeline '' ) , each performed by a different processor units , and occupying different units with parts of different instructions that are then processed in parallel .&nbsp;It allows faster CPU throughput than would otherwise be possible at a given clock rate , but may increase latency due to the added overhead of the pipelining process itself .&nbsp;\tattempts to keep every part of the processor busy with some instruction by dividing incoming instructions into a series of sequential steps ( the eponymous `` pipeline '' ) , each performed by a different processor units , and occupying different units with parts of different instructions that are then processed in parallel .\n",
         "1756361713228458982\thow many area codes are there in montana\tArea code 406\thttps://en.wikipedia.org//w/index.php?title=Area_code_406&amp;oldid=794991945\tCoordinates : 47 ° 00 ′ 01 ''&nbsp;N 109 ° 45 ′ 04 ''&nbsp;W ﻿ / ﻿ 47.00028 ° N 109.75111&nbsp;° W ﻿ / 47.00028 ; - 109.75111 ﻿ ( State of Montana )&nbsp;Area code 406 is the telephone area code covering the entire state of Montana .&nbsp;It has been Montana 's area code since area codes were created in 1947 .&nbsp;\t\n",
         "-8827209331783633212\tprice of ps3 when it first came out\tPlayStation 3\thttps://en.wikipedia.org//w/index.php?title=PlayStation_3&amp;oldid=836192773\tThe initial prototype shown in May 2005 featured two HDMI ports , three Ethernet ports and six USB ports ; however , when the system was shown again a year later at E3 2006 , these were reduced to one HDMI port , one Ethernet port and four USB ports , presumably to cut costs .&nbsp;Two hardware configurations were also announced for the console : a 20 GB model and a 60 GB model , priced at US $499 ( € 499 ) and US $599 ( € 599 ) , respectively .&nbsp;The 60 GB model was to be the only configuration to feature an HDMI port , Wi - Fi internet , flash card readers and a chrome trim with the logo in silver .&nbsp;Both models were announced for a simultaneous worldwide release : November 11 , 2006 , for Japan and November 17 , 2006 , for North America and Europe .&nbsp;\t\n",
         "-6581378808316587097\tsubsistence type of farming is practised in the following area\tSubsistence agriculture\thttps://en.wikipedia.org//w/index.php?title=Subsistence_agriculture&amp;oldid=844481105\tSubsistence farming continues today in large parts of rural Africa , and parts of Asia and Latin America .&nbsp;In 2015 , about 2 billion people ( slightly more than 25 % of the world 's population ) in 500 million households living in rural areas of developing nations survive as `` smallholder '' farmers , working less than 2 hectares ( 5 acres ) of land .&nbsp;Subsistence agriculture had largely disappeared in Europe by the beginning of World War I , and in North America with the movement of sharecroppers and tenant farmers out of the American South and Midwest during the 1930s and 1940s .&nbsp;As recently as the 1950s , it was still common on family farms in North America and Europe to grow much of a family 's own food and make much of its own clothing , although sales of some of the farm 's production earned enough currency to buy certain staples , typically including sugar ; coffee and tea ; petroleum distillates ( petrol , kerosene , fuel oil ) ; textile products such as bolts of cloth , needles , and thread ; medicines ; hardware products such as nails , screws , and wire ; and a few discretionary items such as candy or books .&nbsp;Many of the preceding items , as well as occasional services from physicians , veterinarians , blacksmiths , and others , were often bought with barter rather than currency .&nbsp;In Central and Eastern Europe subsistence and semi-subsistence agriculture reappeared within the transition economy since about 1990 .&nbsp;\t\n",
         "-3963988669147540356\twho wrote the song the prayer sung by andrea bocelli\tThe Prayer (Celine Dion and Andrea Bocelli song)\thttps://en.wikipedia.org//w/index.php?title=The_Prayer_(Celine_Dion_and_Andrea_Bocelli_song)&amp;oldid=826246365\t`` The Prayer '' is a popular song written by David Foster , Carole Bayer Sager , Alberto Testa and Tony Renis .&nbsp;It is most commonly known as a duet between Celine Dion and Andrea Bocelli .&nbsp;It is from Quest for Camelot : Music from the Motion Picture , the second single from Dion 's Christmas album These Are Special Times and the first from Bocelli 's album Sogno and was released as a promotional single on 1 March 1999 .&nbsp;The song won the Golden Globe Award for Best Original Song and was nominated for an Academy Award for Best Original Song in 1999 and a Grammy Award for Best Pop Collaboration with Vocals in 2000 .&nbsp;\tDavid Foster , Carole Bayer Sager , Alberto Testa and Tony Renis .\n",
         "-3301882905827031751\twhat are the three components of the fire triangle\tFire triangle\thttps://en.wikipedia.org//w/index.php?title=Fire_triangle&amp;oldid=843757803\tThe triangle illustrates the three elements a fire needs to ignite : heat , fuel , and an oxidizing agent ( usually oxygen ) .&nbsp;A fire naturally occurs when the elements are present and combined in the right mixture , meaning that fire is actually an event rather than a thing .&nbsp;A fire can be prevented or extinguished by removing any one of the elements in the fire triangle .&nbsp;For example , covering a fire with a fire blanket removes the oxygen part of the triangle and can extinguish a fire .&nbsp;In large fires where firefighters are called in , decreasing the amount of oxygen is not usually an option because there is no effective way to make that happen in an extended area .&nbsp;\theat , fuel , and an oxidizing agent ( usually oxygen ) .\n",
         "8392700517527763056\twhere do you get an at hop card\tAT HOP card\thttps://en.wikipedia.org//w/index.php?title=AT_HOP_card&amp;oldid=849504314\tCards may be `` topped - up '' or monthly passes purchased in the following ways : online , at ticket machines , at ticketing offices , and at selected retail outlets such as bookshops .&nbsp;Top ups may be made by credit or debit card , with the latter three mediums accepting cash payment .&nbsp;The card is designed to reduce the number of transactions at ticket offices and the number of paper tickets .&nbsp;Usage is encouraged by offering cheaper fares than the cash ticket option , although there is an initial once - only fee to purchase the card .&nbsp;Monthly and / or multiple trip travel is only available with the AT HOP card .&nbsp;\tonline , at ticket machines , at ticketing offices , and at selected retail outlets such as bookshops .\n",
         "7702074066435630197\twhat does it mean when someone says the elephant in the room\tElephant in the room\thttps://en.wikipedia.org//w/index.php?title=Elephant_in_the_room&amp;oldid=842789562\tElephant in the room is an English - language metaphorical idiom for an obvious problem or risk that no one wants to discuss .&nbsp;\tan obvious problem or risk that no one wants to discuss .\n",
         "7342902794311914018\twhen will once upon a time season 7 be on tv\tOnce Upon a Time (season 7)\thttps://en.wikipedia.org//w/index.php?title=Once_Upon_a_Time_(season_7)&amp;oldid=810286625\tThe seventh season of the American ABC fantasy - drama Once Upon a Time was ordered on May 11 , 2017 .&nbsp;It will consist of 22 episodes and will air on Fridays , having premiered on October 6 , 2017 .&nbsp;\twill consist of 22 episodes and will air on Fridays , having premiered on October 6 , 2017 .\n",
         "3920674755999659346\twho is in the new england patriots division\tAFC East\thttps://en.wikipedia.org//w/index.php?title=AFC_East&amp;oldid=833322009\tThe American Football Conference -- Eastern Division or AFC East is a division of the National Football League ( NFL ) 's American Football Conference ( AFC ) .&nbsp;There are currently four teams that reside in the division : the Buffalo Bills ( based in Orchard Park , New York ) ; the Miami Dolphins ( based in Miami Gardens , Florida ) ; the New England Patriots ( based in Foxborough , Massachusetts ) ; and the New York Jets ( based in East Rutherford , New Jersey ) .&nbsp;\t\n",
         "1642696788312949689\twhat is normal weight of baby during birth\tBirth weight\thttps://en.wikipedia.org//w/index.php?title=Birth_weight&amp;oldid=799014922\tBirth weight is the body weight of a baby at its birth .&nbsp;The average birth weight in babies of European heritage is 3.5 kilograms ( 7.7 lb ) , though the range of normal is between 2.5 kilograms ( 5.5 lb ) and 5 kilograms ( 11 lb ) ( all but 5 % of newborns will fall into this range ) .&nbsp;Babies of south Asian and Chinese heritage weigh about 240 grams ( 0.53 lb ) less .&nbsp;\t\n",
         "-2732421398198373487\thow long did it take hemingway to write the sun also rises\tThe Sun Also Rises\thttps://en.wikipedia.org//w/index.php?title=The_Sun_Also_Rises&amp;oldid=825598377\tHemingway began writing the novel on his birthday ( 21 July ) in 1925 , and finished the draft manuscript barely two months later , in September .&nbsp;After setting aside the manuscript for a short period , he worked on revisions during the winter of 1926 .&nbsp;\t\n",
         "-2460744147141390827\tdna changes that produce the abnormal cystic fibrosis protein\tΔF508\thttps://en.wikipedia.org//w/index.php?title=%CE%94F508&amp;oldid=823629597\tΔF508 ( Delta - F508 , full name CFTRΔF508 or F508del - CFTR ; rs113993960 ) is a specific mutation within the gene for a protein called the cystic fibrosis transmembrane conductance regulator ( CFTR ) .&nbsp;The mutation is a deletion of three nucleotides spanning positions 507 and 508 of the CFTR gene on chromosome 7 , which ultimately results in the loss of a single codon for the amino acid phenylalanine ( F ) .&nbsp;A person with the CFTRΔF508 mutation will produce an abnormal CFTR protein that lacks this phenylalanine residue and which can not fold properly .&nbsp;This protein does not escape the endoplasmic reticulum for further processing .&nbsp;Having two copies of this mutation ( one inherited from each parent ) is by far the most common cause of cystic fibrosis ( CF ) , responsible for nearly two - thirds of cases worldwide .&nbsp;\tΔF508 ( Delta - F508 , full name CFTRΔF508 or F508del - CFTR ; rs113993960 ) is\n",
         "-46540162986656093\twhat is gm crop explain with suitable example\tGenetically modified crops\thttps://en.wikipedia.org//w/index.php?title=Genetically_modified_crops&amp;oldid=856776744\tGenetically modified crops ( GMCs , GM crops , or biotech crops ) are plants used in agriculture , the DNA of which has been modified using genetic engineering methods .&nbsp;In most cases , the aim is to introduce a new trait to the plant which does not occur naturally in the species .&nbsp;Examples in food crops include resistance to certain pests , diseases , or environmental conditions , reduction of spoilage , or resistance to chemical treatments ( e.g. resistance to a herbicide ) , or improving the nutrient profile of the crop .&nbsp;Examples in non-food crops include production of pharmaceutical agents , biofuels , and other industrially useful goods , as well as for bioremediation .&nbsp;\t\n",
         "8981440017743766629\twhen does war for the planet of the apes take place\tWar for the Planet of the Apes\thttps://en.wikipedia.org//w/index.php?title=War_for_the_Planet_of_the_Apes&amp;oldid=832996929\tTwo years have passed since the human - hating bonobo Koba attacked the human survivors in San Francisco .&nbsp;Since then , Caesar and his tribe of intelligent apes have been forced against a rogue U.S. military faction known as Alpha - Omega .&nbsp;Led by a ruthless Colonel , Alpha - Omega employs many apes formerly loyal to Koba , derogatorily called `` donkeys '' .&nbsp;\t\n",
         "-9081799816996468728\t• why was there so much optimism in the united states in the late 1920s\tGreat Depression in the United States\thttps://en.wikipedia.org//w/index.php?title=Great_Depression_in_the_United_States&amp;oldid=843464001\tThe unregulated growth of small rural banking institutions can be partially attributed to the rising cost of agriculture especially in the Corn Belt and Cotton Belt .&nbsp;Throughout the corn and cotton belts real estate increases drove the demand for more local funding to continue to supply rising agricultural economics .&nbsp;The rural banking structures would supply the needed capital to meet the farm commodity market , however , this came with a price of reliability and low risk lending .&nbsp;Economic growth was promising from 1887 to 1920 with an average of 6 percent growth in ( GDP ) .&nbsp;In particular the participation in World War I drove a booming agricultural market that drove optimism at the consumer and lending level which , in turn , resulted in a more lax approach in the lending process .&nbsp;Overbanked conditions existed which pressured struggling banks to increase their services ( specifically to the agricultural customers ) without any additional regulatory oversight or qualifications .&nbsp;This dilemma introduced several high risk and marginal business returns to the banking market .&nbsp;Banking growth would continue through the first two decades well outside of previous trends disregarding the current economic and population standards .&nbsp;Banking profitability and loan standards begin to deteriorate as early as 1900 as a result .&nbsp;Approaching&nbsp;\t\n",
         "-7465473688812831673\twhat is verification and validation in software testing\tSoftware verification and validation\thttps://en.wikipedia.org//w/index.php?title=Software_verification_and_validation&amp;oldid=789601630\tIn software project management , software testing , and software engineering , verification and validation ( V&V ) is the process of checking that a software system meets specifications and that it fulfills its intended purpose .&nbsp;It may also be referred to as software quality control .&nbsp;It is normally the responsibility of software testers as part of the software development lifecycle .&nbsp;In simple terms , software verification is : `` Assuming we should build X , does our software achieve its goals without any bugs or gaps ? ''&nbsp;On the other hand , software validation is : `` Was X what we should have built ?&nbsp;Does X meet the high level requirements ? ''&nbsp;\t\n",
         "-4605652307593285005\twhen was the first tesla model s made\tTesla Model S\thttps://en.wikipedia.org//w/index.php?title=Tesla_Model_S&amp;oldid=866506396\tThe Model S was styled by Franz von Holzhausen , who previously worked for Mazda North American Operations .&nbsp;The car was codenamed WhiteStar during research and preliminary development .&nbsp;It was officially announced in a press release on June 30 , 2008 .&nbsp;The prototype vehicle was displayed at a press conference on March 26 , 2009 .&nbsp;Exclusive premier of their Model S electric car was held at their Menlo Park store on April 8 , 2009 .&nbsp;\t\n"
        ]
       }
      ],
      "source": [
       "get_appen_data(train_data, \"la\", seen_ids)"
      ]
     }
    ],
    "metadata": {
     "kernelspec": {
      "display_name": "Python 3.9.12 ('primeqaenv')",
      "language": "python",
      "name": "python3"
     },
     "language_info": {
      "codemirror_mode": {
       "name": "ipython",
       "version": 3
      },
      "file_extension": ".py",
      "mimetype": "text/x-python",
      "name": "python",
      "nbconvert_exporter": "python",
      "pygments_lexer": "ipython3",
      "version": "3.9.12"
     },
     "orig_nbformat": 4,
     "vscode": {
      "interpreter": {
       "hash": "229bd894a0cdb05b7ee80ea2bc43559a301775857073a25e64e4f441f37822ce"
      }
     }
    },
    "nbformat": 4,
    "nbformat_minor": 2
   }
   