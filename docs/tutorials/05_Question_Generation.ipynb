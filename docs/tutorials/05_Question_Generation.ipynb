{
 "cells": [
  {
   "cell_type": "markdown",
   "id": "42bbe4cb",
   "metadata": {},
   "source": [
    "# Tutorial: In this tutorial you'll learn how to generate questions from a document (or a set of documents).\n",
    "\n",
    "Typically one can generate thousands or maybe millions of synthetic questions and then fine-tune a QA model on those synthetic questions.\n",
    "\n",
    "## Step 0: Prepare a Colab Environment to run this tutorial on GPUs\n",
    "Make sure to \"Enable GPU Runtime\" by following this [url](https://drive.google.com/file/d/1jhE8CkieQXoW0gvz9IherTDdJY54Q4Yz/view?usp=sharing). This step will make sure the tutorial runs faster.\n"
   ]
  },
  {
   "cell_type": "markdown",
   "id": "cfd10599",
   "metadata": {},
   "source": [
    "## Step 1: Install PrimeQA\n",
    "\n",
    "First, we need to include the required modules.\n"
   ]
  },
  {
   "cell_type": "code",
   "execution_count": null,
   "id": "201e5d0e",
   "metadata": {},
   "outputs": [],
   "source": [
    "! pip install --upgrade primeqa"
   ]
  },
  {
   "cell_type": "markdown",
   "id": "c19db11b",
   "metadata": {},
   "source": [
    "## Step 2: Import and instatiate a TableQA model"
   ]
  },
  {
   "cell_type": "code",
   "execution_count": null,
   "id": "4bc0d7f5",
   "metadata": {},
   "outputs": [],
   "source": [
    "from primeqa.qg.models.qg_model import QGModel\n",
    "model_name = 'PrimeQA/mt5-base-tydi-question-generator'\n",
    "passage_qg_model = QGModel(model_name, modality='passage')"
   ]
  },
  {
   "cell_type": "markdown",
   "id": "ef831d01",
   "metadata": {},
   "source": [
    "## Step 3: Now provide a list of documents/ passages.\n",
    "\n",
    "Passages/ documents should be passed as a `list` of `str`. \n",
    "We show one English and one Russian text to generate questions."
   ]
  },
  {
   "cell_type": "code",
   "execution_count": null,
   "id": "90eb059c",
   "metadata": {},
   "outputs": [],
   "source": [
    "text_list = [\"Sachin tendulkar was an Indian cricketer born in Mumbai. He scored nearly 350000 runs in his international career\",\n",
    "            \n",
    "\"Симби́рская губе́рния (с 1924 года Ульяновская губерния)\\xa0— административно-территориальная\\\n",
    "единица Российской империи, Российской республики и РСФСР, существовавшая в 1796—1928 годах.\\\n",
    "Губернский город\\xa0— Симбирск (с 1924 года Ульяновск)\"]\n",
    "\n",
    "id_list = [\"abcID123\", \"xyzID456\"]"
   ]
  },
  {
   "cell_type": "markdown",
   "id": "038e9865",
   "metadata": {},
   "source": [
    "## Step 4: Generate questions\n",
    "\n",
    "The `generate_questions` function can take two arguments.\n",
    "#### Controls:\n",
    "- `num_questions_per_instance`: Number of questions to generate per table (default=5)\n",
    "- `answers_list`: Generated questions will have these as the answers. It should be a list of lists, \n",
    "        where each list corresponds a passage in `text_list`. (default=[])\n",
    "- `id_list`: Include an id_list of context passages aligned with text_list, defaults to empty list.\n",
    "\n",
    "When `answers_list` is not provided, named entity recognition method is used to sample answers."
   ]
  },
  {
   "cell_type": "code",
   "execution_count": null,
   "id": "88a7f893",
   "metadata": {},
   "outputs": [],
   "source": [
    "passage_qg_model.generate_questions(text_list, \n",
    "                    num_questions_per_instance = 2, id_list=id_list)"
   ]
  },
  {
   "cell_type": "markdown",
   "id": "a0e0972a",
   "metadata": {},
   "source": [
    "## Example shown below\n",
    "\n",
    "Answer sampler only supports Arabic, English, Finnish and Russian now. For other languages in TyDi dataset\n",
    "we should provide the answers explicitly."
   ]
  },
  {
   "cell_type": "code",
   "execution_count": null,
   "id": "5b96a081",
   "metadata": {},
   "outputs": [],
   "source": [
    "text_list = [\"শচীন টেন্ডুলকারকে ক্রিকেট ইতিহাসের অন্যতম সেরা ব্যাটসম্যান হিসেবে গণ্য করা হয়।\"]\n",
    "answers_list = [[\"শচীন টেন্ডুলকার\"]]\n",
    "passage_qg_model.generate_questions(text_list, \n",
    "                                answers_list = answers_list)"
   ]
  },
  {
   "cell_type": "markdown",
   "id": "9191f772",
   "metadata": {},
   "source": [
    "Congratulations 🎉✨🎊🥳 !! You can now generate questions from documents."
   ]
  }
 ],
 "metadata": {
  "kernelspec": {
   "display_name": "Python 3 (ipykernel)",
   "language": "python",
   "name": "python3"
  },
  "language_info": {
   "codemirror_mode": {
    "name": "ipython",
    "version": 3
   },
   "file_extension": ".py",
   "mimetype": "text/x-python",
   "name": "python",
   "nbconvert_exporter": "python",
   "pygments_lexer": "ipython3",
   "version": "3.9.13"
  }
 },
 "nbformat": 4,
 "nbformat_minor": 5
}
