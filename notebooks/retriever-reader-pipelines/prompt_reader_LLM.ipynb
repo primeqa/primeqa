{
 "cells": [
  {
   "attachments": {},
   "cell_type": "markdown",
   "metadata": {},
   "source": [
    "Retrieval Augmented Generation\n",
    "\n",
    "We create retriever-reader pipelines to provide retrieval augmented systems based on large language models (LLMs) such as OpenAI's ChatGPT(gpt-3.5-turbo), InstructGPT(text-davinci-003), FLAN-T5 and LLMs accessed through the BAM service (IBM Internal).\n",
    "These systems generate answers conditioned on the retrieved passages.\n",
    "\n",
    "The OpenAI models are accessed using an API KEY that can be obtained at (https://platform.openai.com/account/api-keys)."
   ]
  },
  {
   "cell_type": "code",
   "execution_count": 1,
   "metadata": {},
   "outputs": [
    {
     "name": "stdout",
     "output_type": "stream",
     "text": [
      "{\"time\":\"2023-03-06 11:10:11,177\", \"name\": \"faiss.loader\", \"level\": \"INFO\", \"message\": \"Loading faiss with AVX2 support.\"}\n",
      "{\"time\":\"2023-03-06 11:10:11,255\", \"name\": \"faiss.loader\", \"level\": \"INFO\", \"message\": \"Successfully loaded faiss with AVX2 support.\"}\n"
     ]
    }
   ],
   "source": [
    "from primeqa.components.retriever.dense import ColBERTRetriever\n",
    "from primeqa.components.reader.prompt import PromptGPTReader\n",
    "from primeqa.pipelines.qa_pipeline import QAPipeline\n",
    "import json"
   ]
  },
  {
   "cell_type": "code",
   "execution_count": 2,
   "metadata": {},
   "outputs": [
    {
     "name": "stdout",
     "output_type": "stream",
     "text": [
      "[Mar 06, 11:10:53] #> base_config.py from_path /dccstor/colbert-ir/franzm/indexes/oct2_10_11/oct2_10_11_exp/indexes//oct2_10_11_indname/metadata.json\n",
      "[Mar 06, 11:10:53] #> base_config.py from_path args loaded! \n",
      "[Mar 06, 11:10:53] #> base_config.py from_path args replaced ! \n",
      "[Mar 06, 11:11:03] #>>>>> at ColBERT name (model type) : /dccstor/colbert-ir/franzm/experiments/oct2_7_12_1.5e-06/none/2022-10/09/15.21.39/checkpoints/colbert.dnn.batch_91287.model\n",
      "[Mar 06, 11:11:03] #>>>>> at BaseColBERT name (model type) : /dccstor/colbert-ir/franzm/experiments/oct2_7_12_1.5e-06/none/2022-10/09/15.21.39/checkpoints/colbert.dnn.batch_91287.model\n",
      "[Mar 06, 11:11:13] factory model type: xlm-roberta-large\n",
      "[Mar 06, 11:11:27] get query model type: xlm-roberta-large\n",
      "[Mar 06, 11:11:27] get doc model type: xlm-roberta-large\n",
      "[Mar 06, 11:11:38] #> Loading codec...\n",
      "[Mar 06, 11:11:38] #> base_config.py from_path /dccstor/colbert-ir/franzm/indexes/oct2_10_11/oct2_10_11_exp/indexes//oct2_10_11_indname/metadata.json\n",
      "[Mar 06, 11:11:38] #> base_config.py from_path args loaded! \n",
      "[Mar 06, 11:11:38] #> base_config.py from_path args replaced ! \n",
      "[Mar 06, 11:11:38] Loading decompress_residuals_cpp extension (set COLBERT_LOAD_TORCH_EXTENSION_VERBOSE=True for more info)...\n",
      "[Mar 06, 11:11:39] Loading packbits_cpp extension (set COLBERT_LOAD_TORCH_EXTENSION_VERBOSE=True for more info)...\n",
      "[Mar 06, 11:11:40] #> Loading IVF...\n"
     ]
    }
   ],
   "source": [
    "# setup ColBERT index\n",
    "index_root = \"/dccstor/colbert-ir/franzm/indexes/oct2_10_11/oct2_10_11_exp/indexes/\"\n",
    "index_name = \"oct2_10_11_indname\"\n",
    "collection = \"/dccstor/avi7/neural_ir/colbert/data/psgs_w100.tsv\"\n",
    "\n",
    "\n",
    "retriever = ColBERTRetriever(index_root = index_root, \n",
    "                                     index_name = index_name, \n",
    "                                     collection = collection, \n",
    "                                     max_num_documents = 3)\n",
    "retriever.load()"
   ]
  },
  {
   "cell_type": "markdown",
   "metadata": {},
   "source": [
    "We provide three examples of loading models to generate answers from the prompt: GPT, Flan-T5-xxl from HuggingFace, and Flan-T5-xxl from BAM services"
   ]
  },
  {
   "cell_type": "code",
   "execution_count": 4,
   "metadata": {},
   "outputs": [],
   "source": [
    "# setup a Prompt GPT Reader: We support gpt-3.5-turbo and text-davinci-003\n",
    "reader = PromptGPTReader(model_name='gpt-3.5-turbo', api_key='API KEY HERE')\n",
    "reader.load()"
   ]
  },
  {
   "cell_type": "code",
   "execution_count": 5,
   "metadata": {},
   "outputs": [
    {
     "name": "stderr",
     "output_type": "stream",
     "text": [
      "21015325it [01:06, 314724.68it/s]\n"
     ]
    }
   ],
   "source": [
    "# setup the pipeline\n",
    "pipeline = QAPipeline(retriever, reader)"
   ]
  },
  {
   "cell_type": "code",
   "execution_count": 7,
   "metadata": {},
   "outputs": [
    {
     "name": "stderr",
     "output_type": "stream",
     "text": [
      "100%|████████████████████████████████████████████████████████████████████████████████████████████| 1/1 [00:00<00:00, 54.54it/s]\n"
     ]
    },
    {
     "name": "stdout",
     "output_type": "stream",
     "text": [
      "{\n",
      "    \"0\": {\n",
      "        \"answers\": {\n",
      "            \"text\": \"According to the text, consuming marijuana can impair driving ability and is illegal in Colorado if it impairs the ability to drive, even if it is prescribed by a doctor or legally acquired. Studies suggest that marijuana use may increase the risk of fatal crashes, but other studies have found lower or no elevated crash risk estimates. Therefore, the answer is yes, smoking marijuana can impair driving.\"\n",
      "        },\n",
      "        \"passages\": [\n",
      "            \"\\\"Driving under the influence\\\"\\n \\\"driving under the influence (DUI). However, no matter the level of THC, law enforcement officers base arrests on observed impairment.\\\"\\\" In Colorado, if consumption of marijuana is impairing your ability to drive, \\\"\\\"it is illegal for you to be driving, even if that substance is prescribed [by a doctor] or legally acquired.\\\"\\\" Prescription medications such as opioids and benzodiazepines often cause side effects such as excessive drowsiness, and, in the case of opioids, nausea. Other prescription drugs including antiepileptics and antidepressants are now also believed to have the same effect. In the last ten years, there has been an increase\\\"\",\n",
      "            \"\\\"Child development\\\"\\n \\\"the child. Parental marijuana exposure may have long-term emotional and behavioral consequences. A ten-year-old child who had been exposed to the drug during pregnancy reported more depressive symptoms than fetuses unexposed. Some short-term effects include executive function impairment, reading difficulty, and delayed state regulation. An opiate drug, such as heroin, decreases birth weight, birth length, and head circumference when exposed to the fetus. Parental opiate exposure has greater conflicting impact than parental cocaine exposure on the infant's Central Nervous System and autonomic nervous system. There are also some negative consequences on a child that you wouldn\\u2019t think of with opiates,\\\"\",\n",
      "            \"\\\"Effects of cannabis\\\"\\n \\\"studies have found lower (or no) elevated crash risk estimates\\\"\\\". The study found that \\\"\\\"after adjusting for age, gender, race and alcohol use, drivers who tested positive for marijuana were no more likely to crash than those who had not used any drugs or alcohol prior to driving\\\"\\\". On the other hand, a recent study of Journal of Transport & Health indicated that the numbers of fatal crashes involving marijuana after the recreational marijuana legalization or decriminalization have significantly increased in Colorado, Washington, and Massachusetts. Short-term (one to two hours) effects on the cardiovascular system can include increased heart rate,\\\"\"\n",
      "        ]\n",
      "    }\n",
      "}\n"
     ]
    }
   ],
   "source": [
    "# start asking questions\n",
    "questions = [\"Does smoking marijuana impair driving ?\"]\n",
    "prompt_prefix = \"Answer the following question after looking at the text.\"\n",
    "answers = pipeline.run(questions, prefix=prompt_prefix)\n",
    "print(json.dumps(answers, indent=4))"
   ]
  },
  {
   "cell_type": "code",
   "execution_count": 8,
   "metadata": {},
   "outputs": [
    {
     "name": "stderr",
     "output_type": "stream",
     "text": [
      "100%|████████████████████████████████████████████████████████████████████████████████████████████| 1/1 [00:00<00:00, 52.38it/s]\n"
     ]
    },
    {
     "name": "stdout",
     "output_type": "stream",
     "text": [
      "{\n",
      "    \"0\": {\n",
      "        \"answers\": {\n",
      "            \"text\": \"How many participating countries were there in the Tour de France 2017?\\n\\nThere were 32 participating countries in the Tour de France 2017.\"\n",
      "        },\n",
      "        \"passages\": [\n",
      "            \"\\\"2017 Tour de France\\\"\\n \\\"de France. The total number of riders that finished the race was 167. The riders came from 32 countries. Six countries had more than 10 riders in the race: France (39), Italy (18), Belgium (16), Germany (16), the Netherlands (15), and Spain (13). The average age of riders in the race was 29.4 years, ranging from the 22-year-old \\u00c9lie Gesbert () to the 40-year-old Haimar Zubeldia (). had the youngest average age while had the oldest. The teams entering the race were: In the lead up to the 2017 Tour de France, Chris Froome () was seen by many pundits\\\"\",\n",
      "            \"\\\"2018 Tour de France\\\"\\n \\\"reduced the number of riders per team for Grand Tours from 9 to 8, resulting in a start list total of 176, instead of the usual 198. Of these, 35 competed in their first Tour de France. The total number of riders that finished the race was 145. The riders came from 30 countries. Seven countries had more than 10 riders in the race: France (35), Belgium (19), the Netherlands (13), Italy (13), Australia (11), Germany (11) and Spain (11). The average age of riders in the race was 29.37 years, ranging from the 21-year-old Egan Bernal () to the\\\"\",\n",
      "            \"\\\"2016 Tour de France\\\"\\n \\\"were competing in their first Tour de France. The total number of riders that finished the race was 174, beating the previous record of 170 set in 2010 Tour. The riders came from 35 countries; France, Spain, the Netherlands, Belgium, Italy and Germany all had 10 or more riders in the race. Riders from ten countries won stages during the race; British riders won the largest number of stages, with seven. The average age of riders in the race was 30 years, ranging from the 22-year-old Sondre Holst Enger () to the 42-year-old Matteo Tosatto (). Of the total average\\\"\"\n",
      "        ]\n",
      "    }\n",
      "}\n"
     ]
    }
   ],
   "source": [
    "# start asking questions\n",
    "questions = [\"number of participating countries in tour de france 2017 ?\"]\n",
    "prompt_prefix = \"Answer the following question after looking at the text.\"\n",
    "answers = pipeline.run(questions, prefix=prompt_prefix)\n",
    "print(json.dumps(answers, indent=4))"
   ]
  },
  {
   "cell_type": "code",
   "execution_count": 9,
   "metadata": {},
   "outputs": [
    {
     "name": "stderr",
     "output_type": "stream",
     "text": [
      "100%|████████████████████████████████████████████████████████████████████████████████████████████| 1/1 [00:00<00:00, 60.56it/s]\n"
     ]
    },
    {
     "name": "stdout",
     "output_type": "stream",
     "text": [
      "{\n",
      "    \"0\": {\n",
      "        \"answers\": {\n",
      "            \"text\": \"There is only one area code in New Hampshire, which is area code 603.\"\n",
      "        },\n",
      "        \"passages\": [\n",
      "            \"\\\"Area code 603\\\"\\n \\\"previously allocated telephone numbers, as well as number pooling, the exhaustion time frame has been moved beyond 2025. Since New Hampshire has only one area code, callers in the state can reach any other telephone within the 603 area code with 7-digit dialing. Area code 603 Area code 603 is the sole area code for the U.S. state of New Hampshire in the North American Numbering Plan (NANP). It was created as one of the original 86 numbering plan areas in October 1947. As of April 2011, the 603 code was nearing exhaustion and a second area code for New\\\"\",\n",
      "            \"\\\"Area code 603\\\"\\n \\\"Area code 603 Area code 603 is the sole area code for the U.S. state of New Hampshire in the North American Numbering Plan (NANP). It was created as one of the original 86 numbering plan areas in October 1947. As of April 2011, the 603 code was nearing exhaustion and a second area code for New Hampshire was expected to be activated by 2013. Rather than a split, the New Hampshire Public Utilities Commission recommended that it be implemented as a statewide overlay. However, because of a change in allocation policies and a reclamation of a large block of\\\"\",\n",
      "            \"\\\"New Hampshire Lottery\\\"\\n \\\"to avoid violating US anti-lottery statutes. Tickets were sold mostly in New Hampshire's liquor stores. In September 2018, the New Hampshire Lottery offered online lottery products for the first time. All of New Hampshire's draw games are shared with other lotteries, with the exception of Keno. New Hampshire's version of lottery keno, called \\\"\\\"Keno 603\\\"\\\" (the state's area code) launched on December 15, 2017. These games are always drawn in New Hampshire: Pick 3 and Pick 4 are numbers games played twice daily, including Sundays. Prizes and options vary. The original Megabucks, a \\\"\\\"classic\\\"\\\" six-number game, began in 1985. Megabucks\\\"\"\n",
      "        ]\n",
      "    }\n",
      "}\n"
     ]
    }
   ],
   "source": [
    "questions = [\"How many area codes are in New Hampshire ?\"]\n",
    "prompt_prefix = \"Answer the following question after looking at the text.\"\n",
    "answers = pipeline.run(questions, prefix=prompt_prefix)\n",
    "print(json.dumps(answers, indent=4))"
   ]
  },
  {
   "cell_type": "code",
   "execution_count": 10,
   "metadata": {},
   "outputs": [
    {
     "name": "stderr",
     "output_type": "stream",
     "text": [
      "100%|███████████████████████████████████████████████████████████████████████████████████████████| 1/1 [00:00<00:00, 114.92it/s]\n"
     ]
    },
    {
     "name": "stdout",
     "output_type": "stream",
     "text": [
      "{\n",
      "    \"0\": {\n",
      "        \"answers\": {\n",
      "            \"text\": \"What engine is in the Audi R8 V10?\\n\\nThe engine in the Audi R8 V10 is a 5.2 litre FSI engine, based on the unit in the Lamborghini Gallardo LP560-4.\"\n",
      "        },\n",
      "        \"passages\": [\n",
      "            \"\\\"Audi R18\\\"\\n \\\"gearbox is electrically controlled instead of pneumatically controlled, saving weight by eliminating the pneumatic system. Despite the capacity reduction, the 3.7L V6 is claimed to develop more than of power. This is less than the outgoing R15, but the V6 engine's fuel consumption will more than likely be lower than that of the outgoing V10 engine on the R15. The new engine has a single Garrett (Honeywell Turbo Technologies) TR30R VGT turbocharger, as opposed to the twin TR30R configuration of both the Peugeot 908 HDi FAP and the previous Audi R15 TDI. The R18's V6 engine exhausts inwards between the\\\"\",\n",
      "            \"\\\"Audi RS 6\\\"\\n \\\"steering wheel movements. The facelifted Audi A6, released as a 2009 model, received similar front and rear-end LED lighting styling to that pioneered on the RS 6. Luggage capacity, measured according to the VDA 'block method' in the Avant ranges from , to . The engine (parts code: 07L, identification code: BUH) of the RS6 was what Audi claimed to be the first all-aluminium alloy even firing 5.0-litre () 90\\u00b0 V10 twin-turbocharged (\\\"\\\"biturbo\\\"\\\"), Fuel Stratified Injection (FSI), with a dry sump lubrication system. This engine is related to the naturally-aspirated V10 found in the Audi R8, S6 and S8, and\\\"\",\n",
      "            \"\\\"Audi R8\\\"\\n \\\"RS4, but is modified to use a dry sump lubrication system. It uses two chain-driven double overhead camshafts (DOHC) per cylinder bank, and utilises variable valve timing for both inlet and exhaust camshafts. The 4 wheel drive system is biased towards the rear; it sends 30% of its power to the front wheels and 70% to the rear. Audi AG unveiled the Audi R8 V10 on December 8, 2008. It uses a 5.2 litre FSI engine, based on the unit in the Lamborghini Gallardo LP560-4 (which in turn was based on the 5.2 FSI V10 as used in the Audi\\\"\"\n",
      "        ]\n",
      "    }\n",
      "}\n"
     ]
    }
   ],
   "source": [
    "questions = [\"what engine is in the audi r8 v10\"]\n",
    "prompt_prefix = \"Answer the following question after looking at the text.\"\n",
    "answers = pipeline.run(questions, prefix=prompt_prefix)\n",
    "print(json.dumps(answers, indent=4))"
   ]
  },
  {
   "cell_type": "code",
   "execution_count": 11,
   "metadata": {},
   "outputs": [],
   "source": [
    "#setup a FlanT5PromptReader: note this loads a Flan T5 xxl model\n",
    "from primeqa.components.reader.prompt import PromptFLANT5Reader\n",
    "reader = PromptFLANT5Reader(model_name=\"google/flan-t5-xxl\")\n",
    "reader.load()"
   ]
  },
  {
   "cell_type": "code",
   "execution_count": 12,
   "metadata": {},
   "outputs": [
    {
     "name": "stderr",
     "output_type": "stream",
     "text": [
      "21015325it [01:03, 328784.64it/s]\n"
     ]
    }
   ],
   "source": [
    "# setup the pipeline\n",
    "pipeline = QAPipeline(retriever, reader)"
   ]
  },
  {
   "cell_type": "code",
   "execution_count": 13,
   "metadata": {},
   "outputs": [
    {
     "name": "stderr",
     "output_type": "stream",
     "text": [
      "100%|█████████████████████████████████████████████████████████████████████████████████| 1/1 [00:00<00:00, 59.25it/s]\n"
     ]
    },
    {
     "name": "stdout",
     "output_type": "stream",
     "text": [
      "{\n",
      "    \"0\": {\n",
      "        \"answers\": {\n",
      "            \"text\": \"Smoking marijuana impairs driving. \\\"\\\"it is illegal for you to be driving, even if that substance is prescribed [by a doctor] or legally acquired.\\\"\\\" Prescription medications such as opioids and benzodiazepines often cause side effects such as excessive drowsiness, and, in the case of opioids, nausea. Other prescription drugs including antiepileptics and antidepressants are now also believed to have the same effect. In the last ten years, there has been an increase\\\", \\\"Child development\\\" \\\"the child. Parental marijuana exposure may have long-term emotional and behavioral consequences.\"\n",
      "        },\n",
      "        \"passages\": [\n",
      "            \"\\\"Driving under the influence\\\"\\n \\\"driving under the influence (DUI). However, no matter the level of THC, law enforcement officers base arrests on observed impairment.\\\"\\\" In Colorado, if consumption of marijuana is impairing your ability to drive, \\\"\\\"it is illegal for you to be driving, even if that substance is prescribed [by a doctor] or legally acquired.\\\"\\\" Prescription medications such as opioids and benzodiazepines often cause side effects such as excessive drowsiness, and, in the case of opioids, nausea. Other prescription drugs including antiepileptics and antidepressants are now also believed to have the same effect. In the last ten years, there has been an increase\\\"\",\n",
      "            \"\\\"Child development\\\"\\n \\\"the child. Parental marijuana exposure may have long-term emotional and behavioral consequences. A ten-year-old child who had been exposed to the drug during pregnancy reported more depressive symptoms than fetuses unexposed. Some short-term effects include executive function impairment, reading difficulty, and delayed state regulation. An opiate drug, such as heroin, decreases birth weight, birth length, and head circumference when exposed to the fetus. Parental opiate exposure has greater conflicting impact than parental cocaine exposure on the infant's Central Nervous System and autonomic nervous system. There are also some negative consequences on a child that you wouldn\\u2019t think of with opiates,\\\"\",\n",
      "            \"\\\"Effects of cannabis\\\"\\n \\\"studies have found lower (or no) elevated crash risk estimates\\\"\\\". The study found that \\\"\\\"after adjusting for age, gender, race and alcohol use, drivers who tested positive for marijuana were no more likely to crash than those who had not used any drugs or alcohol prior to driving\\\"\\\". On the other hand, a recent study of Journal of Transport & Health indicated that the numbers of fatal crashes involving marijuana after the recreational marijuana legalization or decriminalization have significantly increased in Colorado, Washington, and Massachusetts. Short-term (one to two hours) effects on the cardiovascular system can include increased heart rate,\\\"\"\n",
      "        ]\n",
      "    }\n",
      "}\n"
     ]
    }
   ],
   "source": [
    "# start asking questions\n",
    "questions = [\"Does smoking marijuana impair driving ?\"]\n",
    "prompt_prefix = \"Answer the following question after looking at the text.\"\n",
    "answers = pipeline.run(questions,prefix=prompt_prefix)\n",
    "print(json.dumps(answers, indent=4))"
   ]
  },
  {
   "cell_type": "code",
   "execution_count": 14,
   "metadata": {},
   "outputs": [
    {
     "name": "stderr",
     "output_type": "stream",
     "text": [
      "100%|█████████████████████████████████████████████████████████████████████████████████| 1/1 [00:00<00:00, 45.23it/s]\n"
     ]
    },
    {
     "name": "stdout",
     "output_type": "stream",
     "text": [
      "{\n",
      "    \"0\": {\n",
      "        \"answers\": {\n",
      "            \"text\": \"3 area codes are in New Hampshire. The original Megabucks, a \\\"classic\\\"\\\" six-number game, began in 1985. Megabucks\\\"\\\"\\\"\\\" the state's area code is launched on December 15, 2017. These games are always drawn in New Hampshire: Pick 3 and Pick 4 are numbers games played twice daily, including Sundays. Prizes and options vary. The original Megabucks, a \\\"classic\\\"\\\" six-number game, began in 1985.\"\n",
      "        },\n",
      "        \"passages\": [\n",
      "            \"\\\"Area code 603\\\"\\n \\\"previously allocated telephone numbers, as well as number pooling, the exhaustion time frame has been moved beyond 2025. Since New Hampshire has only one area code, callers in the state can reach any other telephone within the 603 area code with 7-digit dialing. Area code 603 Area code 603 is the sole area code for the U.S. state of New Hampshire in the North American Numbering Plan (NANP). It was created as one of the original 86 numbering plan areas in October 1947. As of April 2011, the 603 code was nearing exhaustion and a second area code for New\\\"\",\n",
      "            \"\\\"Area code 603\\\"\\n \\\"Area code 603 Area code 603 is the sole area code for the U.S. state of New Hampshire in the North American Numbering Plan (NANP). It was created as one of the original 86 numbering plan areas in October 1947. As of April 2011, the 603 code was nearing exhaustion and a second area code for New Hampshire was expected to be activated by 2013. Rather than a split, the New Hampshire Public Utilities Commission recommended that it be implemented as a statewide overlay. However, because of a change in allocation policies and a reclamation of a large block of\\\"\",\n",
      "            \"\\\"New Hampshire Lottery\\\"\\n \\\"to avoid violating US anti-lottery statutes. Tickets were sold mostly in New Hampshire's liquor stores. In September 2018, the New Hampshire Lottery offered online lottery products for the first time. All of New Hampshire's draw games are shared with other lotteries, with the exception of Keno. New Hampshire's version of lottery keno, called \\\"\\\"Keno 603\\\"\\\" (the state's area code) launched on December 15, 2017. These games are always drawn in New Hampshire: Pick 3 and Pick 4 are numbers games played twice daily, including Sundays. Prizes and options vary. The original Megabucks, a \\\"\\\"classic\\\"\\\" six-number game, began in 1985. Megabucks\\\"\"\n",
      "        ]\n",
      "    }\n",
      "}\n"
     ]
    }
   ],
   "source": [
    "questions = [\"How many area codes are in New Hampshire ?\"]\n",
    "prompt_prefix = \"Answer the following question after looking at the text.\"\n",
    "prompt_suffix = \"Answer\"\n",
    "answers = pipeline.run(questions, prefix=prompt_prefix, suffix=prompt_suffix)\n",
    "print(json.dumps(answers, indent=4))"
   ]
  },
  {
   "cell_type": "code",
   "execution_count": 15,
   "metadata": {},
   "outputs": [],
   "source": [
    "#Reader with the bam service (https://bam.res.ibm.com/): note this loads a Flan T5 xxl model\n",
    "from primeqa.components.reader.prompt import BAMReader\n",
    "reader = BAMReader(api_key='API_KEY_HERE')\n",
    "reader.load()"
   ]
  },
  {
   "cell_type": "code",
   "execution_count": 16,
   "metadata": {},
   "outputs": [
    {
     "name": "stderr",
     "output_type": "stream",
     "text": [
      "21015325it [01:19, 265482.26it/s]\n"
     ]
    }
   ],
   "source": [
    "# setup the pipeline\n",
    "pipeline = QAPipeline(retriever, reader)"
   ]
  },
  {
   "cell_type": "code",
   "execution_count": 17,
   "metadata": {},
   "outputs": [
    {
     "name": "stderr",
     "output_type": "stream",
     "text": [
      "100%|█████████████████████████████████████████████████████████████████████████████████| 1/1 [00:03<00:00,  3.44s/it]\n"
     ]
    },
    {
     "name": "stdout",
     "output_type": "stream",
     "text": [
      "{\n",
      "    \"0\": {\n",
      "        \"answers\": {\n",
      "            \"text\": \"no matter the level of THC, law enforcement officers base arrests on observed impairment.\\\"\\\" In Colorado, if consumption of marijuana is impairing your ability to drive, \\\"\\\"it is illegal for you to be driving, even if that substance is prescribed [by a doctor] or legally acquired.\\\"\\\" Prescription medications such as opioids and benzodiazepines often cause side effects such as excessive drowsiness, and, in the case of opioids, nausea. Other prescription drugs including antiepileptics and antidepressants are now also believed to have the same effect. In the last ten years, there has been an increase\\\", \\\"Child development\\\" \\\"the child. Parental marijuana exposure may have long-term emotional and behavioral consequences. A ten-year-old child who had been exposed to the drug during pregnancy reported more depressive symptoms than fetuses unexposed. Some short-term effects include executive function impairment, reading difficulty, and delayed state regulation. An opiate drug, such as heroin, decreases birth weight, birth length, and head circumference when exposed to the fetus. Parental opiate exposure has greater\"\n",
      "        },\n",
      "        \"passages\": [\n",
      "            \"\\\"Driving under the influence\\\"\\n \\\"driving under the influence (DUI). However, no matter the level of THC, law enforcement officers base arrests on observed impairment.\\\"\\\" In Colorado, if consumption of marijuana is impairing your ability to drive, \\\"\\\"it is illegal for you to be driving, even if that substance is prescribed [by a doctor] or legally acquired.\\\"\\\" Prescription medications such as opioids and benzodiazepines often cause side effects such as excessive drowsiness, and, in the case of opioids, nausea. Other prescription drugs including antiepileptics and antidepressants are now also believed to have the same effect. In the last ten years, there has been an increase\\\"\",\n",
      "            \"\\\"Child development\\\"\\n \\\"the child. Parental marijuana exposure may have long-term emotional and behavioral consequences. A ten-year-old child who had been exposed to the drug during pregnancy reported more depressive symptoms than fetuses unexposed. Some short-term effects include executive function impairment, reading difficulty, and delayed state regulation. An opiate drug, such as heroin, decreases birth weight, birth length, and head circumference when exposed to the fetus. Parental opiate exposure has greater conflicting impact than parental cocaine exposure on the infant's Central Nervous System and autonomic nervous system. There are also some negative consequences on a child that you wouldn\\u2019t think of with opiates,\\\"\",\n",
      "            \"\\\"Effects of cannabis\\\"\\n \\\"studies have found lower (or no) elevated crash risk estimates\\\"\\\". The study found that \\\"\\\"after adjusting for age, gender, race and alcohol use, drivers who tested positive for marijuana were no more likely to crash than those who had not used any drugs or alcohol prior to driving\\\"\\\". On the other hand, a recent study of Journal of Transport & Health indicated that the numbers of fatal crashes involving marijuana after the recreational marijuana legalization or decriminalization have significantly increased in Colorado, Washington, and Massachusetts. Short-term (one to two hours) effects on the cardiovascular system can include increased heart rate,\\\"\"\n",
      "        ]\n",
      "    }\n",
      "}\n"
     ]
    }
   ],
   "source": [
    "# start asking questions\n",
    "questions = [\"Does smoking marijuana impair driving ?\"]\n",
    "prompt_prefix = \"Answer the following question after looking at the text.\"\n",
    "prompt_suffix = \"Answer\"\n",
    "answers = pipeline.run(questions, prefix=prompt_prefix, suffix=prompt_suffix)\n",
    "print(json.dumps(answers, indent=4))"
   ]
  },
  {
   "cell_type": "code",
   "execution_count": 18,
   "metadata": {},
   "outputs": [
    {
     "name": "stderr",
     "output_type": "stream",
     "text": [
      "100%|█████████████████████████████████████████████████████████████████████████████████| 1/1 [00:00<00:00, 52.06it/s]\n"
     ]
    },
    {
     "name": "stdout",
     "output_type": "stream",
     "text": [
      "{\n",
      "    \"0\": {\n",
      "        \"answers\": {\n",
      "            \"text\": \"32 countries. Six countries had more than 10 riders in the race: France (39), Italy (18), Belgium (16), Germany (16), the Netherlands (15), and Spain (13). The average age of riders in the race was 29.4 years, ranging from the 22-year-old \\u00c9lie Gesbert () to the 40-year-old Haimar Zubeldia (). had the youngest average age while had the oldest. The teams entering the race were: In the lead up to the 2017 Tour de France, Chris Froome () was seen by many pundits\"\n",
      "        },\n",
      "        \"passages\": [\n",
      "            \"\\\"2017 Tour de France\\\"\\n \\\"de France. The total number of riders that finished the race was 167. The riders came from 32 countries. Six countries had more than 10 riders in the race: France (39), Italy (18), Belgium (16), Germany (16), the Netherlands (15), and Spain (13). The average age of riders in the race was 29.4 years, ranging from the 22-year-old \\u00c9lie Gesbert () to the 40-year-old Haimar Zubeldia (). had the youngest average age while had the oldest. The teams entering the race were: In the lead up to the 2017 Tour de France, Chris Froome () was seen by many pundits\\\"\",\n",
      "            \"\\\"2018 Tour de France\\\"\\n \\\"reduced the number of riders per team for Grand Tours from 9 to 8, resulting in a start list total of 176, instead of the usual 198. Of these, 35 competed in their first Tour de France. The total number of riders that finished the race was 145. The riders came from 30 countries. Seven countries had more than 10 riders in the race: France (35), Belgium (19), the Netherlands (13), Italy (13), Australia (11), Germany (11) and Spain (11). The average age of riders in the race was 29.37 years, ranging from the 21-year-old Egan Bernal () to the\\\"\",\n",
      "            \"\\\"2016 Tour de France\\\"\\n \\\"were competing in their first Tour de France. The total number of riders that finished the race was 174, beating the previous record of 170 set in 2010 Tour. The riders came from 35 countries; France, Spain, the Netherlands, Belgium, Italy and Germany all had 10 or more riders in the race. Riders from ten countries won stages during the race; British riders won the largest number of stages, with seven. The average age of riders in the race was 30 years, ranging from the 22-year-old Sondre Holst Enger () to the 42-year-old Matteo Tosatto (). Of the total average\\\"\"\n",
      "        ]\n",
      "    }\n",
      "}\n"
     ]
    }
   ],
   "source": [
    "# start asking questions\n",
    "questions = [\"number of participating countries in tour de france 2017 ?\"]\n",
    "prompt_prefix = \"Answer the following question after looking at the text.\"\n",
    "prompt_suffix = \"Answer\"\n",
    "answers = pipeline.run(questions, prefix=prompt_prefix, suffix=prompt_suffix)\n",
    "print(json.dumps(answers, indent=4))"
   ]
  },
  {
   "cell_type": "code",
   "execution_count": null,
   "metadata": {},
   "outputs": [],
   "source": []
  }
 ],
 "metadata": {
  "kernelspec": {
   "display_name": "Python 3 (ipykernel)",
   "language": "python",
   "name": "python3"
  },
  "language_info": {
   "codemirror_mode": {
    "name": "ipython",
    "version": 3
   },
   "file_extension": ".py",
   "mimetype": "text/x-python",
   "name": "python",
   "nbconvert_exporter": "python",
   "pygments_lexer": "ipython3",
   "version": "3.9.16"
  },
  "vscode": {
   "interpreter": {
    "hash": "c5d039775dffd761dc362a240b88aab365529f2df8e87d6e6e9eecd3e8d89fd4"
   }
  }
 },
 "nbformat": 4,
 "nbformat_minor": 2
}
