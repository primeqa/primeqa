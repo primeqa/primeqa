{
 "cells": [
  {
   "cell_type": "code",
   "execution_count": 1,
   "metadata": {},
   "outputs": [],
   "source": [
    "import json\n",
    "from primeqa.pipelines.extractive_mrc_pipeline import MRCPipeline\n",
    "reader = MRCPipeline(\"PrimeQA/tydiqa-primary-task-xlm-roberta-large\")"
   ]
  },
  {
   "cell_type": "code",
   "execution_count": 4,
   "metadata": {},
   "outputs": [
    {
     "data": {
      "application/vnd.jupyter.widget-view+json": {
       "model_id": "48bd3514e5034a6087f2af44eff7b609",
       "version_major": 2,
       "version_minor": 0
      },
      "text/plain": [
       "Running tokenizer on eval dataset:   0%|          | 0/1 [00:00<?, ?ba/s]"
      ]
     },
     "metadata": {},
     "output_type": "display_data"
    },
    {
     "name": "stderr",
     "output_type": "stream",
     "text": [
      "***** Running Evaluation *****\n",
      "  Num examples = 1\n",
      "  Batch size = 8\n",
      "100%|██████████| 1/1 [00:00<00:00, 570.27it/s]"
     ]
    },
    {
     "name": "stdout",
     "output_type": "stream",
     "text": [
      "[\n",
      "    {\n",
      "        \"span_answer_text\": \"Bob\",\n",
      "        \"confidence_score\": 0.38157925496567646\n",
      "    },\n",
      "    {\n",
      "        \"span_answer_text\": \"Alice walks the cat. Bob\",\n",
      "        \"confidence_score\": 0.3526266656659346\n",
      "    },\n",
      "    {\n",
      "        \"span_answer_text\": \"Alice\",\n",
      "        \"confidence_score\": 0.26579407936838895\n",
      "    }\n",
      "]\n"
     ]
    },
    {
     "name": "stderr",
     "output_type": "stream",
     "text": [
      "\n"
     ]
    }
   ],
   "source": [
    "question = \"¿Quién paseó al perro?\"\n",
    "context = \"Alice walks the cat. Bob walks the dog\"\n",
    "answers = reader.predict(question,context)  \n",
    "print(json.dumps(answers, indent=4))  "
   ]
  },
  {
   "cell_type": "code",
   "execution_count": 5,
   "metadata": {},
   "outputs": [
    {
     "data": {
      "application/vnd.jupyter.widget-view+json": {
       "model_id": "8eb7ae9ca16f4a8cb87d82fceec57622",
       "version_major": 2,
       "version_minor": 0
      },
      "text/plain": [
       "Running tokenizer on eval dataset:   0%|          | 0/1 [00:00<?, ?ba/s]"
      ]
     },
     "metadata": {},
     "output_type": "display_data"
    },
    {
     "name": "stderr",
     "output_type": "stream",
     "text": [
      "***** Running Evaluation *****\n",
      "  Num examples = 1\n",
      "  Batch size = 8\n",
      "100%|██████████| 1/1 [00:00<00:00, 416.27it/s]"
     ]
    },
    {
     "name": "stdout",
     "output_type": "stream",
     "text": [
      "[\n",
      "    {\n",
      "        \"span_answer_text\": \"Australia\",\n",
      "        \"confidence_score\": 0.7988516960240685\n",
      "    },\n",
      "    {\n",
      "        \"span_answer_text\": \"Australia. \\nFounded following the federation of the colonies of Australia \\nas the seat of government for the new nation, it is Australia\",\n",
      "        \"confidence_score\": 0.10721889035823319\n",
      "    },\n",
      "    {\n",
      "        \"span_answer_text\": \"Australia. \\nFounded following the federation of the colonies of Australia\",\n",
      "        \"confidence_score\": 0.09392941361769835\n",
      "    }\n",
      "]\n"
     ]
    },
    {
     "name": "stderr",
     "output_type": "stream",
     "text": [
      "\n"
     ]
    }
   ],
   "source": [
    "question = \"Which country is Canberra located in?\"\n",
    "context = \"\"\"Canberra is the capital city of Australia. \n",
    "Founded following the federation of the colonies of Australia \n",
    "as the seat of government for the new nation, it is Australia's \n",
    "largest inland city\"\"\"\n",
    "answers = reader.predict(question,context)  \n",
    "print(json.dumps(answers, indent=4))  "
   ]
  }
 ],
 "metadata": {
  "interpreter": {
   "hash": "8b9fa1ea187dc64d46b56bf81f14ed7f3baacf0fd1a9bd3a7989f7ad88a45732"
  },
  "kernelspec": {
   "display_name": "Python 3.9.12 ('pipeline-primeqa')",
   "language": "python",
   "name": "python3"
  },
  "language_info": {
   "codemirror_mode": {
    "name": "ipython",
    "version": 3
   },
   "file_extension": ".py",
   "mimetype": "text/x-python",
   "name": "python",
   "nbconvert_exporter": "python",
   "pygments_lexer": "ipython3",
   "version": "3.9.12"
  },
  "orig_nbformat": 4
 },
 "nbformat": 4,
 "nbformat_minor": 2
}
