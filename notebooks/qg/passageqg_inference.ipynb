{
 "cells": [
  {
   "cell_type": "markdown",
   "id": "489bc0df",
   "metadata": {},
   "source": [
    "# TyDI Question Generation: Inference example\n",
    "\n",
    "In this notebook, we will show how to use a pretrained multilingual PassageQG model to generate questions. Given a text snippet, spacy is used to identify noun chunks (named entities) which becomes the answer and an mT5 is used to generate question givent he answer and the text snippet."
   ]
  },
  {
   "cell_type": "markdown",
   "id": "4bbe1173",
   "metadata": {},
   "source": [
    "## Dependencies\n",
    "\n",
    "If not already done, make sure to install PrimeQA with notebooks extras before getting started."
   ]
  },
  {
   "cell_type": "code",
   "execution_count": 1,
   "id": "815cec1c",
   "metadata": {},
   "outputs": [
    {
     "data": {
      "application/vnd.jupyter.widget-view+json": {
       "model_id": "5d64e6f854674b24a441fd51e048ada3",
       "version_major": 2,
       "version_minor": 0
      },
      "text/plain": [
       "Downloading https://raw.githubusercontent.com/stanfordnlp/stanza-resources/main/resources_1.4.0.json:   0%|   …"
      ]
     },
     "metadata": {},
     "output_type": "display_data"
    },
    {
     "name": "stderr",
     "output_type": "stream",
     "text": [
      "2022-07-28 08:08:32 INFO: Downloading default packages for language: multilingual (multilingual)...\n",
      "2022-07-28 08:08:32 INFO: File exists: /u/jaydesen/stanza_resources/multilingual/default.zip\n",
      "2022-07-28 08:08:32 INFO: Finished downloading models and saved to /u/jaydesen/stanza_resources.\n"
     ]
    }
   ],
   "source": [
    "from primeqa.qg.models.qg_model import QGModel"
   ]
  },
  {
   "cell_type": "markdown",
   "id": "b9f309b8",
   "metadata": {},
   "source": [
    "## Loading pretrained model from huggingface\n",
    "\n",
    "This model was trained using PrimeQA library and uploaded to huggingface hub."
   ]
  },
  {
   "cell_type": "code",
   "execution_count": 2,
   "id": "2a3c5377",
   "metadata": {},
   "outputs": [
    {
     "name": "stdout",
     "output_type": "stream",
     "text": [
      "Loaded NER model for  Arabic\n",
      "Loaded NER model for  English\n",
      "Loaded NER model for  Finnish\n",
      "Loaded NER model for  Russian\n"
     ]
    }
   ],
   "source": [
    "model_name = 'PrimeQA/mt5-base-tydi-question-generator'\n",
    "passage_qg_model = QGModel(model_name, modality='passage')"
   ]
  },
  {
   "cell_type": "markdown",
   "id": "984e88f0",
   "metadata": {},
   "source": [
    "<br>\n",
    "\n",
    "## Sample instance\n",
    "\n",
    "Passages should be passed a `list` of `str`. We take one English and one Russian text to generate questions."
   ]
  },
  {
   "cell_type": "code",
   "execution_count": 6,
   "id": "18419939",
   "metadata": {},
   "outputs": [],
   "source": [
    "text_list = [\"Sachin tendulkar was an Indian cricketer born in Mumbai. He scored nearly 350000 runs in his international career\",\n",
    "            \n",
    "\"Симби́рская губе́рния (с 1924 года Ульяновская губерния)\\xa0— административно-территориальная\\\n",
    "единица Российской империи, Российской республики и РСФСР, существовавшая в 1796—1928 годах.\\\n",
    "Губернский город\\xa0— Симбирск (с 1924 года Ульяновск)\"]\n",
    "\n",
    "id_list = [\"abcID123\", \"xyzID456\"]"
   ]
  },
  {
   "cell_type": "markdown",
   "id": "b002086c",
   "metadata": {},
   "source": [
    "## Generate questions\n",
    "\n",
    "The `generate_questions` function can take two arguments.\n",
    "#### Controls:\n",
    "- `num_questions_per_instance`: Number of questions to generate per table (default=5)\n",
    "- `answers_list`: Generated questions will have these as the answers. It should be a list of lists, \n",
    "        where each list corresponds a passage in `text_list`. (default=[])\n",
    "\n",
    "When `answers_list` is not provided, named entity recognition method is used to sample answers."
   ]
  },
  {
   "cell_type": "code",
   "execution_count": 7,
   "id": "40b38a3f",
   "metadata": {},
   "outputs": [
    {
     "name": "stdout",
     "output_type": "stream",
     "text": [
      "Input language en\n",
      "Input language ru\n"
     ]
    },
    {
     "data": {
      "text/plain": [
       "[{'id': 'abcID123',\n",
       "  'context': 'Sachin tendulkar was an Indian cricketer born in Mumbai. He had a record of 100 centuries in his international carrier. He scored nearly 350000 international runs',\n",
       "  'question': 'What country did Sachin tendulkar play?',\n",
       "  'answer': 'Indian'},\n",
       " {'id': 'abcID123',\n",
       "  'context': 'Sachin tendulkar was an Indian cricketer born in Mumbai. He had a record of 100 centuries in his international carrier. He scored nearly 350000 international runs',\n",
       "  'question': 'How many runs did Sachin tendulkar have?',\n",
       "  'answer': '100 centuries'},\n",
       " {'id': 'xyzID456',\n",
       "  'context': 'Симби́рская губе́рния (с 1924 года Ульяновская губерния)\\xa0— административно-территориальнаяединица Российской империи, Российской республики и РСФСР, существовавшая в 1796—1928 годах.Губернский город\\xa0— Симбирск (с 1924 года Ульяновск)',\n",
       "  'question': 'Как называется Губернский город?',\n",
       "  'answer': 'Симбирск'},\n",
       " {'id': 'xyzID456',\n",
       "  'context': 'Симби́рская губе́рния (с 1924 года Ульяновская губерния)\\xa0— административно-территориальнаяединица Российской империи, Российской республики и РСФСР, существовавшая в 1796—1928 годах.Губернский город\\xa0— Симбирск (с 1924 года Ульяновск)',\n",
       "  'question': 'Как называется Симбирская губерния?',\n",
       "  'answer': 'Ульяновская губерния'}]"
      ]
     },
     "execution_count": 7,
     "metadata": {},
     "output_type": "execute_result"
    }
   ],
   "source": [
    "passage_qg_model.generate_questions(text_list, \n",
    "                    num_questions_per_instance = 2, id_list=id_list)"
   ]
  },
  {
   "cell_type": "markdown",
   "id": "c5ad114d",
   "metadata": {},
   "source": [
    "Answer sampler only supports Arabic, English, Finnish and Russian now. For other languages in TyDi dataset\n",
    "we should provide the answers explicitly."
   ]
  },
  {
   "cell_type": "code",
   "execution_count": null,
   "id": "ac697173",
   "metadata": {},
   "outputs": [],
   "source": [
    "text_list = [\"শচীন টেন্ডুলকারকে ক্রিকেট ইতিহাসের অন্যতম সেরা ব্যাটসম্যান হিসেবে গণ্য করা হয়।\"]\n",
    "answers_list = [[\"শচীন টেন্ডুলকার\"]]\n",
    "passage_qg_model.generate_questions(text_list, \n",
    "                                answers_list = answers_list)"
   ]
  }
 ],
 "metadata": {
  "kernelspec": {
   "display_name": "Python 3.7.13",
   "language": "python",
   "name": "python3"
  },
  "language_info": {
   "codemirror_mode": {
    "name": "ipython",
    "version": 3
   },
   "file_extension": ".py",
   "mimetype": "text/x-python",
   "name": "python",
   "nbconvert_exporter": "python",
   "pygments_lexer": "ipython3",
   "version": "3.7.13"
  },
  "vscode": {
   "interpreter": {
    "hash": "7d21c3d80586c4cada912fbe8386ca6018c05632b838068c2d847893c1029454"
   }
  }
 },
 "nbformat": 4,
 "nbformat_minor": 5
}
