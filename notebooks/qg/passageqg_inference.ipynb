{
 "cells": [
  {
   "cell_type": "markdown",
   "id": "489bc0df",
   "metadata": {},
   "source": [
    "# TyDI Question Generation: Inference example\n",
    "\n",
    "In this notebook, we will show how to use a pretrained multilingual PassageQG model to generate questions. Given a text snippet, stanza is used to identify noun chunks (named entities) which becomes the answer and an mT5 is used to generate question givent he answer and the text snippet."
   ]
  },
  {
   "cell_type": "markdown",
   "id": "4bbe1173",
   "metadata": {},
   "source": [
    "## Dependencies\n",
    "\n",
    "If not already done, make sure to install PrimeQA with notebooks extras before getting started."
   ]
  },
  {
   "cell_type": "code",
   "execution_count": 2,
   "id": "815cec1c",
   "metadata": {},
   "outputs": [],
   "source": [
    "from primeqa.qg.models.qg_model import QGModel"
   ]
  },
  {
   "cell_type": "markdown",
   "id": "b9f309b8",
   "metadata": {},
   "source": [
    "## Loading pretrained model from huggingface\n",
    "\n",
    "This model was trained using PrimeQA library and uploaded to huggingface hub."
   ]
  },
  {
   "cell_type": "code",
   "execution_count": 3,
   "id": "2a3c5377",
   "metadata": {},
   "outputs": [
    {
     "name": "stdout",
     "output_type": "stream",
     "text": [
      "Loaded NER model for  Arabic\n",
      "Loaded NER model for  English\n",
      "Loaded NER model for  Finnish\n",
      "Loaded NER model for  Russian\n"
     ]
    }
   ],
   "source": [
    "model_name = 'PrimeQA/mt5-base-tydi-question-generator'\n",
    "passage_qg_model = QGModel(model_name, modality='passage')"
   ]
  },
  {
   "cell_type": "markdown",
   "id": "984e88f0",
   "metadata": {},
   "source": [
    "<br>\n",
    "\n",
    "## Sample instance\n",
    "\n",
    "Passages should be passed a `list` of `str`. We take one English and one Russian text to generate questions."
   ]
  },
  {
   "cell_type": "code",
   "execution_count": 4,
   "id": "18419939",
   "metadata": {},
   "outputs": [],
   "source": [
    "text_list = [\"Sachin tendulkar was an Indian cricketer born in Mumbai. He scored nearly 350000 runs in his international career\",\n",
    "            \n",
    "\"Симби́рская губе́рния (с 1924 года Ульяновская губерния)\\xa0— административно-территориальная\\\n",
    "единица Российской империи, Российской республики и РСФСР, существовавшая в 1796—1928 годах.\\\n",
    "Губернский город\\xa0— Симбирск (с 1924 года Ульяновск)\"]\n",
    "\n",
    "id_list = [\"abcID123\", \"xyzID456\"]"
   ]
  },
  {
   "cell_type": "markdown",
   "id": "b002086c",
   "metadata": {},
   "source": [
    "## Generate questions\n",
    "\n",
    "The `generate_questions` function can take two arguments.\n",
    "#### Controls:\n",
    "- `num_questions_per_instance`: Number of questions to generate per table (default=5)\n",
    "- `answers_list`: Generated questions will have these as the answers. It should be a list of lists, \n",
    "        where each list corresponds a passage in `text_list`. (default=[])\n",
    "- `id_list`: Include an id_list of context passages aligned with text_list, defaults to empty list.\n",
    "\n",
    "When `answers_list` is not provided, named entity recognition method is used to sample answers."
   ]
  },
  {
   "cell_type": "code",
   "execution_count": 5,
   "id": "40b38a3f",
   "metadata": {},
   "outputs": [
    {
     "name": "stderr",
     "output_type": "stream",
     "text": [
      "Asking to truncate to max_length but no maximum length is provided and the model has no predefined maximum length. Default to no truncation.\n"
     ]
    },
    {
     "name": "stdout",
     "output_type": "stream",
     "text": [
      "Input language en\n",
      "Input language ru\n"
     ]
    },
    {
     "data": {
      "text/plain": [
       "[{'context_id': 'abcID123',\n",
       "  'context': 'Sachin tendulkar was an Indian cricketer born in Mumbai. He scored nearly 350000 runs in his international career',\n",
       "  'question': 'How many runs did Sachin tendulkar have?',\n",
       "  'answer': 'nearly 350000'},\n",
       " {'context_id': 'abcID123',\n",
       "  'context': 'Sachin tendulkar was an Indian cricketer born in Mumbai. He scored nearly 350000 runs in his international career',\n",
       "  'question': 'Where was Sachin tendulkar born?',\n",
       "  'answer': 'Mumbai'},\n",
       " {'context_id': 'xyzID456',\n",
       "  'context': 'Симби́рская губе́рния (с 1924 года Ульяновская губерния)\\xa0— административно-территориальнаяединица Российской империи, Российской республики и РСФСР, существовавшая в 1796—1928 годах.Губернский город\\xa0— Симбирск (с 1924 года Ульяновск)',\n",
       "  'question': 'Где находится Симбирская губерния?',\n",
       "  'answer': 'Российской республики'},\n",
       " {'context_id': 'xyzID456',\n",
       "  'context': 'Симби́рская губе́рния (с 1924 года Ульяновская губерния)\\xa0— административно-территориальнаяединица Российской империи, Российской республики и РСФСР, существовавшая в 1796—1928 годах.Губернский город\\xa0— Симбирск (с 1924 года Ульяновск)',\n",
       "  'question': 'Как называется Симбирская губерния?',\n",
       "  'answer': 'Ульяновская губерния'}]"
      ]
     },
     "execution_count": 5,
     "metadata": {},
     "output_type": "execute_result"
    }
   ],
   "source": [
    "passage_qg_model.generate_questions(text_list, \n",
    "                    num_questions_per_instance = 2, id_list=id_list)"
   ]
  },
  {
   "cell_type": "markdown",
   "id": "c5ad114d",
   "metadata": {},
   "source": [
    "Answer sampler only supports Arabic, English, Finnish and Russian now. For other languages in TyDi dataset\n",
    "we should provide the answers explicitly."
   ]
  },
  {
   "cell_type": "code",
   "execution_count": 6,
   "id": "ac697173",
   "metadata": {},
   "outputs": [
    {
     "data": {
      "text/plain": [
       "[{'question': 'ক্রিকেট ইতিহাসের অন্যতম সেরা ব্যাটসম্যান কে?',\n",
       "  'answer': 'শচীন টেন্ডুলকার'}]"
      ]
     },
     "execution_count": 6,
     "metadata": {},
     "output_type": "execute_result"
    }
   ],
   "source": [
    "text_list = [\"শচীন টেন্ডুলকারকে ক্রিকেট ইতিহাসের অন্যতম সেরা ব্যাটসম্যান হিসেবে গণ্য করা হয়।\"]\n",
    "answers_list = [[\"শচীন টেন্ডুলকার\"]]\n",
    "passage_qg_model.generate_questions(text_list, \n",
    "                                answers_list = answers_list)"
   ]
  }
 ],
 "metadata": {
  "kernelspec": {
   "display_name": "Python 3 (ipykernel)",
   "language": "python",
   "name": "python3"
  },
  "language_info": {
   "codemirror_mode": {
    "name": "ipython",
    "version": 3
   },
   "file_extension": ".py",
   "mimetype": "text/x-python",
   "name": "python",
   "nbconvert_exporter": "python",
   "pygments_lexer": "ipython3",
   "version": "3.9.13"
  },
  "vscode": {
   "interpreter": {
    "hash": "32a39a98a102ae44422c1f7681e7af5e8c3b16734582d14c2fb0296dae7628d1"
   }
  }
 },
 "nbformat": 4,
 "nbformat_minor": 5
}
