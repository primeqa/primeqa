{
 "cells": [
  {
   "cell_type": "code",
   "execution_count": 5,
   "metadata": {},
   "outputs": [
    {
     "name": "stdout",
     "output_type": "stream",
     "text": [
      "157\n",
      "{'6663437261326194572', '7467223419449849336', '-456565248592064904', '-3659701405687069690', '-4583177527895959138', '-6816620259919283888', '7195430905493029565', '5738144377210062200', '5875046726135070179', '-72983375937706663', '-547285585922035520', '-5433421993461538564', '8717587106725834760', '6242654346399864962', '-8083017426536732807', '1936491352997888449', '1319546935861782187', '3550133641087898941', '751853662280595560', '2102201014821122308', '5337089324356998680', '-680447666417234559', '3016414031422933067', '9205580801476043040', '9064547148563681840', '-5827705595584518308', '-2353029178083370761', '-6905127158875357602', '2869997669348576087', '1083726726672316078', '-5957516079482453552', '-6616030944495513115', '-4524305586196594191', '-1813693802046160487', '2077474049144747505', '8484713537476807677', '-7773020239294558774', '-8511427837138505122', '-1930131592806504146', '-3224127094587318853', '409959415093042172', '-8277313852204797994', '2408002627733944649', '726040690787559971', '5131622546234136557', '7236114255689242893', '-5433998283119941152', '2576196355253227760', '-5665052126355765119', '-4282509971386029837', '2577707056846677575', '-6041247031759503141', '-6794175496168882123', '-3077016148542864018', '-8240760326247237775', '8807977986871213607', '5628470506183287603', '4274261440605851045', '2945694154976038000', '6390231211360507820', '-1585914268312125509', '-1354220474127488934', '-890299258292412735', '3484265451298926829', '-1667901417594800470', '1153623111842554387', '-2313102680940279501', '-2773966831570768170', '2188641802032423949', '6877988997574364784', '5530825811853949020', '669466930487856809', '8311944944609401351', '-2608423447813104080', '-2880775059818663424', '8847547952419838314', '-4122080069382839501', '-2620073796684572998', '2237389598195612661', '-5826934799383173592', '-194624076072023045', '-8521861236859433278', '-6663802892349459994', '3016110742774026978', '-6235357081753908200', '384376134109077767', '-7862995681833449719', '4725158021500804483', '5343027222358658159', '-1193023039368803076', '-2872955935977908847', '8904144349668506098', '3344941360887793230', '-2527947003874581960', '-1342291290704725198', '9027331731535344170', '4069632166541178964', '-5202569336471135378', '-4742489134830911289', '-7779637012381736413', '-4604730913594522233', '-8962633352301594613', '-4273668874947662545', '4608735596460895079', '-5488337264037046179', '5911856856497782152', '237441163025665324', '-580708763428696362', '6064657554050017623', '7953311786439110842', '-2558885384588263897', '-2664875860902576660', '-2021144360257334672', '-4914858845663405521', '-8606495310333489422', '5928537829807433922', '2954363067460978276', '-4903994838376121973', '9211551534185924473', '-2140563594661979477', '-4957228269516403592', '-1395261967414246142', '376528509830503174', '1409967239649772482', '1356603519550019938', '-1735627592159571198', '-7378261254641631943', '-3352345898230016863', '9127489446530873219', '8279797917032036770', '7553097354839029748', '-1530025448869492508', '-6223316164921072499', '305327520899680664', '-7486894877578116024', '-6034041228964870497', '-1890413840387505730', '-6347969627860402356', '4489624957108334132', '8581686621694664468', '-8725157837017937546', '517482339643940574', '-1058143135895940237', '2720169291398221310', '-6546770237964612453', '-8268610999821873438', '6736163632077597066', '-2340450380094411205', '8915991454441317457', '-8531090588741234782', '-464770442921653920', '9155271205755097311', '-8131750020002992078', '-766064329870563050', '-3679693601791677766', '2658866216281283729', '2919391071133858042'}\n"
     ]
    }
   ],
   "source": [
    "import pandas as pd\n",
    "from datetime import datetime\n",
    "\n",
    "files = [\"job_1999101.json\",\"job_1988758.json\"]\n",
    "\n",
    "seen_ids = set()\n",
    "\n",
    "for file in files:\n",
    "    file_name = \"/dccstor/srosent2/generative/appen/\" + file\n",
    "    data = pd.read_json(file_name, lines=True)\n",
    "\n",
    "    for index, row in data.iterrows():\n",
    "        info = row['results']['judgments'][0]\n",
    "        # print(row['results'])\n",
    "            \n",
    "        seen_ids.add(info['unit_data']['question_id'])\n",
    "\n",
    "print(len(seen_ids))\n",
    "print(seen_ids)"
   ]
  },
  {
   "cell_type": "code",
   "execution_count": 1,
   "metadata": {},
   "outputs": [],
   "source": [
    "# load tydi json and compute stats on the questions and answers\n",
    "import glob\n",
    "import gzip\n",
    "import json\n",
    "import spacy\n",
    "\n",
    "nlp = spacy.load('en_core_web_sm')\n",
    "\n",
    "train_data_dir = \"/dccstor/srosent2/primeqa/data/nq-lfqa-train/*jsonl\"\n",
    "dev_data_dir = \"/dccstor/srosent2/primeqa/data/dev/nq-lfqa/*jsonl\"\n",
    "\n",
    "train_files = glob.glob(train_data_dir)\n",
    "dev_files = glob.glob(dev_data_dir)\n",
    "\n",
    "def load_json_from_file(gt_file_patterns):\n",
    "    data = []\n",
    "    if gt_file_patterns.endswith('gz'):\n",
    "        f = gzip.open(gt_file_patterns, 'rt', encoding='utf-8')\n",
    "    else:\n",
    "        f = open(gt_file_patterns, 'rt', encoding='utf-8')\n",
    "    lines = f.readlines()\n",
    "    for line in lines:\n",
    "        data.append(json.loads(line))\n",
    "    return data"
   ]
  },
  {
   "cell_type": "code",
   "execution_count": 2,
   "metadata": {},
   "outputs": [],
   "source": [
    "train_data = []\n",
    "for train_file in train_files:\n",
    "    train_data.extend(load_json_from_file(train_file))"
   ]
  },
  {
   "cell_type": "code",
   "execution_count": 11,
   "metadata": {},
   "outputs": [],
   "source": [
    "def get_appen_data(data, type, exclude_ids):\n",
    "    count = 0\n",
    "    for example in data:\n",
    "        qtype = example['type'][0]\n",
    "        \n",
    "        if qtype != type:\n",
    "            continue\n",
    "        \n",
    "        example_id = example['example_id']\n",
    "\n",
    "        if str(example_id) in exclude_ids:\n",
    "            continue\n",
    "\n",
    "        question = example[\"question_text\"]\n",
    "\n",
    "        q_word = question.split()[0]\n",
    "\n",
    "        annotation = example['annotations'][0]\n",
    "\n",
    "        if annotation == None:\n",
    "            continue\n",
    "\n",
    "        minimal_text = \"\"\n",
    "        if annotation['minimal_answer']['plaintext_start_byte'] != -1:\n",
    "            minimal_text = example['document_plaintext'].encode('utf-8')[annotation['minimal_answer']['plaintext_start_byte']:annotation['minimal_answer']['plaintext_end_byte']].decode('utf-8')\n",
    "        passage_offsets = example['passage_answer_candidates'][annotation['passage_answer']['candidate_index']]\n",
    "        passage_text = example['document_plaintext'].encode('utf-8')[passage_offsets['plaintext_start_byte']:passage_offsets['plaintext_end_byte']].decode('utf-8')\n",
    "        \n",
    "        passage_sentences = \"\"\n",
    "        for sentence in nlp(passage_text).sents:\n",
    "            passage_sentences += sentence.text + \"&nbsp;\"\n",
    "\n",
    "        count += 1\n",
    "        if count >= 30:\n",
    "            break\n",
    "\n",
    "        print(str(example_id) + \"\\t\" + question + \"\\t\" + example['document_title'] + \"\\t\" + example['document_url'] + \"\\t\" + passage_sentences + \"\\t\" + minimal_text)\n",
    "           "
   ]
  },
  {
   "cell_type": "code",
   "execution_count": 12,
   "metadata": {},
   "outputs": [
    {
     "name": "stdout",
     "output_type": "stream",
     "text": [
      "-7210339619807281790\twhat kind of bird is black and white with red on its chest\tRose-breasted grosbeak\thttps://en.wikipedia.org//w/index.php?title=Rose-breasted_grosbeak&amp;oldid=839872078\tThe adult male in breeding plumage has a black head , wings , back , and tail , and a bright rose - red patch on its breast ; the wings have two white patches and rose - red linings .&nbsp;Its underside and rump are white .&nbsp;Males in nonbreeding plumage have largely white underparts , supercilium , and cheeks .&nbsp;The upperside feathers have brown fringes , and most wing feathers white ones , giving a scaly appearance .&nbsp;The bases of the primary remiges are also white .&nbsp;The coloration renders the adult male rose - breasted grosbeak ( even while wintering ) unmistakable if seen well .&nbsp;\t\n",
      "4766418881317162187\twho sings the song story of an artist\tDaniel Johnston\thttps://en.wikipedia.org//w/index.php?title=Daniel_Johnston&amp;oldid=853705998\tIn 2018 , Johnston 's 1982 song `` The Story of an Artist '' was featured in a television advertisement by Apple Inc .&nbsp;\t\n",
      "-621855783713626816\thow did superman die in the movie batman versus superman\tBatman v Superman: Dawn of Justice\thttps://en.wikipedia.org//w/index.php?title=Batman_v_Superman:_Dawn_of_Justice&amp;oldid=866369059\tLuthor executes his backup plan , unleashing Doomsday , a genetically engineered monster with DNA from both Zod 's body and his own blood .&nbsp;Diana Prince arrives unexpectedly ; revealing her metahuman nature , she joins forces with Batman and Superman to eliminate the creature .&nbsp;When they are all outmatched , Superman realizes its vulnerability to kryptonite , and retrieves the spear to kill it .&nbsp;In the creature 's last moments , it kills Superman , himself weakened by exposure to kryptonite .&nbsp;\t\n",
      "-5959288268937806056\twhat episode of rick and morty do they die\tRick Potion No. 9\thttps://en.wikipedia.org//w/index.php?title=Rick_Potion_No._9&amp;oldid=823463629\tHiding from the infected population in the desert , Rick makes a third serum to try and undo all the previous ones .&nbsp;But as the serum was amalgamated from various DNA sources ( `` Koala mixed with rattlesnake , chimpanzee , cactus , shark , golden retriever , and just a smidge of dinosaur , '' in Rick 's own description ) , it only further mutates the world 's population into barely humanoid blobs .&nbsp;Dubbing the monstrosities `` Cronenbergs '' ( a reference to famous director of body horror films David Cronenberg ) , Rick decides the situation is beyond repair ; rather than make another attempt to fix the world , he instead finds another dimension in which two specific events occurred : an alternate version of himself and Morty successfully created a working antidote and turned everything back to normal , and also died soon afterwards .&nbsp;Rick and Morty enter the new reality , the latter visibly traumatized by the transpired events and his counterpart 's gruesome death , and they bury their alternate selves in the backyard before quietly assuming their place , leaving no one but themselves with the knowledge of what has actually occurred , ending with the song `` Look on Down from the Bridge '' by Mazzy Star .&nbsp;\t\n",
      "7051489662709702941\twho sings i'm lindana and i wanna have fun\tOlivia Olson\thttps://en.wikipedia.org//w/index.php?title=Olivia_Olson&amp;oldid=804789618\tOlson has appeared as a singer and actress on television shows and in live theatre , including Comedy Central Stage , the HBO Theater , The Fake Gallery , and the Disney Channel series Phineas and Ferb .&nbsp;Olson has also appeared on The Tracy Morgan Show and guest starred on The Ellen DeGeneres Show singing with DeGeneres , actor Jack Black and Broadway star Kristin Chenoweth .&nbsp;She is currently a cast member and singer on two animated series : Cartoon Network 's series Adventure Time , playing Marceline the Vampire Queen and on Disney 's animated series Phineas and Ferb playing Vanessa Doofenshmirtz , the sarcastic daughter of the evil Dr. Doofenshmirtz .&nbsp;In Adventure Time , her father , Martin , plays Marceline 's dad Hunson Abadeer and Marceline sang a short song about him eating her French fries .&nbsp;She also sings a number of songs in Phineas and Ferb , including the duet `` Busted ! ''&nbsp;with Ashley Tisdale as well as popular solo songs , including `` I 'm Me , '' `` Not So Bad a Dad After All , '' `` I 'm Lindana and I Wanna Have Fun , '' `` Happy New Year '' and many others , including her song in the Phineas and Ferb Christmas Vacation special `` Got That Christmas Feeling . ''&nbsp;She has written songs for Phineas and Ferb and has written and recorded her own songs with renowned music producers Rick Nowels , Camara Kambon and Hollywood jazz great Rob Mullins .&nbsp;\t\n",
      "7184331590045541410\tthe 1987 un world commission on environment and sustainability first introduced the concept of\tBrundtland Commission\thttps://en.wikipedia.org//w/index.php?title=Brundtland_Commission&amp;oldid=839941840\tThe organization aimed to create a united international community with shared sustainability goals by identifying sustainability problems worldwide , raising awareness about them , and suggesting the implementation of solutions .&nbsp;In 1987 , the Brundtland Commission published the first volume of `` Our Common Future , '' the organization 's main report .&nbsp;`` Our Common Future '' strongly influenced the Earth Summit in Rio de Janeiro , Brazil , in 1992 and the third UN Conference on Environment and Development in Johannesburg , South Africa , in 2002 .&nbsp;Also , it is credited with crafting the most prevalent definition of sustainability , as seen below .&nbsp;\t\n",
      "-480929800409517276\twhat is the song take your time about\tTake Your Time (Sam Hunt song)\thttps://en.wikipedia.org//w/index.php?title=Take_Your_Time_(Sam_Hunt_song)&amp;oldid=832789608\tThe song is a mid-tempo ballad with a `` half - spoken , half - sung delivery '' about a man approaching a woman and expressing a desire to know her more closely .&nbsp;It was written by Hunt , Josh Osborne , and Shane McAnally , and was produced by McAnally and Zach Crowell .&nbsp;\ta man approaching a woman and expressing a desire to know her more closely .\n",
      "4371964269871290494\twhere does rammer jammer yellow hammer come from\tUniversity of Alabama traditions\thttps://en.wikipedia.org//w/index.php?title=University_of_Alabama_traditions&amp;oldid=812042411\tThe `` Rammer Jammer Cheer '' is a traditional cheer .&nbsp;The lyrics originate from The Rammer - Jammer , a student magazine in the 1920s , and the yellowhammer , Alabama 's state bird .&nbsp;The term `` yellowhammer '' was originally used to describe Confederate soldiers from Alabama who wore bright yellow cloth on their uniforms ; when the soldiers marched into the city of Hopkinsville , Kentucky , supporters of the Confederacy cheered them with the chant `` yellowhammer , yellowhammer . ''&nbsp;During and after the American Civil War , the term continued to be used and Alabama became known as the `` Yellowhammer State . ''&nbsp;\tThe lyrics originate from The Rammer - Jammer , a student magazine in the 1920s , and the yellowhammer , Alabama 's state bird .\n",
      "-1109485827985534106\twho does the voice of plankton from spongebob\tMr. Lawrence\thttps://en.wikipedia.org//w/index.php?title=Mr._Lawrence&amp;oldid=843082151\tLawrence was born in East Brunswick , New Jersey .&nbsp;He is known for his work on the animated TV series SpongeBob SquarePants , on which he has long - running - roles as the voice of Sheldon Plankton and various recurring characters such as the Realistic Fish Head and Larry the Lobster .&nbsp;He physically appears as the live - action artist in `` Frankendoodle '' .&nbsp;\t\n",
      "-8277024839293995438\twhere did the phrase pet peeve come from\tPet peeve\thttps://en.wikipedia.org//w/index.php?title=Pet_peeve&amp;oldid=851356392\tThe noun peeve , meaning an annoyance , is believed to have originated in the United States early in the twentieth century , derived by back - formation from the adjective peevish , meaning `` ornery or ill - tempered '' , which dates from the late 14th - century .&nbsp;The term pet peeve was introduced to a wide readership in the single - panel comic The Little Pet Peeve in the Chicago Tribune during the period 1916 - 1920 .&nbsp;The Little Pet Peeve was created and drawn by Frank King , who is more famous as the creator of the Gasoline Alley comic strip .&nbsp;King 's little pet peeves were humorous critiques of generally thoughtless behaviors .&nbsp;Some were particular to his time , such as people reading the titles in silent films out loud , or cracking an egg only to smell that it 's gone rotten .&nbsp;Others seem current over a hundred years later , like backseat drivers , and rugs that are forever catching the bottom of the door and bunching up .&nbsp;King 's readers submitted some of the little pet peeves , including : theater goers who unwrap candy in crinkly paper during a live performance , and ( from a 12 year old boy ) having his mother come in to sweep when he has the pieces of a building toy spread out on the floor .&nbsp;\t\n",
      "6291645740453573099\twhere does the term making out come from\tMaking out\thttps://en.wikipedia.org//w/index.php?title=Making_out&amp;oldid=811525318\tThe sexual connotations of the phrase `` make out '' appear to have developed in the 1930s and 1940s from the phrase 's other meanings of `` to succeed '' .&nbsp;Originally , it meant `` to seduce '' or `` to have sexual intercourse with '' .&nbsp;\t\n",
      "-6923278765348481733\twhere is the primary somatosensory cortex located and what is its function\tPrimary somatosensory cortex\thttps://en.wikipedia.org//w/index.php?title=Primary_somatosensory_cortex&amp;oldid=808683483\tThe primary somatosensory cortex is located in the postcentral gyrus , and is part of the somatosensory system .&nbsp;It was initially defined from surface stimulation studies of Wilder Penfield , and parallel surface potential studies of Bard , Woolsey , and Marshall .&nbsp;Although initially defined to be roughly the same as Brodmann areas 3 , 1 and 2 , more recent work by Kaas has suggested that for homogeny with other sensory fields only area 3 should be referred to as `` primary somatosensory cortex '' , as it receives the bulk of the thalamocortical projections from the sensory input fields .&nbsp;\tpostcentral gyrus , and is part of the somatosensory system . It was initially defined from surface stimulation studies of Wilder Penfield , and parallel surface potential studies of Bard , Woolsey , and Marshall . Although initially defined to be roughly the same as Brodmann areas 3 , 1 and 2 , more recent work by Kaas has suggested that for homogeny with other sensory fields only area 3 should be referred to as `` primary somatosensory cortex '' , as it receives the bulk of the thalamocortical projections from the sensory input fields .\n",
      "2489004752830971283\twhat cities were bombed in ww2 in england\tThe Blitz\thttps://en.wikipedia.org//w/index.php?title=The_Blitz&amp;oldid=819206204\tThe Luftwaffe gradually decreased daylight operations in favour of night attacks to evade attack by the RAF , and the Blitz became a night bombing campaign after October 1940 .&nbsp;The Luftwaffe attacked the main Atlantic sea port of Liverpool in the Liverpool Blitz and the North Sea port of Hull , a convenient and easily found target or secondary target for bombers unable to locate their primary targets , suffered the Hull Blitz .&nbsp;Bristol , Cardiff , Portsmouth , Plymouth , Southampton and Swansea were also bombed , as were the industrial cities of Birmingham , Belfast , Coventry , Glasgow , Manchester and Sheffield .&nbsp;More than 40,000 civilians were killed by Luftwaffe bombing during the war , almost half of them in the capital , where more than a million houses were destroyed or damaged .&nbsp;\t\n",
      "1711916015781754714\twhere did the name general tso come from\tGeneral Tso's chicken\thttps://en.wikipedia.org//w/index.php?title=General_Tso%27s_chicken&amp;oldid=810698087\tGeneral Tso 's chicken ( pronounced ( tswò ) ) is a sweet , deep - fried chicken dish that is served in North American Chinese restaurants .&nbsp;( It is also seen with other variants , such as General Tse 's chicken . )&nbsp;The dish is named after Zuo Zongtang ( also romanized Tso Tsung - t'ang ) , a Qing dynasty statesman and military leader , although there is no recorded connection to him nor is the dish known in Hunan , Zuo 's home province .&nbsp;\tZuo Zongtang ( also romanized Tso Tsung - t'ang ) , a Qing dynasty statesman and military leader ,\n",
      "-2353259705675785795\twhere did the original twin peaks take place\tTwin Peaks\thttps://en.wikipedia.org//w/index.php?title=Twin_Peaks&amp;oldid=801038753\tFBI Special Agent Dale Cooper states , in the pilot episode , that Twin Peaks is `` five miles south of the Canadian border , and twelve miles west of the state line '' .&nbsp;This places it in the Salmo - Priest Wilderness .&nbsp;Lynch and Frost started their location search in Snoqualmie near Seattle , on the recommendation of a friend of Frost .&nbsp;They found all of the locations that they had written into the pilot episode .&nbsp;The towns of Snoqualmie , North Bend and Fall City -- which became the primary filming locations for stock Twin Peaks exterior footage -- are about an hour 's drive from the town of Roslyn , Washington , the town used for the series Northern Exposure .&nbsp;Many exterior scenes were filmed in wooded areas of Malibu , California .&nbsp;Most of the interior scenes were shot on standing sets in a San Fernando Valley warehouse .&nbsp;\t\n",
      "3788845239430619383\twhere is the world's largest man made lake\tLake Kariba\thttps://en.wikipedia.org//w/index.php?title=Lake_Kariba&amp;oldid=815597210\tLake Kariba is the world 's largest man - made lake and reservoir by volume .&nbsp;It lies 1300 kilometres upstream from the Indian Ocean , along the border between Zambia and Zimbabwe .&nbsp;Lake Kariba was filled between 1958 and 1963 following the completion of the Kariba Dam at its northeastern end , flooding the Kariba Gorge on the Zambezi River .&nbsp;\t1300 kilometres upstream from the Indian Ocean , along the border between Zambia and Zimbabwe .\n",
      "2288663787154913627\thow much money does the world series of poker winner get\tWorld Series of Poker\thttps://en.wikipedia.org//w/index.php?title=World_Series_of_Poker&amp;oldid=850363119\tThe winner of each event receives a World Series of Poker bracelet and a monetary prize based on the number of entrants and buy - in amounts .&nbsp;Over the years , the tournament has grown in both the number of events and in the number of participants .&nbsp;Each year , the WSOP culminates with the $10,000 no - limit hold'em `` Main Event , '' which , since 2004 , has attracted entrants numbering in the thousands .&nbsp;The victor receives a multi-million dollar cash prize and a bracelet , which has become the most coveted award a poker player can win .&nbsp;The winner of the World Series of Poker Main Event is considered to be the World Champion of Poker .&nbsp;\t\n",
      "-3828653462756621884\twhere did the last name myers come from\tMyers\thttps://en.wikipedia.org//w/index.php?title=Myers&amp;oldid=810087268\tMyers is an English , Dutch and German origin surname .&nbsp;The English surname traces its origins to Anglo - Saxon England , from the Old English word maire ( originally maior ) meaning `` mayor '' .&nbsp;The German origin of the surname Myers has the meaning `` steward or bailiff , '' as in the magistrate of a city or town .&nbsp;The English origin of the surname has two possible sources : from the Old French mire meaning `` physician '' or the Old Norse myrr meaning `` marsh '' .&nbsp;\t\n",
      "-9070119469055301785\t1 electron volt is equal to how many kilo joule per mole\tJoule per mole\thttps://en.wikipedia.org//w/index.php?title=Joule_per_mole&amp;oldid=866038141\t1 kJ mol is equal to 0.239 kcal mol or 1.04 × 10 eV per particle .&nbsp;At room temperature ( 25 ° C , 77 ° F , or 298.15 K ) 1 kJ mol is equal to 0.4034 k B T ( \\ displaystyle k_ ( B ) T ) .&nbsp;\t\n"
     ]
    }
   ],
   "source": [
    "get_appen_data(train_data, \"la\", seen_ids)"
   ]
  }
 ],
 "metadata": {
  "kernelspec": {
   "display_name": "Python 3.9.12 ('primeqaenv')",
   "language": "python",
   "name": "python3"
  },
  "language_info": {
   "codemirror_mode": {
    "name": "ipython",
    "version": 3
   },
   "file_extension": ".py",
   "mimetype": "text/x-python",
   "name": "python",
   "nbconvert_exporter": "python",
   "pygments_lexer": "ipython3",
   "version": "3.9.12"
  },
  "orig_nbformat": 4,
  "vscode": {
   "interpreter": {
    "hash": "229bd894a0cdb05b7ee80ea2bc43559a301775857073a25e64e4f441f37822ce"
   }
  }
 },
 "nbformat": 4,
 "nbformat_minor": 2
}
