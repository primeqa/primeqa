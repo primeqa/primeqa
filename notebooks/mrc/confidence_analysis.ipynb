{
 "cells": [
  {
   "attachments": {},
   "cell_type": "markdown",
   "metadata": {},
   "source": [
    "# 1. read predictions\n",
    "# 2. read references\n",
    "# 3. analyze na_score and start_end_score for NA and SA seperately (and LA?)"
   ]
  },
  {
   "cell_type": "code",
   "execution_count": 1,
   "metadata": {},
   "outputs": [],
   "source": [
    "import pandas as pd\n",
    "import json\n",
    "\n",
    "evaluation_directory = \"/dccstor/srosent2/primeqa/experiments/reader_reranker/2epochRoberta/exclude_passage_answers_discarddups_la_as_sa_moreneg0208_2wayloss/eval_normalized/output/\"\n",
    "evaluation_directory = \"/dccstor/srosent2/primeqa/experiments/reader_reranker/2epochRoberta/exclude_passage_answers_discarddups_la_as_sa_2wayloss/eval_normalized/output/\"\n",
    "evaluation_directory = \"/dccstor/srosent2/primeqa/experiments/reader_reranker/2epochRoberta/exclude_passage_answers_discarddups_la_as_sa_moreneg0416_2wayloss/output/\"\n",
    "\n",
    "def load_dir(evaluation_directory):\n",
    "    with open(evaluation_directory + \"eval_predictions.json\") as fi:\n",
    "        predictions = json.load(fi)\n",
    "    references = pd.read_json(evaluation_directory + \"eval_references.json\")\n",
    "    return predictions, references"
   ]
  },
  {
   "cell_type": "code",
   "execution_count": 48,
   "metadata": {},
   "outputs": [
    {
     "data": {
      "text/html": [
       "<div>\n",
       "<style scoped>\n",
       "    .dataframe tbody tr th:only-of-type {\n",
       "        vertical-align: middle;\n",
       "    }\n",
       "\n",
       "    .dataframe tbody tr th {\n",
       "        vertical-align: top;\n",
       "    }\n",
       "\n",
       "    .dataframe thead th {\n",
       "        text-align: right;\n",
       "    }\n",
       "</style>\n",
       "<table border=\"1\" class=\"dataframe\">\n",
       "  <thead>\n",
       "    <tr style=\"text-align: right;\">\n",
       "      <th></th>\n",
       "      <th>start_position</th>\n",
       "      <th>end_position</th>\n",
       "      <th>passage_index</th>\n",
       "      <th>yes_no_answer</th>\n",
       "      <th>example_id</th>\n",
       "      <th>language</th>\n",
       "    </tr>\n",
       "  </thead>\n",
       "  <tbody>\n",
       "    <tr>\n",
       "      <th>4149</th>\n",
       "      <td>[47709, 47709, 47728, 47709, 47709]</td>\n",
       "      <td>[47714, 47714, 47733, 47719, 47719]</td>\n",
       "      <td>[17, 17, 19, 17, 17]</td>\n",
       "      <td>[0, 0, 0, 0, 0]</td>\n",
       "      <td>[-4054205284200755552, -4054205284200755552, -...</td>\n",
       "      <td>[english, english, english, english, english]</td>\n",
       "    </tr>\n",
       "    <tr>\n",
       "      <th>429</th>\n",
       "      <td>[48696, 52536, 48861, 42554, 48696]</td>\n",
       "      <td>[48711, 52551, 48878, 42583, 48711]</td>\n",
       "      <td>[40, 42, 40, 0, 40]</td>\n",
       "      <td>[0, 0, 0, 0, 0]</td>\n",
       "      <td>[1838851770314085590, 1838851770314085590, 183...</td>\n",
       "      <td>[english, english, english, english, english]</td>\n",
       "    </tr>\n",
       "  </tbody>\n",
       "</table>\n",
       "</div>"
      ],
      "text/plain": [
       "                           start_position  \\\n",
       "4149  [47709, 47709, 47728, 47709, 47709]   \n",
       "429   [48696, 52536, 48861, 42554, 48696]   \n",
       "\n",
       "                             end_position         passage_index  \\\n",
       "4149  [47714, 47714, 47733, 47719, 47719]  [17, 17, 19, 17, 17]   \n",
       "429   [48711, 52551, 48878, 42583, 48711]   [40, 42, 40, 0, 40]   \n",
       "\n",
       "        yes_no_answer                                         example_id  \\\n",
       "4149  [0, 0, 0, 0, 0]  [-4054205284200755552, -4054205284200755552, -...   \n",
       "429   [0, 0, 0, 0, 0]  [1838851770314085590, 1838851770314085590, 183...   \n",
       "\n",
       "                                           language  \n",
       "4149  [english, english, english, english, english]  \n",
       "429   [english, english, english, english, english]  "
      ]
     },
     "execution_count": 48,
     "metadata": {},
     "output_type": "execute_result"
    }
   ],
   "source": [
    "references.sample(2)"
   ]
  },
  {
   "cell_type": "code",
   "execution_count": 2,
   "metadata": {},
   "outputs": [],
   "source": [
    "def is_sa(list):\n",
    "    na_count = 0\n",
    "    for item in list:\n",
    "        if item == -1:\n",
    "            na_count += 1\n",
    "    if na_count >= 3:\n",
    "        return False\n",
    "    return True"
   ]
  },
  {
   "cell_type": "code",
   "execution_count": 11,
   "metadata": {},
   "outputs": [],
   "source": [
    "import numpy \n",
    "\n",
    "def compute_analysis(predictions, references, offset=1):\n",
    "    reference_count = {'na':0, 'sa':0, 'la':0, 'yn':0}\n",
    "    scores = {}\n",
    "    scores['sa'] = {}\n",
    "    # scores['la'] = {}\n",
    "    scores['na'] = {}\n",
    "    # scores['yn'] = {}\n",
    "    predict_na = {'tp':0,'fp':0,'tn':0,'fn':0}\n",
    "\n",
    "    score_types = ['cls_score', 'start_logit', 'end_logit', 'start+end']\n",
    "\n",
    "    for score in scores:\n",
    "        for score_type in score_types:\n",
    "            scores[score][score_type] = []\n",
    "\n",
    "    for i, reference in references.iterrows():\n",
    "        # print(reference)\n",
    "        example_id = reference['example_id'][0]\n",
    "        # squad:\n",
    "        # example_id = reference['id']\n",
    "        answer_type = 'na'\n",
    "        \n",
    "        # squad\n",
    "        # if reference['answers']['answer_start'][0] == -1:\n",
    "        #     answer_type = 'na'\n",
    "        # nq\n",
    "        # if is_sa(reference['start_position']):\n",
    "        if reference['start_position'][0] > -1:\n",
    "            answer_type = 'sa'\n",
    "        # elif is_sa(reference['passage_index']):\n",
    "        #     answer_type = 'la'\n",
    "        # elif sum(reference['yes_no_answer']) > 0:\n",
    "        #     answer_type = 'yn'\n",
    "        reference_count[answer_type] += 1\n",
    "        # print(answer_type)\n",
    "        prediction = predictions[example_id]\n",
    "        scores[answer_type]['cls_score'].append(prediction[0]['cls_score'][offset])\n",
    "        scores[answer_type]['start_logit'].append(prediction[0]['start_logit'][offset])\n",
    "        scores[answer_type]['end_logit'].append(prediction[0]['end_logit'][offset])\n",
    "        scores[answer_type]['start+end'].append((prediction[0]['start_logit'][offset] + prediction[0]['end_logit'][offset]))\n",
    "\n",
    "        predict_as_na = False\n",
    "        if prediction[0]['start_logit'][offset] + prediction[0]['end_logit'][offset] < prediction[0]['cls_score'][offset]:\n",
    "            predict_as_na = True\n",
    "\n",
    "        if predict_as_na and answer_type == 'na':\n",
    "            predict_na['tn'] += 1\n",
    "        elif predict_as_na:\n",
    "            predict_na['fn'] += 1\n",
    "        elif not predict_as_na and answer_type == 'sa' or answer_type == 'la':\n",
    "            predict_na['tp'] += 1\n",
    "        else:\n",
    "            predict_na['fp'] += 1\n",
    "\n",
    "    for score in scores:\n",
    "        for score_type in scores[score]:\n",
    "            mean = numpy.average(scores[score][score_type])\n",
    "            min = numpy.min(scores[score][score_type])\n",
    "            max = numpy.max(scores[score][score_type])\n",
    "            print(f'{score} {score_type} mean: {mean}, min: {min}, max: {max}')\n",
    "\n",
    "    print(predict_na)\n",
    "    print(reference_count)\n",
    "\n",
    "    p = predict_na['tp']/(predict_na['tp']+predict_na['fp'])\n",
    "    r = predict_na['tp']/(predict_na['tp']+predict_na['fn'])\n",
    "    f1 = 2 * p*r / (p + r )\n",
    "    print(f'f1: {f1}, p: {p}, r {r}')"
   ]
  },
  {
   "cell_type": "code",
   "execution_count": 14,
   "metadata": {},
   "outputs": [
    {
     "name": "stdout",
     "output_type": "stream",
     "text": [
      "sa cls_score mean: 9.295011520933832, min: 5.035934925079346, max: 15.761591911315918\n",
      "sa start_logit mean: 9.143398548268724, min: 1.620445966720581, max: 11.391331672668457\n",
      "sa end_logit mean: 9.29574817308007, min: -0.06604782491922379, max: 11.564820289611816\n",
      "sa start+end mean: 18.439146721348795, min: 2.926615558564663, max: 22.870535850524902\n",
      "la cls_score mean: 9.793096344629161, min: 3.9367176294326782, max: 15.714771747589111\n",
      "la start_logit mean: 7.860998722312929, min: -1.17532217502594, max: 11.34286117553711\n",
      "la end_logit mean: 7.321585907638788, min: -0.40927380323410034, max: 11.391169548034668\n",
      "la start+end mean: 15.182584629951716, min: 4.279646575450897, max: 22.54685401916504\n",
      "na cls_score mean: 11.661749788675552, min: 5.95200252532959, max: 18.17583179473877\n",
      "na start_logit mean: 6.209973320643871, min: -4.618706226348877, max: 11.37607479095459\n",
      "na end_logit mean: 5.808325404800379, min: -2.2680604457855225, max: 11.423245429992676\n",
      "na start+end mean: 12.01829872544425, min: -3.0539194345474243, max: 22.799320220947266\n",
      "yn cls_score mean: 9.687146891718326, min: 6.472912073135376, max: 13.92728042602539\n",
      "yn start_logit mean: 5.565346420675084, min: 0.8072383403778076, max: 10.1661376953125\n",
      "yn end_logit mean: 4.216711445563082, min: -0.1486322581768036, max: 8.281546592712402\n",
      "yn start+end mean: 9.782057866238166, min: 4.277805209159851, max: 15.09523344039917\n",
      "{'tp': 3773, 'fp': 2153, 'tn': 1782, 'fn': 122}\n",
      "{'na': 3900, 'sa': 2610, 'la': 1251, 'yn': 69}\n",
      "f1: 0.7683535281539557, p: 0.6366857914276072, r 0.9686777920410783\n"
     ]
    }
   ],
   "source": [
    "# default neg\n",
    "compute_analysis(predictions, references, 0)"
   ]
  },
  {
   "cell_type": "code",
   "execution_count": 12,
   "metadata": {},
   "outputs": [
    {
     "name": "stdout",
     "output_type": "stream",
     "text": [
      "sa cls_score mean: 8.996568983039637, min: 2.9522416591644287, max: 16.08403778076172\n",
      "sa start_logit mean: 8.383533713232968, min: 1.7111743688583374, max: 10.603812217712402\n",
      "sa end_logit mean: 8.640907535881832, min: 2.442873239517212, max: 10.991469383239746\n",
      "sa start+end mean: 17.0244412491148, min: 4.904268145561218, max: 21.481185913085938\n",
      "la cls_score mean: 9.902557944794067, min: 4.289251327514648, max: 15.248830318450928\n",
      "la start_logit mean: 7.191161243178004, min: -0.9893350601196289, max: 10.985502243041992\n",
      "la end_logit mean: 6.741889385040477, min: -1.1990559101104736, max: 10.598464012145996\n",
      "la start+end mean: 13.933050628218481, min: 1.4623978435993195, max: 21.041714668273926\n",
      "na cls_score mean: 11.850911533893683, min: 4.636003494262695, max: 17.275089263916016\n",
      "na start_logit mean: 5.446020014877312, min: -3.7662668228149414, max: 10.621685981750488\n",
      "na end_logit mean: 5.128890119943863, min: -3.339244842529297, max: 10.642224311828613\n",
      "na start+end mean: 10.574910134821176, min: -5.082695484161377, max: 20.627978324890137\n",
      "yn cls_score mean: 9.88628241635751, min: 7.21494197845459, max: 12.279194355010986\n",
      "yn start_logit mean: 4.876217601091965, min: -0.6499443650245667, max: 9.085092544555664\n",
      "yn end_logit mean: 3.637300274618294, min: -0.31082430481910706, max: 8.394392967224121\n",
      "yn start+end mean: 8.51351787571026, min: 2.5616669058799744, max: 15.166271686553955\n",
      "{'tp': 3663, 'fp': 1678, 'tn': 2243, 'fn': 246}\n",
      "{'na': 3900, 'sa': 2610, 'la': 1251, 'yn': 69}\n",
      "f1: 0.7919999999999999, p: 0.6858266242276727, r 0.9370683039140445\n"
     ]
    }
   ],
   "source": [
    "# more neg 02 08\n",
    "compute_analysis(predictions, references, 0)"
   ]
  },
  {
   "cell_type": "code",
   "execution_count": 10,
   "metadata": {},
   "outputs": [
    {
     "name": "stdout",
     "output_type": "stream",
     "text": [
      "sa cls_score mean: 0.034507753130909806, min: 0.000269461830612272, max: 0.9868164956569672\n",
      "sa start_logit mean: 0.6656259664735343, min: 0.0007884519873186946, max: 0.9982413649559021\n",
      "sa end_logit mean: 0.6842875601238949, min: 0.0017802660586312413, max: 0.9945623874664307\n",
      "sa start+end mean: 0.6749567632987146, min: 0.008628678508102894, max: 0.9950990974903107\n",
      "la cls_score mean: 0.07437061898513707, min: 0.0006594950100407004, max: 0.9174738526344299\n",
      "la start_logit mean: 0.48053132619334776, min: 0.00014855837798677385, max: 0.9965887665748596\n",
      "la end_logit mean: 0.35102770037983205, min: 3.4014716220553964e-05, max: 0.990546703338623\n",
      "la start+end mean: 0.4157795132865899, min: 0.00876842881552875, max: 0.9875251650810242\n",
      "na cls_score mean: 0.41497283293932785, min: 0.0014385844115167856, max: 0.9995205998420715\n",
      "na start_logit mean: 0.31220777307330827, min: 6.636083980993135e-06, max: 0.9946584105491638\n",
      "na end_logit mean: 0.2679373626426588, min: 1.1241228094149847e-05, max: 0.9922724366188049\n",
      "na start+end mean: 0.2900725678579835, min: 9.996257358579896e-05, max: 0.9934654235839844\n",
      "yn cls_score mean: 0.29412287014091143, min: 0.008010140620172024, max: 0.9081857204437256\n",
      "yn start_logit mean: 0.3664033522129656, min: 0.00012201770732644945, max: 0.9750508666038513\n",
      "yn end_logit mean: 0.1536304937115452, min: 0.0005161233711987734, max: 0.8805642127990723\n",
      "yn start+end mean: 0.2600169229622554, min: 0.03547645639628172, max: 0.6953148245811462\n",
      "{'tp': 3722, 'fp': 1857, 'tn': 2076, 'fn': 175}\n",
      "{'na': 3900, 'sa': 2610, 'la': 1251, 'yn': 69}\n",
      "f1: 0.7855635289151539, p: 0.6671446495787775, r 0.9550936617911214\n"
     ]
    }
   ],
   "source": [
    "# more neg 02 08\n",
    "compute_analysis(predictions, references, 1)"
   ]
  },
  {
   "cell_type": "code",
   "execution_count": 16,
   "metadata": {},
   "outputs": [
    {
     "name": "stdout",
     "output_type": "stream",
     "text": [
      "sa cls_score mean: 12.55491405556485, min: 7.295560598373413, max: 18.194772720336914\n",
      "sa start_logit mean: 9.291254094411473, min: -1.6602362394332886, max: 11.847705841064453\n",
      "sa end_logit mean: 9.60330882481517, min: -1.5028188228607178, max: 12.084779739379883\n",
      "sa start+end mean: 18.894562919226644, min: -3.1630550622940063, max: 23.8850040435791\n",
      "la cls_score mean: 13.331995268805708, min: 8.433923721313477, max: 17.892271041870117\n",
      "la start_logit mean: 7.754471804800747, min: -2.5014665126800537, max: 11.820550918579102\n",
      "la end_logit mean: 7.330774385550564, min: -2.283249616622925, max: 12.67302131652832\n",
      "la start+end mean: 15.08524619035131, min: -0.4836796522140503, max: 23.770538330078125\n",
      "na cls_score mean: 15.034318093030882, min: 9.29923963546753, max: 19.30993938446045\n",
      "na start_logit mean: 5.770045666606762, min: -7.987424373626709, max: 12.079704284667969\n",
      "na end_logit mean: 5.468224812119435, min: -6.801821231842041, max: 11.736608505249023\n",
      "na start+end mean: 11.238270478726198, min: -12.797558784484863, max: 23.120040893554688\n",
      "yn cls_score mean: 13.413675854171531, min: 10.862537860870361, max: 15.49031925201416\n",
      "yn start_logit mean: 5.393767870098785, min: -3.763638734817505, max: 10.311590194702148\n",
      "yn end_logit mean: 3.65505316335222, min: -1.0164566040039062, max: 9.71660041809082\n",
      "yn start+end mean: 9.048821033451004, min: 1.5694520473480225, max: 15.963854312896729\n",
      "{'tp': 3334, 'fp': 1147, 'tn': 2763, 'fn': 586}\n",
      "{'na': 3900, 'sa': 2610, 'la': 1251, 'yn': 69}\n",
      "f1: 0.7937150339245329, p: 0.7440303503682214, r 0.8505102040816327\n"
     ]
    }
   ],
   "source": [
    "# more neg (08 16)\n",
    "compute_analysis(predictions, references, 0)"
   ]
  },
  {
   "cell_type": "code",
   "execution_count": 12,
   "metadata": {},
   "outputs": [
    {
     "name": "stdout",
     "output_type": "stream",
     "text": [
      "/dccstor/srosent2/primeqa/experiments/reader_reranker/2epochRoberta/exclude_passage_answers_discarddups_la_as_sa_moreneg1040_2waylossv2/eval/output/\n",
      "{'tp': 3552, 'fp': 1235, 'tn': 2689, 'fn': 354}\n",
      "f1: 0.8172092488208904, p: 0.7420096093586798, r 0.9093701996927803\n",
      "/dccstor/srosent2/primeqa/experiments/reader_reranker/2epochRoberta/exclude_passage_answers_discarddups_la_as_sa_moreneg0624_2wayloss/eval/output/\n",
      "{'tp': 3649, 'fp': 1529, 'tn': 2402, 'fn': 250}\n",
      "f1: 0.8040101355073263, p: 0.7047122441096949, r 0.9358809951269557\n",
      "/dccstor/srosent2/primeqa/experiments/reader_reranker/2epochRoberta/exclude_passage_answers_discarddups_la_as_sa_moreneg1250_2wayloss/output/\n",
      "{'tp': 3458, 'fp': 1056, 'tn': 2866, 'fn': 450}\n",
      "f1: 0.8211826169555926, p: 0.7660611431103235, r 0.8848515864892528\n",
      "/dccstor/srosent2/primeqa/experiments/reader_reranker/2epochRoberta/exclude_passage_answers_discarddups_la_as_sa_moreneg0832_2wayloss/eval/output/\n",
      "{'tp': 3597, 'fp': 1421, 'tn': 2506, 'fn': 306}\n",
      "f1: 0.8064118372379779, p: 0.7168194499800717, r 0.921598770176787\n",
      "/dccstor/srosent2/primeqa/experiments/reader_reranker/2epochRoberta/exclude_passage_answers_discarddups_la_as_sa_moreneg0416_2wayloss/eval/output/\n",
      "{'tp': 3750, 'fp': 1914, 'tn': 2023, 'fn': 143}\n",
      "f1: 0.7847650936486344, p: 0.6620762711864406, r 0.9632674030310814\n",
      "/dccstor/srosent2/primeqa/experiments/reader_reranker/2epochRoberta/exclude_passage_answers_discarddups_la_as_sa_moreneg0208_2wayloss/eval/output/\n",
      "{'tp': 3813, 'fp': 2395, 'tn': 1557, 'fn': 65}\n",
      "f1: 0.7560975609756098, p: 0.6142074742268041, r 0.983238782877772\n",
      "/dccstor/srosent2/primeqa/experiments/reader_reranker/2epochRoberta/exclude_passage_answers_discarddups_la_as_sa_2wayloss/eval/output/\n",
      "{'tp': 3845, 'fp': 2834, 'tn': 1131, 'fn': 20}\n",
      "f1: 0.7293247344461306, p: 0.5756849827818535, r 0.9948253557567918\n"
     ]
    }
   ],
   "source": [
    "import glob\n",
    "\n",
    "files = glob.glob(\"/dccstor/srosent2/primeqa/experiments/reader_reranker/2epochRoberta/exclude_passage_answers_discarddups_la_as_sa_*\")\n",
    "\n",
    "for file in files:\n",
    "    if \"04100\" in file:\n",
    "        continue\n",
    "    if '12' in file:\n",
    "        file = file + '/output/'\n",
    "    else:\n",
    "        file = file + \"/eval/output/\"\n",
    "    print(file)\n",
    "    predictions, references = load_dir(file)\n",
    "    compute_analysis(predictions,references)"
   ]
  },
  {
   "cell_type": "code",
   "execution_count": 5,
   "metadata": {},
   "outputs": [
    {
     "name": "stdout",
     "output_type": "stream",
     "text": [
      "/dccstor/srosent2/primeqa/experiments/reader_reranker/2epochRoberta/NQftSAP_1040_lr4e5new/output/\n",
      "sa cls_score mean: 0.03040216642581254, min: 5.833195018567494e-06, max: 0.9999338090419769\n",
      "sa start_logit mean: 0.5022178653243818, min: 9.498157851339784e-06, max: 0.998292088508606\n",
      "sa end_logit mean: 0.5175571929046983, min: 4.806697688763961e-06, max: 0.9998937249183655\n",
      "sa start+end mean: 1.01977505822908, min: 1.955812786036404e-05, max: 1.9971556663513184\n",
      "na cls_score mean: 0.9921587024815198, min: 2.9660641303053126e-05, max: 0.9999961853027344\n",
      "na start_logit mean: 0.0034236825543650902, min: 2.7985166184407717e-08, max: 0.9927844405174255\n",
      "na end_logit mean: 0.003602054981494753, min: 2.2240143948693003e-08, max: 0.9943963885307312\n",
      "na start+end mean: 0.007025737535859843, min: 1.392824401591497e-06, max: 1.9871808290481567\n",
      "{'tp': 979, 'fp': 6, 'tn': 994, 'fn': 21}\n",
      "{'na': 1000, 'sa': 1000, 'la': 0, 'yn': 0}\n",
      "f1: 0.9863979848866499, p: 0.9939086294416244, r 0.979\n",
      "/dccstor/srosent2/primeqa/experiments/reader_reranker/2epochRoberta/NQftSAP_1040_lr4e5new1ep/output/\n",
      "sa cls_score mean: 0.032234108525779445, min: 8.140215868479572e-05, max: 0.9999862015247345\n",
      "sa start_logit mean: 0.5024139647181425, min: 1.3733081338784814e-08, max: 0.9995349645614624\n",
      "sa end_logit mean: 0.4407761074496955, min: 1.6782280454208376e-06, max: 0.9980729222297668\n",
      "sa start+end mean: 0.943190072167838, min: 9.939507147116444e-06, max: 1.9883854389190674\n",
      "na cls_score mean: 0.9905217542395985, min: 0.0006531089602503926, max: 0.9999988377094269\n",
      "na start_logit mean: 0.005345906604843, min: 2.3003374760577344e-09, max: 0.9756889343261719\n",
      "na end_logit mean: 0.004787321011386289, min: 1.0696287411349203e-08, max: 0.9791336059570312\n",
      "na start+end mean: 0.010133227616229291, min: 3.7928502827355715e-07, max: 1.9548225402832031\n",
      "{'tp': 975, 'fp': 9, 'tn': 991, 'fn': 25}\n",
      "{'na': 1000, 'sa': 1000, 'la': 0, 'yn': 0}\n",
      "f1: 0.9828629032258065, p: 0.9908536585365854, r 0.975\n",
      "/dccstor/srosent2/primeqa/experiments/reader_reranker/2epochRoberta/NQftSAP_1040_lr4e5new1ep05neg/output/\n",
      "sa cls_score mean: 0.018996860150517023, min: 0.00017991047934629023, max: 0.9997757971286774\n",
      "sa start_logit mean: 0.5651533201363763, min: 1.0000687325373292e-05, max: 0.9991200566291809\n",
      "sa end_logit mean: 0.3582088916079965, min: 1.2782707017322537e-05, max: 0.9977012276649475\n",
      "sa start+end mean: 0.9233622117443728, min: 6.934278280823492e-05, max: 1.9963160157203674\n",
      "na cls_score mean: 0.9903348387213773, min: 0.0006668255082331598, max: 0.9999884963035583\n",
      "na start_logit mean: 0.003326323334575633, min: 1.472269133273585e-07, max: 0.9929590821266174\n",
      "na end_logit mean: 0.00308449017566743, min: 2.848434732527494e-08, max: 0.63310706615448\n",
      "na start+end mean: 0.006410813510243063, min: 2.6167408009314386e-06, max: 1.192278876900673\n",
      "{'tp': 986, 'fp': 3, 'tn': 997, 'fn': 14}\n",
      "{'na': 1000, 'sa': 1000, 'la': 0, 'yn': 0}\n",
      "f1: 0.9914529914529915, p: 0.9969666329625885, r 0.986\n"
     ]
    }
   ],
   "source": [
    "import glob\n",
    "\n",
    "files = glob.glob(\"/dccstor/srosent2/primeqa/experiments/reader_reranker/2epochRoberta/NQftSAP_1040_lr4e5new*\")\n",
    "\n",
    "for file in files:\n",
    "    file = file + \"/output/\"\n",
    "    print(file)\n",
    "    predictions, references = load_dir(file)\n",
    "    compute_analysis(predictions,references)"
   ]
  },
  {
   "cell_type": "code",
   "execution_count": 12,
   "metadata": {},
   "outputs": [
    {
     "name": "stdout",
     "output_type": "stream",
     "text": [
      "sa cls_score mean: 0.00027519666183812983, min: 7.370597465694573e-08, max: 0.06079230950126657\n",
      "sa start_logit mean: 0.528337646078937, min: 7.390306109300582e-07, max: 0.9997084140777588\n",
      "sa end_logit mean: 0.46912605489077897, min: 6.0692927945638075e-06, max: 0.9999433755874634\n",
      "sa start+end mean: 0.9974637009697159, min: 0.03397626802325249, max: 1.9941377639770508\n",
      "na cls_score mean: 5.055322854992106e-06, min: 5.1320013128020037e-08, max: 0.0022160150642207554\n",
      "na start_logit mean: 0.54821919599858, min: 8.340289809893875e-07, max: 0.9999852776527405\n",
      "na end_logit mean: 0.4475774540861271, min: 2.0547254280245397e-06, max: 0.9999808669090271\n",
      "na start+end mean: 0.9957966500847072, min: 3.818596997007262e-05, max: 1.9997809529304504\n",
      "{'tp': 1000, 'fp': 1000, 'tn': 0, 'fn': 0}\n",
      "{'na': 1000, 'sa': 1000, 'la': 0, 'yn': 0}\n",
      "f1: 0.6666666666666666, p: 0.5, r 1.0\n"
     ]
    }
   ],
   "source": [
    "predictions, references = load_dir(\"/dccstor/srosent2/primeqa/experiments/reader_reranker/2epochRoberta/NQftSAP_1040_lr4e5eval2/output/\")\n",
    "compute_analysis(predictions,references)"
   ]
  },
  {
   "cell_type": "code",
   "execution_count": 13,
   "metadata": {},
   "outputs": [
    {
     "name": "stdout",
     "output_type": "stream",
     "text": [
      "/dccstor/srosent2/primeqa/experiments/reader_reranker/2epochRoberta/SAP/nq_format/NQftSAP_lr4e-5_2ep-0.50negs/output/\n",
      "sa cls_score mean: 0.3124020789358619, min: 0.00014523408754030243, max: 0.9999945163726807\n",
      "sa start_logit mean: 0.34276265454581595, min: 5.131719404971591e-08, max: 0.996731698513031\n",
      "sa end_logit mean: 0.28781373914371566, min: 7.460797490921323e-08, max: 0.9969581365585327\n",
      "sa start+end mean: 0.6305763936895317, min: 1.1063960130286432e-06, max: 1.9935619831085205\n",
      "na cls_score mean: 0.930867491889745, min: 0.0737343356013298, max: 0.9999984204769135\n",
      "na start_logit mean: 0.03237353638353954, min: 1.2912174440771196e-08, max: 0.9289714694023132\n",
      "na end_logit mean: 0.02808201828511829, min: 1.0379930692749895e-08, max: 0.8902056217193604\n",
      "na start+end mean: 0.06045555466865784, min: 3.667508607918535e-08, max: 1.8191770911216736\n",
      "{'tp': 700, 'fp': 65, 'tn': 935, 'fn': 300}\n",
      "{'na': 1000, 'sa': 1000, 'la': 0, 'yn': 0}\n",
      "f1: 0.7932011331444758, p: 0.9150326797385621, r 0.7\n",
      "/dccstor/srosent2/primeqa/experiments/reader_reranker/2epochRoberta/SAP/nq_format/NQftSAP_lr4e-5_1ep-.2-.50negs/output/\n",
      "sa cls_score mean: 0.3366218436574636, min: 0.0005346630132407881, max: 0.9999793767929077\n",
      "sa start_logit mean: 0.2912690688209602, min: 5.87995316436718e-07, max: 0.9875144362449646\n",
      "sa end_logit mean: 0.22172806536381373, min: 2.469504352120566e-07, max: 0.9582355618476868\n",
      "sa start+end mean: 0.5129971341847739, min: 9.920127467921702e-06, max: 1.919074535369873\n",
      "na cls_score mean: 0.9201724143698812, min: 0.048414621502161026, max: 0.9999976754188538\n",
      "na start_logit mean: 0.03284091495517966, min: 1.854506415099877e-08, max: 0.8655447959899902\n",
      "na end_logit mean: 0.026972821426835734, min: 5.138729264331232e-08, max: 0.9466640949249268\n",
      "na start+end mean: 0.0598137363820154, min: 9.18198601596032e-07, max: 1.733044445514679\n",
      "{'tp': 660, 'fp': 65, 'tn': 935, 'fn': 340}\n",
      "{'na': 1000, 'sa': 1000, 'la': 0, 'yn': 0}\n",
      "f1: 0.7652173913043477, p: 0.9103448275862069, r 0.66\n",
      "/dccstor/srosent2/primeqa/experiments/reader_reranker/2epochRoberta/SAP/nq_format/NQftSAP_lr4e-5_1ep-1.00negs/output/\n",
      "sa cls_score mean: 0.36165878155472453, min: 0.0003540549660101533, max: 0.9999977052211761\n",
      "sa start_logit mean: 0.2671202666781867, min: 4.160560251875722e-08, max: 0.9895102381706238\n",
      "sa end_logit mean: 0.2276518397506942, min: 1.915431369070575e-08, max: 0.9839423298835754\n",
      "sa start+end mean: 0.4947721064288809, min: 3.333014717554761e-07, max: 1.9727203249931335\n",
      "na cls_score mean: 0.9482545434385539, min: 0.1877163201570511, max: 0.9999991357326508\n",
      "na start_logit mean: 0.02040943852933153, min: 7.692952053162116e-09, max: 0.678131103515625\n",
      "na end_logit mean: 0.01639018672292949, min: 5.5729416637007034e-09, max: 0.6970204710960388\n",
      "na start+end mean: 0.03679962525226102, min: 2.121722797454595e-08, max: 1.3751515746116638\n",
      "{'tp': 623, 'fp': 38, 'tn': 962, 'fn': 377}\n",
      "{'na': 1000, 'sa': 1000, 'la': 0, 'yn': 0}\n",
      "f1: 0.7501505117399156, p: 0.9425113464447806, r 0.623\n",
      "/dccstor/srosent2/primeqa/experiments/reader_reranker/2epochRoberta/SAP/nq_format/NQftSAP_lr4e-5_2ep-1.00negs/output/\n",
      "sa cls_score mean: 0.34388204401505207, min: 0.0001962590977200307, max: 0.9999975860118866\n",
      "sa start_logit mean: 0.3599879292203375, min: 1.9542776286129993e-08, max: 0.9986278414726257\n",
      "sa end_logit mean: 0.2685550637526519, min: 1.6041073536143813e-07, max: 0.9980709552764893\n",
      "sa start+end mean: 0.6285429929729894, min: 1.8824179370824368e-07, max: 1.996306598186493\n",
      "na cls_score mean: 0.9480246005430818, min: 0.07773003354668617, max: 0.9999990165233612\n",
      "na start_logit mean: 0.02618296478315679, min: 4.2928971488720435e-09, max: 0.9079720377922058\n",
      "na end_logit mean: 0.019603058875598097, min: 1.257620052541597e-08, max: 0.9222055673599243\n",
      "na start+end mean: 0.045786023658754886, min: 3.499832335052133e-08, max: 1.8301776051521301\n",
      "{'tp': 674, 'fp': 45, 'tn': 955, 'fn': 326}\n",
      "{'na': 1000, 'sa': 1000, 'la': 0, 'yn': 0}\n",
      "f1: 0.7841768470040721, p: 0.9374130737134909, r 0.674\n",
      "/dccstor/srosent2/primeqa/experiments/reader_reranker/2epochRoberta/SAP/nq_format/NQftSAP_lr4e-5_1ep-0.50negs/output/\n",
      "sa cls_score mean: 0.29098217264484266, min: 0.0005620015726890415, max: 0.9999859631061554\n",
      "sa start_logit mean: 0.30836397726153664, min: 1.4022138827840536e-07, max: 0.9888049960136414\n",
      "sa end_logit mean: 0.21101213726569784, min: 8.74892336355515e-08, max: 0.976728081703186\n",
      "sa start+end mean: 0.5193761145272344, min: 8.695979886397254e-06, max: 1.9583518505096436\n",
      "na cls_score mean: 0.9165361933158711, min: 0.02259597647935152, max: 0.9999972879886627\n",
      "na start_logit mean: 0.03513202513700385, min: 7.759208386914906e-09, max: 0.9179125428199768\n",
      "na end_logit mean: 0.02746948746561127, min: 3.00915594664275e-08, max: 0.908760130405426\n",
      "na start+end mean: 0.06260151260261512, min: 8.38857001639326e-08, max: 1.8266726732254028\n",
      "{'tp': 698, 'fp': 66, 'tn': 934, 'fn': 302}\n",
      "{'na': 1000, 'sa': 1000, 'la': 0, 'yn': 0}\n",
      "f1: 0.7913832199546486, p: 0.9136125654450262, r 0.698\n"
     ]
    }
   ],
   "source": [
    "import glob\n",
    "\n",
    "files = glob.glob(\"/dccstor/srosent2/primeqa/experiments/reader_reranker/2epochRoberta/SAP/nq_format/*\")\n",
    "\n",
    "for file in files:\n",
    "    file = file + \"/output/\"\n",
    "    print(file)\n",
    "    predictions, references = load_dir(file)\n",
    "    compute_analysis(predictions,references)"
   ]
  }
 ],
 "metadata": {
  "kernelspec": {
   "display_name": "primeqa_new",
   "language": "python",
   "name": "python3"
  },
  "language_info": {
   "codemirror_mode": {
    "name": "ipython",
    "version": 3
   },
   "file_extension": ".py",
   "mimetype": "text/x-python",
   "name": "python",
   "nbconvert_exporter": "python",
   "pygments_lexer": "ipython3",
   "version": "3.9.16"
  },
  "orig_nbformat": 4
 },
 "nbformat": 4,
 "nbformat_minor": 2
}
