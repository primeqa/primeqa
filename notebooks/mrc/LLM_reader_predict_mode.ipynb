{
 "cells": [
  {
   "attachments": {},
   "cell_type": "markdown",
   "metadata": {},
   "source": [
    "The following code shows how to use a PrimeQA reader component based on the OpenAI ChatGPT (gpt-3.5-turbo) or the InstructGPT (text-davinci-003) language models.\n",
    "\n",
    "OpenAI language models can be acessed using an OpenAI API KEY. (https://platform.openai.com/account/api-keys)"
   ]
  },
  {
   "cell_type": "code",
   "execution_count": 1,
   "metadata": {},
   "outputs": [],
   "source": [
    "import json\n",
    "# Reader with GPT LM including gpt-3.5-turbo, text-davinci-003\n",
    "# You can access your OpenAI API key here: https://platform.openai.com/account/api-keys\n",
    "from primeqa.components.reader.prompt import PromptGPTReader\n",
    "reader = PromptGPTReader(model_name='gpt-3.5-turbo', api_key='API KEY HERE')\n",
    "reader.load()"
   ]
  },
  {
   "cell_type": "code",
   "execution_count": 2,
   "metadata": {},
   "outputs": [
    {
     "name": "stdout",
     "output_type": "stream",
     "text": [
      "{\n",
      "    \"0\": {\n",
      "        \"text\": \"The text presents conflicting information about whether smoking marijuana impairs driving. Some studies suggest lower crash risks, while a recent study indicates that fatal crashes involving marijuana have increased in states where it has been legalized or decriminalized. However, law enforcement officers in Colorado can arrest someone for DUI if they observe impairment from marijuana consumption, regardless of THC level.\"\n",
      "    }\n",
      "}\n"
     ]
    }
   ],
   "source": [
    "questions = [\"Does smoking marijuana impair driving ?\"]\n",
    "passages = [[\"Driving under the influence\\\"\\n \\\"driving under the influence (DUI). However, no matter the level of THC, law enforcement officers base arrests on observed impairment.\\\"\\\" In Colorado, if consumption of marijuana is impairing your ability to drive, \\\"\\\"it is illegal for you to be driving, even if that substance is prescribed [by a doctor] or legally acquired.\\\"\\\" Prescription medications such as opioids and benzodiazepines often cause side effects such as excessive drowsiness, and, in the case of opioids, nausea. Other prescription drugs including antiepileptics and antidepressants are now also believed to have the same effect. In the last ten years, there has been an increase\",\n",
    "              \"Effects of cannabis\\\"\\n \\\"studies have found lower (or no) elevated crash risk estimates\\\"\\\". The study found that \\\"\\\"after adjusting for age, gender, race and alcohol use, drivers who tested positive for marijuana were no more likely to crash than those who had not used any drugs or alcohol prior to driving\\\"\\\". On the other hand, a recent study of Journal of Transport & Health indicated that the numbers of fatal crashes involving marijuana after the recreational marijuana legalization or decriminalization have significantly increased in Colorado, Washington, and Massachusetts. Short-term (one to two hours) effects on the cardiovascular system can include increased heart rate\"\n",
    "              ]]\n",
    "prompt_prefix = \"Answer the following question after looking at the text.\"\n",
    "# This creates the following prompt:\n",
    "# f\"{prompt_prefix} Question:{questions[0]} Text: {passages[0]} {prompt_suffix}\"\n",
    "\n",
    "# \"Answer the following question using the passages. \n",
    "#  Question: Does smoking marijuana impair driving ? \n",
    "#  Text: PASSAGES HERE\" \n",
    "\n",
    "# The passages and and the prefix are optional arguments\n",
    "\n",
    "answers = reader.predict(questions, passages, prefix=prompt_prefix)\n",
    "print(json.dumps(answers, indent=4))"
   ]
  },
  {
   "cell_type": "code",
   "execution_count": 3,
   "metadata": {},
   "outputs": [
    {
     "name": "stdout",
     "output_type": "stream",
     "text": [
      "{\n",
      "    \"0\": {\n",
      "        \"text\": \"\\n\\nAnswer: There were 22 participating countries in Tour de France 2017.\"\n",
      "    }\n",
      "}\n"
     ]
    }
   ],
   "source": [
    "questions = [\"number of participating countries in tour de france 2017 ?\"]\n",
    "answers = reader.predict(questions)\n",
    "print(json.dumps(answers, indent=4))"
   ]
  },
  {
   "attachments": {},
   "cell_type": "markdown",
   "metadata": {},
   "source": [
    "The following code shows how to create reader components based on LLM accessible through the BAM service. (https://bam.res.ibm.com/)\n",
    "\n",
    "BAM is currently only available internally at IBM research."
   ]
  },
  {
   "cell_type": "code",
   "execution_count": 4,
   "metadata": {},
   "outputs": [],
   "source": [
    "import json\n",
    "# Reader with the BAM service (https://bam.res.ibm.com/) - this loads the Flan T5 XXL model\n",
    "from primeqa.components.reader.prompt import BAMReader\n",
    "reader = BAMReader(model_name='google/flan-t5-xxl', api_key='API KEY HERE')\n",
    "reader.load()"
   ]
  },
  {
   "cell_type": "code",
   "execution_count": 5,
   "metadata": {},
   "outputs": [
    {
     "name": "stdout",
     "output_type": "stream",
     "text": [
      "{\n",
      "    \"0\": {\n",
      "        \"text\": \"\\\"\\\"studies have found lower (or no) elevated crash risk estimates\\\"\\\". The study found that \\\"\\\"after adjusting for age, gender, race and alcohol use, drivers who tested positive for marijuana were no more likely to crash than those who had not used any drugs or alcohol prior to driving\\\"\\\". On the other hand, a recent study of Journal of Transport & Health indicated that the numbers of fatal crashes involving marijuana after the recreational marijuana legalization or decriminalization have significantly increased in Colorado, Washington, and Massachusetts.\"\n",
      "    }\n",
      "}\n"
     ]
    }
   ],
   "source": [
    "questions = [\"Does smoking marijuana impair driving ?\"]\n",
    "passages = [[\"Driving under the influence\\\"\\n \\\"driving under the influence (DUI). However, no matter the level of THC, law enforcement officers base arrests on observed impairment.\\\"\\\" In Colorado, if consumption of marijuana is impairing your ability to drive, \\\"\\\"it is illegal for you to be driving, even if that substance is prescribed [by a doctor] or legally acquired.\\\"\\\" Prescription medications such as opioids and benzodiazepines often cause side effects such as excessive drowsiness, and, in the case of opioids, nausea. Other prescription drugs including antiepileptics and antidepressants are now also believed to have the same effect. In the last ten years, there has been an increase\",\n",
    "              \"Effects of cannabis\\\"\\n \\\"studies have found lower (or no) elevated crash risk estimates\\\"\\\". The study found that \\\"\\\"after adjusting for age, gender, race and alcohol use, drivers who tested positive for marijuana were no more likely to crash than those who had not used any drugs or alcohol prior to driving\\\"\\\". On the other hand, a recent study of Journal of Transport & Health indicated that the numbers of fatal crashes involving marijuana after the recreational marijuana legalization or decriminalization have significantly increased in Colorado, Washington, and Massachusetts. Short-term (one to two hours) effects on the cardiovascular system can include increased heart rate\"\n",
    "              ]]\n",
    "prompt_prefix = \"Answer the following question using the text\"\n",
    "prompt_suffix = \"\"\n",
    "# This creates the following prompt:\n",
    "# f\"{prompt_prefix} Question:{questions[0]} Text: {passages[0]} {prompt_suffix}\"\n",
    "#\"Answer the following question using the passages. Question: Does smoking marijuana impair driving ? Text: PASSAGES HERE\" \n",
    "answers = reader.predict(questions,passages,prefix=prompt_prefix)\n",
    "print(json.dumps(answers, indent=4))\n"
   ]
  }
 ],
 "metadata": {
  "kernelspec": {
   "display_name": "prompt_reader",
   "language": "python",
   "name": "python3"
  },
  "language_info": {
   "codemirror_mode": {
    "name": "ipython",
    "version": 3
   },
   "file_extension": ".py",
   "mimetype": "text/x-python",
   "name": "python",
   "nbconvert_exporter": "python",
   "pygments_lexer": "ipython3",
   "version": "3.9.16"
  },
  "orig_nbformat": 4,
  "vscode": {
   "interpreter": {
    "hash": "c5d039775dffd761dc362a240b88aab365529f2df8e87d6e6e9eecd3e8d89fd4"
   }
  }
 },
 "nbformat": 4,
 "nbformat_minor": 2
}
