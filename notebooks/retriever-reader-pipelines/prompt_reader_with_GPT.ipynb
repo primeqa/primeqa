{
 "cells": [
  {
   "attachments": {},
   "cell_type": "markdown",
   "metadata": {},
   "source": [
    "Retrieval Augmented Generation with GPT LMs\n",
    "\n",
    "We create a retriever-reader pipeline to provide retrieval augmented systems based on large language models (LLMs) such as OpenAI's ChatGPT(`gpt-3.5-turbo`) and InstructGPT(`text-davinci-003`). These systems generate answers conditioned on the retrieved passages.\n",
    "\n",
    "For every question we show the ChatGPT results with and without the retrieved documents. \n"
   ]
  },
  {
   "cell_type": "code",
   "execution_count": 1,
   "metadata": {},
   "outputs": [
    {
     "name": "stdout",
     "output_type": "stream",
     "text": [
      "{\"time\":\"2023-03-06 10:52:19,329\", \"name\": \"faiss.loader\", \"level\": \"INFO\", \"message\": \"Loading faiss with AVX2 support.\"}\n",
      "{\"time\":\"2023-03-06 10:52:19,725\", \"name\": \"faiss.loader\", \"level\": \"INFO\", \"message\": \"Successfully loaded faiss with AVX2 support.\"}\n"
     ]
    }
   ],
   "source": [
    "from primeqa.components.retriever.dense import ColBERTRetriever\n",
    "from primeqa.components.reader.prompt import PromptGPTReader\n",
    "from primeqa.pipelines.qa_pipeline import QAPipeline\n",
    "import json"
   ]
  },
  {
   "cell_type": "code",
   "execution_count": 2,
   "metadata": {},
   "outputs": [
    {
     "name": "stdout",
     "output_type": "stream",
     "text": [
      "[Mar 06, 10:52:39] #> base_config.py from_path /dccstor/colbert-ir/franzm/indexes/oct2_10_11/oct2_10_11_exp/indexes//oct2_10_11_indname/metadata.json\n",
      "[Mar 06, 10:52:39] #> base_config.py from_path args loaded! \n",
      "[Mar 06, 10:52:39] #> base_config.py from_path args replaced ! \n",
      "[Mar 06, 10:52:50] #>>>>> at ColBERT name (model type) : /dccstor/colbert-ir/franzm/experiments/oct2_7_12_1.5e-06/none/2022-10/09/15.21.39/checkpoints/colbert.dnn.batch_91287.model\n",
      "[Mar 06, 10:52:50] #>>>>> at BaseColBERT name (model type) : /dccstor/colbert-ir/franzm/experiments/oct2_7_12_1.5e-06/none/2022-10/09/15.21.39/checkpoints/colbert.dnn.batch_91287.model\n",
      "[Mar 06, 10:52:57] factory model type: xlm-roberta-large\n",
      "[Mar 06, 10:53:12] get query model type: xlm-roberta-large\n",
      "[Mar 06, 10:53:13] get doc model type: xlm-roberta-large\n",
      "[Mar 06, 10:53:43] #> Loading codec...\n",
      "[Mar 06, 10:53:43] #> base_config.py from_path /dccstor/colbert-ir/franzm/indexes/oct2_10_11/oct2_10_11_exp/indexes//oct2_10_11_indname/metadata.json\n",
      "[Mar 06, 10:53:43] #> base_config.py from_path args loaded! \n",
      "[Mar 06, 10:53:43] #> base_config.py from_path args replaced ! \n",
      "[Mar 06, 10:53:44] Loading decompress_residuals_cpp extension (set COLBERT_LOAD_TORCH_EXTENSION_VERBOSE=True for more info)...\n",
      "[Mar 06, 10:53:45] Loading packbits_cpp extension (set COLBERT_LOAD_TORCH_EXTENSION_VERBOSE=True for more info)...\n",
      "[Mar 06, 10:53:46] #> Loading IVF...\n"
     ]
    }
   ],
   "source": [
    "# setup ColBERT index\n",
    "index_root = \"/dccstor/colbert-ir/franzm/indexes/oct2_10_11/oct2_10_11_exp/indexes/\"\n",
    "index_name = \"oct2_10_11_indname\"\n",
    "collection = \"/dccstor/avi7/neural_ir/colbert/data/psgs_w100.tsv\"\n",
    "\n",
    "\n",
    "retriever = ColBERTRetriever(index_root = index_root, \n",
    "                                     index_name = index_name, \n",
    "                                     collection = collection, \n",
    "                                     max_num_documents = 3)\n",
    "retriever.load()"
   ]
  },
  {
   "cell_type": "code",
   "execution_count": 3,
   "metadata": {},
   "outputs": [],
   "source": [
    "# setup a Prompt Reader: here we use a GPT reader\n",
    "# supports models gpt-3.5-turbo and text-davinci-003\n",
    "reader = PromptGPTReader(model_name='gpt-3.5-turbo', api_key='API KEY HERE')\n",
    "reader.load()"
   ]
  },
  {
   "cell_type": "code",
   "execution_count": 4,
   "metadata": {},
   "outputs": [
    {
     "name": "stderr",
     "output_type": "stream",
     "text": [
      "21015325it [01:07, 311127.86it/s]\n"
     ]
    }
   ],
   "source": [
    "# setup the pipeline\n",
    "pipeline = QAPipeline(retriever, reader)"
   ]
  },
  {
   "cell_type": "code",
   "execution_count": 5,
   "metadata": {},
   "outputs": [
    {
     "name": "stdout",
     "output_type": "stream",
     "text": [
      "{\n",
      "    \"0\": {\n",
      "        \"answers\": {\n",
      "            \"text\": \"\\n\\nAnswer: There were a total of 22 participating countries in the Tour de France 2017.\"\n",
      "        }\n",
      "    }\n",
      "}\n"
     ]
    }
   ],
   "source": [
    "# start asking questions without retriever\n",
    "questions = [\"number of participating countries in tour de france 2017 ?\"]\n",
    "answers = pipeline.run(questions, use_retriever=False)\n",
    "print(json.dumps(answers, indent=4))"
   ]
  },
  {
   "cell_type": "code",
   "execution_count": 6,
   "metadata": {},
   "outputs": [
    {
     "name": "stdout",
     "output_type": "stream",
     "text": [
      "[Mar 06, 11:04:51] #> XMLR QueryTokenizer.tensorize(batch_text[0], batch_background[0], bsize) ==\n",
      "[Mar 06, 11:04:51] #> Input: $ number of participating countries in tour de france 2017 ?, \t\t True, \t\t None\n",
      "[Mar 06, 11:04:51] #> Output IDs: torch.Size([32]), tensor([    0,  9748, 14012,   111, 42938,   214, 76726,    23,  9742,     8,\n",
      "        37863,    13,   505,   705,     2,     1,     1,     1,     1,     1,\n",
      "            1,     1,     1,     1,     1,     1,     1,     1,     1,     1,\n",
      "            1,     1])\n",
      "[Mar 06, 11:04:51] #> Output Mask: torch.Size([32]), tensor([1, 1, 1, 1, 1, 1, 1, 1, 1, 1, 1, 1, 1, 1, 1, 0, 0, 0, 0, 0, 0, 0, 0, 0,\n",
      "        0, 0, 0, 0, 0, 0, 0, 0])\n",
      "[Mar 06, 11:04:51] #>>>> colbert query ==\n",
      "[Mar 06, 11:04:51] #>>>>> input_ids: torch.Size([32]), tensor([    0,  9748, 14012,   111, 42938,   214, 76726,    23,  9742,     8,\n",
      "        37863,    13,   505,   705,     2,     1,     1,     1,     1,     1,\n",
      "            1,     1,     1,     1,     1,     1,     1,     1,     1,     1,\n",
      "            1,     1], device='cuda:0')\n",
      "[Mar 06, 11:04:51] #>>>> before linear query ==\n",
      "[Mar 06, 11:04:52] #>>>>> Q: torch.Size([32, 1024]), tensor([[-0.3632, -0.2740,  0.2983,  ..., -0.5501, -0.3213, -0.5423],\n",
      "        [-0.0873,  0.4590, -0.6778,  ..., -0.3199, -1.1536, -0.6252],\n",
      "        [ 0.0102,  0.3723, -0.2734,  ..., -0.1751, -0.8862, -0.6293],\n",
      "        ...,\n",
      "        [-0.1439,  0.1648, -0.5101,  ..., -0.2613, -1.1410, -0.4697],\n",
      "        [-0.1439,  0.1648, -0.5101,  ..., -0.2613, -1.1410, -0.4697],\n",
      "        [-0.1439,  0.1648, -0.5101,  ..., -0.2613, -1.1410, -0.4697]],\n",
      "       device='cuda:0')\n",
      "[Mar 06, 11:04:52] #>>>>> self.linear query : Parameter containing:\n",
      "tensor([[-0.0301, -0.0307, -0.0115,  ..., -0.0231, -0.0023, -0.0216],\n",
      "        [ 0.0053,  0.0023, -0.0308,  ...,  0.0108,  0.0011,  0.0201],\n",
      "        [-0.0220,  0.0370,  0.0339,  ..., -0.0023, -0.0172,  0.0244],\n",
      "        ...,\n",
      "        [ 0.0222,  0.0115, -0.0246,  ...,  0.0389, -0.0034, -0.0165],\n",
      "        [-0.0146,  0.0392,  0.0131,  ..., -0.0055,  0.0219, -0.0368],\n",
      "        [ 0.0071,  0.0256, -0.0346,  ...,  0.0322,  0.0370,  0.0437]],\n",
      "       device='cuda:0', requires_grad=True)\n",
      "[Mar 06, 11:04:52] #>>>> colbert query ==\n",
      "[Mar 06, 11:04:52] #>>>>> Q: torch.Size([32, 128]), tensor([[-0.2434, -0.2866, -0.4492,  ...,  0.1019,  0.2415,  0.1565],\n",
      "        [-0.0876, -0.9575, -0.2634,  ...,  0.8081,  0.5908,  0.1160],\n",
      "        [-0.1115, -1.0312, -0.2073,  ...,  0.8413,  0.6211,  0.3892],\n",
      "        ...,\n",
      "        [-0.2109, -1.0869, -0.3044,  ...,  0.7803,  0.4763,  0.0412],\n",
      "        [-0.2109, -1.0869, -0.3044,  ...,  0.7803,  0.4763,  0.0412],\n",
      "        [-0.2109, -1.0869, -0.3044,  ...,  0.7803,  0.4763,  0.0412]],\n",
      "       device='cuda:0', dtype=torch.float16)\n"
     ]
    },
    {
     "name": "stderr",
     "output_type": "stream",
     "text": [
      "100%|████████████████████████████████████████████████████████████████████████████████████████████| 1/1 [00:00<00:00,  6.45it/s]\n"
     ]
    },
    {
     "name": "stdout",
     "output_type": "stream",
     "text": [
      "{\n",
      "    \"0\": {\n",
      "        \"answers\": {\n",
      "            \"text\": \"How many countries participated in the Tour de France 2017?\\n\\n32 countries participated in the Tour de France 2017.\"\n",
      "        },\n",
      "        \"passages\": [\n",
      "            \"\\\"2017 Tour de France\\\"\\n \\\"de France. The total number of riders that finished the race was 167. The riders came from 32 countries. Six countries had more than 10 riders in the race: France (39), Italy (18), Belgium (16), Germany (16), the Netherlands (15), and Spain (13). The average age of riders in the race was 29.4 years, ranging from the 22-year-old \\u00c9lie Gesbert () to the 40-year-old Haimar Zubeldia (). had the youngest average age while had the oldest. The teams entering the race were: In the lead up to the 2017 Tour de France, Chris Froome () was seen by many pundits\\\"\",\n",
      "            \"\\\"2018 Tour de France\\\"\\n \\\"reduced the number of riders per team for Grand Tours from 9 to 8, resulting in a start list total of 176, instead of the usual 198. Of these, 35 competed in their first Tour de France. The total number of riders that finished the race was 145. The riders came from 30 countries. Seven countries had more than 10 riders in the race: France (35), Belgium (19), the Netherlands (13), Italy (13), Australia (11), Germany (11) and Spain (11). The average age of riders in the race was 29.37 years, ranging from the 21-year-old Egan Bernal () to the\\\"\",\n",
      "            \"\\\"2016 Tour de France\\\"\\n \\\"were competing in their first Tour de France. The total number of riders that finished the race was 174, beating the previous record of 170 set in 2010 Tour. The riders came from 35 countries; France, Spain, the Netherlands, Belgium, Italy and Germany all had 10 or more riders in the race. Riders from ten countries won stages during the race; British riders won the largest number of stages, with seven. The average age of riders in the race was 30 years, ranging from the 22-year-old Sondre Holst Enger () to the 42-year-old Matteo Tosatto (). Of the total average\\\"\"\n",
      "        ]\n",
      "    }\n",
      "}\n"
     ]
    }
   ],
   "source": [
    "# start asking questions with retriever\n",
    "questions = [\"number of participating countries in tour de france 2017 ?\"]\n",
    "prompt_prefix = \"Answer the following question after looking at the text.\"\n",
    "answers = pipeline.run(questions, prefix=prompt_prefix, use_retriever=True)\n",
    "print(json.dumps(answers, indent=4))"
   ]
  },
  {
   "cell_type": "code",
   "execution_count": 7,
   "metadata": {},
   "outputs": [
    {
     "name": "stdout",
     "output_type": "stream",
     "text": [
      "{\n",
      "    \"0\": {\n",
      "        \"answers\": {\n",
      "            \"text\": \"\\n\\nAs an AI language model, I don't have the most up-to-date information, but according to the North American Numbering Plan Administration (NANPA) as of August 2021, there are two area codes assigned to New Hampshire: 603 and 364.\"\n",
      "        }\n",
      "    }\n",
      "}\n"
     ]
    }
   ],
   "source": [
    "# start asking questions without retreiver\n",
    "questions = [\"How many area codes are in New Hampshire ?\"]\n",
    "answers = pipeline.run(questions, use_retriever=False)\n",
    "print(json.dumps(answers, indent=4))"
   ]
  },
  {
   "cell_type": "code",
   "execution_count": 8,
   "metadata": {},
   "outputs": [
    {
     "name": "stderr",
     "output_type": "stream",
     "text": [
      "100%|████████████████████████████████████████████████████████████████████████████████████████████| 1/1 [00:00<00:00, 18.12it/s]\n"
     ]
    },
    {
     "name": "stdout",
     "output_type": "stream",
     "text": [
      "{\n",
      "    \"0\": {\n",
      "        \"answers\": {\n",
      "            \"text\": \"There is only one area code in New Hampshire, which is 603.\"\n",
      "        },\n",
      "        \"passages\": [\n",
      "            \"\\\"Area code 603\\\"\\n \\\"previously allocated telephone numbers, as well as number pooling, the exhaustion time frame has been moved beyond 2025. Since New Hampshire has only one area code, callers in the state can reach any other telephone within the 603 area code with 7-digit dialing. Area code 603 Area code 603 is the sole area code for the U.S. state of New Hampshire in the North American Numbering Plan (NANP). It was created as one of the original 86 numbering plan areas in October 1947. As of April 2011, the 603 code was nearing exhaustion and a second area code for New\\\"\",\n",
      "            \"\\\"Area code 603\\\"\\n \\\"Area code 603 Area code 603 is the sole area code for the U.S. state of New Hampshire in the North American Numbering Plan (NANP). It was created as one of the original 86 numbering plan areas in October 1947. As of April 2011, the 603 code was nearing exhaustion and a second area code for New Hampshire was expected to be activated by 2013. Rather than a split, the New Hampshire Public Utilities Commission recommended that it be implemented as a statewide overlay. However, because of a change in allocation policies and a reclamation of a large block of\\\"\",\n",
      "            \"\\\"New Hampshire Lottery\\\"\\n \\\"to avoid violating US anti-lottery statutes. Tickets were sold mostly in New Hampshire's liquor stores. In September 2018, the New Hampshire Lottery offered online lottery products for the first time. All of New Hampshire's draw games are shared with other lotteries, with the exception of Keno. New Hampshire's version of lottery keno, called \\\"\\\"Keno 603\\\"\\\" (the state's area code) launched on December 15, 2017. These games are always drawn in New Hampshire: Pick 3 and Pick 4 are numbers games played twice daily, including Sundays. Prizes and options vary. The original Megabucks, a \\\"\\\"classic\\\"\\\" six-number game, began in 1985. Megabucks\\\"\"\n",
      "        ]\n",
      "    }\n",
      "}\n"
     ]
    }
   ],
   "source": [
    "# start asking questions with retreived passages\n",
    "questions = [\"How many area codes are in New Hampshire?\"]\n",
    "prompt_prefix = \"Answer the following question after looking at the text.\"\n",
    "answers = pipeline.run(questions, prefix=prompt_prefix, use_retriever=True)\n",
    "print(json.dumps(answers, indent=4))"
   ]
  },
  {
   "cell_type": "code",
   "execution_count": null,
   "metadata": {},
   "outputs": [],
   "source": []
  }
 ],
 "metadata": {
  "kernelspec": {
   "display_name": "Python 3 (ipykernel)",
   "language": "python",
   "name": "python3"
  },
  "language_info": {
   "codemirror_mode": {
    "name": "ipython",
    "version": 3
   },
   "file_extension": ".py",
   "mimetype": "text/x-python",
   "name": "python",
   "nbconvert_exporter": "python",
   "pygments_lexer": "ipython3",
   "version": "3.9.16"
  },
  "vscode": {
   "interpreter": {
    "hash": "c5d039775dffd761dc362a240b88aab365529f2df8e87d6e6e9eecd3e8d89fd4"
   }
  }
 },
 "nbformat": 4,
 "nbformat_minor": 2
}
