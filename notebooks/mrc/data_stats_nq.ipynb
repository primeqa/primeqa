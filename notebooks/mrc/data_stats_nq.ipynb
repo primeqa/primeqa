{
 "cells": [
  {
   "cell_type": "code",
   "execution_count": 1,
   "metadata": {},
   "outputs": [
    {
     "name": "stderr",
     "output_type": "stream",
     "text": [
      "Using the latest cached version of the module from /dccstor/srosent3/huggingface_cache/modules/datasets_modules/datasets/natural_questions/da8124c83e3394df62c0f9bbc6c07652bbe9288ad833053134d5f0e978bb4ee5 (last modified on Tue Jun 20 10:13:49 2023) since it couldn't be found locally at natural_questions., or remotely on the Hugging Face Hub.\n",
      "Reusing dataset natural_questions (/dccstor/srosent3/huggingface_cache/datasets/natural_questions/default/0.0.4/da8124c83e3394df62c0f9bbc6c07652bbe9288ad833053134d5f0e978bb4ee5)\n"
     ]
    },
    {
     "data": {
      "application/vnd.jupyter.widget-view+json": {
       "model_id": "6fe598c6b98f492b9e2d0e5a29ed19b2",
       "version_major": 2,
       "version_minor": 0
      },
      "text/plain": [
       "  0%|          | 0/2 [00:00<?, ?it/s]"
      ]
     },
     "metadata": {},
     "output_type": "display_data"
    },
    {
     "name": "stdout",
     "output_type": "stream",
     "text": [
      "Using 307373 train examples.\n",
      "Using 7830 eval examples.\n"
     ]
    }
   ],
   "source": [
    "import datasets\n",
    "import random\n",
    "\n",
    "dataset_name = \"natural_questions\"\n",
    "config_name = \"default\"\n",
    "revision = \"main\"\n",
    "split = None\n",
    "max_train_samples = None\n",
    "max_eval_samples = None\n",
    "cache_dir = None\n",
    "\n",
    "raw_datasets = datasets.load_dataset(\n",
    "    dataset_name, config_name,\n",
    "    revision=revision,\n",
    "    split=split,\n",
    "    cache_dir=cache_dir,\n",
    ")\n",
    "\n",
    "train_examples = raw_datasets[\"train\"]\n",
    "max_train_samples = max_train_samples\n",
    "if max_train_samples is not None:\n",
    "    # We will select sample from whole data if argument is specified\n",
    "    train_examples = train_examples.select(range(max_train_samples))\n",
    "\n",
    "print(f\"Using {train_examples.num_rows} train examples.\")\n",
    "\n",
    "eval_examples = raw_datasets[\"validation\"]\n",
    "max_eval_samples = max_eval_samples\n",
    "if max_eval_samples is not None:\n",
    "    # We will select sample from whole data if argument is specified\n",
    "    random_idxs = random.sample(range(len(eval_examples)), max_eval_samples)\n",
    "    eval_examples = eval_examples.select(random_idxs)\n",
    "\n",
    "print(f\"Using {eval_examples.num_rows} eval examples.\")"
   ]
  },
  {
   "cell_type": "code",
   "execution_count": 4,
   "metadata": {},
   "outputs": [
    {
     "name": "stdout",
     "output_type": "stream",
     "text": [
      "short: 341 long: 468 all: 1000\n",
      "short answer w/html: 5.296187683284457\n",
      "short answer: 5.296187683284457\n",
      "long answer w/html: 279.77777777777777\n",
      "long answer: 203.5940170940171\n",
      "short: 674 long: 948 all: 2000\n",
      "short answer w/html: 4.640949554896142\n",
      "short answer: 4.640949554896142\n",
      "long answer w/html: 348.1044303797468\n",
      "long answer: 239.14240506329114\n",
      "short: 1035 long: 1438 all: 3000\n",
      "short answer w/html: 4.370048309178744\n",
      "short answer: 4.370048309178744\n",
      "long answer w/html: 346.9777468706537\n",
      "long answer: 249.1307371349096\n",
      "short: 1360 long: 1953 all: 4000\n",
      "short answer w/html: 4.29264705882353\n",
      "short answer: 4.285294117647059\n",
      "long answer w/html: 355.6912442396313\n",
      "long answer: 253.38402457757297\n",
      "short: 1708 long: 2455 all: 5000\n",
      "short answer w/html: 4.1703747072599535\n",
      "short answer: 4.164519906323185\n",
      "long answer w/html: 358.24236252545825\n",
      "long answer: 251.6826883910387\n",
      "short: 2063 long: 2964 all: 6000\n",
      "short answer w/html: 4.234609791565681\n",
      "short answer: 4.229762481822588\n",
      "long answer w/html: 352.3890013495277\n",
      "long answer: 248.15958164642376\n",
      "short: 2390 long: 3452 all: 7000\n",
      "short answer w/html: 4.197489539748954\n",
      "short answer: 4.193305439330544\n",
      "long answer w/html: 377.38731170336035\n",
      "long answer: 261.4168597914253\n",
      "short: 2765 long: 3957 all: 8000\n",
      "short answer w/html: 4.228571428571429\n",
      "short answer: 4.224231464737794\n",
      "long answer w/html: 373.23957543593633\n",
      "long answer: 258.10689916603485\n",
      "short: 3123 long: 4457 all: 9000\n",
      "short answer w/html: 4.160422670509126\n",
      "short answer: 4.156580211335254\n",
      "long answer w/html: 367.56495400493606\n",
      "long answer: 257.00987211128563\n"
     ]
    },
    {
     "ename": "KeyboardInterrupt",
     "evalue": "",
     "output_type": "error",
     "traceback": [
      "\u001b[0;31m---------------------------------------------------------------------------\u001b[0m",
      "\u001b[0;31mKeyboardInterrupt\u001b[0m                         Traceback (most recent call last)",
      "Cell \u001b[0;32mIn[4], line 43\u001b[0m\n\u001b[1;32m     40\u001b[0m             \u001b[39mprint\u001b[39m(\u001b[39mf\u001b[39m\u001b[39m'\u001b[39m\u001b[39mlong answer w/html: \u001b[39m\u001b[39m{\u001b[39;00mlong_answer_html_len\u001b[39m/\u001b[39mlong_answer_count\u001b[39m}\u001b[39;00m\u001b[39m'\u001b[39m)\n\u001b[1;32m     41\u001b[0m             \u001b[39mprint\u001b[39m(\u001b[39mf\u001b[39m\u001b[39m'\u001b[39m\u001b[39mlong answer: \u001b[39m\u001b[39m{\u001b[39;00mlong_answer_len\u001b[39m/\u001b[39mlong_answer_count\u001b[39m}\u001b[39;00m\u001b[39m'\u001b[39m)\n\u001b[0;32m---> 43\u001b[0m average_length(train_examples)\n",
      "Cell \u001b[0;32mIn[4], line 16\u001b[0m, in \u001b[0;36maverage_length\u001b[0;34m(examples)\u001b[0m\n\u001b[1;32m     14\u001b[0m long_answer_count \u001b[39m=\u001b[39m \u001b[39m0\u001b[39m\n\u001b[1;32m     15\u001b[0m index \u001b[39m=\u001b[39m \u001b[39m0\u001b[39m\n\u001b[0;32m---> 16\u001b[0m \u001b[39mfor\u001b[39;00m example \u001b[39min\u001b[39;00m examples:\n\u001b[1;32m     17\u001b[0m     index \u001b[39m+\u001b[39m\u001b[39m=\u001b[39m \u001b[39m1\u001b[39m\n\u001b[1;32m     18\u001b[0m     \u001b[39mif\u001b[39;00m \u001b[39m'\u001b[39m\u001b[39mshort_answers\u001b[39m\u001b[39m'\u001b[39m \u001b[39min\u001b[39;00m example[\u001b[39m'\u001b[39m\u001b[39mannotations\u001b[39m\u001b[39m'\u001b[39m]:\n",
      "File \u001b[0;32m/dccstor/srosent1/miniconda3/envs/primeqa_new/lib/python3.9/site-packages/datasets/arrow_dataset.py:1791\u001b[0m, in \u001b[0;36mDataset._iter\u001b[0;34m(self, decoded)\u001b[0m\n\u001b[1;32m   1785\u001b[0m \u001b[39m\u001b[39m\u001b[39m\"\"\"Iterate through the examples.\u001b[39;00m\n\u001b[1;32m   1786\u001b[0m \n\u001b[1;32m   1787\u001b[0m \u001b[39mIf a formatting is set with :meth:`Dataset.set_format` rows will be returned with the\u001b[39;00m\n\u001b[1;32m   1788\u001b[0m \u001b[39mselected format.\u001b[39;00m\n\u001b[1;32m   1789\u001b[0m \u001b[39m\"\"\"\u001b[39;00m\n\u001b[1;32m   1790\u001b[0m \u001b[39mfor\u001b[39;00m index \u001b[39min\u001b[39;00m \u001b[39mrange\u001b[39m(\u001b[39mself\u001b[39m\u001b[39m.\u001b[39mnum_rows):\n\u001b[0;32m-> 1791\u001b[0m     \u001b[39myield\u001b[39;00m \u001b[39mself\u001b[39;49m\u001b[39m.\u001b[39;49m_getitem(\n\u001b[1;32m   1792\u001b[0m         index,\n\u001b[1;32m   1793\u001b[0m         decoded\u001b[39m=\u001b[39;49mdecoded,\n\u001b[1;32m   1794\u001b[0m     )\n",
      "File \u001b[0;32m/dccstor/srosent1/miniconda3/envs/primeqa_new/lib/python3.9/site-packages/datasets/arrow_dataset.py:2139\u001b[0m, in \u001b[0;36mDataset._getitem\u001b[0;34m(self, key, decoded, **kwargs)\u001b[0m\n\u001b[1;32m   2137\u001b[0m formatter \u001b[39m=\u001b[39m get_formatter(format_type, features\u001b[39m=\u001b[39m\u001b[39mself\u001b[39m\u001b[39m.\u001b[39mfeatures, decoded\u001b[39m=\u001b[39mdecoded, \u001b[39m*\u001b[39m\u001b[39m*\u001b[39mformat_kwargs)\n\u001b[1;32m   2138\u001b[0m pa_subtable \u001b[39m=\u001b[39m query_table(\u001b[39mself\u001b[39m\u001b[39m.\u001b[39m_data, key, indices\u001b[39m=\u001b[39m\u001b[39mself\u001b[39m\u001b[39m.\u001b[39m_indices \u001b[39mif\u001b[39;00m \u001b[39mself\u001b[39m\u001b[39m.\u001b[39m_indices \u001b[39mis\u001b[39;00m \u001b[39mnot\u001b[39;00m \u001b[39mNone\u001b[39;00m \u001b[39melse\u001b[39;00m \u001b[39mNone\u001b[39;00m)\n\u001b[0;32m-> 2139\u001b[0m formatted_output \u001b[39m=\u001b[39m format_table(\n\u001b[1;32m   2140\u001b[0m     pa_subtable, key, formatter\u001b[39m=\u001b[39;49mformatter, format_columns\u001b[39m=\u001b[39;49mformat_columns, output_all_columns\u001b[39m=\u001b[39;49moutput_all_columns\n\u001b[1;32m   2141\u001b[0m )\n\u001b[1;32m   2142\u001b[0m \u001b[39mreturn\u001b[39;00m formatted_output\n",
      "File \u001b[0;32m/dccstor/srosent1/miniconda3/envs/primeqa_new/lib/python3.9/site-packages/datasets/formatting/formatting.py:532\u001b[0m, in \u001b[0;36mformat_table\u001b[0;34m(table, key, formatter, format_columns, output_all_columns)\u001b[0m\n\u001b[1;32m    530\u001b[0m python_formatter \u001b[39m=\u001b[39m PythonFormatter(features\u001b[39m=\u001b[39m\u001b[39mNone\u001b[39;00m)\n\u001b[1;32m    531\u001b[0m \u001b[39mif\u001b[39;00m format_columns \u001b[39mis\u001b[39;00m \u001b[39mNone\u001b[39;00m:\n\u001b[0;32m--> 532\u001b[0m     \u001b[39mreturn\u001b[39;00m formatter(pa_table, query_type\u001b[39m=\u001b[39;49mquery_type)\n\u001b[1;32m    533\u001b[0m \u001b[39melif\u001b[39;00m query_type \u001b[39m==\u001b[39m \u001b[39m\"\u001b[39m\u001b[39mcolumn\u001b[39m\u001b[39m\"\u001b[39m:\n\u001b[1;32m    534\u001b[0m     \u001b[39mif\u001b[39;00m key \u001b[39min\u001b[39;00m format_columns:\n",
      "File \u001b[0;32m/dccstor/srosent1/miniconda3/envs/primeqa_new/lib/python3.9/site-packages/datasets/formatting/formatting.py:281\u001b[0m, in \u001b[0;36mFormatter.__call__\u001b[0;34m(self, pa_table, query_type)\u001b[0m\n\u001b[1;32m    279\u001b[0m \u001b[39mdef\u001b[39;00m \u001b[39m__call__\u001b[39m(\u001b[39mself\u001b[39m, pa_table: pa\u001b[39m.\u001b[39mTable, query_type: \u001b[39mstr\u001b[39m) \u001b[39m-\u001b[39m\u001b[39m>\u001b[39m Union[RowFormat, ColumnFormat, BatchFormat]:\n\u001b[1;32m    280\u001b[0m     \u001b[39mif\u001b[39;00m query_type \u001b[39m==\u001b[39m \u001b[39m\"\u001b[39m\u001b[39mrow\u001b[39m\u001b[39m\"\u001b[39m:\n\u001b[0;32m--> 281\u001b[0m         \u001b[39mreturn\u001b[39;00m \u001b[39mself\u001b[39;49m\u001b[39m.\u001b[39;49mformat_row(pa_table)\n\u001b[1;32m    282\u001b[0m     \u001b[39melif\u001b[39;00m query_type \u001b[39m==\u001b[39m \u001b[39m\"\u001b[39m\u001b[39mcolumn\u001b[39m\u001b[39m\"\u001b[39m:\n\u001b[1;32m    283\u001b[0m         \u001b[39mreturn\u001b[39;00m \u001b[39mself\u001b[39m\u001b[39m.\u001b[39mformat_column(pa_table)\n",
      "File \u001b[0;32m/dccstor/srosent1/miniconda3/envs/primeqa_new/lib/python3.9/site-packages/datasets/formatting/formatting.py:310\u001b[0m, in \u001b[0;36mPythonFormatter.format_row\u001b[0;34m(self, pa_table)\u001b[0m\n\u001b[1;32m    309\u001b[0m \u001b[39mdef\u001b[39;00m \u001b[39mformat_row\u001b[39m(\u001b[39mself\u001b[39m, pa_table: pa\u001b[39m.\u001b[39mTable) \u001b[39m-\u001b[39m\u001b[39m>\u001b[39m \u001b[39mdict\u001b[39m:\n\u001b[0;32m--> 310\u001b[0m     row \u001b[39m=\u001b[39m \u001b[39mself\u001b[39;49m\u001b[39m.\u001b[39;49mpython_arrow_extractor()\u001b[39m.\u001b[39;49mextract_row(pa_table)\n\u001b[1;32m    311\u001b[0m     \u001b[39mif\u001b[39;00m \u001b[39mself\u001b[39m\u001b[39m.\u001b[39mdecoded:\n\u001b[1;32m    312\u001b[0m         row \u001b[39m=\u001b[39m \u001b[39mself\u001b[39m\u001b[39m.\u001b[39mpython_features_decoder\u001b[39m.\u001b[39mdecode_row(row)\n",
      "File \u001b[0;32m/dccstor/srosent1/miniconda3/envs/primeqa_new/lib/python3.9/site-packages/datasets/formatting/formatting.py:140\u001b[0m, in \u001b[0;36mPythonArrowExtractor.extract_row\u001b[0;34m(self, pa_table)\u001b[0m\n\u001b[1;32m    139\u001b[0m \u001b[39mdef\u001b[39;00m \u001b[39mextract_row\u001b[39m(\u001b[39mself\u001b[39m, pa_table: pa\u001b[39m.\u001b[39mTable) \u001b[39m-\u001b[39m\u001b[39m>\u001b[39m \u001b[39mdict\u001b[39m:\n\u001b[0;32m--> 140\u001b[0m     \u001b[39mreturn\u001b[39;00m _unnest(pa_table\u001b[39m.\u001b[39;49mto_pydict())\n",
      "File \u001b[0;32m/dccstor/srosent1/miniconda3/envs/primeqa_new/lib/python3.9/site-packages/pyarrow/table.pxi:2028\u001b[0m, in \u001b[0;36mpyarrow.lib.Table.to_pydict\u001b[0;34m()\u001b[0m\n",
      "File \u001b[0;32m/dccstor/srosent1/miniconda3/envs/primeqa_new/lib/python3.9/site-packages/pyarrow/table.pxi:536\u001b[0m, in \u001b[0;36mpyarrow.lib.ChunkedArray.to_pylist\u001b[0;34m()\u001b[0m\n",
      "File \u001b[0;32m/dccstor/srosent1/miniconda3/envs/primeqa_new/lib/python3.9/site-packages/pyarrow/array.pxi:1289\u001b[0m, in \u001b[0;36mpyarrow.lib.Array.to_pylist\u001b[0;34m()\u001b[0m\n",
      "File \u001b[0;32m/dccstor/srosent1/miniconda3/envs/primeqa_new/lib/python3.9/site-packages/pyarrow/scalar.pxi:696\u001b[0m, in \u001b[0;36mpyarrow.lib.StructScalar.as_py\u001b[0;34m()\u001b[0m\n",
      "File \u001b[0;32m/dccstor/srosent1/miniconda3/envs/primeqa_new/lib/python3.9/site-packages/pyarrow/scalar.pxi:696\u001b[0m, in \u001b[0;36mpyarrow.lib.StructScalar.as_py\u001b[0;34m()\u001b[0m\n",
      "File \u001b[0;32m/dccstor/srosent1/miniconda3/envs/primeqa_new/lib/python3.9/_collections_abc.py:826\u001b[0m, in \u001b[0;36mKeysView.__iter__\u001b[0;34m(self)\u001b[0m\n\u001b[1;32m    825\u001b[0m \u001b[39mdef\u001b[39;00m \u001b[39m__iter__\u001b[39m(\u001b[39mself\u001b[39m):\n\u001b[0;32m--> 826\u001b[0m     \u001b[39myield from\u001b[39;00m \u001b[39mself\u001b[39m\u001b[39m.\u001b[39m_mapping\n",
      "\u001b[0;31mKeyboardInterrupt\u001b[0m: "
     ]
    }
   ],
   "source": [
    "def countX(lst, x):\n",
    "    count = 0\n",
    "    for ele in lst:\n",
    "        if (ele == x):\n",
    "            count = count + 1\n",
    "    return count\n",
    "\n",
    "def average_length(examples):\n",
    "    short_answer_html_len  = 0\n",
    "    short_answer_len = 0\n",
    "    long_answer_html_len  = 0\n",
    "    long_answer_len = 0\n",
    "    short_answer_count = 0\n",
    "    long_answer_count = 0\n",
    "    index = 0\n",
    "    for example in examples:\n",
    "        index += 1\n",
    "        if 'short_answers' in example['annotations']:\n",
    "            for short_answer in example['annotations']['short_answers']:\n",
    "                if len(short_answer['start_token']) == 0:\n",
    "                    continue\n",
    "                short_answer_count += 1\n",
    "                tokens = example['document']['tokens']['token'][short_answer['start_token'][0]:short_answer['end_token'][0]]\n",
    "                is_html = example['document']['tokens']['is_html'][short_answer['start_token'][0]:short_answer['end_token'][0]]\n",
    "                short_answer_html_len += len(tokens)\n",
    "                short_answer_len += countX(is_html, False)\n",
    "        if 'long_answer' in example['annotations']:\n",
    "            for long_answer in example['annotations']['long_answer']:\n",
    "                if long_answer['candidate_index'] == -1:\n",
    "                    continue\n",
    "                long_answer_count += 1\n",
    "                tokens = example['document']['tokens']['token'][long_answer['start_token']:long_answer['end_token']]\n",
    "                is_html = example['document']['tokens']['is_html'][long_answer['start_token']:long_answer['end_token']]\n",
    "                long_answer_html_len += len(tokens)\n",
    "                long_answer_len += countX(is_html, False)\n",
    "        if index % 5000 == 0:\n",
    "            print(f'short: {short_answer_count} long: {long_answer_count} all: {index}')\n",
    "            print(f'short answer w/html: {short_answer_html_len/short_answer_count}')\n",
    "            print(f'short answer: {short_answer_len/short_answer_count}')\n",
    "            print(f'long answer w/html: {long_answer_html_len/long_answer_count}')\n",
    "            print(f'long answer: {long_answer_len/long_answer_count}')\n",
    "\n",
    "average_length(train_examples)"
   ]
  },
  {
   "cell_type": "code",
   "execution_count": 5,
   "metadata": {},
   "outputs": [],
   "source": [
    "train_examples"
   ]
  },
  {
   "cell_type": "code",
   "execution_count": null,
   "metadata": {},
   "outputs": [
    {
     "ename": "ImportError",
     "evalue": "cannot import name 'NaturalQuestionsPreprocessor' from 'primeqa.mrc.processors.preprocessors.natural_questions' (/dccstor/srosent2/primeqa/primeqa/primeqa/mrc/processors/preprocessors/natural_questions.py)",
     "output_type": "error",
     "traceback": [
      "\u001b[0;31m---------------------------------------------------------------------------\u001b[0m",
      "\u001b[0;31mImportError\u001b[0m                               Traceback (most recent call last)",
      "Cell \u001b[0;32mIn[5], line 1\u001b[0m\n\u001b[0;32m----> 1\u001b[0m \u001b[39mfrom\u001b[39;00m \u001b[39mprimeqa\u001b[39;00m\u001b[39m.\u001b[39;00m\u001b[39mmrc\u001b[39;00m\u001b[39m.\u001b[39;00m\u001b[39mprocessors\u001b[39;00m\u001b[39m.\u001b[39;00m\u001b[39mpreprocessors\u001b[39;00m\u001b[39m.\u001b[39;00m\u001b[39mnatural_questions\u001b[39;00m \u001b[39mimport\u001b[39;00m NaturalQuestionsPreprocessor\n\u001b[1;32m      3\u001b[0m \u001b[39mfrom\u001b[39;00m \u001b[39mtransformers\u001b[39;00m \u001b[39mimport\u001b[39;00m AutoConfig, AutoTokenizer\n\u001b[1;32m      4\u001b[0m model_name \u001b[39m=\u001b[39m \u001b[39m'\u001b[39m\u001b[39mroberta-base\u001b[39m\u001b[39m'\u001b[39m\n",
      "\u001b[0;31mImportError\u001b[0m: cannot import name 'NaturalQuestionsPreprocessor' from 'primeqa.mrc.processors.preprocessors.natural_questions' (/dccstor/srosent2/primeqa/primeqa/primeqa/mrc/processors/preprocessors/natural_questions.py)"
     ]
    }
   ],
   "source": [
    "from primeqa.mrc.processors.preprocessors.natural_questions import NaturalQuestionsPreProcessor\n",
    "\n",
    "from transformers import AutoConfig, AutoTokenizer\n",
    "model_name = 'roberta-base'\n",
    "\n",
    "config = AutoConfig.from_pretrained(\n",
    "    model_name,\n",
    "    cache_dir=cache_dir,\n",
    ")\n",
    "tokenizer = AutoTokenizer.from_pretrained(\n",
    "    model_name,\n",
    "    cache_dir=cache_dir,\n",
    "    use_fast=True,\n",
    "    config=config,\n",
    ")\n",
    "\n",
    "preprocessor = NaturalQuestionsPreprocessor(\n",
    "    stride=128,\n",
    "    tokenizer=tokenizer,\n",
    ")\n",
    "\n",
    "# Train Feature Creation\n",
    "train_examples, train_dataset = preprocessor.process_train(train_examples)\n",
    "\n",
    "print(f\"Preprocessing produced {train_dataset.num_rows} train features from {train_examples.num_rows} examples.\")\n",
    "\n",
    "# Validation Feature Creation\n",
    "eval_examples, eval_dataset = preprocessor.process_eval(eval_examples)\n",
    "\n",
    "print(f\"Preprocessing produced {eval_dataset.num_rows} eval features from {eval_examples.num_rows} examples.\")"
   ]
  },
  {
   "cell_type": "code",
   "execution_count": null,
   "metadata": {},
   "outputs": [],
   "source": [
    "# compute length of answer span and passage answer"
   ]
  }
 ],
 "metadata": {
  "kernelspec": {
   "display_name": "primeqa_new",
   "language": "python",
   "name": "python3"
  },
  "language_info": {
   "codemirror_mode": {
    "name": "ipython",
    "version": 3
   },
   "file_extension": ".py",
   "mimetype": "text/x-python",
   "name": "python",
   "nbconvert_exporter": "python",
   "pygments_lexer": "ipython3",
   "version": "3.9.16"
  },
  "orig_nbformat": 4
 },
 "nbformat": 4,
 "nbformat_minor": 2
}
