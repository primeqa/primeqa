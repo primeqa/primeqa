{
 "cells": [
  {
   "cell_type": "markdown",
   "id": "764f905e",
   "metadata": {},
   "source": [
    "# Tutorial: Build a search index using DPR #\n",
    "\n",
    "In this tutorial, we will learn how to build a Neural Search index over your document collection. The algorithm displayed here is called Dense Passage Retrieval (DPR) as described in Karpukhin et al., \"Dense Passage Retrieval for Open-Domain Question Answering\" [here](https://arxiv.org/pdf/2004.04906.pdf).\n",
    "\n",
    "For the purposes of making this tutorial easy to understand we show the steps using a very small document collection. Note that this technique can be used to scale to millions of documents. We have tested upto 21 million Wikipedia passages!!!\n"
   ]
  },
  {
   "cell_type": "markdown",
   "id": "4fca36ec",
   "metadata": {},
   "source": [
    "## Preparing a Colab Environment to run this tutorial ##\n",
    "\n",
    "Make sure to \"Enable GPU Runtime\" -> make a URL with a page with screenshots on how to do this."
   ]
  },
  {
   "cell_type": "markdown",
   "id": "c5e3426d",
   "metadata": {},
   "source": [
    "## Installing PrimeQA\n",
    "\n",
    "First, we need to include the required modules.\n"
   ]
  },
  {
   "cell_type": "code",
   "execution_count": null,
   "id": "b0c4d5c0",
   "metadata": {},
   "outputs": [],
   "source": [
    "%%bash\n",
    "\n",
    "pip install --upgrade pip\n",
    "pip install primeqa"
   ]
  },
  {
   "cell_type": "markdown",
   "id": "7e289b31",
   "metadata": {},
   "source": [
    "## Pre-process your document collection here to be ready to be stored in your Neural Search Index.\n",
    "\n",
    "TODO- add some steps after this to ingest from the sample wikipedia docs."
   ]
  },
  {
   "cell_type": "markdown",
   "id": "0c8aad53",
   "metadata": {},
   "source": [
    "## Initializing the Retriever\n",
    "\n",
    "We initialize a DPR model to embed our documents from the collection. Note: since we will ask questions later over this document collection we need to embed the questions too."
   ]
  },
  {
   "cell_type": "code",
   "execution_count": null,
   "id": "30b5fa4a",
   "metadata": {},
   "outputs": [],
   "source": [
    "from primeqa.retrieve import DPR\n",
    "from primeqa.embed import DocumentStore\n",
    "\n",
    "# remove all the unnecessary imports - let's make this very simple as I wrote this here\n",
    "\n",
    "document_store = DocumentStore(vector_db='FAISS')\n",
    "\n",
    "retriever = DPR (document_store=document_store,\n",
    "                 query_embedding_model = \"PrimeQA/XOR-TyDi_monolingual_DPR_qry_encoder\", # please change to NQ\n",
    "                passage_embedding_model = \"PrimeQA/XOR-TyDi_monolingual_DPR_ctx_encoder\",\n",
    "                use_gpu=True, embed_title=True)\n"
   ]
  },
  {
   "cell_type": "markdown",
   "id": "6e177c14",
   "metadata": {},
   "source": [
    "## Embedding documents into a DPR based Vector DB\n",
    "\n",
    "Take all the documents pre-processed and embed them in this step."
   ]
  },
  {
   "cell_type": "code",
   "execution_count": null,
   "id": "67851e30",
   "metadata": {},
   "outputs": [],
   "source": [
    "#add docs to your doc store\n",
    "document_store.add_documents(documents)\n",
    "\n",
    "# Add document embeddings to index\n",
    "document_store.update_embeddings(retriever=retriever)"
   ]
  },
  {
   "cell_type": "markdown",
   "id": "ab15199a",
   "metadata": {},
   "source": [
    "## Start asking Questions\n",
    "\n",
    "We're now ready to query the index we created."
   ]
  },
  {
   "cell_type": "code",
   "execution_count": 11,
   "id": "26e6d79a",
   "metadata": {},
   "outputs": [],
   "source": [
    "question = ['Who maintained the throne for the longest time in China?']\n",
    "retrieved_doc_ids, passages = searcher.search(query = question, top_k = 1, mode = 'query_list')"
   ]
  },
  {
   "cell_type": "markdown",
   "id": "f7d3c2d5",
   "metadata": {},
   "source": [
    "Here are the retrived results:"
   ]
  },
  {
   "cell_type": "code",
   "execution_count": 12,
   "id": "ed63e82b",
   "metadata": {},
   "outputs": [
    {
     "name": "stdout",
     "output_type": "stream",
     "text": [
      "[\n",
      "    {\n",
      "        \"titles\": [\n",
      "            \"Kangxi Emperor\"\n",
      "        ],\n",
      "        \"texts\": [\n",
      "            \"The Kangxi Emperor's reign of 61 years makes him the longest-reigning emperor in Chinese history (although his grandson, the Qianlong Emperor, had the longest period of \\\"de facto\\\" power) and one of the longest-reigning rulers in the world. However, since he ascended the throne at the age of seven, actual power was held for six years by four regents and his grandmother, the Grand Empress Dowager Xiaozhuang.\"\n",
      "        ],\n",
      "        \"scores\": [\n",
      "            84.17091369628906\n",
      "        ]\n",
      "    }\n",
      "]\n"
     ]
    }
   ],
   "source": [
    "import json\n",
    "print(json.dumps(passages, indent = 4))"
   ]
  }
 ],
 "metadata": {
  "kernelspec": {
   "display_name": "Python 3 (ipykernel)",
   "language": "python",
   "name": "python3"
  },
  "language_info": {
   "codemirror_mode": {
    "name": "ipython",
    "version": 3
   },
   "file_extension": ".py",
   "mimetype": "text/x-python",
   "name": "python",
   "nbconvert_exporter": "python",
   "pygments_lexer": "ipython3",
   "version": "3.9.13"
  }
 },
 "nbformat": 4,
 "nbformat_minor": 5
}
