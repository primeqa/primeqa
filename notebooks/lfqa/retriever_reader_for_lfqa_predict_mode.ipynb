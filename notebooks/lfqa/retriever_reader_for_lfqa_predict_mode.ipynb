{
 "cells": [
  {
   "cell_type": "markdown",
   "metadata": {},
   "source": [
    "Instructions for creating a ColBERT index and for training an FiD model for KILT-ELI5 can be found [here](https://github.com/primeqa/primeqa/blob/main/examples/lfqa/README.md)<br>  \n",
    "The ColBERT index is based on the KILT-Wikipedia corpus and an FiD reader is trained on KILT-ELI5.<br>\n",
    "This code requires 300GB memory."
   ]
  },
  {
   "cell_type": "code",
   "execution_count": 1,
   "metadata": {
    "execution": {
     "iopub.execute_input": "2022-11-11T12:52:05.361802Z",
     "iopub.status.busy": "2022-11-11T12:52:05.361628Z",
     "iopub.status.idle": "2022-11-11T13:09:30.478107Z",
     "shell.execute_reply": "2022-11-11T13:09:30.477697Z"
    }
   },
   "outputs": [
    {
     "name": "stdout",
     "output_type": "stream",
     "text": [
      "No CUDA runtime is found, using CUDA_HOME='/usr/local/cuda'\n",
      "{\"time\":\"2022-11-11 07:52:25,678\", \"name\": \"faiss.loader\", \"level\": \"INFO\", \"message\": \"Loading faiss with AVX2 support.\"}\n",
      "{\"time\":\"2022-11-11 07:52:26,605\", \"name\": \"faiss.loader\", \"level\": \"INFO\", \"message\": \"Successfully loaded faiss with AVX2 support.\"}\n",
      "[Nov 11, 07:52:37] #> base_config.py from_path /dccstor/mabornea1/kilt-wikipedia-test/colbert_ir/kilt_wikipedia_exp/indexes//kilt_wikipedia_indname/metadata.json\n",
      "[Nov 11, 07:52:37] #> base_config.py from_path args loaded! \n",
      "[Nov 11, 07:52:37] #> base_config.py from_path args replaced ! \n",
      "[Nov 11, 07:52:37] #> base_config.py load_from_checkpoint /dccstor/colbert-ir/franzm/experiments/feb2_3_3/none/2022-02/03/17.24.40/checkpoints/colbert-60000\n",
      "[Nov 11, 07:52:37] #> base_config.py load_from_checkpoint /dccstor/colbert-ir/franzm/experiments/feb2_3_3/none/2022-02/03/17.24.40/checkpoints/colbert-60000/artifact.metadata\n",
      "[Nov 11, 07:52:37] #> base_config.py from_path /dccstor/colbert-ir/franzm/experiments/feb2_3_3/none/2022-02/03/17.24.40/checkpoints/colbert-60000/artifact.metadata\n",
      "[Nov 11, 07:52:37] #> base_config.py from_path args loaded! \n",
      "[Nov 11, 07:52:37] #>>>>> at ColBERT name (model type) : /dccstor/colbert-ir/franzm/experiments/feb2_3_3/none/2022-02/03/17.24.40/checkpoints/colbert-60000\n",
      "[Nov 11, 07:52:37] #>>>>> at BaseColBERT name (model type) : /dccstor/colbert-ir/franzm/experiments/feb2_3_3/none/2022-02/03/17.24.40/checkpoints/colbert-60000\n",
      "[Nov 11, 07:52:37] #> base_config.py load_from_checkpoint /dccstor/colbert-ir/franzm/experiments/feb2_3_3/none/2022-02/03/17.24.40/checkpoints/colbert-60000\n",
      "[Nov 11, 07:52:37] #> base_config.py load_from_checkpoint /dccstor/colbert-ir/franzm/experiments/feb2_3_3/none/2022-02/03/17.24.40/checkpoints/colbert-60000/artifact.metadata\n",
      "[Nov 11, 07:52:37] #> base_config.py from_path /dccstor/colbert-ir/franzm/experiments/feb2_3_3/none/2022-02/03/17.24.40/checkpoints/colbert-60000/artifact.metadata\n",
      "[Nov 11, 07:52:37] #> base_config.py from_path args loaded! \n",
      "[Nov 11, 07:52:37] json file (get_colbert_from_pretrained): /dccstor/colbert-ir/franzm/experiments/feb2_3_3/none/2022-02/03/17.24.40/checkpoints/colbert-60000/config.json\n",
      "[Nov 11, 07:52:37] factory model type: bert-base-uncased\n",
      "[Nov 11, 07:52:40] Loading segmented_maxsim_cpp extension (set COLBERT_LOAD_TORCH_EXTENSION_VERBOSE=True for more info)...\n",
      "[Nov 11, 07:52:41] json file (get_query_tokenizer): /dccstor/colbert-ir/franzm/experiments/feb2_3_3/none/2022-02/03/17.24.40/checkpoints/colbert-60000/config.json\n",
      "[Nov 11, 07:52:41] get query model type: bert-base-uncased\n",
      "[Nov 11, 07:52:42] json file (get_doc_tokenizer): /dccstor/colbert-ir/franzm/experiments/feb2_3_3/none/2022-02/03/17.24.40/checkpoints/colbert-60000/config.json\n",
      "[Nov 11, 07:52:42] get doc model type: bert-base-uncased\n",
      "[Nov 11, 07:52:43] #> Loading codec...\n",
      "[Nov 11, 07:52:43] #> base_config.py from_path /dccstor/mabornea1/kilt-wikipedia-test/colbert_ir/kilt_wikipedia_exp/indexes//kilt_wikipedia_indname/metadata.json\n",
      "[Nov 11, 07:52:43] #> base_config.py from_path args loaded! \n",
      "[Nov 11, 07:52:43] #> base_config.py from_path args replaced ! \n"
     ]
    },
    {
     "name": "stderr",
     "output_type": "stream",
     "text": [
      "/dccstor/mabornea1/miniconda3/envs/fid3/lib/python3.9/site-packages/torch/cuda/amp/grad_scaler.py:115: UserWarning: torch.cuda.amp.GradScaler is enabled, but CUDA is not available.  Disabling.\n",
      "  warnings.warn(\"torch.cuda.amp.GradScaler is enabled, but CUDA is not available.  Disabling.\")\n"
     ]
    },
    {
     "name": "stdout",
     "output_type": "stream",
     "text": [
      "[Nov 11, 07:52:43] #> Loading IVF...\n",
      "[Nov 11, 07:53:08] Loading segmented_lookup_cpp extension (set COLBERT_LOAD_TORCH_EXTENSION_VERBOSE=True for more info)...\n",
      "[Nov 11, 08:06:38] Loading filter_pids_cpp extension (set COLBERT_LOAD_TORCH_EXTENSION_VERBOSE=True for more info)...\n",
      "[Nov 11, 08:06:39] Loading decompress_residuals_cpp extension (set COLBERT_LOAD_TORCH_EXTENSION_VERBOSE=True for more info)...\n"
     ]
    },
    {
     "name": "stderr",
     "output_type": "stream",
     "text": [
      "32547456it [01:39, 326746.01it/s]"
     ]
    },
    {
     "name": "stdout",
     "output_type": "stream",
     "text": [
      "[Nov 11, 08:08:35] #> BERT QueryTokenizer.tensorize(batch_text[0], batch_background[0], bsize) ==\n",
      "[Nov 11, 08:08:35] #> Input: . What causes the trail behind jets at high altitude?, \t\t True, \t\t None\n",
      "[Nov 11, 08:08:35] #> Output IDs: torch.Size([32]), tensor([ 101,    1, 2054, 5320, 1996, 4446, 2369, 9924, 2012, 2152, 7998, 1029,\n",
      "         102,  103,  103,  103,  103,  103,  103,  103,  103,  103,  103,  103,\n",
      "         103,  103,  103,  103,  103,  103,  103,  103])\n",
      "[Nov 11, 08:08:35] #> Output Mask: torch.Size([32]), tensor([1, 1, 1, 1, 1, 1, 1, 1, 1, 1, 1, 1, 1, 0, 0, 0, 0, 0, 0, 0, 0, 0, 0, 0,\n",
      "        0, 0, 0, 0, 0, 0, 0, 0])\n",
      "[Nov 11, 08:08:35] #>>>> colbert query ==\n",
      "[Nov 11, 08:08:35] #>>>>> input_ids: torch.Size([32]), tensor([ 101,    1, 2054, 5320, 1996, 4446, 2369, 9924, 2012, 2152, 7998, 1029,\n",
      "         102,  103,  103,  103,  103,  103,  103,  103,  103,  103,  103,  103,\n",
      "         103,  103,  103,  103,  103,  103,  103,  103])\n"
     ]
    },
    {
     "name": "stderr",
     "output_type": "stream",
     "text": [
      "\n",
      "/dccstor/mabornea1/miniconda3/envs/fid3/lib/python3.9/site-packages/torch/autocast_mode.py:162: UserWarning: User provided device_type of 'cuda', but CUDA is not available. Disabling\n",
      "  warnings.warn('User provided device_type of \\'cuda\\', but CUDA is not available. Disabling')\n"
     ]
    },
    {
     "name": "stdout",
     "output_type": "stream",
     "text": [
      "[Nov 11, 08:08:37] #>>>> before linear query ==\n",
      "[Nov 11, 08:08:37] #>>>>> Q: torch.Size([32, 768]), tensor([[ 0.2895,  0.4093,  0.4248,  ..., -0.2189, -0.6477,  0.2134],\n",
      "        [ 0.5340,  0.1769,  0.2045,  ..., -0.0577, -0.6428,  0.1975],\n",
      "        [ 0.6427,  0.3294,  0.2230,  ..., -0.2363, -0.8928,  0.1428],\n",
      "        ...,\n",
      "        [ 0.4898,  0.0702,  0.5052,  ..., -0.0057, -0.6006,  0.0921],\n",
      "        [ 0.4387,  0.0183,  0.5001,  ..., -0.0144, -0.4985,  0.1002],\n",
      "        [ 0.3883, -0.0018,  0.5391,  ..., -0.0452, -0.5868,  0.1126]])\n",
      "[Nov 11, 08:08:37] #>>>>> self.linear query : Parameter containing:\n",
      "tensor([[ 0.0209, -0.0347,  0.0156,  ...,  0.0023,  0.0044, -0.0367],\n",
      "        [ 0.0091, -0.0373, -0.0087,  ...,  0.0111,  0.0330,  0.0068],\n",
      "        [ 0.0355, -0.0088, -0.0240,  ..., -0.0437,  0.0074, -0.0109],\n",
      "        ...,\n",
      "        [ 0.0234,  0.0225, -0.0059,  ..., -0.0083, -0.0284,  0.0382],\n",
      "        [-0.0139, -0.0381,  0.0059,  ...,  0.0308, -0.0314, -0.0166],\n",
      "        [-0.0182,  0.0021, -0.0105,  ...,  0.0051,  0.0197, -0.0412]],\n",
      "       requires_grad=True)\n",
      "[Nov 11, 08:08:37] #>>>> colbert query ==\n",
      "[Nov 11, 08:08:37] #>>>>> Q: torch.Size([32, 128]), tensor([[-0.0288, -0.0419, -0.0443,  ...,  0.1593, -0.0979, -0.2611],\n",
      "        [-0.0516, -0.0568,  0.0953,  ...,  0.2526,  0.0999, -0.2232],\n",
      "        [ 0.0498, -0.0498,  0.0253,  ...,  0.3866, -0.1224, -0.4551],\n",
      "        ...,\n",
      "        [-0.1466, -0.0671,  0.0006,  ...,  0.3058,  0.2046, -0.2027],\n",
      "        [-0.1750, -0.0612, -0.0303,  ...,  0.2583,  0.1987, -0.1936],\n",
      "        [-0.1813, -0.0489,  0.0334,  ...,  0.2394,  0.2240, -0.2192]])\n"
     ]
    },
    {
     "name": "stderr",
     "output_type": "stream",
     "text": [
      "100%|████████████████████████████████████████████████████████████████████████████████████████████████████████| 1/1 [00:00<00:00,  2.69it/s]\n"
     ]
    },
    {
     "data": {
      "application/vnd.jupyter.widget-view+json": {
       "model_id": "f42bb66471d2494facaf46d3fb1c8f9b",
       "version_major": 2,
       "version_minor": 0
      },
      "text/plain": [
       "Running tokenizer on eval dataset:   0%|          | 0/1 [00:00<?, ?ba/s]"
      ]
     },
     "metadata": {},
     "output_type": "display_data"
    },
    {
     "name": "stderr",
     "output_type": "stream",
     "text": [
      "The following columns in the test set  don't have a corresponding argument in `BartFiDModelForDownstreamTasks.forward` and have been ignored: example_id. If example_id are not expected by `BartFiDModelForDownstreamTasks.forward`,  you can safely ignore this message.\n",
      "***** Running Prediction *****\n",
      "  Num examples = 1\n",
      "  Batch size = 1\n"
     ]
    },
    {
     "data": {
      "text/html": [
       "\n",
       "    <div>\n",
       "      \n",
       "      <progress value='1' max='1' style='width:300px; height:20px; vertical-align: middle;'></progress>\n",
       "      [1/1 : < :]\n",
       "    </div>\n",
       "    "
      ],
      "text/plain": [
       "<IPython.core.display.HTML object>"
      ]
     },
     "metadata": {},
     "output_type": "display_data"
    },
    {
     "name": "stdout",
     "output_type": "stream",
     "text": [
      "[\n",
      "    {\n",
      "        \"example_id\": \"0\",\n",
      "        \"text\": \"The water vapor in the exhaust from the engine is mixed with the cold air, and condenses into droplets or ice crystals. \\n\\nThe water is then carried away by the wind, and the air is heated up, and then cooled down.  The water vapor condenses back into droplet form, and is then blown away by wind.  \\nThe air is then heated up again, and it condenses again, creating a cloud.\"\n",
      "    }\n",
      "]\n"
     ]
    }
   ],
   "source": [
    "from primeqa.components.retriever.dense import ColBERTRetriever\n",
    "from primeqa.components.reader.generative import GenerativeFiDReader\n",
    "from primeqa.pipelines.qa_pipeline import QAPipeline\n",
    "import json\n",
    "\n",
    "colbert_retriever = ColBERTRetriever(index_root = <index_root>, \n",
    "                                     index_name = <index_name>, \n",
    "                                     collection = <collection>, \n",
    "                                     max_num_documents = 3)\n",
    "colbert_retriever.load()\n",
    "\n",
    "fid_reader = GenerativeFiDReader()\n",
    "fid_reader.load()\n",
    "\n",
    "lfqa_pipeline = QAPipeline(colbert_retriever, fid_reader)\n",
    "\n",
    "questions = [\"What causes the trail behind jets at high altitude?\"]\n",
    "answers = lfqa_pipeline.run(questions)\n",
    "print(json.dumps(answers, indent=4)) "
   ]
  }
 ],
 "metadata": {
  "kernelspec": {
   "display_name": "Python 3.9.13 ('fid3')",
   "language": "python",
   "name": "python3"
  },
  "language_info": {
   "codemirror_mode": {
    "name": "ipython",
    "version": 3
   },
   "file_extension": ".py",
   "mimetype": "text/x-python",
   "name": "python",
   "nbconvert_exporter": "python",
   "pygments_lexer": "ipython3",
   "version": "3.9.13"
  },
  "vscode": {
   "interpreter": {
    "hash": "5492b400f97c20119cdc89c038296abc6178f6ab9b3c8735a30b6f38049e922d"
   }
  },
  "widgets": {
   "application/vnd.jupyter.widget-state+json": {
    "state": {
     "13602d68c84c47bf855058690bcbb4d4": {
      "model_module": "@jupyter-widgets/controls",
      "model_module_version": "1.5.0",
      "model_name": "DescriptionStyleModel",
      "state": {
       "_model_module": "@jupyter-widgets/controls",
       "_model_module_version": "1.5.0",
       "_model_name": "DescriptionStyleModel",
       "_view_count": null,
       "_view_module": "@jupyter-widgets/base",
       "_view_module_version": "1.2.0",
       "_view_name": "StyleView",
       "description_width": ""
      }
     },
     "39225597f2cd4f8a9220793edecfc520": {
      "model_module": "@jupyter-widgets/controls",
      "model_module_version": "1.5.0",
      "model_name": "ProgressStyleModel",
      "state": {
       "_model_module": "@jupyter-widgets/controls",
       "_model_module_version": "1.5.0",
       "_model_name": "ProgressStyleModel",
       "_view_count": null,
       "_view_module": "@jupyter-widgets/base",
       "_view_module_version": "1.2.0",
       "_view_name": "StyleView",
       "bar_color": null,
       "description_width": ""
      }
     },
     "7a378f82e08b4928ab8121940823c0fd": {
      "model_module": "@jupyter-widgets/controls",
      "model_module_version": "1.5.0",
      "model_name": "HTMLModel",
      "state": {
       "_dom_classes": [],
       "_model_module": "@jupyter-widgets/controls",
       "_model_module_version": "1.5.0",
       "_model_name": "HTMLModel",
       "_view_count": null,
       "_view_module": "@jupyter-widgets/controls",
       "_view_module_version": "1.5.0",
       "_view_name": "HTMLView",
       "description": "",
       "description_tooltip": null,
       "layout": "IPY_MODEL_951479c9126444b3ae4b1700349569a6",
       "placeholder": "​",
       "style": "IPY_MODEL_ff5d6d4401c14e448104fe0ce8460106",
       "value": "Running tokenizer on eval dataset: 100%"
      }
     },
     "951479c9126444b3ae4b1700349569a6": {
      "model_module": "@jupyter-widgets/base",
      "model_module_version": "1.2.0",
      "model_name": "LayoutModel",
      "state": {
       "_model_module": "@jupyter-widgets/base",
       "_model_module_version": "1.2.0",
       "_model_name": "LayoutModel",
       "_view_count": null,
       "_view_module": "@jupyter-widgets/base",
       "_view_module_version": "1.2.0",
       "_view_name": "LayoutView",
       "align_content": null,
       "align_items": null,
       "align_self": null,
       "border": null,
       "bottom": null,
       "display": null,
       "flex": null,
       "flex_flow": null,
       "grid_area": null,
       "grid_auto_columns": null,
       "grid_auto_flow": null,
       "grid_auto_rows": null,
       "grid_column": null,
       "grid_gap": null,
       "grid_row": null,
       "grid_template_areas": null,
       "grid_template_columns": null,
       "grid_template_rows": null,
       "height": null,
       "justify_content": null,
       "justify_items": null,
       "left": null,
       "margin": null,
       "max_height": null,
       "max_width": null,
       "min_height": null,
       "min_width": null,
       "object_fit": null,
       "object_position": null,
       "order": null,
       "overflow": null,
       "overflow_x": null,
       "overflow_y": null,
       "padding": null,
       "right": null,
       "top": null,
       "visibility": null,
       "width": null
      }
     },
     "dc825f54d0e3479c8d531ecf1f65224d": {
      "model_module": "@jupyter-widgets/controls",
      "model_module_version": "1.5.0",
      "model_name": "HTMLModel",
      "state": {
       "_dom_classes": [],
       "_model_module": "@jupyter-widgets/controls",
       "_model_module_version": "1.5.0",
       "_model_name": "HTMLModel",
       "_view_count": null,
       "_view_module": "@jupyter-widgets/controls",
       "_view_module_version": "1.5.0",
       "_view_name": "HTMLView",
       "description": "",
       "description_tooltip": null,
       "layout": "IPY_MODEL_e0e466f2c69546f7af50ddb480defe0a",
       "placeholder": "​",
       "style": "IPY_MODEL_13602d68c84c47bf855058690bcbb4d4",
       "value": " 1/1 [00:00&lt;00:00,  5.78ba/s]"
      }
     },
     "e0e466f2c69546f7af50ddb480defe0a": {
      "model_module": "@jupyter-widgets/base",
      "model_module_version": "1.2.0",
      "model_name": "LayoutModel",
      "state": {
       "_model_module": "@jupyter-widgets/base",
       "_model_module_version": "1.2.0",
       "_model_name": "LayoutModel",
       "_view_count": null,
       "_view_module": "@jupyter-widgets/base",
       "_view_module_version": "1.2.0",
       "_view_name": "LayoutView",
       "align_content": null,
       "align_items": null,
       "align_self": null,
       "border": null,
       "bottom": null,
       "display": null,
       "flex": null,
       "flex_flow": null,
       "grid_area": null,
       "grid_auto_columns": null,
       "grid_auto_flow": null,
       "grid_auto_rows": null,
       "grid_column": null,
       "grid_gap": null,
       "grid_row": null,
       "grid_template_areas": null,
       "grid_template_columns": null,
       "grid_template_rows": null,
       "height": null,
       "justify_content": null,
       "justify_items": null,
       "left": null,
       "margin": null,
       "max_height": null,
       "max_width": null,
       "min_height": null,
       "min_width": null,
       "object_fit": null,
       "object_position": null,
       "order": null,
       "overflow": null,
       "overflow_x": null,
       "overflow_y": null,
       "padding": null,
       "right": null,
       "top": null,
       "visibility": null,
       "width": null
      }
     },
     "e3b07ee914ef448da819b0375e1dfc7f": {
      "model_module": "@jupyter-widgets/controls",
      "model_module_version": "1.5.0",
      "model_name": "FloatProgressModel",
      "state": {
       "_dom_classes": [],
       "_model_module": "@jupyter-widgets/controls",
       "_model_module_version": "1.5.0",
       "_model_name": "FloatProgressModel",
       "_view_count": null,
       "_view_module": "@jupyter-widgets/controls",
       "_view_module_version": "1.5.0",
       "_view_name": "ProgressView",
       "bar_style": "success",
       "description": "",
       "description_tooltip": null,
       "layout": "IPY_MODEL_ed9d9367bbd840358cdae26cebfa194f",
       "max": 1,
       "min": 0,
       "orientation": "horizontal",
       "style": "IPY_MODEL_39225597f2cd4f8a9220793edecfc520",
       "value": 1
      }
     },
     "ed9d9367bbd840358cdae26cebfa194f": {
      "model_module": "@jupyter-widgets/base",
      "model_module_version": "1.2.0",
      "model_name": "LayoutModel",
      "state": {
       "_model_module": "@jupyter-widgets/base",
       "_model_module_version": "1.2.0",
       "_model_name": "LayoutModel",
       "_view_count": null,
       "_view_module": "@jupyter-widgets/base",
       "_view_module_version": "1.2.0",
       "_view_name": "LayoutView",
       "align_content": null,
       "align_items": null,
       "align_self": null,
       "border": null,
       "bottom": null,
       "display": null,
       "flex": null,
       "flex_flow": null,
       "grid_area": null,
       "grid_auto_columns": null,
       "grid_auto_flow": null,
       "grid_auto_rows": null,
       "grid_column": null,
       "grid_gap": null,
       "grid_row": null,
       "grid_template_areas": null,
       "grid_template_columns": null,
       "grid_template_rows": null,
       "height": null,
       "justify_content": null,
       "justify_items": null,
       "left": null,
       "margin": null,
       "max_height": null,
       "max_width": null,
       "min_height": null,
       "min_width": null,
       "object_fit": null,
       "object_position": null,
       "order": null,
       "overflow": null,
       "overflow_x": null,
       "overflow_y": null,
       "padding": null,
       "right": null,
       "top": null,
       "visibility": null,
       "width": null
      }
     },
     "f42bb66471d2494facaf46d3fb1c8f9b": {
      "model_module": "@jupyter-widgets/controls",
      "model_module_version": "1.5.0",
      "model_name": "HBoxModel",
      "state": {
       "_dom_classes": [],
       "_model_module": "@jupyter-widgets/controls",
       "_model_module_version": "1.5.0",
       "_model_name": "HBoxModel",
       "_view_count": null,
       "_view_module": "@jupyter-widgets/controls",
       "_view_module_version": "1.5.0",
       "_view_name": "HBoxView",
       "box_style": "",
       "children": [
        "IPY_MODEL_7a378f82e08b4928ab8121940823c0fd",
        "IPY_MODEL_e3b07ee914ef448da819b0375e1dfc7f",
        "IPY_MODEL_dc825f54d0e3479c8d531ecf1f65224d"
       ],
       "layout": "IPY_MODEL_f792b945510749be99aa69889f3a3dc6"
      }
     },
     "f792b945510749be99aa69889f3a3dc6": {
      "model_module": "@jupyter-widgets/base",
      "model_module_version": "1.2.0",
      "model_name": "LayoutModel",
      "state": {
       "_model_module": "@jupyter-widgets/base",
       "_model_module_version": "1.2.0",
       "_model_name": "LayoutModel",
       "_view_count": null,
       "_view_module": "@jupyter-widgets/base",
       "_view_module_version": "1.2.0",
       "_view_name": "LayoutView",
       "align_content": null,
       "align_items": null,
       "align_self": null,
       "border": null,
       "bottom": null,
       "display": null,
       "flex": null,
       "flex_flow": null,
       "grid_area": null,
       "grid_auto_columns": null,
       "grid_auto_flow": null,
       "grid_auto_rows": null,
       "grid_column": null,
       "grid_gap": null,
       "grid_row": null,
       "grid_template_areas": null,
       "grid_template_columns": null,
       "grid_template_rows": null,
       "height": null,
       "justify_content": null,
       "justify_items": null,
       "left": null,
       "margin": null,
       "max_height": null,
       "max_width": null,
       "min_height": null,
       "min_width": null,
       "object_fit": null,
       "object_position": null,
       "order": null,
       "overflow": null,
       "overflow_x": null,
       "overflow_y": null,
       "padding": null,
       "right": null,
       "top": null,
       "visibility": null,
       "width": null
      }
     },
     "ff5d6d4401c14e448104fe0ce8460106": {
      "model_module": "@jupyter-widgets/controls",
      "model_module_version": "1.5.0",
      "model_name": "DescriptionStyleModel",
      "state": {
       "_model_module": "@jupyter-widgets/controls",
       "_model_module_version": "1.5.0",
       "_model_name": "DescriptionStyleModel",
       "_view_count": null,
       "_view_module": "@jupyter-widgets/base",
       "_view_module_version": "1.2.0",
       "_view_name": "StyleView",
       "description_width": ""
      }
     }
    },
    "version_major": 2,
    "version_minor": 0
   }
  }
 },
 "nbformat": 4,
 "nbformat_minor": 2
}
