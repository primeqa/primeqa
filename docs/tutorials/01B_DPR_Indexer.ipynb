{
 "cells": [
  {
   "cell_type": "markdown",
   "id": "764f905e",
   "metadata": {},
   "source": [
    "# Tutorial: Build a search index using DPR #\n",
    "\n",
    "In this tutorial, we will learn how to build a Neural Search index over your document collection. The algorithm displayed here is called Dense Passage Retrieval (DPR) as described in Karpukhin et al., \"Dense Passage Retrieval for Open-Domain Question Answering\" [here](https://arxiv.org/pdf/2004.04906.pdf).\n",
    "\n",
    "For the purposes of making this tutorial easy to understand we show the steps using a very small document collection. Note that this technique can be used to scale to millions of documents. We have tested upto 21 million Wikipedia passages!!!\n"
   ]
  },
  {
   "cell_type": "markdown",
   "id": "4fca36ec",
   "metadata": {},
   "source": [
    "## Preparing a Colab Environment to run this tutorial ##\n",
    "\n",
    "Make sure to \"Enable GPU Runtime\" -> make a URL with a page with screenshots on how to do this."
   ]
  },
  {
   "cell_type": "markdown",
   "id": "c5e3426d",
   "metadata": {},
   "source": [
    "## Installing PrimeQA\n",
    "\n",
    "First, we need to include the required modules.\n"
   ]
  },
  {
   "cell_type": "code",
   "execution_count": null,
   "id": "b0c4d5c0",
   "metadata": {},
   "outputs": [],
   "source": [
    "%%bash\n",
    "\n",
    "pip install --upgrade pip\n",
    "pip install primeqa"
   ]
  },
  {
   "cell_type": "markdown",
   "id": "7e289b31",
   "metadata": {},
   "source": [
    "## Pre-process your document collection here to be ready to be stored in your Neural Search Index."
   ]
  },
  {
   "cell_type": "code",
   "execution_count": 118,
   "id": "69beccaa",
   "metadata": {},
   "outputs": [
    {
     "name": "stdout",
     "output_type": "stream",
     "text": [
      "   id              title                                               text\n",
      "0   0  \"Albert Einstein\"  to Einstein in 1922. Footnotes Citations Alber...\n",
      "1   1  \"Albert Einstein\"  Albert Einstein Albert Einstein (; ; 14 March ...\n",
      "2   2  \"Albert Einstein\"  observations were published in the internation...\n"
     ]
    }
   ],
   "source": [
    "import pandas as pd\n",
    "url='https://drive.google.com/file/d/1LULJRPgN_hfuI2kG-wH4FUwXCCdDh9zh/view?usp=sharing'\n",
    "url='https://drive.google.com/uc?id=' + url.split('/')[-2]\n",
    "df = pd.read_csv(url)\n",
    "df = df.reset_index().rename(columns={'index': 'id'})\n",
    "print(df[:3])\n"
   ]
  },
  {
   "cell_type": "code",
   "execution_count": 119,
   "id": "2679f0dd",
   "metadata": {},
   "outputs": [],
   "source": [
    "#data should be formted as: id\\ttext\\title\n",
    "\n",
    "#swap text and title columns\n",
    "df[['text', 'title']] = df[['title', 'text']]\n"
   ]
  },
  {
   "cell_type": "code",
   "execution_count": 120,
   "id": "26164e46",
   "metadata": {},
   "outputs": [],
   "source": [
    "df.rename(columns={'text': 'TITLE', 'title': 'TEXT'}, inplace=True)\n",
    "df.to_csv('collection.tsv', sep='\\t')"
   ]
  },
  {
   "cell_type": "markdown",
   "id": "0c8aad53",
   "metadata": {},
   "source": [
    "## Initializing the Retriever\n",
    "\n",
    "We initialize a DPR model to embed our documents from the collection. Note: since we will ask questions later over this document collection we need to embed the questions too."
   ]
  },
  {
   "cell_type": "code",
   "execution_count": 121,
   "id": "30b5fa4a",
   "metadata": {},
   "outputs": [
    {
     "name": "stderr",
     "output_type": "stream",
     "text": [
      "Some weights of the model checkpoint at facebook/dpr-ctx_encoder-multiset-base were not used when initializing DPRContextEncoder: ['ctx_encoder.bert_model.pooler.dense.weight', 'ctx_encoder.bert_model.pooler.dense.bias']\n",
      "- This IS expected if you are initializing DPRContextEncoder from the checkpoint of a model trained on another task or with another architecture (e.g. initializing a BertForSequenceClassification model from a BertForPreTraining model).\n",
      "- This IS NOT expected if you are initializing DPRContextEncoder from the checkpoint of a model that you expect to be exactly identical (initializing a BertForSequenceClassification model from a BertForSequenceClassification model).\n",
      "The tokenizer class you load from this checkpoint is not the same type as the class this function is called from. It may result in unexpected tokenization. \n",
      "The tokenizer class you load from this checkpoint is 'DPRQuestionEncoderTokenizer'. \n",
      "The class this function is called from is 'DPRContextEncoderTokenizerFast'.\n"
     ]
    }
   ],
   "source": [
    "from primeqa.components.indexer.dense import DPRIndexer\n",
    "\n",
    "dpr = DPRIndexer(ctx_encoder_name_or_path=\"PrimeQA/XOR-TyDi_monolingual_DPR_ctx_encoder\")"
   ]
  },
  {
   "cell_type": "markdown",
   "id": "6e177c14",
   "metadata": {},
   "source": [
    "## Embedding documents into a DPR based Vector DB\n",
    "\n",
    "Take all the documents pre-processed and embed them in this step."
   ]
  },
  {
   "cell_type": "code",
   "execution_count": 122,
   "id": "67851e30",
   "metadata": {},
   "outputs": [
    {
     "name": "stdout",
     "output_type": "stream",
     "text": [
      "{\"time\":\"2023-06-01 18:38:28,217\", \"name\": \"primeqa.ir.dense.dpr_top.dpr.index_simple_corpus\", \"level\": \"INFO\", \"message\": \"wrote passages_1_of_1.json.gz.records in 2 seconds\"}\n",
      "{\"time\":\"2023-06-01 18:38:28,218\", \"name\": \"primeqa.ir.dense.dpr_top.dpr.faiss_index\", \"level\": \"INFO\", \"message\": \"building index, reading data from dpr_index/passages_1_of_1.json.gz.records, writing to dpr_index/index_1_of_1.faiss\"}\n",
      "{\"time\":\"2023-06-01 18:38:28,254\", \"name\": \"primeqa.ir.dense.dpr_top.dpr.faiss_index\", \"level\": \"INFO\", \"message\": \"processed 0 passages\"}\n",
      "{\"time\":\"2023-06-01 18:38:28,256\", \"name\": \"primeqa.ir.dense.dpr_top.dpr.faiss_index\", \"level\": \"INFO\", \"message\": \"calling index.add with 76 vectors\"}\n",
      "{\"time\":\"2023-06-01 18:38:28,258\", \"name\": \"primeqa.ir.dense.dpr_top.dpr.faiss_index\", \"level\": \"INFO\", \"message\": \"processed 76 passages\"}\n",
      "{\"time\":\"2023-06-01 18:38:28,258\", \"name\": \"primeqa.ir.dense.dpr_top.dpr.faiss_index\", \"level\": \"INFO\", \"message\": \"finished building index, writing index file to dpr_index/index_1_of_1.faiss\"}\n",
      "{\"time\":\"2023-06-01 18:38:28,258\", \"name\": \"primeqa.ir.dense.dpr_top.dpr.faiss_index\", \"level\": \"INFO\", \"message\": \"took 0 seconds\"}\n"
     ]
    }
   ],
   "source": [
    "# index documents\n",
    "dpr.index(collection='collection.tsv')"
   ]
  },
  {
   "cell_type": "markdown",
   "id": "ab15199a",
   "metadata": {},
   "source": [
    "## Start asking Questions\n",
    "\n",
    "We're now ready to query the index we created."
   ]
  },
  {
   "cell_type": "code",
   "execution_count": 102,
   "id": "26e6d79a",
   "metadata": {},
   "outputs": [
    {
     "name": "stdout",
     "output_type": "stream",
     "text": [
      "{\"time\":\"2023-06-01 18:32:02,332\", \"name\": \"primeqa.ir.dense.dpr_top.dpr.searcher\", \"level\": \"INFO\", \"message\": \"Using sharded faiss, reading shards from dpr_index\"}\n",
      "{\"time\":\"2023-06-01 18:32:02,333\", \"name\": \"primeqa.ir.dense.dpr_top.dpr.searcher\", \"level\": \"INFO\", \"message\": \"Reading passages_1_of_1.json.gz.records\"}\n",
      "{\"time\":\"2023-06-01 18:32:02,340\", \"name\": \"primeqa.ir.dense.dpr_top.dpr.searcher\", \"level\": \"INFO\", \"message\": \"Using sharded faiss with 1 shards.\"}\n"
     ]
    }
   ],
   "source": [
    "from primeqa.components.retriever.dense import DPRRetriever\n",
    "\n",
    "retriever = DPRRetriever(checkpoint=\"PrimeQA/XOR-TyDi_monolingual_DPR_qry_encoder\", index_location=dpr.output_dir)\n",
    "\n",
    "question = ['Who maintained the throne for the longest time in China?']\n",
    "retrieved_doc_ids, passages = retriever.predict(input_texts = question, return_passages=True, max_num_documents=10)\n"
   ]
  },
  {
   "cell_type": "markdown",
   "id": "f7d3c2d5",
   "metadata": {},
   "source": [
    "## Retrieval Results\n",
    "\n",
    "Here are the retrived results:"
   ]
  },
  {
   "cell_type": "code",
   "execution_count": 103,
   "id": "ed63e82b",
   "metadata": {},
   "outputs": [
    {
     "name": "stdout",
     "output_type": "stream",
     "text": [
      "[\n",
      "    {\n",
      "        \"titles\": [\n",
      "            \"Ashoka\",\n",
      "            \"Ashoka\",\n",
      "            \"Ashoka\",\n",
      "            \"\\\"Alexander Graham Bell\\\"\",\n",
      "            \"\\\"America the Beautiful\\\"\",\n",
      "            \"\\\"Ainu people\\\"\",\n",
      "            \"\\\"Akira Kurosawa\\\"\",\n",
      "            \"\\\"Aquarius (constellation)\\\"\",\n",
      "            \"\\\"The Ashes\\\"\",\n",
      "            \"\\\"Amplitude modulation\\\"\"\n",
      "        ],\n",
      "        \"texts\": [\n",
      "            \"Wheel of Dharma). The wheel has 24 spokes which represent the 12 Laws of Dependent Origination and the 12 Laws of Dependent Termination. The Ashoka Chakra has been widely inscribed on many relics of the Mauryan Emperor, most prominent among which is the Lion Capital of Sarnath and The Ashoka Pillar. The most visible use of the Ashoka Chakra today is at the centre of the National flag of the Republic of India (adopted on 22 July 1947), where it is rendered in a Navy-blue color on a White background, by replacing the symbol of Charkha (Spinning wheel) of the\",\n",
      "            \"pre-independence versions of the flag. The Ashoka Chakra can also been seen on the base of the Lion Capital of Ashoka which has been adopted as the National Emblem of India. The Ashoka Chakra was created by Ashoka during his reign. Chakra is a Sanskrit word which also means \\\"cycle\\\" or \\\"self-repeating process\\\". The process it signifies is the cycle of time\\u2014as in how the world changes with time. A few days before India became independent in August 1947, the specially-formed Constituent Assembly decided that the flag of India must be acceptable to all parties and communities. A flag with\",\n",
      "            \"(\\\"Ashoka Chakra\\\") from its base was placed onto the center of the National Flag of India. The capital contains four lions (Indian / Asiatic Lions), standing back to back, mounted on a short cylindrical abacus, with a frieze carrying sculptures in high relief of an elephant, a galloping horse, a bull, and a lion, separated by intervening spoked chariot-wheels over a bell-shaped lotus. Carved out of a single block of polished sandstone, the capital was believed to be crowned by a 'Wheel of Dharma' (Dharmachakra popularly known in India as the \\\"Ashoka Chakra\\\"). The Sarnath pillar bears one of the\",\n",
      "            \"status as: \\\"I am not one of those hyphenated Americans who claim allegiance to two countries.\\\" Despite this declaration, Bell has been proudly claimed as a \\\"native son\\\" by all three countries he resided in: the United States, Canada, and the United Kingdom. By 1885, a new summer retreat was contemplated. That summer, the Bells had a vacation on Cape Breton Island in Nova Scotia, spending time at the small village of Baddeck. Returning in 1886, Bell started building an estate on a point across from Baddeck, overlooking Bras d'Or Lake. By 1889, a large house, christened \\\"The Lodge\\\" was\",\n",
      "            \"broadcast of the Tiangong-1 launch. The song is often included in songbooks in a wide variety of religious congregations in the United States. Bing Crosby included the song in a medley on his album \\\"101 Gang Songs\\\" (1961). In 1976, while the United States celebrated its bicentennial, a soulful version popularized by Ray Charles peaked at number 98 on the US R&B Charts. Ray Charles did this again in 1984 to re-elect Ronald Reagan. Ray Charles did this yet again in Miami, Florida in 1999. Three different renditions of the song have entered the Hot Country Songs charts. The first\",\n",
      "            \"D1b is found throughout the Japanese Archipelago, but with very high frequencies among the Ainu of Hokkaido in the far north, and to a lesser extent among the Ryukyuans in the Ryukyu Islands of the far south. The only places outside Japan in which Y-haplogroup D is common are Tibet in China and the Andaman Islands in the Indian Ocean. A study by Tajima \\\"et al.\\\" (2004) found two out of a sample of sixteen (or 12.5%) Ainu men to belong to Haplogroup C-M217, which is the most common Y-chromosome haplogroup among the indigenous populations of Siberia and Mongolia. Hammer\",\n",
      "            \"through the Second World War and beyond. The narrative centers on yearly birthday celebrations with his former students, during which the protagonist declares his unwillingness to die just yet\\u2014a theme that was becoming increasingly relevant for the film's 81-year-old creator. Filming began in February 1992 and wrapped by the end of September. Its release on April 17, 1993, was greeted by an even more disappointed reaction than had been the case with his two preceding works. Kurosawa nevertheless continued to work. He wrote the original screenplays \\\"The Sea is Watching\\\" in 1993 and \\\"After the Rain\\\" in 1995. While putting\",\n",
      "            \"Aquarii among its 12 stars. 88, 89, and 98 Aquarii represent \\\"Fou-youe\\\", the axes used as weapons and for hostage executions. Also in Aquarius is \\\"Loui-pi-tchin\\\", the ramparts that stretch from 29 and 27 Piscium and 33 and 30 Aquarii through Phi, Lambda, Sigma, and Iota Aquarii to Delta, Gamma, Kappa, and Epsilon Capricorni. Near the border with Cetus, the axe \\\"Fuyue\\\" was represented by three stars; its position is disputed and may have instead been located in Sculptor. \\\"Tienliecheng\\\" also has a disputed position; the 13-star castle replete with ramparts may have possessed Nu and Xi Aquarii but may\",\n",
      "            \"captain Alastair Cook being bowled out for 0 (his first duck in 26 innings as captain), Australia looked to be in with a significant chance of a win, keeping its series hopes alive. By lunch England were 37\\u20133, but on resumption of play only 3 balls were bowled before rain stopped play. This rain persisted and, at 16:40, the captains shook hands and the match was declared a draw. With England 2\\u20130 up with two Tests to play, England retained the Ashes on 5 August 2013. In the Fourth Test, England won the toss and batted first, putting on 238\",\n",
      "            \"reduced-carrier transmission or DSB-RC) to use in the demodulation process. Even with the carrier totally eliminated in double-sideband suppressed-carrier transmission, carrier regeneration is possible using a Costas phase-locked loop. This doesn't work however for single-sideband suppressed-carrier transmission (SSB-SC), leading to the characteristic \\\"Donald Duck\\\" sound from such receivers when slightly detuned. Single sideband is nevertheless used widely in amateur radio and other voice communications both due to its power efficiency and bandwidth efficiency (cutting the RF bandwidth in half compared to standard AM). On the other hand, in medium wave and short wave broadcasting, standard AM with the full carrier\"\n",
      "        ],\n",
      "        \"scores\": [\n",
      "            64.0108871459961,\n",
      "            63.61453628540039,\n",
      "            62.788841247558594,\n",
      "            61.974239349365234,\n",
      "            61.07968521118164,\n",
      "            60.26053237915039,\n",
      "            59.32780075073242,\n",
      "            59.22406768798828,\n",
      "            59.167964935302734,\n",
      "            58.4356689453125\n",
      "        ]\n",
      "    }\n",
      "]\n"
     ]
    }
   ],
   "source": [
    "import json\n",
    "\n",
    "print(json.dumps(passages, indent = 4))"
   ]
  },
  {
   "cell_type": "code",
   "execution_count": null,
   "id": "40a736b3",
   "metadata": {},
   "outputs": [],
   "source": []
  }
 ],
 "metadata": {
  "kernelspec": {
   "display_name": "Python 3 (ipykernel)",
   "language": "python",
   "name": "python3"
  },
  "language_info": {
   "codemirror_mode": {
    "name": "ipython",
    "version": 3
   },
   "file_extension": ".py",
   "mimetype": "text/x-python",
   "name": "python",
   "nbconvert_exporter": "python",
   "pygments_lexer": "ipython3",
   "version": "3.9.16"
  }
 },
 "nbformat": 4,
 "nbformat_minor": 5
}
