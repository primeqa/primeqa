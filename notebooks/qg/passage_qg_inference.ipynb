{
 "cells": [
  {
   "cell_type": "markdown",
   "id": "489bc0df",
   "metadata": {},
   "source": [
    "# TyDI Question Generation: Inference example\n",
    "\n",
    "In this notebook, we will show how to use a pretrained multilingual PassageQG model to generate questions. Given a text snippet, spacy is used to identify noun chunks (named entities) which becomes the answer and an mT5 is used to generate question givent he answer and the text snippet."
   ]
  },
  {
   "cell_type": "markdown",
   "id": "4bbe1173",
   "metadata": {},
   "source": [
    "## Dependencies\n",
    "\n",
    "If not already done, make sure to install PrimeQA with notebooks extras before getting started."
   ]
  },
  {
   "cell_type": "code",
   "execution_count": 1,
   "id": "815cec1c",
   "metadata": {},
   "outputs": [
    {
     "data": {
      "application/vnd.jupyter.widget-view+json": {
       "model_id": "9dfb86cdbc5e48e08c385caeac49a7cf",
       "version_major": 2,
       "version_minor": 0
      },
      "text/plain": [
       "Downloading https://raw.githubusercontent.com/stanfordnlp/stanza-resources/main/resources_1.4.0.json:   0%|   …"
      ]
     },
     "metadata": {},
     "output_type": "display_data"
    },
    {
     "name": "stderr",
     "output_type": "stream",
     "text": [
      "2022-07-06 11:02:20 INFO: Downloading default packages for language: multilingual (multilingual)...\n",
      "2022-07-06 11:02:20 INFO: File exists: /u/saneem/stanza_resources/multilingual/default.zip\n",
      "2022-07-06 11:02:20 INFO: Finished downloading models and saved to /u/saneem/stanza_resources.\n"
     ]
    }
   ],
   "source": [
    "from primeqa.qg.models.qg_model import QGModel\n",
    "from tabulate import tabulate # only used to visualize table"
   ]
  },
  {
   "cell_type": "markdown",
   "id": "b9f309b8",
   "metadata": {},
   "source": [
    "## Loading pretrained model from huggingface\n",
    "\n",
    "This model was trained using PrimeQA library and uploaded to huggingface hub."
   ]
  },
  {
   "cell_type": "code",
   "execution_count": 2,
   "id": "2a3c5377",
   "metadata": {},
   "outputs": [
    {
     "name": "stdout",
     "output_type": "stream",
     "text": [
      "Loaded NER model for  Arabic\n",
      "Loaded NER model for  English\n",
      "Loaded NER model for  Finnish\n",
      "Loaded NER model for  Russian\n"
     ]
    }
   ],
   "source": [
    "model_name = 'PrimeQA/mt5-base-tydi-question-generator'\n",
    "table_qg_model = QGModel(model_name, modality='passage')"
   ]
  },
  {
   "cell_type": "markdown",
   "id": "984e88f0",
   "metadata": {},
   "source": [
    "<br>\n",
    "\n",
    "## Sample instance\n",
    "\n",
    "Passages should be passed a `list` of `str`. We take one English and one Russian text to generate questions."
   ]
  },
  {
   "cell_type": "code",
   "execution_count": 3,
   "id": "18419939",
   "metadata": {},
   "outputs": [],
   "source": [
    "text_list = [\"Sachin tendulkar was an Indian cricketer born in Mumbai. He scored 100 \\\n",
    "centuries in his international carrier.\",\n",
    "            \n",
    "\"Симби́рская губе́рния (с 1924 года Ульяновская губерния)\\xa0— административно-территориальная\\\n",
    "единица Российской империи, Российской республики и РСФСР, существовавшая в 1796—1928 годах.\\\n",
    "Губернский город\\xa0— Симбирск (с 1924 года Ульяновск)\"]"
   ]
  },
  {
   "cell_type": "markdown",
   "id": "b002086c",
   "metadata": {},
   "source": [
    "## Generate questions\n",
    "\n",
    "The `generate_questions` function can take two arguments.\n",
    "#### Controls:\n",
    "- `num_questions_per_instance`: Number of questions to generate per table (default=5)\n",
    "- `answers_list`: Generated questions will have these as the answers. It should be a list of lists, \n",
    "        where each list corresponds a passage in `text_list`. (default=[])\n",
    "\n",
    "When `answers_list` is not provided, named entity recognition method is used to sample answers."
   ]
  },
  {
   "cell_type": "code",
   "execution_count": 4,
   "id": "40b38a3f",
   "metadata": {},
   "outputs": [
    {
     "name": "stdout",
     "output_type": "stream",
     "text": [
      "Input language en\n",
      "Input language ru\n"
     ]
    },
    {
     "name": "stderr",
     "output_type": "stream",
     "text": [
      "Asking to truncate to max_length but no maximum length is provided and the model has no predefined maximum length. Default to no truncation.\n"
     ]
    },
    {
     "data": {
      "text/plain": [
       "[{'question': 'What country did Sachin tendulkar play?', 'answer': 'Indian'},\n",
       " {'question': 'How many runs did Sachin tendulkar have?',\n",
       "  'answer': '100 centuries'},\n",
       " {'question': 'Who won the last Indian cricket season?',\n",
       "  'answer': 'Sachin tendulkar'},\n",
       " {'question': 'Как называется Губернский город?', 'answer': 'Симбирск'},\n",
       " {'question': 'Где находится Симбирская губерния?',\n",
       "  'answer': 'Российской империи'},\n",
       " {'question': 'Как называется Симбирская губерния?',\n",
       "  'answer': 'Ульяновская губерния'}]"
      ]
     },
     "execution_count": 4,
     "metadata": {},
     "output_type": "execute_result"
    }
   ],
   "source": [
    "table_qg_model.generate_questions(text_list, \n",
    "                    num_questions_per_instance = 3)"
   ]
  },
  {
   "cell_type": "markdown",
   "id": "c5ad114d",
   "metadata": {},
   "source": [
    "Answer sampler only supports Arabic, English, Finnish and Russian now. For other languages in TyDi dataset\n",
    "we should provide the answers explicitly."
   ]
  },
  {
   "cell_type": "code",
   "execution_count": 5,
   "id": "ac697173",
   "metadata": {},
   "outputs": [
    {
     "data": {
      "text/plain": [
       "[{'question': 'ক্রিকেট ইতিহাসের অন্যতম সেরা ব্যাটসম্যান কে?',\n",
       "  'answer': 'শচীন টেন্ডুলকার'}]"
      ]
     },
     "execution_count": 5,
     "metadata": {},
     "output_type": "execute_result"
    }
   ],
   "source": [
    "text_list = [\"শচীন টেন্ডুলকারকে ক্রিকেট ইতিহাসের অন্যতম সেরা ব্যাটসম্যান হিসেবে গণ্য করা হয়।\"]\n",
    "answers_list = [[\"শচীন টেন্ডুলকার\"]]\n",
    "table_qg_model.generate_questions(text_list, \n",
    "                                answers_list = answers_list)"
   ]
  }
 ],
 "metadata": {
  "kernelspec": {
   "display_name": "Python 3.8.8",
   "language": "python",
   "name": "python3"
  },
  "language_info": {
   "codemirror_mode": {
    "name": "ipython",
    "version": 3
   },
   "file_extension": ".py",
   "mimetype": "text/x-python",
   "name": "python",
   "nbconvert_exporter": "python",
   "pygments_lexer": "ipython3",
   "version": "3.8.8"
  },
  "vscode": {
   "interpreter": {
    "hash": "1e63abac90f6bd7baea4d1aaf4414d5d23b3331912f541089906c737b648c637"
   }
  }
 },
 "nbformat": 4,
 "nbformat_minor": 5
}
