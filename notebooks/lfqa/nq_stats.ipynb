{
 "cells": [
  {
   "cell_type": "code",
   "execution_count": 1,
   "metadata": {},
   "outputs": [],
   "source": [
    "# load tydi json and compute stats on the questions and answers\n",
    "import glob\n",
    "import gzip\n",
    "import json\n",
    "import spacy\n",
    "\n",
    "nlp = spacy.load('en_core_web_sm')\n",
    "\n",
    "train_data_dir = \"/dccstor/srosent2/generative/appen/final/longNQ/train/*jsonl\"\n",
    "dev_data_dir = \"/dccstor/srosent2/generative/appen/final/longNQ/dev/*jsonl\"\n",
    "\n",
    "train_files = glob.glob(train_data_dir)\n",
    "dev_files = glob.glob(dev_data_dir)"
   ]
  },
  {
   "cell_type": "code",
   "execution_count": 2,
   "metadata": {},
   "outputs": [],
   "source": [
    "\n",
    "def load_json_from_file(gt_file_patterns):\n",
    "    data = []\n",
    "    if gt_file_patterns.endswith('gz'):\n",
    "        f = gzip.open(gt_file_patterns, 'rt', encoding='utf-8')\n",
    "    else:\n",
    "        f = open(gt_file_patterns, 'rt', encoding='utf-8')\n",
    "    lines = f.readlines()\n",
    "    for line in lines:\n",
    "        data.append(json.loads(line))\n",
    "    return data\n"
   ]
  },
  {
   "cell_type": "code",
   "execution_count": 3,
   "metadata": {},
   "outputs": [],
   "source": [
    "from random import sample\n",
    "\n",
    "def compute_stats(data, type):\n",
    "    first_word_stat = {}\n",
    "    for example in data:\n",
    "        qtype = example['type'][0]\n",
    "        \n",
    "        if qtype != type:\n",
    "            continue\n",
    "        example_id = example['example_id']\n",
    "        question = example[\"question_text\"]\n",
    "\n",
    "        q_word = question.split()[0]\n",
    "\n",
    "        annotation = example['annotations'][0]\n",
    "\n",
    "        if annotation == None:\n",
    "            continue\n",
    "\n",
    "        minimal_text = \"\"\n",
    "        if annotation['minimal_answer']['plaintext_start_byte'] != -1:\n",
    "            minimal_text = example['document_plaintext'].encode('utf-8')[annotation['minimal_answer']['plaintext_start_byte']:annotation['minimal_answer']['plaintext_end_byte']].decode('utf-8')\n",
    "        passage_offsets = example['passage_answer_candidates'][annotation['passage_answer']['candidate_index']]\n",
    "        passage_text = example['document_plaintext'].encode('utf-8')[passage_offsets['plaintext_start_byte']:passage_offsets['plaintext_end_byte']].decode('utf-8')\n",
    "        info = {}\n",
    "        info[\"question\"] = question\n",
    "        info[\"passage_text\"] = passage_text\n",
    "        info[\"minimal_text\"] = minimal_text\n",
    "        info[\"example_id\"] = example_id\n",
    "        if q_word in first_word_stat:\n",
    "            first_word_stat[q_word].append(info)\n",
    "        else:\n",
    "            first_word_stat[q_word] = []\n",
    "            first_word_stat[q_word].append(info)\n",
    "    for word in first_word_stat:\n",
    "        if len(first_word_stat[word]) > 20:\n",
    "            sample_questions = sample(first_word_stat[word],5)\n",
    "            print(word + \": \" + str(len(first_word_stat[word])))\n",
    "            for sample_question in sample_questions:\n",
    "                print(str(sample_question['example_id']) + \"\\t\" + sample_question['question'] + \"\\t\" + sample_question['passage_text'] + \"\\t\" + sample_question['minimal_text'])\n",
    "                    "
   ]
  },
  {
   "cell_type": "code",
   "execution_count": 4,
   "metadata": {},
   "outputs": [],
   "source": [
    "dev_data = []\n",
    "for dev_file in dev_files:\n",
    "    dev_data.extend(load_json_from_file(dev_file))\n",
    "\n",
    "#compute_stats(dev_data, \"la\")"
   ]
  },
  {
   "cell_type": "code",
   "execution_count": 5,
   "metadata": {},
   "outputs": [],
   "source": [
    "train_data = []\n",
    "for train_file in train_files:\n",
    "    train_data.extend(load_json_from_file(train_file))"
   ]
  },
  {
   "cell_type": "code",
   "execution_count": 6,
   "metadata": {},
   "outputs": [
    {
     "ename": "KeyError",
     "evalue": "'type'",
     "output_type": "error",
     "traceback": [
      "\u001b[0;31m---------------------------------------------------------------------------\u001b[0m",
      "\u001b[0;31mKeyError\u001b[0m                                  Traceback (most recent call last)",
      "\u001b[1;32m/dccstor/srosent2/primeqa/primeqa/notebooks/lfqa/stats.ipynb Cell 6\u001b[0m line \u001b[0;36m1\n\u001b[0;32m----> <a href='vscode-notebook-cell://ssh-remote%2Bcccxl013.pok.ibm.com/dccstor/srosent2/primeqa/primeqa/notebooks/lfqa/stats.ipynb#W5sdnNjb2RlLXJlbW90ZQ%3D%3D?line=0'>1</a>\u001b[0m compute_stats(train_data, \u001b[39m\"\u001b[39;49m\u001b[39mla\u001b[39;49m\u001b[39m\"\u001b[39;49m)\n",
      "\u001b[1;32m/dccstor/srosent2/primeqa/primeqa/notebooks/lfqa/stats.ipynb Cell 6\u001b[0m line \u001b[0;36m6\n\u001b[1;32m      <a href='vscode-notebook-cell://ssh-remote%2Bcccxl013.pok.ibm.com/dccstor/srosent2/primeqa/primeqa/notebooks/lfqa/stats.ipynb#W5sdnNjb2RlLXJlbW90ZQ%3D%3D?line=3'>4</a>\u001b[0m first_word_stat \u001b[39m=\u001b[39m {}\n\u001b[1;32m      <a href='vscode-notebook-cell://ssh-remote%2Bcccxl013.pok.ibm.com/dccstor/srosent2/primeqa/primeqa/notebooks/lfqa/stats.ipynb#W5sdnNjb2RlLXJlbW90ZQ%3D%3D?line=4'>5</a>\u001b[0m \u001b[39mfor\u001b[39;00m example \u001b[39min\u001b[39;00m data:\n\u001b[0;32m----> <a href='vscode-notebook-cell://ssh-remote%2Bcccxl013.pok.ibm.com/dccstor/srosent2/primeqa/primeqa/notebooks/lfqa/stats.ipynb#W5sdnNjb2RlLXJlbW90ZQ%3D%3D?line=5'>6</a>\u001b[0m     qtype \u001b[39m=\u001b[39m example[\u001b[39m'\u001b[39;49m\u001b[39mtype\u001b[39;49m\u001b[39m'\u001b[39;49m][\u001b[39m0\u001b[39m]\n\u001b[1;32m      <a href='vscode-notebook-cell://ssh-remote%2Bcccxl013.pok.ibm.com/dccstor/srosent2/primeqa/primeqa/notebooks/lfqa/stats.ipynb#W5sdnNjb2RlLXJlbW90ZQ%3D%3D?line=7'>8</a>\u001b[0m     \u001b[39mif\u001b[39;00m qtype \u001b[39m!=\u001b[39m \u001b[39mtype\u001b[39m:\n\u001b[1;32m      <a href='vscode-notebook-cell://ssh-remote%2Bcccxl013.pok.ibm.com/dccstor/srosent2/primeqa/primeqa/notebooks/lfqa/stats.ipynb#W5sdnNjb2RlLXJlbW90ZQ%3D%3D?line=8'>9</a>\u001b[0m         \u001b[39mcontinue\u001b[39;00m\n",
      "\u001b[0;31mKeyError\u001b[0m: 'type'"
     ]
    }
   ],
   "source": [
    "compute_stats(train_data, \"la\")"
   ]
  }
 ],
 "metadata": {
  "kernelspec": {
   "display_name": "Python 3.9.12 ('primeqaenv')",
   "language": "python",
   "name": "python3"
  },
  "language_info": {
   "codemirror_mode": {
    "name": "ipython",
    "version": 3
   },
   "file_extension": ".py",
   "mimetype": "text/x-python",
   "name": "python",
   "nbconvert_exporter": "python",
   "pygments_lexer": "ipython3",
   "version": "3.9.16"
  },
  "orig_nbformat": 4,
  "vscode": {
   "interpreter": {
    "hash": "229bd894a0cdb05b7ee80ea2bc43559a301775857073a25e64e4f441f37822ce"
   }
  }
 },
 "nbformat": 4,
 "nbformat_minor": 2
}
