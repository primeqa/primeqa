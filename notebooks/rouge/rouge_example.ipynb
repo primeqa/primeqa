{
 "cells": [
  {
   "cell_type": "code",
   "execution_count": 9,
   "metadata": {},
   "outputs": [
    {
     "name": "stdout",
     "output_type": "stream",
     "text": [
      "{\"time\":\"2023-06-07 12:06:57,901\", \"name\": \"absl\", \"level\": \"INFO\", \"message\": \"Using default tokenizer.\"}\n"
     ]
    }
   ],
   "source": [
    "# import rouge\n",
    "from primeqa.mrc.metrics.rouge.rouge import ROUGE\n",
    "rouge = ROUGE()"
   ]
  },
  {
   "cell_type": "code",
   "execution_count": 10,
   "metadata": {},
   "outputs": [],
   "source": [
    "prediction = '\\n\\nThe Beatles are considered the highest-selling band and Elvis Presley is considered the highest-selling individual artist based on sales claims.'\n",
    "ground_truths = []\n",
    "ground_truths.append(\"As of 2017 , based on both sales claims and certified units , The Beatles are considered the highest - selling band .\\n Elvis Presley is considered the highest - selling individual artist based on sales claims and Rihanna is the highest - selling individual artist based on certified units\")\n",
    "ground_truths.append(\"As of 2017, The Beatles are considered the highest-selling band. Elvis Presley is considered the highest-selling individual artist based on sales claims and Rihanna the highest-selling individual artist based on certified units.\")"
   ]
  },
  {
   "cell_type": "code",
   "execution_count": 12,
   "metadata": {},
   "outputs": [
    {
     "name": "stdout",
     "output_type": "stream",
     "text": [
      "0.7368421052631579\n",
      "0.7999999951125\n"
     ]
    }
   ],
   "source": [
    "hf_metric, kilt_metric = rouge._metric_max_over_ground_truths(prediction, ground_truths)\n",
    "print(f'google rouge: {hf_metric}')\n",
    "print(f'kilt rouge: {kilt_metric}')"
   ]
  }
 ],
 "metadata": {
  "kernelspec": {
   "display_name": "primeqa_new",
   "language": "python",
   "name": "python3"
  },
  "language_info": {
   "codemirror_mode": {
    "name": "ipython",
    "version": 3
   },
   "file_extension": ".py",
   "mimetype": "text/x-python",
   "name": "python",
   "nbconvert_exporter": "python",
   "pygments_lexer": "ipython3",
   "version": "3.9.16"
  },
  "orig_nbformat": 4
 },
 "nbformat": 4,
 "nbformat_minor": 2
}
