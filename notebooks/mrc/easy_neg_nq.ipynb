{
 "cells": [
  {
   "cell_type": "markdown",
   "metadata": {},
   "source": [
    "1. load nq adapted dev\n",
    "2. shuffle dev\n",
    "3. load reader\n",
    "4. run some examples"
   ]
  },
  {
   "cell_type": "code",
   "execution_count": 1,
   "metadata": {},
   "outputs": [
    {
     "name": "stdout",
     "output_type": "stream",
     "text": [
      "7830\n",
      "7830\n"
     ]
    }
   ],
   "source": [
    "import glob\n",
    "import datasets\n",
    "from datasets import concatenate_datasets\n",
    "\n",
    "dev_files = \"/dccstor/srosent3/primeqa/data/nq_adapted/eval/*\"\n",
    "\n",
    "eval_datasets = []\n",
    "\n",
    "data_files = glob.glob(dev_files)\n",
    "for file in data_files:\n",
    "    d = datasets.load_from_disk(file)\n",
    "    print(len(d))\n",
    "    eval_datasets.append(d)\n",
    "eval_dataset = concatenate_datasets(eval_datasets)\n",
    "print(len(eval_dataset))"
   ]
  },
  {
   "cell_type": "code",
   "execution_count": 2,
   "metadata": {},
   "outputs": [],
   "source": [
    "import json\n",
    "\n",
    "question = [\"When was Joe Biden born?\",\"When was Joe Biden born?\"]\n",
    "context = [[\"Joseph Robinette Biden Jr. (/ˈbaɪdən/ (listen) BY-dən; born November 20, 1942) is an American politician who is the 46th and current president of the United States. A member of the Democratic Party, he previously served as the 47th vice president from 2009 to 2017 under President Barack Obama and represented Delaware in the United States Senate from 1973 to 2009.\"],\n",
    "        [\"Donald John Trump (born June 14, 1946) is an American politician, media personality, and businessman who served as the 45th president of the United States from 2017 to 2021.\"]] \n"
   ]
  },
  {
   "cell_type": "code",
   "execution_count": 3,
   "metadata": {},
   "outputs": [],
   "source": [
    "from primeqa.components.reader.extractive import ExtractiveReader\n",
    "from primeqa.mrc.processors.postprocessors.scorers import SupportedSpanScorers\n",
    "\n",
    "def load_reader(model_name, scorer_type, question, context):\n",
    "    if scorer_type is not None:\n",
    "        reader = ExtractiveReader(model=model_name, scorer_type=scorer_type)\n",
    "    else:\n",
    "        reader = ExtractiveReader(model=model_name)\n",
    "    reader.load()\n",
    "    answers = reader.predict([question[0]],[context[0]])  \n",
    "    print(json.dumps(answers, indent=4))  \n",
    "    answers = reader.predict([question[0]],[context[1]]) \n",
    "    print(json.dumps(answers, indent=4)) \n",
    "    return reader"
   ]
  },
  {
   "cell_type": "code",
   "execution_count": 7,
   "metadata": {},
   "outputs": [
    {
     "name": "stderr",
     "output_type": "stream",
     "text": [
      "loading configuration file config.json from cache at /dccstor/srosent3/huggingface_cache/hub/models--PrimeQA--nq_tydi_sq1-reader-xlmr_large-20221110/snapshots/59c0ac1e8c43a3c7f6d5e26e4bf1e9c3c53b850c/config.json\n",
      "Model config XLMRobertaConfig {\n",
      "  \"_name_or_path\": \"PrimeQA/nq_tydi_sq1-reader-xlmr_large-20221110\",\n",
      "  \"architectures\": [\n",
      "    \"XLMRobertaModelForDownstreamTasks\"\n",
      "  ],\n",
      "  \"attention_probs_dropout_prob\": 0.1,\n",
      "  \"bos_token_id\": 0,\n",
      "  \"classifier_dropout\": null,\n",
      "  \"decoding_times_with_dropout\": 5,\n",
      "  \"eos_token_id\": 2,\n",
      "  \"hidden_act\": \"gelu\",\n",
      "  \"hidden_dropout_prob\": 0.1,\n",
      "  \"hidden_size\": 1024,\n",
      "  \"initializer_range\": 0.02,\n",
      "  \"intermediate_size\": 4096,\n",
      "  \"layer_norm_eps\": 1e-05,\n",
      "  \"max_position_embeddings\": 514,\n",
      "  \"model_type\": \"xlm-roberta\",\n",
      "  \"num_attention_heads\": 16,\n",
      "  \"num_hidden_layers\": 24,\n",
      "  \"output_dropout_rate\": 0.25,\n",
      "  \"output_past\": true,\n",
      "  \"pad_token_id\": 1,\n",
      "  \"position_embedding_type\": \"absolute\",\n",
      "  \"sep_token_id\": 2,\n",
      "  \"torch_dtype\": \"float32\",\n",
      "  \"transformers_version\": \"4.24.0\",\n",
      "  \"type_vocab_size\": 1,\n",
      "  \"use_cache\": true,\n",
      "  \"vocab_size\": 250002\n",
      "}\n",
      "\n",
      "loading file sentencepiece.bpe.model from cache at /dccstor/srosent3/huggingface_cache/hub/models--PrimeQA--nq_tydi_sq1-reader-xlmr_large-20221110/snapshots/59c0ac1e8c43a3c7f6d5e26e4bf1e9c3c53b850c/sentencepiece.bpe.model\n",
      "loading file tokenizer.json from cache at /dccstor/srosent3/huggingface_cache/hub/models--PrimeQA--nq_tydi_sq1-reader-xlmr_large-20221110/snapshots/59c0ac1e8c43a3c7f6d5e26e4bf1e9c3c53b850c/tokenizer.json\n",
      "loading file added_tokens.json from cache at None\n",
      "loading file special_tokens_map.json from cache at /dccstor/srosent3/huggingface_cache/hub/models--PrimeQA--nq_tydi_sq1-reader-xlmr_large-20221110/snapshots/59c0ac1e8c43a3c7f6d5e26e4bf1e9c3c53b850c/special_tokens_map.json\n",
      "loading file tokenizer_config.json from cache at /dccstor/srosent3/huggingface_cache/hub/models--PrimeQA--nq_tydi_sq1-reader-xlmr_large-20221110/snapshots/59c0ac1e8c43a3c7f6d5e26e4bf1e9c3c53b850c/tokenizer_config.json\n",
      "loading weights file pytorch_model.bin from cache at /dccstor/srosent3/huggingface_cache/hub/models--PrimeQA--nq_tydi_sq1-reader-xlmr_large-20221110/snapshots/59c0ac1e8c43a3c7f6d5e26e4bf1e9c3c53b850c/pytorch_model.bin\n"
     ]
    },
    {
     "name": "stdout",
     "output_type": "stream",
     "text": [
      "{\"time\":\"2023-08-11 10:57:31,372\", \"name\": \"ExtractiveQAHead\", \"level\": \"INFO\", \"message\": \"Loading dropout value 0.1 from config attribute 'hidden_dropout_prob'\"}\n"
     ]
    },
    {
     "name": "stderr",
     "output_type": "stream",
     "text": [
      "All model checkpoint weights were used when initializing XLMRobertaModelForDownstreamTasks.\n",
      "\n",
      "All the weights of XLMRobertaModelForDownstreamTasks were initialized from the model checkpoint at PrimeQA/nq_tydi_sq1-reader-xlmr_large-20221110.\n",
      "If your task is similar to the task the model of the checkpoint was trained on, you can already use XLMRobertaModelForDownstreamTasks for predictions without further training.\n"
     ]
    },
    {
     "name": "stdout",
     "output_type": "stream",
     "text": [
      "{\"time\":\"2023-08-11 10:57:32,351\", \"name\": \"XLMRobertaModelForDownstreamTasks\", \"level\": \"INFO\", \"message\": \"Setting task head for first time to 'None'\"}\n"
     ]
    },
    {
     "name": "stderr",
     "output_type": "stream",
     "text": [
      "PyTorch: setting up devices\n",
      "The default value for the training argument `--report_to` will change in v5 (from all installed integrations to none). In v5, you will need to use `--report_to all` to get the same behavior as now. You should start updating your code and make this info disappear :-).\n"
     ]
    },
    {
     "data": {
      "application/vnd.jupyter.widget-view+json": {
       "model_id": "45eb4def02cc4f73a4b324fd4159541e",
       "version_major": 2,
       "version_minor": 0
      },
      "text/plain": [
       "Running tokenizer on eval dataset:   0%|          | 0/1 [00:00<?, ?ba/s]"
      ]
     },
     "metadata": {},
     "output_type": "display_data"
    },
    {
     "name": "stdout",
     "output_type": "stream",
     "text": [
      "{\"time\":\"2023-08-11 10:57:32,440\", \"name\": \"primeqa.mrc.trainers.mrc\", \"level\": \"INFO\", \"message\": \"The following columns in the evaluation set  don't have a corresponding argument in `XLMRobertaModelForDownstreamTasks.forward` and have been ignored: example_id, example_idx, context_idx, offset_mapping.\"}\n"
     ]
    },
    {
     "name": "stderr",
     "output_type": "stream",
     "text": [
      "***** Running Evaluation *****\n",
      "  Num examples = 1\n",
      "  Batch size = 8\n",
      "You're using a XLMRobertaTokenizerFast tokenizer. Please note that with a fast tokenizer, using the `__call__` method is faster than using a method to encode the text followed by a call to the `pad` method to get a padded encoding.\n"
     ]
    },
    {
     "data": {
      "text/html": [
       "\n",
       "    <div>\n",
       "      \n",
       "      <progress value='1' max='1' style='width:300px; height:20px; vertical-align: middle;'></progress>\n",
       "      [1/1 : < :]\n",
       "    </div>\n",
       "    "
      ],
      "text/plain": [
       "<IPython.core.display.HTML object>"
      ]
     },
     "metadata": {},
     "output_type": "display_data"
    },
    {
     "name": "stderr",
     "output_type": "stream",
     "text": [
      "100%|██████████████████████████████████████████████████████████████████████████████████████████████████████████████████████████████| 1/1 [00:00<00:00, 450.47it/s]\n",
      "PyTorch: setting up devices\n",
      "The default value for the training argument `--report_to` will change in v5 (from all installed integrations to none). In v5, you will need to use `--report_to all` to get the same behavior as now. You should start updating your code and make this info disappear :-).\n"
     ]
    },
    {
     "name": "stdout",
     "output_type": "stream",
     "text": [
      "{\n",
      "    \"0\": [\n",
      "        {\n",
      "            \"example_id\": \"0\",\n",
      "            \"passage_index\": 0,\n",
      "            \"span_answer_text\": \"November 20, 1942\",\n",
      "            \"span_answer\": {\n",
      "                \"start_position\": 60,\n",
      "                \"end_position\": 77\n",
      "            },\n",
      "            \"span_answer_score\": 13.428717494010925,\n",
      "            \"span_answer_score_sm\": 5.16126784764947,\n",
      "            \"confidence_score\": 1.0,\n",
      "            \"normalized_span_answer_score\": 1.0,\n",
      "            \"cls_score\": [\n",
      "                -7.107377290725708,\n",
      "                9.446923408348818e-05\n",
      "            ],\n",
      "            \"target_type_logits\": [\n",
      "                -1.9182319641113281,\n",
      "                8.340025901794434,\n",
      "                -1.1076451539993286,\n",
      "                -2.3863894939422607,\n",
      "                -2.878170967102051\n",
      "            ],\n",
      "            \"start_logit\": [\n",
      "                5.818990707397461,\n",
      "                0.9912486308901054\n",
      "            ],\n",
      "            \"end_logit\": [\n",
      "                5.591041088104248,\n",
      "                0.991450101082569\n",
      "            ]\n",
      "        }\n",
      "    ]\n",
      "}\n"
     ]
    },
    {
     "data": {
      "application/vnd.jupyter.widget-view+json": {
       "model_id": "98c1f9432dbc4a0f8662c24c34e22e66",
       "version_major": 2,
       "version_minor": 0
      },
      "text/plain": [
       "Running tokenizer on eval dataset:   0%|          | 0/1 [00:00<?, ?ba/s]"
      ]
     },
     "metadata": {},
     "output_type": "display_data"
    },
    {
     "name": "stdout",
     "output_type": "stream",
     "text": [
      "{\"time\":\"2023-08-11 10:57:32,991\", \"name\": \"primeqa.mrc.trainers.mrc\", \"level\": \"INFO\", \"message\": \"The following columns in the evaluation set  don't have a corresponding argument in `XLMRobertaModelForDownstreamTasks.forward` and have been ignored: example_id, example_idx, context_idx, offset_mapping.\"}\n"
     ]
    },
    {
     "name": "stderr",
     "output_type": "stream",
     "text": [
      "***** Running Evaluation *****\n",
      "  Num examples = 1\n",
      "  Batch size = 8\n"
     ]
    },
    {
     "data": {
      "text/html": [
       "\n",
       "    <div>\n",
       "      \n",
       "      <progress value='1' max='1' style='width:300px; height:20px; vertical-align: middle;'></progress>\n",
       "      [1/1 : < :]\n",
       "    </div>\n",
       "    "
      ],
      "text/plain": [
       "<IPython.core.display.HTML object>"
      ]
     },
     "metadata": {},
     "output_type": "display_data"
    },
    {
     "name": "stderr",
     "output_type": "stream",
     "text": [
      "100%|██████████████████████████████████████████████████████████████████████████████████████████████████████████████████████████████| 1/1 [00:00<00:00, 712.11it/s]"
     ]
    },
    {
     "name": "stdout",
     "output_type": "stream",
     "text": [
      "{\n",
      "    \"0\": [\n",
      "        {\n",
      "            \"example_id\": \"0\",\n",
      "            \"passage_index\": 0,\n",
      "            \"span_answer_text\": \"June 14, 1946\",\n",
      "            \"span_answer\": {\n",
      "                \"start_position\": 24,\n",
      "                \"end_position\": 37\n",
      "            },\n",
      "            \"span_answer_score\": 2.405800700187683,\n",
      "            \"span_answer_score_sm\": 2.0223357495554923,\n",
      "            \"confidence_score\": 1.0,\n",
      "            \"normalized_span_answer_score\": 1.0,\n",
      "            \"cls_score\": [\n",
      "                -3.264090418815613,\n",
      "                0.3284827453501574\n",
      "            ],\n",
      "            \"target_type_logits\": [\n",
      "                1.277970314025879,\n",
      "                3.460703134536743,\n",
      "                1.1446478366851807,\n",
      "                -3.3464109897613525,\n",
      "                -3.8313040733337402\n",
      "            ],\n",
      "            \"start_logit\": [\n",
      "                -0.567209005355835,\n",
      "                0.7297644117781935\n",
      "            ],\n",
      "            \"end_logit\": [\n",
      "                -1.3459831476211548,\n",
      "                0.5111694434963625\n",
      "            ]\n",
      "        }\n",
      "    ]\n",
      "}\n"
     ]
    },
    {
     "name": "stderr",
     "output_type": "stream",
     "text": [
      "\n"
     ]
    }
   ],
   "source": [
    "\n",
    "default_reader = load_reader(model_name=\"PrimeQA/nq_tydi_sq1-reader-xlmr_large-20221110\", scorer_type=None,question=question, context=context)"
   ]
  },
  {
   "cell_type": "code",
   "execution_count": 10,
   "metadata": {},
   "outputs": [
    {
     "name": "stderr",
     "output_type": "stream",
     "text": [
      "loading configuration file /dccstor/srosent2/primeqa/experiments/reader_reranker/2epochRoberta/default_2wayloss/output/config.json\n",
      "Model config RobertaConfig {\n",
      "  \"_name_or_path\": \"/dccstor/srosent2/primeqa/experiments/reader_reranker/2epochRoberta/default_2wayloss/output/\",\n",
      "  \"architectures\": [\n",
      "    \"RobertaModelForDownstreamTasks\"\n",
      "  ],\n",
      "  \"attention_probs_dropout_prob\": 0.1,\n",
      "  \"bos_token_id\": 0,\n",
      "  \"classifier_dropout\": null,\n",
      "  \"decoding_times_with_dropout\": 5,\n",
      "  \"eos_token_id\": 2,\n",
      "  \"hidden_act\": \"gelu\",\n",
      "  \"hidden_dropout_prob\": 0.1,\n",
      "  \"hidden_size\": 1024,\n",
      "  \"initializer_range\": 0.02,\n",
      "  \"intermediate_size\": 4096,\n",
      "  \"layer_norm_eps\": 1e-05,\n",
      "  \"max_position_embeddings\": 514,\n",
      "  \"model_type\": \"roberta\",\n",
      "  \"num_attention_heads\": 16,\n",
      "  \"num_hidden_layers\": 24,\n",
      "  \"output_dropout_rate\": 0.25,\n",
      "  \"pad_token_id\": 1,\n",
      "  \"position_embedding_type\": \"absolute\",\n",
      "  \"sep_token_id\": 2,\n",
      "  \"torch_dtype\": \"float32\",\n",
      "  \"transformers_version\": \"4.24.0\",\n",
      "  \"two_way_loss\": true,\n",
      "  \"type_vocab_size\": 1,\n",
      "  \"use_cache\": true,\n",
      "  \"vocab_size\": 50265\n",
      "}\n",
      "\n",
      "loading file vocab.json\n",
      "loading file merges.txt\n",
      "loading file tokenizer.json\n",
      "loading file added_tokens.json\n",
      "loading file special_tokens_map.json\n",
      "loading file tokenizer_config.json\n",
      "loading weights file /dccstor/srosent2/primeqa/experiments/reader_reranker/2epochRoberta/default_2wayloss/output/pytorch_model.bin\n"
     ]
    },
    {
     "name": "stdout",
     "output_type": "stream",
     "text": [
      "{\"time\":\"2023-08-11 10:18:14,794\", \"name\": \"ExtractiveQAHead\", \"level\": \"INFO\", \"message\": \"Loading dropout value 0.1 from config attribute 'hidden_dropout_prob'\"}\n"
     ]
    },
    {
     "name": "stderr",
     "output_type": "stream",
     "text": [
      "All model checkpoint weights were used when initializing RobertaModelForDownstreamTasks.\n",
      "\n",
      "All the weights of RobertaModelForDownstreamTasks were initialized from the model checkpoint at /dccstor/srosent2/primeqa/experiments/reader_reranker/2epochRoberta/default_2wayloss/output/.\n",
      "If your task is similar to the task the model of the checkpoint was trained on, you can already use RobertaModelForDownstreamTasks for predictions without further training.\n"
     ]
    },
    {
     "name": "stdout",
     "output_type": "stream",
     "text": [
      "{\"time\":\"2023-08-11 10:18:15,052\", \"name\": \"RobertaModelForDownstreamTasks\", \"level\": \"INFO\", \"message\": \"Setting task head for first time to 'None'\"}\n"
     ]
    },
    {
     "name": "stderr",
     "output_type": "stream",
     "text": [
      "PyTorch: setting up devices\n",
      "The default value for the training argument `--report_to` will change in v5 (from all installed integrations to none). In v5, you will need to use `--report_to all` to get the same behavior as now. You should start updating your code and make this info disappear :-).\n"
     ]
    },
    {
     "data": {
      "application/vnd.jupyter.widget-view+json": {
       "model_id": "2c2804e446b84204bf177e28470a2a90",
       "version_major": 2,
       "version_minor": 0
      },
      "text/plain": [
       "Running tokenizer on eval dataset:   0%|          | 0/1 [00:00<?, ?ba/s]"
      ]
     },
     "metadata": {},
     "output_type": "display_data"
    },
    {
     "name": "stdout",
     "output_type": "stream",
     "text": [
      "{\"time\":\"2023-08-11 10:18:15,221\", \"name\": \"primeqa.mrc.trainers.mrc\", \"level\": \"INFO\", \"message\": \"The following columns in the evaluation set  don't have a corresponding argument in `RobertaModelForDownstreamTasks.forward` and have been ignored: example_idx, offset_mapping, context_idx, example_id.\"}\n"
     ]
    },
    {
     "name": "stderr",
     "output_type": "stream",
     "text": [
      "***** Running Evaluation *****\n",
      "  Num examples = 1\n",
      "  Batch size = 8\n",
      "You're using a RobertaTokenizerFast tokenizer. Please note that with a fast tokenizer, using the `__call__` method is faster than using a method to encode the text followed by a call to the `pad` method to get a padded encoding.\n"
     ]
    },
    {
     "data": {
      "text/html": [
       "\n",
       "    <div>\n",
       "      \n",
       "      <progress value='1' max='1' style='width:300px; height:20px; vertical-align: middle;'></progress>\n",
       "      [1/1 : < :]\n",
       "    </div>\n",
       "    "
      ],
      "text/plain": [
       "<IPython.core.display.HTML object>"
      ]
     },
     "metadata": {},
     "output_type": "display_data"
    },
    {
     "name": "stderr",
     "output_type": "stream",
     "text": [
      "100%|██████████████████████████████████████████████████████████████████████████████████████████████████████████████████████████████| 1/1 [00:00<00:00, 628.64it/s]\n",
      "PyTorch: setting up devices\n",
      "The default value for the training argument `--report_to` will change in v5 (from all installed integrations to none). In v5, you will need to use `--report_to all` to get the same behavior as now. You should start updating your code and make this info disappear :-).\n"
     ]
    },
    {
     "name": "stdout",
     "output_type": "stream",
     "text": [
      "{\n",
      "    \"0\": [\n",
      "        {\n",
      "            \"example_id\": \"0\",\n",
      "            \"passage_index\": 0,\n",
      "            \"span_answer_text\": \"November 20, 1942\",\n",
      "            \"span_answer\": {\n",
      "                \"start_position\": 60,\n",
      "                \"end_position\": 77\n",
      "            },\n",
      "            \"span_answer_score\": 4.656827926635742,\n",
      "            \"span_answer_score_sm\": 1.625340522486016,\n",
      "            \"confidence_score\": 1.0,\n",
      "            \"normalized_span_answer_score\": 1.0,\n",
      "            \"cls_score\": [\n",
      "                14.601494789123535,\n",
      "                0.08782862629562058\n",
      "            ],\n",
      "            \"target_type_logits\": [\n",
      "                0.0018862634897232056,\n",
      "                -0.24073347449302673,\n",
      "                -0.42244213819503784,\n",
      "                -0.13526174426078796,\n",
      "                0.44402292370796204\n",
      "            ],\n",
      "            \"start_logit\": [\n",
      "                9.71467113494873,\n",
      "                0.9046500210489982\n",
      "            ],\n",
      "            \"end_logit\": [\n",
      "                9.543651580810547,\n",
      "                0.896347754028259\n",
      "            ]\n",
      "        }\n",
      "    ]\n",
      "}\n"
     ]
    },
    {
     "data": {
      "application/vnd.jupyter.widget-view+json": {
       "model_id": "948630a0706641b3bc63d41f158fb388",
       "version_major": 2,
       "version_minor": 0
      },
      "text/plain": [
       "Running tokenizer on eval dataset:   0%|          | 0/1 [00:00<?, ?ba/s]"
      ]
     },
     "metadata": {},
     "output_type": "display_data"
    },
    {
     "name": "stdout",
     "output_type": "stream",
     "text": [
      "{\"time\":\"2023-08-11 10:18:15,517\", \"name\": \"primeqa.mrc.trainers.mrc\", \"level\": \"INFO\", \"message\": \"The following columns in the evaluation set  don't have a corresponding argument in `RobertaModelForDownstreamTasks.forward` and have been ignored: example_idx, offset_mapping, context_idx, example_id.\"}\n"
     ]
    },
    {
     "name": "stderr",
     "output_type": "stream",
     "text": [
      "***** Running Evaluation *****\n",
      "  Num examples = 1\n",
      "  Batch size = 8\n"
     ]
    },
    {
     "data": {
      "text/html": [
       "\n",
       "    <div>\n",
       "      \n",
       "      <progress value='1' max='1' style='width:300px; height:20px; vertical-align: middle;'></progress>\n",
       "      [1/1 : < :]\n",
       "    </div>\n",
       "    "
      ],
      "text/plain": [
       "<IPython.core.display.HTML object>"
      ]
     },
     "metadata": {},
     "output_type": "display_data"
    },
    {
     "name": "stderr",
     "output_type": "stream",
     "text": [
      "100%|██████████████████████████████████████████████████████████████████████████████████████████████████████████████████████████████| 1/1 [00:00<00:00, 872.36it/s]"
     ]
    },
    {
     "name": "stdout",
     "output_type": "stream",
     "text": [
      "{\n",
      "    \"0\": [\n",
      "        {\n",
      "            \"example_id\": \"0\",\n",
      "            \"passage_index\": 0,\n",
      "            \"span_answer_text\": \"June 14, 1946\",\n",
      "            \"span_answer\": {\n",
      "                \"start_position\": 24,\n",
      "                \"end_position\": 37\n",
      "            },\n",
      "            \"span_answer_score\": -13.355651557445526,\n",
      "            \"span_answer_score_sm\": -1.993020742426707,\n",
      "            \"confidence_score\": 1.0,\n",
      "            \"normalized_span_answer_score\": 1.0,\n",
      "            \"cls_score\": [\n",
      "                15.946343898773193,\n",
      "                0.9980671166463657\n",
      "            ],\n",
      "            \"target_type_logits\": [\n",
      "                0.10148288309574127,\n",
      "                -0.27912458777427673,\n",
      "                -0.35904932022094727,\n",
      "                -0.12232360243797302,\n",
      "                0.4321560263633728\n",
      "            ],\n",
      "            \"start_logit\": [\n",
      "                1.9543875455856323,\n",
      "                0.0024763782806478114\n",
      "            ],\n",
      "            \"end_logit\": [\n",
      "                0.6363047957420349,\n",
      "                0.0006371125853765476\n",
      "            ]\n",
      "        }\n",
      "    ]\n",
      "}\n"
     ]
    },
    {
     "name": "stderr",
     "output_type": "stream",
     "text": [
      "\n"
     ]
    }
   ],
   "source": [
    "\n",
    "nq_default_reader = load_reader(model_name=\"/dccstor/srosent2/primeqa/experiments/reader_reranker/2epochRoberta/default_2wayloss/output/\", scorer_type=SupportedSpanScorers.SCORE_DIFF_BASED.value, question=question, context=context)"
   ]
  },
  {
   "cell_type": "code",
   "execution_count": 4,
   "metadata": {},
   "outputs": [
    {
     "name": "stdout",
     "output_type": "stream",
     "text": [
      "{\"time\":\"2023-08-15 17:25:01,572\", \"name\": \"ExtractiveQAHead\", \"level\": \"INFO\", \"message\": \"Loading dropout value 0.1 from config attribute 'hidden_dropout_prob'\"}\n",
      "{\"time\":\"2023-08-15 17:25:01,871\", \"name\": \"ElectraModelForDownstreamTasks\", \"level\": \"INFO\", \"message\": \"Setting task head for first time to 'None'\"}\n"
     ]
    },
    {
     "data": {
      "application/vnd.jupyter.widget-view+json": {
       "model_id": "ac4c8430d54741aa9377053093a291bc",
       "version_major": 2,
       "version_minor": 0
      },
      "text/plain": [
       "Running tokenizer on eval dataset:   0%|          | 0/1 [00:00<?, ?ba/s]"
      ]
     },
     "metadata": {},
     "output_type": "display_data"
    },
    {
     "name": "stdout",
     "output_type": "stream",
     "text": [
      "{\"time\":\"2023-08-15 17:25:11,971\", \"name\": \"primeqa.mrc.trainers.mrc\", \"level\": \"INFO\", \"message\": \"The following columns in the evaluation set  don't have a corresponding argument in `ElectraModelForDownstreamTasks.forward` and have been ignored: context_idx, example_idx, example_id, offset_mapping.\"}\n"
     ]
    },
    {
     "name": "stderr",
     "output_type": "stream",
     "text": [
      "***** Running Evaluation *****\n",
      "  Num examples = 1\n",
      "  Batch size = 8\n",
      "You're using a ElectraTokenizerFast tokenizer. Please note that with a fast tokenizer, using the `__call__` method is faster than using a method to encode the text followed by a call to the `pad` method to get a padded encoding.\n"
     ]
    },
    {
     "data": {
      "text/html": [
       "\n",
       "    <div>\n",
       "      \n",
       "      <progress value='1' max='1' style='width:300px; height:20px; vertical-align: middle;'></progress>\n",
       "      [1/1 : < :]\n",
       "    </div>\n",
       "    "
      ],
      "text/plain": [
       "<IPython.core.display.HTML object>"
      ]
     },
     "metadata": {},
     "output_type": "display_data"
    },
    {
     "name": "stderr",
     "output_type": "stream",
     "text": [
      "100%|██████████| 1/1 [00:00<00:00, 549.57it/s]\n",
      "PyTorch: setting up devices\n",
      "The default value for the training argument `--report_to` will change in v5 (from all installed integrations to none). In v5, you will need to use `--report_to all` to get the same behavior as now. You should start updating your code and make this info disappear :-).\n"
     ]
    },
    {
     "name": "stdout",
     "output_type": "stream",
     "text": [
      "{\n",
      "    \"0\": [\n",
      "        {\n",
      "            \"example_id\": \"0\",\n",
      "            \"passage_index\": 0,\n",
      "            \"span_answer_text\": \"November 20, 1942\",\n",
      "            \"span_answer\": {\n",
      "                \"start_position\": 60,\n",
      "                \"end_position\": 77\n",
      "            },\n",
      "            \"span_answer_score\": 1.4890463935734923,\n",
      "            \"start_end_score\": 1330,\n",
      "            \"confidence_score\": 1.0,\n",
      "            \"normalized_span_answer_score\": 1.0,\n",
      "            \"cls_score\": 0.012118913000608755,\n",
      "            \"target_type_logits\": [\n",
      "                0.12346406280994415,\n",
      "                -0.10820011049509048,\n",
      "                -0.32855892181396484,\n",
      "                0.03614546358585358,\n",
      "                0.034574516117572784\n",
      "            ],\n",
      "            \"start_logit\": 0.7788791755659266,\n",
      "            \"end_logit\": 0.7222861310081746\n",
      "        }\n",
      "    ]\n",
      "}\n"
     ]
    },
    {
     "data": {
      "application/vnd.jupyter.widget-view+json": {
       "model_id": "2e9d7ff646f54c4ab80e0fdad0d84e5c",
       "version_major": 2,
       "version_minor": 0
      },
      "text/plain": [
       "Running tokenizer on eval dataset:   0%|          | 0/1 [00:00<?, ?ba/s]"
      ]
     },
     "metadata": {},
     "output_type": "display_data"
    },
    {
     "name": "stdout",
     "output_type": "stream",
     "text": [
      "{\"time\":\"2023-08-15 17:25:12,294\", \"name\": \"primeqa.mrc.trainers.mrc\", \"level\": \"INFO\", \"message\": \"The following columns in the evaluation set  don't have a corresponding argument in `ElectraModelForDownstreamTasks.forward` and have been ignored: context_idx, example_idx, example_id, offset_mapping.\"}\n"
     ]
    },
    {
     "name": "stderr",
     "output_type": "stream",
     "text": [
      "***** Running Evaluation *****\n",
      "  Num examples = 1\n",
      "  Batch size = 8\n"
     ]
    },
    {
     "data": {
      "text/html": [
       "\n",
       "    <div>\n",
       "      \n",
       "      <progress value='1' max='1' style='width:300px; height:20px; vertical-align: middle;'></progress>\n",
       "      [1/1 : < :]\n",
       "    </div>\n",
       "    "
      ],
      "text/plain": [
       "<IPython.core.display.HTML object>"
      ]
     },
     "metadata": {},
     "output_type": "display_data"
    },
    {
     "name": "stderr",
     "output_type": "stream",
     "text": [
      "100%|██████████| 1/1 [00:00<00:00, 782.08it/s]"
     ]
    },
    {
     "name": "stdout",
     "output_type": "stream",
     "text": [
      "{\n",
      "    \"0\": [\n",
      "        {\n",
      "            \"example_id\": \"0\",\n",
      "            \"passage_index\": 0,\n",
      "            \"span_answer_text\": \"June 14, 1946) is an American politician, media personality, and businessman who served as the 45th president of the United States from 2017 to 2021.\",\n",
      "            \"span_answer\": {\n",
      "                \"start_position\": 24,\n",
      "                \"end_position\": 173\n",
      "            },\n",
      "            \"span_answer_score\": -0.9971380683657921,\n",
      "            \"start_end_score\": 602,\n",
      "            \"confidence_score\": 1.0,\n",
      "            \"normalized_span_answer_score\": 1.0,\n",
      "            \"cls_score\": 0.998171320757255,\n",
      "            \"target_type_logits\": [\n",
      "                0.17337535321712494,\n",
      "                -0.32093584537506104,\n",
      "                -0.22913691401481628,\n",
      "                -0.010651245713233948,\n",
      "                -0.09696082025766373\n",
      "            ],\n",
      "            \"start_logit\": 5.865805928661985e-05,\n",
      "            \"end_logit\": 0.0009745943321762797\n",
      "        }\n",
      "    ]\n",
      "}\n"
     ]
    },
    {
     "name": "stderr",
     "output_type": "stream",
     "text": [
      "\n"
     ]
    }
   ],
   "source": [
    "\n",
    "new_reader = load_reader(model_name=\"/dccstor/srosent2/primeqa/experiments/reader_reranker/2epochOther/squadFT_exclude_passage_answers_discarddups_la_as_sa_moreneg2050_2wayloss_lr1e-5_stride64/output/\", scorer_type=SupportedSpanScorers.SCORE_DIFF_BASED.value, question=question, context=context)"
   ]
  },
  {
   "cell_type": "code",
   "execution_count": 6,
   "metadata": {},
   "outputs": [],
   "source": [
    "import json\n",
    "import random\n",
    "\n",
    "def get_cls_conf(reader):\n",
    "    i = len(eval_dataset)-1\n",
    "    count = 0\n",
    "    high_conf = 0\n",
    "\n",
    "    questions = []\n",
    "    contexts = []\n",
    "\n",
    "    for question in eval_dataset:\n",
    "        context = eval_dataset[i]['context'][0][0:1000]\n",
    "        questions.append(question['question'])\n",
    "        contexts.append([context])\n",
    "        i = i -1\n",
    "        count+= 1\n",
    "        if count == 500:\n",
    "            break\n",
    "\n",
    "    answers = reader.predict(questions,contexts)  \n",
    "    # print(answers)\n",
    "    index = 0\n",
    "    for answer in answers:\n",
    "    #     print(answers[answer])\n",
    "        if answers[answer][0]['cls_score'][1] > .95:\n",
    "            high_conf += 1\n",
    "        else:\n",
    "            print(questions[index])\n",
    "            print(contexts[index])\n",
    "            print(json.dumps(answers[answer][0], indent=4)) \n",
    "        index+=1\n",
    "\n",
    "    print(high_conf/count)"
   ]
  },
  {
   "cell_type": "code",
   "execution_count": 8,
   "metadata": {
    "scrolled": true
   },
   "outputs": [
    {
     "name": "stdout",
     "output_type": "stream",
     "text": [
      "new reader\n"
     ]
    },
    {
     "name": "stderr",
     "output_type": "stream",
     "text": [
      "PyTorch: setting up devices\n",
      "The default value for the training argument `--report_to` will change in v5 (from all installed integrations to none). In v5, you will need to use `--report_to all` to get the same behavior as now. You should start updating your code and make this info disappear :-).\n"
     ]
    },
    {
     "data": {
      "application/vnd.jupyter.widget-view+json": {
       "model_id": "8c088533cd31437a8dc3bba5a14139f9",
       "version_major": 2,
       "version_minor": 0
      },
      "text/plain": [
       "Running tokenizer on eval dataset:   0%|          | 0/1 [00:00<?, ?ba/s]"
      ]
     },
     "metadata": {},
     "output_type": "display_data"
    },
    {
     "name": "stdout",
     "output_type": "stream",
     "text": [
      "{\"time\":\"2023-08-11 10:58:27,997\", \"name\": \"primeqa.mrc.trainers.mrc\", \"level\": \"INFO\", \"message\": \"The following columns in the evaluation set  don't have a corresponding argument in `ElectraModelForDownstreamTasks.forward` and have been ignored: example_id, example_idx, context_idx, offset_mapping.\"}\n"
     ]
    },
    {
     "name": "stderr",
     "output_type": "stream",
     "text": [
      "***** Running Evaluation *****\n",
      "  Num examples = 500\n",
      "  Batch size = 8\n"
     ]
    },
    {
     "data": {
      "text/html": [
       "\n",
       "    <div>\n",
       "      \n",
       "      <progress value='63' max='63' style='width:300px; height:20px; vertical-align: middle;'></progress>\n",
       "      [63/63 04:17]\n",
       "    </div>\n",
       "    "
      ],
      "text/plain": [
       "<IPython.core.display.HTML object>"
      ]
     },
     "metadata": {},
     "output_type": "display_data"
    },
    {
     "name": "stderr",
     "output_type": "stream",
     "text": [
      "100%|██████████████████████████████████████████████████████████████████████████████████████████████████████████████████████████| 500/500 [00:00<00:00, 572.94it/s]\n"
     ]
    },
    {
     "name": "stdout",
     "output_type": "stream",
     "text": [
      "who wrote there's a guy works down the chip shop lyrics\n",
      "['Wonder Woman ( TV series ) - Wikipedia Wonder Woman ( TV series ) Jump to : navigation , search Wonder Woman First season title card Genre Science fantasy Action Adventure Based on Wonder Woman by William Moulton Marston Developed by Douglas S. Cramer Stanley Ralph Ross Starring Lynda Carter Lyle Waggoner Beatrice Colen ( season 1 ) Richard Eastham ( season 1 ) Norman Burton ( season 2 ) Saundra Sharp ( season 2 ) Theme music composer Charles Fox ( music ) Norman Gimbel ( lyrics ) Country of origin United States No. of seasons No. of episodes 59 + movie pilot ( list of episodes ) Production Executive producer ( s ) Douglas S. Cramer Wilford Lloyd Baumes Producer ( s ) Bruce Lansbury ( supervising producer , seasons 2 -- 3 ) Charles B. Fitzsimons Mark Rodgers Running time 42 -- 51 minutes Production company ( s ) The Douglas S. Cramer Co . Bruce Lansbury Productions , Ltd . Warner Bros. Television DC Comics Distributor Warner Bros. Television Distribution Release Original network ABC ( ']\n",
      "{\n",
      "    \"example_id\": \"217\",\n",
      "    \"passage_index\": 0,\n",
      "    \"span_answer_text\": \"Norman Gimbel\",\n",
      "    \"span_answer\": {\n",
      "        \"start_position\": 461,\n",
      "        \"end_position\": 474\n",
      "    },\n",
      "    \"span_answer_score\": -1.7256145477294922,\n",
      "    \"span_answer_score_sm\": -0.7906478141083879,\n",
      "    \"confidence_score\": 1.0,\n",
      "    \"normalized_span_answer_score\": 1.0,\n",
      "    \"cls_score\": [\n",
      "        17.10413360595703,\n",
      "        0.6869502256751415\n",
      "    ],\n",
      "    \"target_type_logits\": [\n",
      "        0.13248440623283386,\n",
      "        -0.25669121742248535,\n",
      "        -0.32049664855003357,\n",
      "        0.012511298060417175,\n",
      "        0.03279522806406021\n",
      "    ],\n",
      "    \"start_logit\": [\n",
      "        7.559441566467285,\n",
      "        0.25907515404063397\n",
      "    ],\n",
      "    \"end_logit\": [\n",
      "        7.819077491760254,\n",
      "        0.3241774832012612\n",
      "    ]\n",
      "}\n",
      "who played ricky in secret life of the american teenager\n",
      "['Nicola Walker - wikipedia Nicola Walker Jump to : navigation , search Not to be confused with Nicole Walker . Nicola Walker ( 1970 - 05 - 15 ) 15 May 1970 ( age 47 ) Stepney , London , U.K. Nationality British Education Forest School , Walthamstow Alma mater New Hall , Cambridge Footlights Occupation Actress Years active 1990 -- present Spouse ( s ) Barnaby Kay Children Harry Kay Nicola Walker ( born 15 May 1970 ) is an English actress , known for her starring roles in various British television programmes from the 1990s onwards , including Ruth Evershed in the spy drama Spooks from 2003 to 2011 . She has also worked in theatre , radio and film . In 2013 , she won the Olivier Award for Best Supporting Actress for the play The Curious Incident of the Dog in the Night - Time . In 2014 , she was nominated for the BAFTA TV Award for Best Supporting Actress for the BBC drama Last Tango in Halifax . Contents ( hide ) 1 Early life 2 Career 2.1 Television 2.2 Theatre 2.3 Film 2.4 Audio 3 Filmo']\n",
      "{\n",
      "    \"example_id\": \"384\",\n",
      "    \"passage_index\": 0,\n",
      "    \"span_answer_text\": \"Nicola Walker\",\n",
      "    \"span_answer\": {\n",
      "        \"start_position\": 383,\n",
      "        \"end_position\": 396\n",
      "    },\n",
      "    \"span_answer_score\": -5.155691623687744,\n",
      "    \"span_answer_score_sm\": -1.7142048828807626,\n",
      "    \"confidence_score\": 1.0,\n",
      "    \"normalized_span_answer_score\": 1.0,\n",
      "    \"cls_score\": [\n",
      "        18.85662269592285,\n",
      "        0.9275383947462188\n",
      "    ],\n",
      "    \"target_type_logits\": [\n",
      "        0.1627396047115326,\n",
      "        -0.3463903069496155,\n",
      "        -0.29075366258621216,\n",
      "        0.016301706433296204,\n",
      "        -0.031303923577070236\n",
      "    ],\n",
      "    \"start_logit\": [\n",
      "        6.819495677947998,\n",
      "        0.07003049896438916\n",
      "    ],\n",
      "    \"end_logit\": [\n",
      "        6.881435394287109,\n",
      "        0.07084140764728587\n",
      "    ]\n",
      "}\n",
      "who wrote the story of my life by neil diamond\n",
      "[\"Head to Toe - wikipedia Head to Toe Jump to : navigation , search For the EP by The Breeders , see Head to Toe ( EP ) . `` Head to Toe '' Single by Lisa Lisa and Cult Jam from the album Spanish Fly Released March 1987 Recorded 1986 Genre Freestyle Length 5 : 03 ( album version ) 4 : 02 ( single version ) Label Columbia Songwriter ( s ) Curt Bedeau , Gerry Charles , Hugh L Clarke , Brian George , Lucien George , Paul George Producer ( s ) Full Force Lisa Lisa and Cult Jam singles chronology `` All Cried Out '' ( 1986 ) `` Head to Toe '' ( 1987 ) `` Lost in Emotion '' ( 1987 ) `` All Cried Out '' ( 1986 ) `` Head to Toe '' ( 1987 ) `` Lost in Emotion '' ( 1987 ) `` Head to Toe '' is a song recorded by Lisa Lisa and Cult Jam that appeared on their 1987 album Spanish Fly . The song hit number one on three charts : Billboard Hot 100 on June 20 , 1987 , the Hot Black Singles charts on May 30 of that year , and the dance charts . In Canada , the song topped the RPM 100 national singles chart \"]\n",
      "{\n",
      "    \"example_id\": \"445\",\n",
      "    \"passage_index\": 0,\n",
      "    \"span_answer_text\": \"Curt Bedeau\",\n",
      "    \"span_answer\": {\n",
      "        \"start_position\": 338,\n",
      "        \"end_position\": 349\n",
      "    },\n",
      "    \"span_answer_score\": -5.246251583099365,\n",
      "    \"span_answer_score_sm\": -1.6747426898905509,\n",
      "    \"confidence_score\": 1.0,\n",
      "    \"normalized_span_answer_score\": 1.0,\n",
      "    \"cls_score\": [\n",
      "        18.824788093566895,\n",
      "        0.904000481460556\n",
      "    ],\n",
      "    \"target_type_logits\": [\n",
      "        0.16098883748054504,\n",
      "        -0.3526105284690857,\n",
      "        -0.25112542510032654,\n",
      "        0.014234833419322968,\n",
      "        -0.03861987963318825\n",
      "    ],\n",
      "    \"start_logit\": [\n",
      "        6.930671215057373,\n",
      "        0.07826249374854975\n",
      "    ],\n",
      "    \"end_logit\": [\n",
      "        6.647865295410156,\n",
      "        0.05499577928201137\n",
      "    ]\n",
      "}\n",
      "0.994\n",
      "default reader\n"
     ]
    },
    {
     "name": "stderr",
     "output_type": "stream",
     "text": [
      "PyTorch: setting up devices\n",
      "The default value for the training argument `--report_to` will change in v5 (from all installed integrations to none). In v5, you will need to use `--report_to all` to get the same behavior as now. You should start updating your code and make this info disappear :-).\n"
     ]
    },
    {
     "data": {
      "application/vnd.jupyter.widget-view+json": {
       "model_id": "e1f32e3bf7424a39a665fe4211ec554f",
       "version_major": 2,
       "version_minor": 0
      },
      "text/plain": [
       "Running tokenizer on eval dataset:   0%|          | 0/1 [00:00<?, ?ba/s]"
      ]
     },
     "metadata": {},
     "output_type": "display_data"
    },
    {
     "name": "stdout",
     "output_type": "stream",
     "text": [
      "{\"time\":\"2023-08-11 11:03:46,937\", \"name\": \"primeqa.mrc.trainers.mrc\", \"level\": \"INFO\", \"message\": \"The following columns in the evaluation set  don't have a corresponding argument in `XLMRobertaModelForDownstreamTasks.forward` and have been ignored: example_id, example_idx, context_idx, offset_mapping.\"}\n"
     ]
    },
    {
     "name": "stderr",
     "output_type": "stream",
     "text": [
      "***** Running Evaluation *****\n",
      "  Num examples = 500\n",
      "  Batch size = 8\n"
     ]
    },
    {
     "data": {
      "text/html": [
       "\n",
       "    <div>\n",
       "      \n",
       "      <progress value='63' max='63' style='width:300px; height:20px; vertical-align: middle;'></progress>\n",
       "      [63/63 04:19]\n",
       "    </div>\n",
       "    "
      ],
      "text/plain": [
       "<IPython.core.display.HTML object>"
      ]
     },
     "metadata": {},
     "output_type": "display_data"
    },
    {
     "name": "stderr",
     "output_type": "stream",
     "text": [
      "100%|██████████████████████████████████████████████████████████████████████████████████████████████████████████████████████████| 500/500 [00:00<00:00, 570.51it/s]"
     ]
    },
    {
     "name": "stdout",
     "output_type": "stream",
     "text": [
      "where did the idea of fortnite come from\n",
      "['The Miraculous Journey of Edward Tulane - wikipedia The Miraculous Journey of Edward Tulane Jump to : navigation , search The Miraculous Journey of Edward Tulane Author Kate DiCamillo Cover artist Bagram Ibatoulline Country United States Language English Genre Young adult novel Publisher Candlewick Press Publication date March 30 , 2006 Media type Print ( Hardback & Paperback ) Pages 192pp ISBN 0 - 7636 - 2589 - 2 OCLC 41601218 LC Class PZ7. D5455 Be 2000 The Miraculous Journey of Edward Tulane is a 2006 novel by Kate DiCamillo . Following the life of a china rabbit , the book won the 2006 Boston Globe - Horn Book Award in Fiction category . Contents ( hide ) 1 Plot 2 Themes 3 Awards , nominations , and recognition 4 In popular culture 5 Notes 6 External links Plot ( edit ) Edward Tulane is a china rabbit given to a ten - year - old girl named Abilene by her grandmother in the 1930s . He enjoys a pleasant but vain life with his young mistress , who treats him with the utmost love and r']\n",
      "{\n",
      "    \"example_id\": \"7\",\n",
      "    \"passage_index\": 0,\n",
      "    \"span_answer_text\": \"Edward Tulane\",\n",
      "    \"span_answer\": {\n",
      "        \"start_position\": 785,\n",
      "        \"end_position\": 798\n",
      "    },\n",
      "    \"span_answer_score\": -2.785971701145172,\n",
      "    \"span_answer_score_sm\": 0.4380620705733268,\n",
      "    \"confidence_score\": 1.0,\n",
      "    \"normalized_span_answer_score\": 1.0,\n",
      "    \"cls_score\": [\n",
      "        5.432742357254028,\n",
      "        0.8906704051205823\n",
      "    ],\n",
      "    \"target_type_logits\": [\n",
      "        4.671227931976318,\n",
      "        2.627105951309204,\n",
      "        0.6073536276817322,\n",
      "        -4.086733818054199,\n",
      "        -4.940555095672607\n",
      "    ],\n",
      "    \"start_logit\": [\n",
      "        -1.020017147064209,\n",
      "        0.018690813416304925\n",
      "    ],\n",
      "    \"end_logit\": [\n",
      "        -1.746289849281311,\n",
      "        0.011668186662309002\n",
      "    ]\n",
      "}\n",
      "what does hp mean in war and order\n",
      "[\"Leibniz -- Newton calculus controversy - wikipedia Leibniz -- Newton calculus controversy Jump to : navigation , search The calculus controversy ( often referred to with the German term Prioritätsstreit , meaning `` priority dispute '' ) was an argument between 17th - century mathematicians Isaac Newton and Gottfried Leibniz ( begun or fomented in part by their disciples and associates ) over who had first invented the mathematical study of change , calculus . It is a question that had been the cause of a major intellectual controversy , one that began simmering in 1699 and broke out in full force in 1711 . Newton claimed to have begun working on a form of calculus ( which he called `` the method of fluxions and fluents '' ) in 1666 , at the age of 23 , but did not publish it except as a minor annotation in the back of one of his publications decades later ( a relevant Newton manuscript of October 1666 is now published among his mathematical papers ) . Gottfried Leibniz began working o\"]\n",
      "{\n",
      "    \"example_id\": \"13\",\n",
      "    \"passage_index\": 0,\n",
      "    \"span_answer_text\": \"calculus controversy\",\n",
      "    \"span_answer\": {\n",
      "        \"start_position\": 124,\n",
      "        \"end_position\": 144\n",
      "    },\n",
      "    \"span_answer_score\": -0.4316947013139725,\n",
      "    \"span_answer_score_sm\": 0.971389192569267,\n",
      "    \"confidence_score\": 1.0,\n",
      "    \"normalized_span_answer_score\": 1.0,\n",
      "    \"cls_score\": [\n",
      "        4.770127534866333,\n",
      "        0.7181201561962538\n",
      "    ],\n",
      "    \"target_type_logits\": [\n",
      "        4.174783706665039,\n",
      "        3.1879148483276367,\n",
      "        0.6414039134979248,\n",
      "        -4.007830619812012,\n",
      "        -4.960897922515869\n",
      "    ],\n",
      "    \"start_logit\": [\n",
      "        0.30169427394866943,\n",
      "        0.0828262067379826\n",
      "    ],\n",
      "    \"end_logit\": [\n",
      "        0.4171290099620819,\n",
      "        0.10827764246542229\n",
      "    ]\n",
      "}\n",
      "who was the governor general of india when country became independent\n",
      "['1867 in Canada - wikipedia 1867 in Canada Jump to : navigation , search Years in Canada : 1864 1865 1866 1867 1868 1869 1870 Centuries : 18th century 19th century 20th century Decades : 1830s 1840s 1850s 1860s 1870s 1880s 1890s Years : 1864 1865 1866 1867 1868 1869 1870 Wikisource has original text related to this article : Acts of Parliament , 1867 Wikimedia Commons has media related to 1867 in Canada . Events from the year 1867 in Canada . Contents ( hide ) 1 Incumbents 1.1 Crown 1.2 January to June 1.2. 1 Governors 1.2. 2 Premiers 1.3 July to December 1.3. 1 Federal government 1.3. 2 Provincial governments 1.3. 2.1 Lieutenant governors 1.3. 2.2 Premiers 2 Events 2.1 Full date unknown 3 Births 4 Deaths 5 References Incumbents ( edit ) Main article : 1867 Canadian incumbents Crown ( edit ) Head of state ( monarch ) -- Queen Victoria ( consort -- Vacant ) January to June ( edit ) Governors ( edit ) Governor General of Canada - Charles Monck , 4th Viscount Monck Lieutenant Governor of N']\n",
      "{\n",
      "    \"example_id\": \"17\",\n",
      "    \"passage_index\": 0,\n",
      "    \"span_answer_text\": \"Charles Monck , 4th\",\n",
      "    \"span_answer\": {\n",
      "        \"start_position\": 941,\n",
      "        \"end_position\": 960\n",
      "    },\n",
      "    \"span_answer_score\": 0.24255269765853882,\n",
      "    \"span_answer_score_sm\": 1.038435312317291,\n",
      "    \"confidence_score\": 1.0,\n",
      "    \"normalized_span_answer_score\": 1.0,\n",
      "    \"cls_score\": [\n",
      "        5.515990734100342,\n",
      "        0.7469965143259494\n",
      "    ],\n",
      "    \"target_type_logits\": [\n",
      "        4.383700370788574,\n",
      "        3.1785330772399902,\n",
      "        0.9636698961257935,\n",
      "        -4.3054962158203125,\n",
      "        -5.218556880950928\n",
      "    ],\n",
      "    \"start_logit\": [\n",
      "        1.6734068393707275,\n",
      "        0.2232555757207086\n",
      "    ],\n",
      "    \"end_logit\": [\n",
      "        1.1491562128067017,\n",
      "        0.16907500032578152\n",
      "    ]\n",
      "}\n",
      "where is the tv show the curse of oak island filmed\n",
      "[\"Outback - Wikipedia Outback Jump to : navigation , search Outback Area View across sand plains and salt pans to Mount Connor , Central Australia Country Australia Population Total undetermined For other uses , see Outback ( disambiguation ) . Tourism sign post Yalgoo , Western Australia The Outback is the vast , remote interior of Australia . The term `` the Outback '' is generally used to refer to locations that are comparatively more remote than those areas named `` the bush '' which , colloquially , can refer to any lands outside the main urban areas . While often envisaged as being arid , the Outback regions extend from the northern to southern Australian coastlines , and encompass a number of climatic zones ; including tropical and monsoonal climates in northern areas , arid areas in the ' red centre ' and semi-arid and temperate climates in southerly regions . Geographically , the Outback is unified by a combination of factors , most notably a low human population density , a lar\"]\n",
      "{\n",
      "    \"example_id\": \"54\",\n",
      "    \"passage_index\": 0,\n",
      "    \"span_answer_text\": \"Australia\",\n",
      "    \"span_answer\": {\n",
      "        \"start_position\": 333,\n",
      "        \"end_position\": 342\n",
      "    },\n",
      "    \"span_answer_score\": -0.8514390736818314,\n",
      "    \"span_answer_score_sm\": 0.9451816312104848,\n",
      "    \"confidence_score\": 1.0,\n",
      "    \"normalized_span_answer_score\": 1.0,\n",
      "    \"cls_score\": [\n",
      "        4.464564561843872,\n",
      "        0.846465603483834\n",
      "    ],\n",
      "    \"target_type_logits\": [\n",
      "        4.610625743865967,\n",
      "        3.453892469406128,\n",
      "        -0.07205180823802948,\n",
      "        -4.073625087738037,\n",
      "        -4.956864356994629\n",
      "    ],\n",
      "    \"start_logit\": [\n",
      "        -0.3141177296638489,\n",
      "        0.057017835932599695\n",
      "    ],\n",
      "    \"end_logit\": [\n",
      "        -0.3780883252620697,\n",
      "        0.07238416404991006\n",
      "    ]\n",
      "}\n",
      "who did deion sanders go in the hall of fame as\n",
      "[\"Tosca - wikipedia Tosca Jump to : navigation , search For other uses , see Tosca ( disambiguation ) . Tosca Opera by Giacomo Puccini Original poster , depicting the death of Scarpia ( act 2 ) Librettist Luigi Illica Giuseppe Giacosa Language Italian Based on La Tosca by Victorien Sardou Premiere 14 January 1900 ( 1900 - 01 - 14 ) Teatro Costanzi , Rome Tosca ( Italian pronunciation : ( ˈtoska ; ˈtɔska ) ) is an opera in three acts by Giacomo Puccini to an Italian libretto by Luigi Illica and Giuseppe Giacosa . It premiered at the Teatro Costanzi in Rome on 14 January 1900 . The work , based on Victorien Sardou 's 1887 French - language dramatic play , La Tosca , is a melodramatic piece set in Rome in June 1800 , with the Kingdom of Naples 's control of Rome threatened by Napoleon 's invasion of Italy . It contains depictions of torture , murder and suicide , as well as some of Puccini 's best - known lyrical arias . Puccini saw Sardou 's play when it was touring Italy in 1889 and , aft\"]\n",
      "{\n",
      "    \"example_id\": \"90\",\n",
      "    \"passage_index\": 0,\n",
      "    \"span_answer_text\": \"Tosca\",\n",
      "    \"span_answer\": {\n",
      "        \"start_position\": 355,\n",
      "        \"end_position\": 360\n",
      "    },\n",
      "    \"span_answer_score\": -1.2442748844623566,\n",
      "    \"span_answer_score_sm\": 0.5737162300716676,\n",
      "    \"confidence_score\": 1.0,\n",
      "    \"normalized_span_answer_score\": 1.0,\n",
      "    \"cls_score\": [\n",
      "        6.793278932571411,\n",
      "        0.9234148379931801\n",
      "    ],\n",
      "    \"target_type_logits\": [\n",
      "        4.901571273803711,\n",
      "        2.8669345378875732,\n",
      "        0.7210949659347534,\n",
      "        -4.086830139160156,\n",
      "        -5.1740617752075195\n",
      "    ],\n",
      "    \"start_logit\": [\n",
      "        0.8911430239677429,\n",
      "        0.06883009809223983\n",
      "    ],\n",
      "    \"end_logit\": [\n",
      "        0.5466516017913818,\n",
      "        0.058497500149882496\n",
      "    ]\n",
      "}\n",
      "who is rose in the fall season 2\n",
      "['Kings of Dance ( season 2 ) - wikipedia Kings of Dance ( season 2 ) Jump to : navigation , search Kings of Dance ( season 2 ) Tamil கிங்ஸ் ஆப் டான்ஸ் சீசன் 2 Genre Dance Show Reality Judges Raju Sundaram Sheriff Sandy Jeffrey Country of origin India Original language ( s ) Tamil No. of seasons No. of episodes 41 Production Location ( s ) Tamil Nadu Camera setup Multi-camera Running time approx. 40 - 45 minutes per episode Release Original network Vijay TV Original release 7 October 2017 ( 2017 - 10 - 07 ) -- 4 March 2018 ( 2018 - 03 - 04 ) External links Website Kings of Dance ( season 2 ) ( Tamil : கிங்ஸ் ஆப் டான்ஸ் சீசன் 2 ) is a 2017 - 2018 Tamil language reality Dance show which aired on Star Vijay on every Saturday and Sunday at 21 : 30 ( IST ) starting from 7 October 2017 . Tamil Film Dancer choreographers Raju Sundaram , Sheriff , Sandy and Jeffrey are the judges of this season . The show ended with 41 Episodes from 4 March 2018 . Contents ( hide ) 1 Overview 2 Audition 3 Finali']\n",
      "{\n",
      "    \"example_id\": \"100\",\n",
      "    \"passage_index\": 0,\n",
      "    \"span_answer_text\": \"Raju Sundaram\",\n",
      "    \"span_answer\": {\n",
      "        \"start_position\": 824,\n",
      "        \"end_position\": 837\n",
      "    },\n",
      "    \"span_answer_score\": 0.9698311686515808,\n",
      "    \"span_answer_score_sm\": 1.5783946003111142,\n",
      "    \"confidence_score\": 1.0,\n",
      "    \"normalized_span_answer_score\": 1.0,\n",
      "    \"cls_score\": [\n",
      "        5.057880640029907,\n",
      "        0.6578684727855729\n",
      "    ],\n",
      "    \"target_type_logits\": [\n",
      "        4.339965343475342,\n",
      "        4.0021891593933105,\n",
      "        -0.10271929204463959,\n",
      "        -4.094602584838867,\n",
      "        -5.116588115692139\n",
      "    ],\n",
      "    \"start_logit\": [\n",
      "        1.5715481042861938,\n",
      "        0.21722650521855838\n",
      "    ],\n",
      "    \"end_logit\": [\n",
      "        1.4238057136535645,\n",
      "        0.2531104815815054\n",
      "    ]\n",
      "}\n",
      "where is republic of doyle supposed to take place\n",
      "['Public procurement and Disposal of Public Assets Authority - wikipedia Public procurement and Disposal of Public Assets Authority Jump to : navigation , search Public Procurement and Disposal of Public Assets Authority Type Parastatal Industry Investment promotion Founded 2003 Headquarters Kampala , Uganda Key people Simeon Wanyama Chairman Benson Turamye Ag . Executive Director Products Public procurement regulations and guidelines , public assets disposal guidelines and regulations , SME training Number of employees 70 + ( 2013 ) Website Homepage The Public Procurement and Disposal of Public Assets Authority ( PPDA ) is a parastatal organisation in Uganda that is responsible for regulation and supervision of procurement and disposal of government - owned property and other assets . Contents ( hide ) 1 Location 2 Overview 3 See also 4 References 5 External links Location ( edit ) The headquarters of the PPDA are located on the 5th Floor , in the UEDCL Towers , at 37 Nakasero Road , on']\n",
      "{\n",
      "    \"example_id\": \"125\",\n",
      "    \"passage_index\": 0,\n",
      "    \"span_answer_text\": \"Uganda\",\n",
      "    \"span_answer\": {\n",
      "        \"start_position\": 659,\n",
      "        \"end_position\": 665\n",
      "    },\n",
      "    \"span_answer_score\": -0.4232536256313324,\n",
      "    \"span_answer_score_sm\": 0.9485136519205704,\n",
      "    \"confidence_score\": 1.0,\n",
      "    \"normalized_span_answer_score\": 1.0,\n",
      "    \"cls_score\": [\n",
      "        6.348724603652954,\n",
      "        0.8752643658243521\n",
      "    ],\n",
      "    \"target_type_logits\": [\n",
      "        5.036590576171875,\n",
      "        3.442490339279175,\n",
      "        -0.14037826657295227,\n",
      "        -4.338833808898926,\n",
      "        -5.256893157958984\n",
      "    ],\n",
      "    \"start_logit\": [\n",
      "        1.2439651489257812,\n",
      "        0.10070112413152767\n",
      "    ],\n",
      "    \"end_logit\": [\n",
      "        0.8157618641853333,\n",
      "        0.1043645720791423\n",
      "    ]\n",
      "}\n",
      "who is the girl in green day 21 guns\n",
      "[\"Owen Hunt - wikipedia Owen Hunt Jump to : navigation , search Owen Hunt Grey 's Anatomy character The season nine promotional photograph of Kevin McKidd as Dr. Owen Hunt First appearance `` Dream a Little Dream of Me '' ( 5.01 ) September 25 , 2008 ( as recurring cast ) `` Beat Your Heart Out '' ( 5.14 ) February 5 , 2009 ( as series regular ) Created by Shonda Rhimes Portrayed by Kevin McKidd Information Occupation Attending Trauma Surgeon Chief of Surgery ( former ) Title Chief of Trauma Surgery M.D. F.A.C.S. Family Megan Hunt ( sister ) Evelyn Hunt ( mother ) Liam ( foster son ) Spouse ( s ) Cristina Yang ( divorced ) Amelia Shepherd ( divorced ) Significant other ( s ) Emma Marling Beth Whitman ( ex-fiancée ) Carina Deluca Teddy Altman Relatives Derek Shepherd ( ex brother - in - law ) ( deceased ) Nathan Riggs ( brother - in - law ) Farouk Shami ( nephew ) Owen Hunt , M.D. is a fictional character from the medical drama television series Grey 's Anatomy , which airs on the America\"]\n",
      "{\n",
      "    \"example_id\": \"133\",\n",
      "    \"passage_index\": 0,\n",
      "    \"span_answer_text\": \"Owen Hunt , M.D.\",\n",
      "    \"span_answer\": {\n",
      "        \"start_position\": 874,\n",
      "        \"end_position\": 890\n",
      "    },\n",
      "    \"span_answer_score\": -0.4788402169942856,\n",
      "    \"span_answer_score_sm\": 0.8202206567591837,\n",
      "    \"confidence_score\": 1.0,\n",
      "    \"normalized_span_answer_score\": 1.0,\n",
      "    \"cls_score\": [\n",
      "        5.474504470825195,\n",
      "        0.8239981500968436\n",
      "    ],\n",
      "    \"target_type_logits\": [\n",
      "        4.212630748748779,\n",
      "        3.064988374710083,\n",
      "        0.3787129819393158,\n",
      "        -3.878627300262451,\n",
      "        -4.845757007598877\n",
      "    ],\n",
      "    \"start_logit\": [\n",
      "        0.9738437533378601,\n",
      "        0.1297629549320028\n",
      "    ],\n",
      "    \"end_logit\": [\n",
      "        0.47799190878868103,\n",
      "        0.09368628406996879\n",
      "    ]\n",
      "}\n",
      "who wrote the song the glory of love\n",
      "[\"Temptation : Confessions of a marriage counselor - wikipedia Temptation : Confessions of a marriage counselor Jump to : navigation , search This article needs additional citations for verification . Please help improve this article by adding citations to reliable sources . Unsourced material may be challenged and removed . ( April 2013 ) ( Learn how and when to remove this template message ) Tyler Perry 's Temptation : Confessions of a Marriage Counselor Theatrical release poster Directed by Tyler Perry Produced by Tyler Perry Ozzie Areu Paul Hall Written by Tyler Perry Starring Jurnee Smollett - Bell Lance Gross Kim Kardashian Vanessa Williams Robbie Jones Brandy Music by Aaron Zigman Cinematography Alexander Gruszynski Edited by Maysie Hoy Production company Tyler Perry Studios Distributed by Lionsgate Release date March 29 , 2013 ( 2013 - 03 - 29 ) Running time 111 minutes Country United States Language English Budget $37 million Box office $53.1 million Tyler Perry 's Temptation : \"]\n",
      "{\n",
      "    \"example_id\": \"165\",\n",
      "    \"passage_index\": 0,\n",
      "    \"span_answer_text\": \"Tyler Perry\",\n",
      "    \"span_answer\": {\n",
      "        \"start_position\": 565,\n",
      "        \"end_position\": 576\n",
      "    },\n",
      "    \"span_answer_score\": -0.09367355704307556,\n",
      "    \"span_answer_score_sm\": 1.0700741704668109,\n",
      "    \"confidence_score\": 1.0,\n",
      "    \"normalized_span_answer_score\": 1.0,\n",
      "    \"cls_score\": [\n",
      "        5.8677661418914795,\n",
      "        0.8428246920327962\n",
      "    ],\n",
      "    \"target_type_logits\": [\n",
      "        4.933453559875488,\n",
      "        3.5667994022369385,\n",
      "        -0.1376524120569229,\n",
      "        -4.122633934020996,\n",
      "        -5.145680904388428\n",
      "    ],\n",
      "    \"start_logit\": [\n",
      "        1.1511728763580322,\n",
      "        0.1413303605158725\n",
      "    ],\n",
      "    \"end_logit\": [\n",
      "        0.9624467492103577,\n",
      "        0.11766796224640336\n",
      "    ]\n",
      "}\n",
      "who wrote there's a guy works down the chip shop lyrics\n",
      "['Wonder Woman ( TV series ) - Wikipedia Wonder Woman ( TV series ) Jump to : navigation , search Wonder Woman First season title card Genre Science fantasy Action Adventure Based on Wonder Woman by William Moulton Marston Developed by Douglas S. Cramer Stanley Ralph Ross Starring Lynda Carter Lyle Waggoner Beatrice Colen ( season 1 ) Richard Eastham ( season 1 ) Norman Burton ( season 2 ) Saundra Sharp ( season 2 ) Theme music composer Charles Fox ( music ) Norman Gimbel ( lyrics ) Country of origin United States No. of seasons No. of episodes 59 + movie pilot ( list of episodes ) Production Executive producer ( s ) Douglas S. Cramer Wilford Lloyd Baumes Producer ( s ) Bruce Lansbury ( supervising producer , seasons 2 -- 3 ) Charles B. Fitzsimons Mark Rodgers Running time 42 -- 51 minutes Production company ( s ) The Douglas S. Cramer Co . Bruce Lansbury Productions , Ltd . Warner Bros. Television DC Comics Distributor Warner Bros. Television Distribution Release Original network ABC ( ']\n",
      "{\n",
      "    \"example_id\": \"217\",\n",
      "    \"passage_index\": 0,\n",
      "    \"span_answer_text\": \"Norman Gimbel\",\n",
      "    \"span_answer\": {\n",
      "        \"start_position\": 461,\n",
      "        \"end_position\": 474\n",
      "    },\n",
      "    \"span_answer_score\": 3.745846748352051,\n",
      "    \"span_answer_score_sm\": 3.0455934207296096,\n",
      "    \"confidence_score\": 1.0,\n",
      "    \"normalized_span_answer_score\": 1.0,\n",
      "    \"cls_score\": [\n",
      "        4.781968355178833,\n",
      "        0.22104567435005312\n",
      "    ],\n",
      "    \"target_type_logits\": [\n",
      "        3.9108479022979736,\n",
      "        5.0037312507629395,\n",
      "        -0.36535266041755676,\n",
      "        -4.239387035369873,\n",
      "        -5.206270694732666\n",
      "    ],\n",
      "    \"start_logit\": [\n",
      "        3.7524099349975586,\n",
      "        0.7843181405680388\n",
      "    ],\n",
      "    \"end_logit\": [\n",
      "        3.5175206661224365,\n",
      "        0.7452287988283475\n",
      "    ]\n",
      "}\n",
      "when did they replace lead with graphite in pencils\n",
      "['Peptide mass fingerprinting - wikipedia Peptide mass fingerprinting Jump to : navigation , search A typical workflow of a peptide mass fingerprinting experiment . Peptide mass fingerprinting ( PMF ) ( also known as protein fingerprinting ) is an analytical technique for protein identification in which the unknown protein of interest is first cleaved into smaller peptides , whose absolute masses can be accurately measured with a mass spectrometer such as MALDI - TOF or ESI - TOF . The method was developed in 1993 by several groups independently . The peptide masses are compared to either a database containing known protein sequences or even the genome . This is achieved by using computer programs that translate the known genome of the organism into proteins , then theoretically cut the proteins into peptides , and calculate the absolute masses of the peptides from each protein . They then compare the masses of the peptides of the unknown protein to the theoretical peptide masses of each']\n",
      "{\n",
      "    \"example_id\": \"246\",\n",
      "    \"passage_index\": 0,\n",
      "    \"span_answer_text\": \"1993\",\n",
      "    \"span_answer\": {\n",
      "        \"start_position\": 513,\n",
      "        \"end_position\": 517\n",
      "    },\n",
      "    \"span_answer_score\": -1.7889243513345718,\n",
      "    \"span_answer_score_sm\": 0.22621440255628067,\n",
      "    \"confidence_score\": 1.0,\n",
      "    \"normalized_span_answer_score\": 1.0,\n",
      "    \"cls_score\": [\n",
      "        6.3304667472839355,\n",
      "        0.9426187465198845\n",
      "    ],\n",
      "    \"target_type_logits\": [\n",
      "        5.171501159667969,\n",
      "        2.2345240116119385,\n",
      "        0.16625547409057617,\n",
      "        -4.030674457550049,\n",
      "        -4.857368469238281\n",
      "    ],\n",
      "    \"start_logit\": [\n",
      "        0.3361929655075073,\n",
      "        0.049961692493377056\n",
      "    ],\n",
      "    \"end_logit\": [\n",
      "        0.18190106749534607,\n",
      "        0.053180594047014786\n",
      "    ]\n",
      "}\n",
      "what is bermuda competing in the winter olympics\n",
      "['Salamis island - wikipedia Salamis island Jump to : navigation , search For other uses , see Salamis . Salamis Σαλαμίνα View of Salamina Salamis Location within the region ( show ) Coordinates : 37 ° 56 ′ N 23 ° 30 ′ E \\ufeff / \\ufeff 37.933 ° N 23.500 ° E \\ufeff / 37.933 ; 23.500 Coordinates : 37 ° 56 ′ N 23 ° 30 ′ E \\ufeff / \\ufeff 37.933 ° N 23.500 ° E \\ufeff / 37.933 ; 23.500 Country Greece Administrative region Attica Regional unit Islands Government Mayor Ioannis Tsavaris ( Ind . ) Area Municipality 96.16 km ( 37.13 sq mi ) Population ( 2011 ) Municipality 39,283 Municipality density 410 / km ( 1,100 / sq mi ) Time zone EET ( UTC + 2 ) Summer ( DST ) EEST ( UTC + 3 ) Postal code 189 xx Area code ( s ) 21 Vehicle registration Y Website www.salamina.gr Salamis ( / ˈsæləmɪs / ; Greek : Σαλαμίνα Salamína , Ancient and Katharevousa : Σαλαμίς Salamís ) , is the largest Greek island in the Saronic Gulf , about 1 nautical mile ( 2 km ) off - coast from Piraeus and about 16 kilometres ( 10 miles ) west of Athens . The']\n",
      "{\n",
      "    \"example_id\": \"272\",\n",
      "    \"passage_index\": 0,\n",
      "    \"span_answer_text\": \"Salamis\",\n",
      "    \"span_answer\": {\n",
      "        \"start_position\": 737,\n",
      "        \"end_position\": 744\n",
      "    },\n",
      "    \"span_answer_score\": -0.911840945482254,\n",
      "    \"span_answer_score_sm\": 0.5293670545153015,\n",
      "    \"confidence_score\": 1.0,\n",
      "    \"normalized_span_answer_score\": 1.0,\n",
      "    \"cls_score\": [\n",
      "        5.640129327774048,\n",
      "        0.9024915265450778\n",
      "    ],\n",
      "    \"target_type_logits\": [\n",
      "        4.287125110626221,\n",
      "        2.672877550125122,\n",
      "        0.516344428062439,\n",
      "        -3.5317745208740234,\n",
      "        -4.688582897186279\n",
      "    ],\n",
      "    \"start_logit\": [\n",
      "        0.5890087485313416,\n",
      "        0.09033458323091395\n",
      "    ],\n",
      "    \"end_logit\": [\n",
      "        0.5545611381530762,\n",
      "        0.10050502876472257\n",
      "    ]\n",
      "}\n",
      "where is the country music hall of fame located\n",
      "['Super Bowl LII halftime show - Wikipedia Super Bowl LII halftime show Jump to : navigation , search Super Bowl LII halftime show Date February 4 , 2018 Location Minneapolis , Minnesota , U.S. Venue U.S. Bank Stadium Headliner Justin Timberlake Special guests The Tennessee Kids , University of Minnesota Marching Band Sponsor Pepsi Director Hamish Hamilton Producer Ricky Kirshner Super Bowl halftime show chronology LI ( 2017 ) LII ( 2018 ) LIII ( 2019 ) The Super Bowl LII Halftime Show ( officially known as the Pepsi Super Bowl LII Halftime Show ) took place on February 4 , 2018 at U.S. Bank Stadium in Minneapolis , Minnesota , as part of Super Bowl LII . Justin Timberlake was the featured performer , as confirmed by the National Football League ( NFL ) on October 22 , 2017 . It was televised nationally by NBC . Contents ( hide ) 1 Synopsis 2 Background 3 Development 4 Critical response 5 Commercial reception 6 Setlist 7 See also 8 References 9 External links Synopsis ( edit ) Timberlake']\n",
      "{\n",
      "    \"example_id\": \"320\",\n",
      "    \"passage_index\": 0,\n",
      "    \"span_answer_text\": \"U.S. Bank Stadium in Minneapolis , Minnesota\",\n",
      "    \"span_answer\": {\n",
      "        \"start_position\": 587,\n",
      "        \"end_position\": 631\n",
      "    },\n",
      "    \"span_answer_score\": 1.249325931072235,\n",
      "    \"span_answer_score_sm\": 1.714020357713831,\n",
      "    \"confidence_score\": 1.0,\n",
      "    \"normalized_span_answer_score\": 1.0,\n",
      "    \"cls_score\": [\n",
      "        5.374005556106567,\n",
      "        0.6097270419042746\n",
      "    ],\n",
      "    \"target_type_logits\": [\n",
      "        4.472924709320068,\n",
      "        4.0941901206970215,\n",
      "        -0.16851790249347687,\n",
      "        -4.116135597229004,\n",
      "        -5.116704940795898\n",
      "    ],\n",
      "    \"start_logit\": [\n",
      "        1.8212482929229736,\n",
      "        0.2426429343135692\n",
      "    ],\n",
      "    \"end_logit\": [\n",
      "        1.9572190046310425,\n",
      "        0.3106617442256205\n",
      "    ]\n",
      "}\n",
      "where does captain america civil war take place\n",
      "['List of war of 1812 battles - Wikipedia List of war of 1812 battles Jump to : navigation , search This is a List of War of 1812 battles , organized chronologically and by the theater in which they occurred . Contents ( hide ) 1 Major Theaters of the War 2 Battles ( chronological order within theater ) 2.1 1812 2.1. 1 American Northwest 2.1. 2 Niagara Frontier 2.1. 3 St. Lawrence River 2.1. 4 American West 2.1. 5 Naval Battles 2.2 1813 2.2. 1 Atlantic Coast 2.2. 2 American Northwest 2.2. 3 Niagara Frontier 2.2. 4 St. Lawrence River 2.2. 5 Naval Battles 2.2. 6 Gulf Coast 2.3 1814 2.3. 1 Atlantic Coast 2.3. 2 American Northwest 2.3. 3 Niagara Frontier 2.3. 4 St. Lawrence River 2.3. 5 Gulf Coast 2.3. 6 American West 2.3. 7 Naval Battles 2.4 1815 2.4. 1 Gulf Coast 2.4. 2 American West 2.4. 3 Naval Battles 3 Notes 4 References 5 Bibliography Major theaters of the war ( edit ) The War of 1812 was fought in four major theaters on the North American continent : the Atlantic Coast , the Canada -']\n",
      "{\n",
      "    \"example_id\": \"340\",\n",
      "    \"passage_index\": 0,\n",
      "    \"span_answer_text\": \"the Atlantic Coast\",\n",
      "    \"span_answer\": {\n",
      "        \"start_position\": 967,\n",
      "        \"end_position\": 985\n",
      "    },\n",
      "    \"span_answer_score\": 3.547036349773407,\n",
      "    \"span_answer_score_sm\": 2.7118956847669073,\n",
      "    \"confidence_score\": 0.7575668897080202,\n",
      "    \"normalized_span_answer_score\": 0.7575668897080202,\n",
      "    \"cls_score\": [\n",
      "        3.608331799507141,\n",
      "        0.15106885345325777\n",
      "    ],\n",
      "    \"target_type_logits\": [\n",
      "        2.570721387863159,\n",
      "        4.737552165985107,\n",
      "        1.7953252792358398,\n",
      "        -4.334173679351807,\n",
      "        -5.3211798667907715\n",
      "    ],\n",
      "    \"start_logit\": [\n",
      "        3.0589077472686768,\n",
      "        0.3952693709118652\n",
      "    ],\n",
      "    \"end_logit\": [\n",
      "        2.905944585800171,\n",
      "        0.5931075395433572\n",
      "    ]\n",
      "}\n",
      "when do the walking dead comics come out\n",
      "[\"Casablanca ( film ) - wikipedia Casablanca ( film ) Jump to : navigation , search Casablanca Theatrical release poster by Bill Gold Directed by Michael Curtiz Produced by Hal B. Wallis Screenplay by Julius J. Epstein Philip G. Epstein Howard Koch Based on Everybody Comes to Rick 's by Murray Burnett Joan Alison Starring Humphrey Bogart Ingrid Bergman Paul Henreid Claude Rains Conrad Veidt Sydney Greenstreet Peter Lorre Music by Max Steiner Cinematography Arthur Edeson Edited by Owen Marks Production company Warner Bros. -- First National Pictures Distributed by Warner Bros. Pictures Release date November 26 , 1942 ( 1942 - 11 - 26 ) ( Hollywood Theatre ) January 23 , 1943 ( 1943 - 01 - 23 ) ( United States ) Running time 102 minutes Country United States Language English Budget $878,000 Box office $3.7 million ( initial US release ) Casablanca is a 1942 American romantic drama film directed by Michael Curtiz based on Murray Burnett and Joan Alison 's unproduced stage play Everybody Com\"]\n",
      "{\n",
      "    \"example_id\": \"382\",\n",
      "    \"passage_index\": 0,\n",
      "    \"span_answer_text\": \"January 23 , 1943\",\n",
      "    \"span_answer\": {\n",
      "        \"start_position\": 663,\n",
      "        \"end_position\": 680\n",
      "    },\n",
      "    \"span_answer_score\": -1.6189590394496918,\n",
      "    \"span_answer_score_sm\": 0.5797499637024174,\n",
      "    \"confidence_score\": 1.0,\n",
      "    \"normalized_span_answer_score\": 1.0,\n",
      "    \"cls_score\": [\n",
      "        7.041681528091431,\n",
      "        0.9258647134541802\n",
      "    ],\n",
      "    \"target_type_logits\": [\n",
      "        5.3286542892456055,\n",
      "        2.924992561340332,\n",
      "        -0.038724783807992935,\n",
      "        -4.31459379196167,\n",
      "        -5.21651029586792\n",
      "    ],\n",
      "    \"start_logit\": [\n",
      "        0.42971551418304443,\n",
      "        0.03577440682756786\n",
      "    ],\n",
      "    \"end_logit\": [\n",
      "        0.44905537366867065,\n",
      "        0.05046238614529525\n",
      "    ]\n",
      "}\n",
      "who played ricky in secret life of the american teenager\n",
      "['Nicola Walker - wikipedia Nicola Walker Jump to : navigation , search Not to be confused with Nicole Walker . Nicola Walker ( 1970 - 05 - 15 ) 15 May 1970 ( age 47 ) Stepney , London , U.K. Nationality British Education Forest School , Walthamstow Alma mater New Hall , Cambridge Footlights Occupation Actress Years active 1990 -- present Spouse ( s ) Barnaby Kay Children Harry Kay Nicola Walker ( born 15 May 1970 ) is an English actress , known for her starring roles in various British television programmes from the 1990s onwards , including Ruth Evershed in the spy drama Spooks from 2003 to 2011 . She has also worked in theatre , radio and film . In 2013 , she won the Olivier Award for Best Supporting Actress for the play The Curious Incident of the Dog in the Night - Time . In 2014 , she was nominated for the BAFTA TV Award for Best Supporting Actress for the BBC drama Last Tango in Halifax . Contents ( hide ) 1 Early life 2 Career 2.1 Television 2.2 Theatre 2.3 Film 2.4 Audio 3 Filmo']\n",
      "{\n",
      "    \"example_id\": \"384\",\n",
      "    \"passage_index\": 0,\n",
      "    \"span_answer_text\": \"Nicola Walker\",\n",
      "    \"span_answer\": {\n",
      "        \"start_position\": 383,\n",
      "        \"end_position\": 396\n",
      "    },\n",
      "    \"span_answer_score\": 1.148545503616333,\n",
      "    \"span_answer_score_sm\": 1.5886736170156903,\n",
      "    \"confidence_score\": 1.0,\n",
      "    \"normalized_span_answer_score\": 1.0,\n",
      "    \"cls_score\": [\n",
      "        4.465505123138428,\n",
      "        0.6780826842593481\n",
      "    ],\n",
      "    \"target_type_logits\": [\n",
      "        4.2793965339660645,\n",
      "        3.935652256011963,\n",
      "        -0.4195055365562439,\n",
      "        -3.8826167583465576,\n",
      "        -4.9361891746521\n",
      "    ],\n",
      "    \"start_logit\": [\n",
      "        1.494921088218689,\n",
      "        0.3086425789309948\n",
      "    ],\n",
      "    \"end_logit\": [\n",
      "        1.332022786140442,\n",
      "        0.28921776760711915\n",
      "    ]\n",
      "}\n",
      "who was the cop in dumb and dumber\n",
      "[\"James Stockdale - wikipedia James Stockdale Jump to : navigation , search James Stockdale Birth name James Bond Stockdale ( 1923 - 12 - 23 ) December 23 , 1923 Abingdon , Illinois , U.S. July 5 , 2005 ( 2005 - 07 - 05 ) ( aged 81 ) Coronado , California , U.S. Allegiance United States of America Service / branch United States Navy Years of service 1946 -- 1979 Rank Vice Admiral Battles / wars Vietnam War Awards Medal of Honor Navy Distinguished Service Medal ( 3 ) Silver Star Medal ( 4 ) Legion of Merit w / Combat `` V '' Distinguished Flying Cross ( 2 ) Bronze Star Medal ( 2 ) w / Combat `` V '' Purple Heart Medal ( 2 ) Air Medal ( Strike / Flight 10 ) Spouse ( s ) Sybil Bailey James Bond Stockdale ( December 23 , 1923 -- July 5 , 2005 ) was a United States Navy vice admiral and aviator awarded the Medal of Honor in the Vietnam War , during which he was an American prisoner of war for over seven years . Commander Stockdale was the senior naval officer held captive in Hanoi , North Vie\"]\n",
      "{\n",
      "    \"example_id\": \"402\",\n",
      "    \"passage_index\": 0,\n",
      "    \"span_answer_text\": \"James Bond Stockdale\",\n",
      "    \"span_answer\": {\n",
      "        \"start_position\": 688,\n",
      "        \"end_position\": 708\n",
      "    },\n",
      "    \"span_answer_score\": 3.655915319919586,\n",
      "    \"span_answer_score_sm\": 2.9771804340118018,\n",
      "    \"confidence_score\": 1.0,\n",
      "    \"normalized_span_answer_score\": 1.0,\n",
      "    \"cls_score\": [\n",
      "        3.862557053565979,\n",
      "        0.22333445775544486\n",
      "    ],\n",
      "    \"target_type_logits\": [\n",
      "        3.555905342102051,\n",
      "        4.967440128326416,\n",
      "        -0.17008081078529358,\n",
      "        -3.9890763759613037,\n",
      "        -5.170566082000732\n",
      "    ],\n",
      "    \"start_logit\": [\n",
      "        3.413914680480957,\n",
      "        0.7479951832290922\n",
      "    ],\n",
      "    \"end_logit\": [\n",
      "        2.7930328845977783,\n",
      "        0.6855944719789855\n",
      "    ]\n",
      "}\n",
      "who sings the song it ain't me\n",
      "[\"We Real Cool - wikipedia We Real Cool Jump to : navigation , search This article is about the poem . For the book , see We Real Cool : Black Men and Masculinity . `` We Real Cool '' is a poem written in 1959 by poet Gwendolyn Brooks and published in her 1960 book The Bean Eaters , her third collection of poetry . It consists of four verses of two rhyming lines each . The final word in most lines is `` we '' . The next line describes something that `` we '' do , such as play pool or drop out of school . Brooks has said that the `` we '' s are meant to be said softly , as though the protagonists in the poem are questioning the validity of their existence . The poem has been featured on broadsides , and is widely studied in literature classes and re-printed in literature textbooks . It also contains references to the seven deadly sins . The last lines of the poem , `` We / Die soon , '' indicate the climax , which comes as a surprise to the boasts that have been made previously . It also \"]\n",
      "{\n",
      "    \"example_id\": \"436\",\n",
      "    \"passage_index\": 0,\n",
      "    \"span_answer_text\": \"Gwendolyn Brooks\",\n",
      "    \"span_answer\": {\n",
      "        \"start_position\": 216,\n",
      "        \"end_position\": 232\n",
      "    },\n",
      "    \"span_answer_score\": 1.5302129983901978,\n",
      "    \"span_answer_score_sm\": 1.8194870539949792,\n",
      "    \"confidence_score\": 1.0,\n",
      "    \"normalized_span_answer_score\": 1.0,\n",
      "    \"cls_score\": [\n",
      "        4.1962608098983765,\n",
      "        0.5974334832407935\n",
      "    ],\n",
      "    \"target_type_logits\": [\n",
      "        4.200153350830078,\n",
      "        4.135164737701416,\n",
      "        -0.3358369767665863,\n",
      "        -4.059297561645508,\n",
      "        -4.915726184844971\n",
      "    ],\n",
      "    \"start_logit\": [\n",
      "        1.682140588760376,\n",
      "        0.33114842572074304\n",
      "    ],\n",
      "    \"end_logit\": [\n",
      "        1.43938148021698,\n",
      "        0.36752791104938637\n",
      "    ]\n",
      "}\n",
      "who wrote the story of my life by neil diamond\n",
      "[\"Head to Toe - wikipedia Head to Toe Jump to : navigation , search For the EP by The Breeders , see Head to Toe ( EP ) . `` Head to Toe '' Single by Lisa Lisa and Cult Jam from the album Spanish Fly Released March 1987 Recorded 1986 Genre Freestyle Length 5 : 03 ( album version ) 4 : 02 ( single version ) Label Columbia Songwriter ( s ) Curt Bedeau , Gerry Charles , Hugh L Clarke , Brian George , Lucien George , Paul George Producer ( s ) Full Force Lisa Lisa and Cult Jam singles chronology `` All Cried Out '' ( 1986 ) `` Head to Toe '' ( 1987 ) `` Lost in Emotion '' ( 1987 ) `` All Cried Out '' ( 1986 ) `` Head to Toe '' ( 1987 ) `` Lost in Emotion '' ( 1987 ) `` Head to Toe '' is a song recorded by Lisa Lisa and Cult Jam that appeared on their 1987 album Spanish Fly . The song hit number one on three charts : Billboard Hot 100 on June 20 , 1987 , the Hot Black Singles charts on May 30 of that year , and the dance charts . In Canada , the song topped the RPM 100 national singles chart \"]\n",
      "{\n",
      "    \"example_id\": \"445\",\n",
      "    \"passage_index\": 0,\n",
      "    \"span_answer_text\": \"Curt Bedeau\",\n",
      "    \"span_answer\": {\n",
      "        \"start_position\": 338,\n",
      "        \"end_position\": 349\n",
      "    },\n",
      "    \"span_answer_score\": 2.3620625734329224,\n",
      "    \"span_answer_score_sm\": 2.2497349173194126,\n",
      "    \"confidence_score\": 1.0,\n",
      "    \"normalized_span_answer_score\": 1.0,\n",
      "    \"cls_score\": [\n",
      "        5.000550985336304,\n",
      "        0.41536121602704223\n",
      "    ],\n",
      "    \"target_type_logits\": [\n",
      "        3.978154182434082,\n",
      "        4.305156230926514,\n",
      "        -0.05464858189225197,\n",
      "        -4.188559532165527,\n",
      "        -5.130453586578369\n",
      "    ],\n",
      "    \"start_logit\": [\n",
      "        2.870150327682495,\n",
      "        0.5369562154486854\n",
      "    ],\n",
      "    \"end_logit\": [\n",
      "        2.5493695735931396,\n",
      "        0.48807982031771086\n",
      "    ]\n",
      "}\n",
      "who plays mad max on johnboy and billy\n",
      "[\"Where Am I Going ? - Wikipedia Where Am I Going ? Jump to : navigation , search Where Am I Going ? Studio album by Dusty Springfield Released 27 October 1967 Recorded July -- August 1967 ( Track A4 : November 1965 ) Studio Philips Studios , Stanhope Place , London Genre Pop Length 31 : 20 Label Philips BL 7820 ( mono ) SBL 7820 ( stereo ) Producer Johnny Franz Dusty Springfield ( Track A5 ) Dusty Springfield chronology Ev'rything's Coming Up Dusty ( 1965 ) Ev'rything's Coming Up Dusty 1965 Where Am I Going ? ( 1967 ) Dusty ... Definitely ( 1968 ) Dusty ... Definitely 1968 Professional ratings Review scores Source Rating Allmusic Where Am I Going ? is the third studio album by singer Dusty Springfield , released on Philips Records in the UK in 1967 . By now , firmly established as one of the most popular singers in Britain , with several hits in America as well , Springfield ventured into more varying styles than before and recorded a wide variety of material for this album . Rather tha\"]\n",
      "{\n",
      "    \"example_id\": \"487\",\n",
      "    \"passage_index\": 0,\n",
      "    \"span_answer_text\": \"Dusty Springfield\",\n",
      "    \"span_answer\": {\n",
      "        \"start_position\": 692,\n",
      "        \"end_position\": 709\n",
      "    },\n",
      "    \"span_answer_score\": -0.9792546033859253,\n",
      "    \"span_answer_score_sm\": 0.6659023882063523,\n",
      "    \"confidence_score\": 1.0,\n",
      "    \"normalized_span_answer_score\": 1.0,\n",
      "    \"cls_score\": [\n",
      "        6.529703140258789,\n",
      "        0.9112297798858113\n",
      "    ],\n",
      "    \"target_type_logits\": [\n",
      "        5.075652599334717,\n",
      "        2.998533010482788,\n",
      "        0.3714228868484497,\n",
      "        -4.255475044250488,\n",
      "        -5.316164970397949\n",
      "    ],\n",
      "    \"start_logit\": [\n",
      "        0.7263932228088379,\n",
      "        0.06291087200167744\n",
      "    ],\n",
      "    \"end_logit\": [\n",
      "        0.8462677001953125,\n",
      "        0.09282045369986162\n",
      "    ]\n",
      "}\n",
      "0.96\n"
     ]
    },
    {
     "name": "stderr",
     "output_type": "stream",
     "text": [
      "\n"
     ]
    }
   ],
   "source": [
    "print(\"new reader\") \n",
    "get_cls_conf(new_reader)\n",
    "print(\"default reader\")\n",
    "get_cls_conf(default_reader)"
   ]
  },
  {
   "cell_type": "markdown",
   "metadata": {},
   "source": [
    "conf > .95 for 500 questions\n",
    "new reader 0.994 \n",
    "default reader 0.96"
   ]
  },
  {
   "cell_type": "code",
   "execution_count": null,
   "metadata": {},
   "outputs": [],
   "source": [
    "new_reader.predict(questions=question, contexts=context)"
   ]
  }
 ],
 "metadata": {
  "kernelspec": {
   "display_name": "Python 3 (ipykernel)",
   "language": "python",
   "name": "python3"
  },
  "language_info": {
   "codemirror_mode": {
    "name": "ipython",
    "version": 3
   },
   "file_extension": ".py",
   "mimetype": "text/x-python",
   "name": "python",
   "nbconvert_exporter": "python",
   "pygments_lexer": "ipython3",
   "version": "3.9.16"
  }
 },
 "nbformat": 4,
 "nbformat_minor": 2
}
