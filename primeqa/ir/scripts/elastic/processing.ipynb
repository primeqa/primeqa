{
 "cells": [
  {
   "cell_type": "code",
   "execution_count": null,
   "id": "1e0a928b693244a4",
   "metadata": {
    "collapsed": false
   },
   "outputs": [],
   "source": [
    "import json, os\n",
    "from primeqa.ir.scripts.elastic_ingestion import process_url\n",
    "working_dir=\"/home/raduf/sandbox2/primeqa/benchmark/sap\""
   ]
  },
  {
   "cell_type": "code",
   "outputs": [],
   "source": [
    "def openf(file, mode=\"r\"):\n",
    "    return open(os.path.join(working_dir, file), mode)"
   ],
   "metadata": {
    "collapsed": true,
    "ExecuteTime": {
     "end_time": "2024-02-02T22:38:49.822202721Z",
     "start_time": "2024-02-02T22:38:49.819126435Z"
    }
   },
   "id": "initial_id",
   "execution_count": 69
  },
  {
   "cell_type": "code",
   "outputs": [],
   "source": [
    "loiomap = {}\n",
    "with open(os.path.join(working_dir,\"loio2productId.map\")) as inp:\n",
    "    for line in inp:\n",
    "        a = line.strip().split(\" \")\n",
    "        loiomap[a[0]] = a[1]"
   ],
   "metadata": {
    "collapsed": false
   },
   "id": "3d0a1c9e74c778a0",
   "execution_count": null
  },
  {
   "cell_type": "code",
   "outputs": [],
   "source": [
    "def replace_enter(s: str)->str:\n",
    "    if s.find(\"\\n\") >= 0 and s.find(\"\\\\n\") < 0:\n",
    "        return s.replace(\"\\n\", \"\\\\n\")\n",
    "    else:\n",
    "        return s\n"
   ],
   "metadata": {
    "collapsed": false,
    "ExecuteTime": {
     "end_time": "2024-01-30T19:53:56.539931637Z",
     "start_time": "2024-01-30T19:53:56.493889799Z"
    }
   },
   "id": "5ac6465330ab827a",
   "execution_count": 45
  },
  {
   "cell_type": "code",
   "outputs": [],
   "source": [
    "import csv\n",
    "with open(os.path.join(working_dir,\"benchmark_v5.csv\")) as inp,\\\n",
    "        open(os.path.join(working_dir,\"benchmark_v5.fixed.csv\"), \"w\") as out:\n",
    "    csvreader = csv.reader(inp, quotechar='\"', delimiter=\",\")\n",
    "    csvwriter = csv.writer(out, quotechar='\"', delimiter=\",\")\n",
    "    for row in csvreader:\n",
    "        res = \"\"\n",
    "        prods = {}\n",
    "        for loio in row[5:8]:\n",
    "            if loio != \"\":\n",
    "                l = loio.replace(\"loio\", \"\")\n",
    "                if l in loiomap:\n",
    "                    prods[loiomap[l]] = 1\n",
    "        if len(prods)>0:\n",
    "            row[3] = \" \".join([f\"{s}\" for s in prods.keys()])\n",
    "        if row[4].find(\"\\n\")>=0:\n",
    "            questions = [s for s in row[4].split(\"\\n\") if s!=\"\"]\n",
    "            for q in questions:\n",
    "                row[4] = q\n",
    "                row[2] = replace_enter(row[2])\n",
    "                csvwriter.writerow(row)\n",
    "        else:\n",
    "            row[2] = replace_enter(row[2])\n",
    "            csvwriter.writerow(row)\n",
    "            "
   ],
   "metadata": {
    "collapsed": false,
    "ExecuteTime": {
     "end_time": "2024-01-30T19:53:58.496585653Z",
     "start_time": "2024-01-30T19:53:58.466039248Z"
    }
   },
   "id": "99d6cbbf518e92d6",
   "execution_count": 46
  },
  {
   "cell_type": "code",
   "outputs": [
    {
     "name": "stdout",
     "output_type": "stream",
     "text": [
      "611 rows processed\n"
     ]
    }
   ],
   "source": [
    "with open(os.path.join(working_dir,\"benchmark_v5_fixed.csv\")) as inp,\\\n",
    "        open(os.path.join(working_dir,\"benchmark_v5_fixed_filtered.csv\"), \"w\") as out:\n",
    "    csvreader = csv.reader(inp, quotechar='\"', delimiter=\",\")\n",
    "    csvwriter = csv.writer(out, quotechar='\"', delimiter=\",\")\n",
    "    n=0\n",
    "    for row in csvreader:\n",
    "        if row[5] != \"\":\n",
    "            csvwriter.writerow(row)\n",
    "            n+=1\n",
    "    print(f\"{n} rows processed\")\n",
    "        "
   ],
   "metadata": {
    "collapsed": false,
    "ExecuteTime": {
     "end_time": "2024-01-30T22:35:50.462806138Z",
     "start_time": "2024-01-30T22:35:50.450154367Z"
    }
   },
   "id": "b2e32dd5091cf37f",
   "execution_count": 58
  },
  {
   "cell_type": "code",
   "outputs": [],
   "source": [
    "# lang=\"pt\"\n",
    "for lang in ['pt', 'de', 'es']:\n",
    "    loios={s.strip():1 for s in openf(f\"{lang}.loios\").readlines()}\n",
    "    with openf(f\"sap-{lang}.jsonl\") as inp, \\\n",
    "            openf(f\"sap-{lang}-gold.jsonl\", \"w\") as out:\n",
    "        for line in inp:\n",
    "            d=json.loads(line)\n",
    "            url, parts=process_url(d['document_url'], data_type=\"sap\")\n",
    "            if parts[-1] in loios:\n",
    "                out.write(line)\n"
   ],
   "metadata": {
    "collapsed": false,
    "ExecuteTime": {
     "end_time": "2024-02-12T18:37:50.731003942Z",
     "start_time": "2024-02-12T18:37:44.487457882Z"
    }
   },
   "id": "220d450269b6cab5",
   "execution_count": 74
  },
  {
   "cell_type": "code",
   "outputs": [],
   "source": [],
   "metadata": {
    "collapsed": false
   },
   "id": "43b0c4e59779447f"
  }
 ],
 "metadata": {
  "kernelspec": {
   "display_name": "Python 3",
   "language": "python",
   "name": "python3"
  },
  "language_info": {
   "codemirror_mode": {
    "name": "ipython",
    "version": 2
   },
   "file_extension": ".py",
   "mimetype": "text/x-python",
   "name": "python",
   "nbconvert_exporter": "python",
   "pygments_lexer": "ipython2",
   "version": "2.7.6"
  }
 },
 "nbformat": 4,
 "nbformat_minor": 5
}
