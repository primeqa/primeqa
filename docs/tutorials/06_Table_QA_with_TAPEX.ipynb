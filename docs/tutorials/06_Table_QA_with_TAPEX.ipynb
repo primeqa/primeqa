{
 "cells": [
  {
   "cell_type": "markdown",
   "id": "af9c14d4",
   "metadata": {},
   "source": [
    "## Tutorial: In this tutorial, we'll learn how to do Table Question Answering.\n",
    "\n",
    "We'll learn how to use a pretrained [TAPEX](https://arxiv.org/abs/2107.07653)-based TableQA model to answer questions over a table. The pre-trained model is available on the HuggingFace 🤗 model hub and fine-tuned on WikiTableQuestions dataset.\n",
    "\n",
    "## Step 0: Prepare a Colab Environment to run this tutorial on GPUs\n",
    "Make sure to \"Enable GPU Runtime\" by following this [url](https://drive.google.com/file/d/1jhE8CkieQXoW0gvz9IherTDdJY54Q4Yz/view?usp=sharing). This step will make sure the tutorial runs faster."
   ]
  },
  {
   "cell_type": "markdown",
   "id": "e732c4c8",
   "metadata": {},
   "source": [
    "## Step 1: Install PrimeQA\n",
    "\n",
    "First, we need to include the required modules.\n"
   ]
  },
  {
   "cell_type": "code",
   "execution_count": null,
   "id": "ec962f44",
   "metadata": {},
   "outputs": [],
   "source": [
    "! pip install --upgrade primeqa"
   ]
  },
  {
   "cell_type": "markdown",
   "id": "8e0cb09c",
   "metadata": {},
   "source": [
    "## Step 2: Instantiate TapexReader using a config with a pre-trained model from Huggingface\n",
    "\n",
    "This model was trained using PrimeQA library and uploaded to 🤗."
   ]
  },
  {
   "cell_type": "code",
   "execution_count": null,
   "id": "2738e7dd",
   "metadata": {},
   "outputs": [],
   "source": [
    "reader = TapexReader(\"../../primeqa/tableqa/tapex/configs/tapex_config_inference_wtq.json\")\n",
    "\n",
    "# Load the Table \n",
    "data = {\"Actors\": [\"Brad Pitt\", \"Leonardo Di Caprio\",\n",
    "                        \"George Clooney\"], \"Number of movies\": [\"87\", \"53\", \"69\"]}\n",
    "print(pd.DataFrame.from_dict(data))"
   ]
  },
  {
   "cell_type": "markdown",
   "id": "118c12b3",
   "metadata": {},
   "source": [
    "## Step 3: Start asking questions."
   ]
  },
  {
   "cell_type": "code",
   "execution_count": null,
   "id": "5f4a8f78",
   "metadata": {},
   "outputs": [],
   "source": [
    "queries = [\"how many movies Brad Pitt acted in\", \"Name the actor who has been in 53 movies\"]\n",
    "answers = reader.predict(data,queries)\n",
    "print(\"answers\" , answers)"
   ]
  },
  {
   "cell_type": "markdown",
   "id": "3e28fd8e",
   "metadata": {},
   "source": [
    "Congratulations 🎉✨🎊🥳 !! You just finished how to do Question Answering over tables!"
   ]
  }
 ],
 "metadata": {
  "kernelspec": {
   "display_name": "Python 3 (ipykernel)",
   "language": "python",
   "name": "python3"
  },
  "language_info": {
   "codemirror_mode": {
    "name": "ipython",
    "version": 3
   },
   "file_extension": ".py",
   "mimetype": "text/x-python",
   "name": "python",
   "nbconvert_exporter": "python",
   "pygments_lexer": "ipython3",
   "version": "3.9.13"
  }
 },
 "nbformat": 4,
 "nbformat_minor": 5
}
