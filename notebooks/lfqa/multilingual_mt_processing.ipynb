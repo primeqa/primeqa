{
 "cells": [
  {
   "cell_type": "code",
   "execution_count": 2,
   "metadata": {},
   "outputs": [],
   "source": [
    "import json\n",
    "\n",
    "def read_jsonl(filename: str, encoding=\"utf-8\"):\n",
    "    with open(filename, mode=\"r\", encoding=encoding) as fp:\n",
    "        content = [json.loads(line.rstrip(\"\\n\").strip()) for line in fp]\n",
    "\n",
    "    return content\n",
    "\n",
    "def dump_jsonl(filename: str, data, encoding=\"utf-8\"):\n",
    "    with open(filename, mode=\"w\", encoding=encoding) as fp:\n",
    "        for line in data:\n",
    "            json.dump(line, fp)\n",
    "            fp.write(\"\\n\")"
   ]
  },
  {
   "cell_type": "code",
   "execution_count": 3,
   "metadata": {},
   "outputs": [
    {
     "name": "stdout",
     "output_type": "stream",
     "text": [
      "['/dccstor/jlquinn-mt/qa/longqa/v3/longNQ_train_unanswerable.jsonl.tgt.enpt.jsonl', '/dccstor/jlquinn-mt/qa/longqa/v3/longNQ_dev_unanswerable.jsonl.tgt.enpt.jsonl', '/dccstor/jlquinn-mt/qa/longqa/v3/longNQ_dev_answerable.jsonl.tgt.ende.jsonl', '/dccstor/jlquinn-mt/qa/longqa/v3/longNQ_train_answerable_bool.jsonl.tgt.enfr.jsonl', '/dccstor/jlquinn-mt/qa/longqa/v3/longNQ_train_answerable_bool.jsonl.tgt.enpt.jsonl', '/dccstor/jlquinn-mt/qa/longqa/v3/longNQ_dev_unanswerable.jsonl.tgt.ende.jsonl', '/dccstor/jlquinn-mt/qa/longqa/v3/longNQ_test_unanswerable.jsonl.tgt.enpt.jsonl', '/dccstor/jlquinn-mt/qa/longqa/v3/longNQ_test_answerable.jsonl.tgt.enfr.jsonl', '/dccstor/jlquinn-mt/qa/longqa/v3/longNQ_test_unanswerable.jsonl.tgt.enja.jsonl', '/dccstor/jlquinn-mt/qa/longqa/v3/longNQ_train_unanswerable.jsonl.tgt.enes.jsonl', '/dccstor/jlquinn-mt/qa/longqa/v3/longNQ_dev_answerable.jsonl.tgt.enja.jsonl', '/dccstor/jlquinn-mt/qa/longqa/v3/longNQ_train_answerable_bool.jsonl.tgt.enja.jsonl', '/dccstor/jlquinn-mt/qa/longqa/v3/longNQ_train_unanswerable.jsonl.tgt.ende.jsonl', '/dccstor/jlquinn-mt/qa/longqa/v3/longNQ_dev_answerable.jsonl.tgt.enfr.jsonl', '/dccstor/jlquinn-mt/qa/longqa/v3/longNQ_test_answerable.jsonl.tgt.enes.jsonl', '/dccstor/jlquinn-mt/qa/longqa/v3/longNQ_test_unanswerable.jsonl.tgt.ende.jsonl', '/dccstor/jlquinn-mt/qa/longqa/v3/longNQ_dev_answerable.jsonl.tgt.enpt.jsonl', '/dccstor/jlquinn-mt/qa/longqa/v3/longNQ_dev_unanswerable.jsonl.tgt.enja.jsonl', '/dccstor/jlquinn-mt/qa/longqa/v3/longNQ_dev_answerable.jsonl.tgt.enes.jsonl', '/dccstor/jlquinn-mt/qa/longqa/v3/longNQ_test_unanswerable.jsonl.tgt.enes.jsonl', '/dccstor/jlquinn-mt/qa/longqa/v3/longNQ_dev_unanswerable.jsonl.tgt.enfr.jsonl', '/dccstor/jlquinn-mt/qa/longqa/v3/longNQ_dev_unanswerable.jsonl.tgt.enes.jsonl', '/dccstor/jlquinn-mt/qa/longqa/v3/longNQ_test_answerable.jsonl.tgt.enpt.jsonl', '/dccstor/jlquinn-mt/qa/longqa/v3/longNQ_test_answerable.jsonl.tgt.ende.jsonl', '/dccstor/jlquinn-mt/qa/longqa/v3/longNQ_train_answerable_bool.jsonl.tgt.enes.jsonl', '/dccstor/jlquinn-mt/qa/longqa/v3/longNQ_train_unanswerable.jsonl.tgt.enja.jsonl', '/dccstor/jlquinn-mt/qa/longqa/v3/longNQ_train_unanswerable.jsonl.tgt.enfr.jsonl', '/dccstor/jlquinn-mt/qa/longqa/v3/longNQ_test_answerable.jsonl.tgt.enja.jsonl', '/dccstor/jlquinn-mt/qa/longqa/v3/longNQ_test_unanswerable.jsonl.tgt.enfr.jsonl', '/dccstor/jlquinn-mt/qa/longqa/v3/longNQ_train_answerable_bool.jsonl.tgt.ende.jsonl']\n"
     ]
    }
   ],
   "source": [
    "# load the mt data and merge the selected sentences into the text spot.\n",
    "\n",
    "import glob \n",
    "\n",
    "mt_data = \"/dccstor/jlquinn-mt/qa/longqa/v3/*.jsonl\"\n",
    "\n",
    "mt_files = glob.glob(mt_data)\n",
    "\n",
    "print(mt_files)"
   ]
  },
  {
   "cell_type": "code",
   "execution_count": 8,
   "metadata": {},
   "outputs": [
    {
     "name": "stdout",
     "output_type": "stream",
     "text": [
      "/dccstor/jlquinn-mt/qa/longqa/v3/longNQ_train_unanswerable.jsonl.tgt.enpt.jsonl\n",
      "unanswerable\n",
      "/dccstor/jlquinn-mt/qa/longqa/v3/longNQ_dev_unanswerable.jsonl.tgt.enpt.jsonl\n",
      "unanswerable\n",
      "/dccstor/jlquinn-mt/qa/longqa/v3/longNQ_dev_answerable.jsonl.tgt.ende.jsonl\n",
      "answerable\n",
      "/dccstor/jlquinn-mt/qa/longqa/v3/longNQ_train_answerable_bool.jsonl.tgt.enfr.jsonl\n",
      "answerable\n",
      "/dccstor/jlquinn-mt/qa/longqa/v3/longNQ_train_answerable_bool.jsonl.tgt.enpt.jsonl\n",
      "answerable\n",
      "/dccstor/jlquinn-mt/qa/longqa/v3/longNQ_dev_unanswerable.jsonl.tgt.ende.jsonl\n",
      "unanswerable\n",
      "/dccstor/jlquinn-mt/qa/longqa/v3/longNQ_test_unanswerable.jsonl.tgt.enpt.jsonl\n",
      "unanswerable\n",
      "/dccstor/jlquinn-mt/qa/longqa/v3/longNQ_test_answerable.jsonl.tgt.enfr.jsonl\n",
      "answerable\n",
      "/dccstor/jlquinn-mt/qa/longqa/v3/longNQ_test_unanswerable.jsonl.tgt.enja.jsonl\n",
      "unanswerable\n",
      "/dccstor/jlquinn-mt/qa/longqa/v3/longNQ_train_unanswerable.jsonl.tgt.enes.jsonl\n",
      "unanswerable\n",
      "/dccstor/jlquinn-mt/qa/longqa/v3/longNQ_dev_answerable.jsonl.tgt.enja.jsonl\n",
      "answerable\n",
      "/dccstor/jlquinn-mt/qa/longqa/v3/longNQ_train_answerable_bool.jsonl.tgt.enja.jsonl\n",
      "answerable\n",
      "/dccstor/jlquinn-mt/qa/longqa/v3/longNQ_train_unanswerable.jsonl.tgt.ende.jsonl\n",
      "unanswerable\n",
      "/dccstor/jlquinn-mt/qa/longqa/v3/longNQ_dev_answerable.jsonl.tgt.enfr.jsonl\n",
      "answerable\n",
      "/dccstor/jlquinn-mt/qa/longqa/v3/longNQ_test_answerable.jsonl.tgt.enes.jsonl\n",
      "answerable\n",
      "/dccstor/jlquinn-mt/qa/longqa/v3/longNQ_test_unanswerable.jsonl.tgt.ende.jsonl\n",
      "unanswerable\n",
      "/dccstor/jlquinn-mt/qa/longqa/v3/longNQ_dev_answerable.jsonl.tgt.enpt.jsonl\n",
      "answerable\n",
      "/dccstor/jlquinn-mt/qa/longqa/v3/longNQ_dev_unanswerable.jsonl.tgt.enja.jsonl\n",
      "unanswerable\n",
      "/dccstor/jlquinn-mt/qa/longqa/v3/longNQ_dev_answerable.jsonl.tgt.enes.jsonl\n",
      "answerable\n",
      "/dccstor/jlquinn-mt/qa/longqa/v3/longNQ_test_unanswerable.jsonl.tgt.enes.jsonl\n",
      "unanswerable\n",
      "/dccstor/jlquinn-mt/qa/longqa/v3/longNQ_dev_unanswerable.jsonl.tgt.enfr.jsonl\n",
      "unanswerable\n",
      "/dccstor/jlquinn-mt/qa/longqa/v3/longNQ_dev_unanswerable.jsonl.tgt.enes.jsonl\n",
      "unanswerable\n",
      "/dccstor/jlquinn-mt/qa/longqa/v3/longNQ_test_answerable.jsonl.tgt.enpt.jsonl\n",
      "answerable\n",
      "/dccstor/jlquinn-mt/qa/longqa/v3/longNQ_test_answerable.jsonl.tgt.ende.jsonl\n",
      "answerable\n",
      "/dccstor/jlquinn-mt/qa/longqa/v3/longNQ_train_answerable_bool.jsonl.tgt.enes.jsonl\n",
      "answerable\n",
      "/dccstor/jlquinn-mt/qa/longqa/v3/longNQ_train_unanswerable.jsonl.tgt.enja.jsonl\n",
      "unanswerable\n",
      "/dccstor/jlquinn-mt/qa/longqa/v3/longNQ_train_unanswerable.jsonl.tgt.enfr.jsonl\n",
      "unanswerable\n",
      "/dccstor/jlquinn-mt/qa/longqa/v3/longNQ_test_answerable.jsonl.tgt.enja.jsonl\n",
      "answerable\n",
      "/dccstor/jlquinn-mt/qa/longqa/v3/longNQ_test_unanswerable.jsonl.tgt.enfr.jsonl\n",
      "unanswerable\n",
      "/dccstor/jlquinn-mt/qa/longqa/v3/longNQ_train_answerable_bool.jsonl.tgt.ende.jsonl\n",
      "answerable\n"
     ]
    }
   ],
   "source": [
    "import os\n",
    "\n",
    "for mt_file in mt_files:\n",
    "    print(mt_file)\n",
    "    language = mt_file[-8:-6]\n",
    "    split = mt_file[mt_file.index(\"_\")+1:mt_file.index(\"_\", mt_file.index(\"_\")+1)]\n",
    "    answerable = \"unanswerable\" if \"unanswerable\" in mt_file else \"answerable\"\n",
    "    print(answerable)\n",
    "    os.makedirs(f\"/dccstor/srosent3/long_nq_multilingual/annotated_data/{language}/{split}/\",exist_ok=True)\n",
    "    fname = f\"/dccstor/srosent3/long_nq_multilingual/annotated_data/{language}/{split}/longNQ_{split}_{answerable}.jsonl\"\n",
    "\n",
    "    examples = read_jsonl(mt_file)\n",
    "    for example in examples:\n",
    "        example[\"passages\"][0][\"text\"] = \" \".join(example[\"passages\"][0][\"sentences\"])\n",
    "\n",
    "    dump_jsonl(fname, examples)"
   ]
  },
  {
   "cell_type": "code",
   "execution_count": 9,
   "metadata": {},
   "outputs": [
    {
     "name": "stdout",
     "output_type": "stream",
     "text": [
      "train answerable es\n",
      "train answerable de\n",
      "train answerable fr\n",
      "train answerable pt\n",
      "train answerable ja\n",
      "train unanswerable es\n",
      "train unanswerable de\n",
      "train unanswerable fr\n",
      "train unanswerable pt\n",
      "train unanswerable ja\n",
      "dev answerable es\n",
      "dev answerable de\n",
      "dev answerable fr\n",
      "dev answerable pt\n",
      "dev answerable ja\n",
      "dev unanswerable es\n",
      "dev unanswerable de\n",
      "dev unanswerable fr\n",
      "dev unanswerable pt\n",
      "dev unanswerable ja\n",
      "test answerable es\n",
      "test answerable de\n",
      "test answerable fr\n",
      "test answerable pt\n",
      "test answerable ja\n",
      "test unanswerable es\n",
      "test unanswerable de\n",
      "test unanswerable fr\n",
      "test unanswerable pt\n",
      "test unanswerable ja\n"
     ]
    }
   ],
   "source": [
    "# multilingual passages and get training questions in tsv format with matching passage ids\n",
    "import pandas as pd\n",
    "import shutil\n",
    "import os\n",
    "\n",
    "# load multilingual json, load english tsv -> match question ids -> copy passage ids \n",
    "splits = ['train','dev','test']\n",
    "answerables = ['answerable', 'unanswerable']\n",
    "languages = ['es', 'de', 'fr', 'pt', 'ja']\n",
    "\n",
    "for split in splits:\n",
    "    questions = []\n",
    "    for answerable in answerables:\n",
    "        en_data = pd.read_csv(f\"/dccstor/srosent2/generative/appen/final/longNQ/passages_for_index/{split}/question_{split}_{answerable}.tsv\", delimiter=\"\\t\", dtype={'id':str})\n",
    "        \n",
    "        for language in languages:\n",
    "            print(f\"{split} {answerable} {language}\")\n",
    "            mt_data = read_jsonl(f\"/dccstor/srosent3/long_nq_multilingual/annotated_data/{language}/{split}/longNQ_{split}_{answerable}.jsonl\")\n",
    "            \n",
    "            for example in mt_data:\n",
    "                answers = []\n",
    "                for answer in example['output']:\n",
    "                    answers.append(answer['answer'])\n",
    "                doc_ids = en_data[en_data['id'] == example['id']].iloc[0]['doc-id-list']\n",
    "                questions.append([example['id'], example['input'], doc_ids, \"::\".join(answers)])\n",
    "            os.makedirs(f\"/dccstor/srosent3/long_nq_multilingual/retrieval/{language}/{split}/\",exist_ok=True)\n",
    "            pd.DataFrame(questions).to_csv(f\"/dccstor/srosent3/long_nq_multilingual/retrieval/{language}/{split}/question_{split}_{answerable}.tsv\", index=False, sep='\\t')\n",
    "            shutil.copyfile(f\"/dccstor/jlquinn-mt/qa/longqa/v2/passages.en{language}.tsv\",f\"/dccstor/srosent3/long_nq_multilingual/retrieval/{language}/passages.tsv\")"
   ]
  }
 ],
 "metadata": {
  "kernelspec": {
   "display_name": "primeqa_new",
   "language": "python",
   "name": "python3"
  },
  "language_info": {
   "codemirror_mode": {
    "name": "ipython",
    "version": 3
   },
   "file_extension": ".py",
   "mimetype": "text/x-python",
   "name": "python",
   "nbconvert_exporter": "python",
   "pygments_lexer": "ipython3",
   "version": "3.9.16"
  }
 },
 "nbformat": 4,
 "nbformat_minor": 2
}
