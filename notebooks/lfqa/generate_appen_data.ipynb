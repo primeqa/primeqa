{
 "cells": [
  {
   "cell_type": "code",
   "execution_count": 1,
   "metadata": {},
   "outputs": [
    {
     "name": "stdout",
     "output_type": "stream",
     "text": [
      "2396\n"
     ]
    }
   ],
   "source": [
    "import pandas as pd\n",
    "from datetime import datetime\n",
    "\n",
    "files = [\"job_1999101.json\",\"job_1988758.json\", \"job_2004889.json\",\"job_2006984.json\", \"job_2022794.json\", \"job_2035917.json\"]\n",
    "\n",
    "seen_ids = set()\n",
    "\n",
    "for file in files:\n",
    "    file_name = \"/dccstor/srosent2/generative/appen/\" + file\n",
    "    data = pd.read_json(file_name, lines=True)\n",
    "\n",
    "    for index, row in data.iterrows():\n",
    "        info = row['results']['judgments'][0]\n",
    "        # print(row['results'])\n",
    "            \n",
    "        seen_ids.add(info['unit_data']['question_id'])\n",
    "\n",
    "print(len(seen_ids))\n",
    "# print(seen_ids)"
   ]
  },
  {
   "cell_type": "code",
   "execution_count": 2,
   "metadata": {},
   "outputs": [],
   "source": [
    "# load tydi json\n",
    "import glob\n",
    "import gzip\n",
    "import json\n",
    "import spacy\n",
    "\n",
    "nlp = spacy.load('en_core_web_sm')\n",
    "\n",
    "train_data_dir = \"/dccstor/srosent2/primeqa/data/nq-lfqa-train/*jsonl\"\n",
    "dev_data_dir = \"/dccstor/srosent2/primeqa/data/dev/nq-lfqa/*jsonl\"\n",
    "\n",
    "train_files = glob.glob(train_data_dir)\n",
    "dev_files = glob.glob(dev_data_dir)\n",
    "\n",
    "def load_json_from_file(gt_file_patterns):\n",
    "    data = []\n",
    "    if gt_file_patterns.endswith('gz'):\n",
    "        f = gzip.open(gt_file_patterns, 'rt', encoding='utf-8')\n",
    "    else:\n",
    "        f = open(gt_file_patterns, 'rt', encoding='utf-8')\n",
    "    lines = f.readlines()\n",
    "    for line in lines:\n",
    "        data.append(json.loads(line))\n",
    "    return data"
   ]
  },
  {
   "cell_type": "code",
   "execution_count": 3,
   "metadata": {},
   "outputs": [],
   "source": [
    "train_data = []\n",
    "for train_file in train_files:\n",
    "    train_data.extend(load_json_from_file(train_file))"
   ]
  },
  {
   "cell_type": "code",
   "execution_count": 4,
   "metadata": {},
   "outputs": [],
   "source": [
    "import csv\n",
    "\n",
    "# up to 19505 to get 2000 + 2000\n",
    "\n",
    "def get_appen_data(data, type, exclude_ids, output_file):\n",
    "    f = open(output_file, 'w', encoding='UTF8', newline='')\n",
    "    writer = csv.writer(f, delimiter='\\t')\n",
    "    writer.writerow([\"question_id\",\"question\",\"title\",\"url\",\"long_answer\",\"minimal_text\"])\n",
    "\n",
    "    count = 0\n",
    "    index = 0\n",
    "    lines = []\n",
    "    for example in data:\n",
    "        index += 1\n",
    "        qtype = example['type'][0]\n",
    "        \n",
    "        if qtype != type:\n",
    "            continue\n",
    "        \n",
    "        example_id = example['example_id']\n",
    "\n",
    "        if str(example_id) in exclude_ids:\n",
    "            continue\n",
    "\n",
    "        question = example[\"question_text\"]\n",
    "\n",
    "        q_word = question.split()[0]\n",
    "\n",
    "        annotation = example['annotations'][0]\n",
    "\n",
    "        if annotation == None:\n",
    "            continue\n",
    "\n",
    "        minimal_text = \"\"\n",
    "        if annotation['minimal_answer']['plaintext_start_byte'] != -1:\n",
    "            minimal_text = example['document_plaintext'].encode('utf-8')[annotation['minimal_answer']['plaintext_start_byte']:annotation['minimal_answer']['plaintext_end_byte']].decode('utf-8')\n",
    "            continue\n",
    "        passage_offsets = example['passage_answer_candidates'][annotation['passage_answer']['candidate_index']]\n",
    "        passage_text = example['document_plaintext'].encode('utf-8')[passage_offsets['plaintext_start_byte']:passage_offsets['plaintext_end_byte']].decode('utf-8')\n",
    "        \n",
    "        passage_sentences = \"\"\n",
    "        sentences = nlp(passage_text)\n",
    "        \n",
    "        num_sentences = 0\n",
    "        for sentence in sentences.sents:\n",
    "            num_sentences += 1\n",
    "            passage_sentences += sentence.text + \"&nbsp;\"\n",
    "\n",
    "        if num_sentences < 5:\n",
    "            continue\n",
    "\n",
    "        count += 1\n",
    "        if count % 100 == 0:\n",
    "            print(count)\n",
    "            print(index)\n",
    "        if count > 2000:\n",
    "            break\n",
    "\n",
    "        writer.writerow([str(example_id), question, example['document_title'], example['document_url'], passage_sentences, minimal_text])\n",
    "    print(count)\n",
    "    f.close()\n",
    "           "
   ]
  },
  {
   "cell_type": "code",
   "execution_count": 5,
   "metadata": {},
   "outputs": [
    {
     "name": "stdout",
     "output_type": "stream",
     "text": [
      "100\n",
      "9251\n",
      "200\n",
      "9815\n",
      "300\n",
      "10372\n",
      "400\n",
      "10853\n",
      "500\n",
      "11380\n",
      "600\n",
      "11895\n",
      "700\n",
      "12382\n",
      "800\n",
      "12873\n",
      "900\n",
      "13399\n",
      "1000\n",
      "14006\n",
      "1100\n",
      "14472\n",
      "1200\n",
      "14985\n",
      "1300\n",
      "15492\n",
      "1400\n",
      "16033\n",
      "1500\n",
      "16608\n",
      "1600\n",
      "17064\n",
      "1700\n",
      "17769\n",
      "1800\n",
      "18359\n",
      "1900\n",
      "18936\n",
      "2000\n",
      "19505\n",
      "2001\n"
     ]
    }
   ],
   "source": [
    "get_appen_data(train_data, \"la\", seen_ids, \"/dccstor/srosent2/generative/data_for_appen/full_nq_task_nomin_part2.tsv\")"
   ]
  }
 ],
 "metadata": {
  "kernelspec": {
   "display_name": "Python 3.9.12 ('primeqaenv')",
   "language": "python",
   "name": "python3"
  },
  "language_info": {
   "codemirror_mode": {
    "name": "ipython",
    "version": 3
   },
   "file_extension": ".py",
   "mimetype": "text/x-python",
   "name": "python",
   "nbconvert_exporter": "python",
   "pygments_lexer": "ipython3",
   "version": "3.9.12"
  },
  "orig_nbformat": 4,
  "vscode": {
   "interpreter": {
    "hash": "229bd894a0cdb05b7ee80ea2bc43559a301775857073a25e64e4f441f37822ce"
   }
  }
 },
 "nbformat": 4,
 "nbformat_minor": 2
}
